{
  "nbformat": 4,
  "nbformat_minor": 0,
  "metadata": {
    "colab": {
      "name": "ML Assignment 1 Group B - Not Balanced, Not Scaled.ipynb",
      "provenance": []
    },
    "kernelspec": {
      "name": "python3",
      "display_name": "Python 3"
    }
  },
  "cells": [
    {
      "cell_type": "code",
      "metadata": {
        "id": "3QI_Py2GSD6k",
        "colab_type": "code",
        "outputId": "224b87ef-5351-4a2b-bf19-7960c7c1215d",
        "colab": {
          "base_uri": "https://localhost:8080/",
          "height": 241
        }
      },
      "source": [
        "#Machine Learning Assignment 1 - Group B - Classification Algorithms and Cleaning Data\n",
        "import matplotlib.pyplot as plt\n",
        "import numpy as np\n",
        "from sklearn import datasets, linear_model\n",
        "from sklearn.metrics import mean_squared_error, r2_score\n",
        "from sklearn import preprocessing\n",
        "\n",
        "from itertools import cycle\n",
        "from sklearn import svm, datasets\n",
        "from sklearn.metrics import roc_curve, roc_auc_score\n",
        "from sklearn.preprocessing import label_binarize\n",
        "\n",
        "import pandas as pd\n",
        "\n",
        "#read in raw data from github\n",
        "df1=pd.read_csv('https://raw.githubusercontent.com/LiamgMachineLearning/MachineLearning/master/SeansData/opel_corsa_01.csv', sep=\";\")\n",
        "df2=pd.read_csv('https://raw.githubusercontent.com/LiamgMachineLearning/MachineLearning/master/SeansData/opel_corsa_02.csv', sep=\";\")\n",
        "df3=pd.read_csv('https://raw.githubusercontent.com/LiamgMachineLearning/MachineLearning/master/SeansData/peugeot_207_01.csv', sep=\";\")\n",
        "df4=pd.read_csv('https://raw.githubusercontent.com/LiamgMachineLearning/MachineLearning/master/SeansData/peugeot_207_02.csv', sep=\";\")\n",
        "\n",
        "#The peugeot files have a third class for road surface (FullOfHolesCondition), we will not use it here so remove those samples\n",
        "df3 = df3[df3.roadSurface != 'FullOfHolesCondition']\n",
        "df4 = df4[df4.roadSurface != 'FullOfHolesCondition']\n",
        "\n",
        "#combine dataframes\n",
        "allframes = [df1, df2, df3, df4]\n",
        "alldata = pd.concat(allframes)\n",
        "#print out first 5 rows of data set\n",
        "alldata.head()\n",
        "\n",
        "\n",
        "\n",
        "\n"
      ],
      "execution_count": 28,
      "outputs": [
        {
          "output_type": "execute_result",
          "data": {
            "text/html": [
              "<div>\n",
              "<style scoped>\n",
              "    .dataframe tbody tr th:only-of-type {\n",
              "        vertical-align: middle;\n",
              "    }\n",
              "\n",
              "    .dataframe tbody tr th {\n",
              "        vertical-align: top;\n",
              "    }\n",
              "\n",
              "    .dataframe thead th {\n",
              "        text-align: right;\n",
              "    }\n",
              "</style>\n",
              "<table border=\"1\" class=\"dataframe\">\n",
              "  <thead>\n",
              "    <tr style=\"text-align: right;\">\n",
              "      <th></th>\n",
              "      <th>Unnamed: 0</th>\n",
              "      <th>AltitudeVariation</th>\n",
              "      <th>VehicleSpeedInstantaneous</th>\n",
              "      <th>VehicleSpeedAverage</th>\n",
              "      <th>VehicleSpeedVariance</th>\n",
              "      <th>VehicleSpeedVariation</th>\n",
              "      <th>LongitudinalAcceleration</th>\n",
              "      <th>EngineLoad</th>\n",
              "      <th>EngineCoolantTemperature</th>\n",
              "      <th>ManifoldAbsolutePressure</th>\n",
              "      <th>EngineRPM</th>\n",
              "      <th>MassAirFlow</th>\n",
              "      <th>IntakeAirTemperature</th>\n",
              "      <th>VerticalAcceleration</th>\n",
              "      <th>FuelConsumptionAverage</th>\n",
              "      <th>roadSurface</th>\n",
              "      <th>traffic</th>\n",
              "      <th>drivingStyle</th>\n",
              "    </tr>\n",
              "  </thead>\n",
              "  <tbody>\n",
              "    <tr>\n",
              "      <th>0</th>\n",
              "      <td>59</td>\n",
              "      <td>-2.299988</td>\n",
              "      <td>25.670519</td>\n",
              "      <td>13.223501</td>\n",
              "      <td>121.592690</td>\n",
              "      <td>-2.476980</td>\n",
              "      <td>0.3555</td>\n",
              "      <td>4.705883</td>\n",
              "      <td>68.0</td>\n",
              "      <td>106.0</td>\n",
              "      <td>1796.0</td>\n",
              "      <td>15.81</td>\n",
              "      <td>24.0</td>\n",
              "      <td>-0.1133</td>\n",
              "      <td>19.497335</td>\n",
              "      <td>SmoothCondition</td>\n",
              "      <td>LowCongestionCondition</td>\n",
              "      <td>EvenPaceStyle</td>\n",
              "    </tr>\n",
              "    <tr>\n",
              "      <th>1</th>\n",
              "      <td>60</td>\n",
              "      <td>-2.099976</td>\n",
              "      <td>24.094259</td>\n",
              "      <td>13.638919</td>\n",
              "      <td>120.422571</td>\n",
              "      <td>-1.576260</td>\n",
              "      <td>0.4492</td>\n",
              "      <td>10.588236</td>\n",
              "      <td>68.0</td>\n",
              "      <td>103.0</td>\n",
              "      <td>1689.0</td>\n",
              "      <td>14.65</td>\n",
              "      <td>22.0</td>\n",
              "      <td>-0.1289</td>\n",
              "      <td>19.515722</td>\n",
              "      <td>SmoothCondition</td>\n",
              "      <td>LowCongestionCondition</td>\n",
              "      <td>EvenPaceStyle</td>\n",
              "    </tr>\n",
              "    <tr>\n",
              "      <th>2</th>\n",
              "      <td>61</td>\n",
              "      <td>-1.500000</td>\n",
              "      <td>22.743179</td>\n",
              "      <td>14.031043</td>\n",
              "      <td>118.456769</td>\n",
              "      <td>-1.351080</td>\n",
              "      <td>0.4258</td>\n",
              "      <td>27.450981</td>\n",
              "      <td>68.0</td>\n",
              "      <td>103.0</td>\n",
              "      <td>1599.0</td>\n",
              "      <td>11.85</td>\n",
              "      <td>21.0</td>\n",
              "      <td>-0.1328</td>\n",
              "      <td>19.441765</td>\n",
              "      <td>SmoothCondition</td>\n",
              "      <td>LowCongestionCondition</td>\n",
              "      <td>EvenPaceStyle</td>\n",
              "    </tr>\n",
              "    <tr>\n",
              "      <th>3</th>\n",
              "      <td>62</td>\n",
              "      <td>0.100037</td>\n",
              "      <td>22.292820</td>\n",
              "      <td>14.171073</td>\n",
              "      <td>117.571308</td>\n",
              "      <td>-0.450359</td>\n",
              "      <td>0.4140</td>\n",
              "      <td>24.313726</td>\n",
              "      <td>69.0</td>\n",
              "      <td>104.0</td>\n",
              "      <td>1620.0</td>\n",
              "      <td>12.21</td>\n",
              "      <td>20.0</td>\n",
              "      <td>-0.0859</td>\n",
              "      <td>19.388769</td>\n",
              "      <td>SmoothCondition</td>\n",
              "      <td>LowCongestionCondition</td>\n",
              "      <td>EvenPaceStyle</td>\n",
              "    </tr>\n",
              "    <tr>\n",
              "      <th>4</th>\n",
              "      <td>63</td>\n",
              "      <td>0.099976</td>\n",
              "      <td>23.643900</td>\n",
              "      <td>14.328954</td>\n",
              "      <td>117.074149</td>\n",
              "      <td>1.351080</td>\n",
              "      <td>0.3945</td>\n",
              "      <td>20.000000</td>\n",
              "      <td>69.0</td>\n",
              "      <td>104.0</td>\n",
              "      <td>1708.0</td>\n",
              "      <td>11.91</td>\n",
              "      <td>21.0</td>\n",
              "      <td>-0.0664</td>\n",
              "      <td>19.301638</td>\n",
              "      <td>SmoothCondition</td>\n",
              "      <td>LowCongestionCondition</td>\n",
              "      <td>EvenPaceStyle</td>\n",
              "    </tr>\n",
              "  </tbody>\n",
              "</table>\n",
              "</div>"
            ],
            "text/plain": [
              "   Unnamed: 0  AltitudeVariation  ...                 traffic   drivingStyle\n",
              "0          59          -2.299988  ...  LowCongestionCondition  EvenPaceStyle\n",
              "1          60          -2.099976  ...  LowCongestionCondition  EvenPaceStyle\n",
              "2          61          -1.500000  ...  LowCongestionCondition  EvenPaceStyle\n",
              "3          62           0.100037  ...  LowCongestionCondition  EvenPaceStyle\n",
              "4          63           0.099976  ...  LowCongestionCondition  EvenPaceStyle\n",
              "\n",
              "[5 rows x 18 columns]"
            ]
          },
          "metadata": {
            "tags": []
          },
          "execution_count": 28
        }
      ]
    },
    {
      "cell_type": "code",
      "metadata": {
        "id": "UROK9Oh3VhLQ",
        "colab_type": "code",
        "outputId": "b4493bce-b362-4e2f-9285-0c7201d41ecf",
        "colab": {
          "base_uri": "https://localhost:8080/",
          "height": 224
        }
      },
      "source": [
        "#Drop unnecessary columns\n",
        "alldata.drop(['Unnamed: 0', 'traffic'], axis=1, inplace=True)\n",
        "alldata.head()"
      ],
      "execution_count": 29,
      "outputs": [
        {
          "output_type": "execute_result",
          "data": {
            "text/html": [
              "<div>\n",
              "<style scoped>\n",
              "    .dataframe tbody tr th:only-of-type {\n",
              "        vertical-align: middle;\n",
              "    }\n",
              "\n",
              "    .dataframe tbody tr th {\n",
              "        vertical-align: top;\n",
              "    }\n",
              "\n",
              "    .dataframe thead th {\n",
              "        text-align: right;\n",
              "    }\n",
              "</style>\n",
              "<table border=\"1\" class=\"dataframe\">\n",
              "  <thead>\n",
              "    <tr style=\"text-align: right;\">\n",
              "      <th></th>\n",
              "      <th>AltitudeVariation</th>\n",
              "      <th>VehicleSpeedInstantaneous</th>\n",
              "      <th>VehicleSpeedAverage</th>\n",
              "      <th>VehicleSpeedVariance</th>\n",
              "      <th>VehicleSpeedVariation</th>\n",
              "      <th>LongitudinalAcceleration</th>\n",
              "      <th>EngineLoad</th>\n",
              "      <th>EngineCoolantTemperature</th>\n",
              "      <th>ManifoldAbsolutePressure</th>\n",
              "      <th>EngineRPM</th>\n",
              "      <th>MassAirFlow</th>\n",
              "      <th>IntakeAirTemperature</th>\n",
              "      <th>VerticalAcceleration</th>\n",
              "      <th>FuelConsumptionAverage</th>\n",
              "      <th>roadSurface</th>\n",
              "      <th>drivingStyle</th>\n",
              "    </tr>\n",
              "  </thead>\n",
              "  <tbody>\n",
              "    <tr>\n",
              "      <th>0</th>\n",
              "      <td>-2.299988</td>\n",
              "      <td>25.670519</td>\n",
              "      <td>13.223501</td>\n",
              "      <td>121.592690</td>\n",
              "      <td>-2.476980</td>\n",
              "      <td>0.3555</td>\n",
              "      <td>4.705883</td>\n",
              "      <td>68.0</td>\n",
              "      <td>106.0</td>\n",
              "      <td>1796.0</td>\n",
              "      <td>15.81</td>\n",
              "      <td>24.0</td>\n",
              "      <td>-0.1133</td>\n",
              "      <td>19.497335</td>\n",
              "      <td>SmoothCondition</td>\n",
              "      <td>EvenPaceStyle</td>\n",
              "    </tr>\n",
              "    <tr>\n",
              "      <th>1</th>\n",
              "      <td>-2.099976</td>\n",
              "      <td>24.094259</td>\n",
              "      <td>13.638919</td>\n",
              "      <td>120.422571</td>\n",
              "      <td>-1.576260</td>\n",
              "      <td>0.4492</td>\n",
              "      <td>10.588236</td>\n",
              "      <td>68.0</td>\n",
              "      <td>103.0</td>\n",
              "      <td>1689.0</td>\n",
              "      <td>14.65</td>\n",
              "      <td>22.0</td>\n",
              "      <td>-0.1289</td>\n",
              "      <td>19.515722</td>\n",
              "      <td>SmoothCondition</td>\n",
              "      <td>EvenPaceStyle</td>\n",
              "    </tr>\n",
              "    <tr>\n",
              "      <th>2</th>\n",
              "      <td>-1.500000</td>\n",
              "      <td>22.743179</td>\n",
              "      <td>14.031043</td>\n",
              "      <td>118.456769</td>\n",
              "      <td>-1.351080</td>\n",
              "      <td>0.4258</td>\n",
              "      <td>27.450981</td>\n",
              "      <td>68.0</td>\n",
              "      <td>103.0</td>\n",
              "      <td>1599.0</td>\n",
              "      <td>11.85</td>\n",
              "      <td>21.0</td>\n",
              "      <td>-0.1328</td>\n",
              "      <td>19.441765</td>\n",
              "      <td>SmoothCondition</td>\n",
              "      <td>EvenPaceStyle</td>\n",
              "    </tr>\n",
              "    <tr>\n",
              "      <th>3</th>\n",
              "      <td>0.100037</td>\n",
              "      <td>22.292820</td>\n",
              "      <td>14.171073</td>\n",
              "      <td>117.571308</td>\n",
              "      <td>-0.450359</td>\n",
              "      <td>0.4140</td>\n",
              "      <td>24.313726</td>\n",
              "      <td>69.0</td>\n",
              "      <td>104.0</td>\n",
              "      <td>1620.0</td>\n",
              "      <td>12.21</td>\n",
              "      <td>20.0</td>\n",
              "      <td>-0.0859</td>\n",
              "      <td>19.388769</td>\n",
              "      <td>SmoothCondition</td>\n",
              "      <td>EvenPaceStyle</td>\n",
              "    </tr>\n",
              "    <tr>\n",
              "      <th>4</th>\n",
              "      <td>0.099976</td>\n",
              "      <td>23.643900</td>\n",
              "      <td>14.328954</td>\n",
              "      <td>117.074149</td>\n",
              "      <td>1.351080</td>\n",
              "      <td>0.3945</td>\n",
              "      <td>20.000000</td>\n",
              "      <td>69.0</td>\n",
              "      <td>104.0</td>\n",
              "      <td>1708.0</td>\n",
              "      <td>11.91</td>\n",
              "      <td>21.0</td>\n",
              "      <td>-0.0664</td>\n",
              "      <td>19.301638</td>\n",
              "      <td>SmoothCondition</td>\n",
              "      <td>EvenPaceStyle</td>\n",
              "    </tr>\n",
              "  </tbody>\n",
              "</table>\n",
              "</div>"
            ],
            "text/plain": [
              "   AltitudeVariation  VehicleSpeedInstantaneous  ...      roadSurface   drivingStyle\n",
              "0          -2.299988                  25.670519  ...  SmoothCondition  EvenPaceStyle\n",
              "1          -2.099976                  24.094259  ...  SmoothCondition  EvenPaceStyle\n",
              "2          -1.500000                  22.743179  ...  SmoothCondition  EvenPaceStyle\n",
              "3           0.100037                  22.292820  ...  SmoothCondition  EvenPaceStyle\n",
              "4           0.099976                  23.643900  ...  SmoothCondition  EvenPaceStyle\n",
              "\n",
              "[5 rows x 16 columns]"
            ]
          },
          "metadata": {
            "tags": []
          },
          "execution_count": 29
        }
      ]
    },
    {
      "cell_type": "code",
      "metadata": {
        "id": "tWKzAhL2VQAT",
        "colab_type": "code",
        "outputId": "239b2b49-6c5d-444f-8057-136ee862d84f",
        "colab": {
          "base_uri": "https://localhost:8080/",
          "height": 54
        }
      },
      "source": [
        "#feature names and class names are listed in the first row of the dataset\n",
        "column_names = list(alldata.head(0))\n",
        "print(column_names)\n",
        "\n",
        "#Replace text classes as numeric values\n",
        "alldata['drivingStyle'] = alldata.drivingStyle.replace({'EvenPaceStyle': 0, 'AggressiveStyle': 1}) #We would like to be able to identify Aggressive Driving, so assign AggressiveStyle as the positve class\n",
        "alldata['roadSurface']= alldata.roadSurface.replace({'SmoothCondition': 0, 'UnevenCondition': 1}) #We would like to be able to identify Uneven road surface, so assign UnevenCondition as the positive class"
      ],
      "execution_count": 30,
      "outputs": [
        {
          "output_type": "stream",
          "text": [
            "['AltitudeVariation', 'VehicleSpeedInstantaneous', 'VehicleSpeedAverage', 'VehicleSpeedVariance', 'VehicleSpeedVariation', 'LongitudinalAcceleration', 'EngineLoad', 'EngineCoolantTemperature', 'ManifoldAbsolutePressure', 'EngineRPM', 'MassAirFlow', 'IntakeAirTemperature', 'VerticalAcceleration', 'FuelConsumptionAverage', 'roadSurface', 'drivingStyle']\n"
          ],
          "name": "stdout"
        }
      ]
    },
    {
      "cell_type": "code",
      "metadata": {
        "id": "aduK-JlnWIEP",
        "colab_type": "code",
        "outputId": "43eed835-19cb-4808-d0a9-6d5247046374",
        "colab": {
          "base_uri": "https://localhost:8080/",
          "height": 317
        }
      },
      "source": [
        "alldata.describe()"
      ],
      "execution_count": 31,
      "outputs": [
        {
          "output_type": "execute_result",
          "data": {
            "text/html": [
              "<div>\n",
              "<style scoped>\n",
              "    .dataframe tbody tr th:only-of-type {\n",
              "        vertical-align: middle;\n",
              "    }\n",
              "\n",
              "    .dataframe tbody tr th {\n",
              "        vertical-align: top;\n",
              "    }\n",
              "\n",
              "    .dataframe thead th {\n",
              "        text-align: right;\n",
              "    }\n",
              "</style>\n",
              "<table border=\"1\" class=\"dataframe\">\n",
              "  <thead>\n",
              "    <tr style=\"text-align: right;\">\n",
              "      <th></th>\n",
              "      <th>AltitudeVariation</th>\n",
              "      <th>VehicleSpeedInstantaneous</th>\n",
              "      <th>VehicleSpeedAverage</th>\n",
              "      <th>VehicleSpeedVariance</th>\n",
              "      <th>VehicleSpeedVariation</th>\n",
              "      <th>LongitudinalAcceleration</th>\n",
              "      <th>EngineLoad</th>\n",
              "      <th>EngineCoolantTemperature</th>\n",
              "      <th>ManifoldAbsolutePressure</th>\n",
              "      <th>EngineRPM</th>\n",
              "      <th>MassAirFlow</th>\n",
              "      <th>IntakeAirTemperature</th>\n",
              "      <th>VerticalAcceleration</th>\n",
              "      <th>FuelConsumptionAverage</th>\n",
              "      <th>roadSurface</th>\n",
              "      <th>drivingStyle</th>\n",
              "    </tr>\n",
              "  </thead>\n",
              "  <tbody>\n",
              "    <tr>\n",
              "      <th>count</th>\n",
              "      <td>20526.000000</td>\n",
              "      <td>20519.000000</td>\n",
              "      <td>20526.000000</td>\n",
              "      <td>20526.000000</td>\n",
              "      <td>20526.000000</td>\n",
              "      <td>20526.000000</td>\n",
              "      <td>20521.000000</td>\n",
              "      <td>20521.000000</td>\n",
              "      <td>20521.000000</td>\n",
              "      <td>20521.000000</td>\n",
              "      <td>20521.000000</td>\n",
              "      <td>20521.000000</td>\n",
              "      <td>20526.000000</td>\n",
              "      <td>20521.000000</td>\n",
              "      <td>20526.000000</td>\n",
              "      <td>20526.000000</td>\n",
              "    </tr>\n",
              "    <tr>\n",
              "      <th>mean</th>\n",
              "      <td>-0.277288</td>\n",
              "      <td>40.312892</td>\n",
              "      <td>40.536049</td>\n",
              "      <td>174.856937</td>\n",
              "      <td>-0.029213</td>\n",
              "      <td>0.717826</td>\n",
              "      <td>36.173103</td>\n",
              "      <td>74.184007</td>\n",
              "      <td>116.547001</td>\n",
              "      <td>1526.855075</td>\n",
              "      <td>16.446303</td>\n",
              "      <td>24.260124</td>\n",
              "      <td>0.594821</td>\n",
              "      <td>15.064395</td>\n",
              "      <td>0.306392</td>\n",
              "      <td>0.126328</td>\n",
              "    </tr>\n",
              "    <tr>\n",
              "      <th>std</th>\n",
              "      <td>2.160817</td>\n",
              "      <td>35.318866</td>\n",
              "      <td>32.684890</td>\n",
              "      <td>189.798118</td>\n",
              "      <td>2.504639</td>\n",
              "      <td>1.659091</td>\n",
              "      <td>26.366717</td>\n",
              "      <td>12.570001</td>\n",
              "      <td>21.539724</td>\n",
              "      <td>592.678939</td>\n",
              "      <td>10.035839</td>\n",
              "      <td>11.376940</td>\n",
              "      <td>3.700660</td>\n",
              "      <td>4.756568</td>\n",
              "      <td>0.461006</td>\n",
              "      <td>0.332226</td>\n",
              "    </tr>\n",
              "    <tr>\n",
              "      <th>min</th>\n",
              "      <td>-24.600006</td>\n",
              "      <td>0.000000</td>\n",
              "      <td>0.000000</td>\n",
              "      <td>0.000000</td>\n",
              "      <td>-103.500000</td>\n",
              "      <td>-3.065000</td>\n",
              "      <td>0.000000</td>\n",
              "      <td>12.000000</td>\n",
              "      <td>88.000000</td>\n",
              "      <td>0.000000</td>\n",
              "      <td>0.880000</td>\n",
              "      <td>7.000000</td>\n",
              "      <td>-2.763100</td>\n",
              "      <td>7.271883</td>\n",
              "      <td>0.000000</td>\n",
              "      <td>0.000000</td>\n",
              "    </tr>\n",
              "    <tr>\n",
              "      <th>25%</th>\n",
              "      <td>-1.499999</td>\n",
              "      <td>11.709359</td>\n",
              "      <td>16.020389</td>\n",
              "      <td>43.675301</td>\n",
              "      <td>-0.900000</td>\n",
              "      <td>-0.215000</td>\n",
              "      <td>18.431374</td>\n",
              "      <td>73.000000</td>\n",
              "      <td>103.000000</td>\n",
              "      <td>883.000000</td>\n",
              "      <td>7.440000</td>\n",
              "      <td>16.000000</td>\n",
              "      <td>-0.508825</td>\n",
              "      <td>11.309890</td>\n",
              "      <td>0.000000</td>\n",
              "      <td>0.000000</td>\n",
              "    </tr>\n",
              "    <tr>\n",
              "      <th>50%</th>\n",
              "      <td>-0.099998</td>\n",
              "      <td>31.500000</td>\n",
              "      <td>29.266714</td>\n",
              "      <td>112.822027</td>\n",
              "      <td>0.000000</td>\n",
              "      <td>0.394500</td>\n",
              "      <td>30.196079</td>\n",
              "      <td>79.000000</td>\n",
              "      <td>107.000000</td>\n",
              "      <td>1534.000000</td>\n",
              "      <td>15.410000</td>\n",
              "      <td>20.000000</td>\n",
              "      <td>-0.057400</td>\n",
              "      <td>14.372615</td>\n",
              "      <td>0.000000</td>\n",
              "      <td>0.000000</td>\n",
              "    </tr>\n",
              "    <tr>\n",
              "      <th>75%</th>\n",
              "      <td>0.700012</td>\n",
              "      <td>58.771980</td>\n",
              "      <td>55.694878</td>\n",
              "      <td>234.770714</td>\n",
              "      <td>0.900002</td>\n",
              "      <td>1.167575</td>\n",
              "      <td>56.862747</td>\n",
              "      <td>81.000000</td>\n",
              "      <td>123.000000</td>\n",
              "      <td>2040.000000</td>\n",
              "      <td>22.670000</td>\n",
              "      <td>33.000000</td>\n",
              "      <td>0.257800</td>\n",
              "      <td>18.311926</td>\n",
              "      <td>1.000000</td>\n",
              "      <td>0.000000</td>\n",
              "    </tr>\n",
              "    <tr>\n",
              "      <th>max</th>\n",
              "      <td>11.400002</td>\n",
              "      <td>124.749725</td>\n",
              "      <td>121.330733</td>\n",
              "      <td>1418.370369</td>\n",
              "      <td>97.199997</td>\n",
              "      <td>8.477800</td>\n",
              "      <td>100.000000</td>\n",
              "      <td>89.000000</td>\n",
              "      <td>252.000000</td>\n",
              "      <td>3167.000000</td>\n",
              "      <td>73.250000</td>\n",
              "      <td>65.000000</td>\n",
              "      <td>17.944800</td>\n",
              "      <td>45.336861</td>\n",
              "      <td>1.000000</td>\n",
              "      <td>1.000000</td>\n",
              "    </tr>\n",
              "  </tbody>\n",
              "</table>\n",
              "</div>"
            ],
            "text/plain": [
              "       AltitudeVariation  VehicleSpeedInstantaneous  ...   roadSurface  drivingStyle\n",
              "count       20526.000000               20519.000000  ...  20526.000000  20526.000000\n",
              "mean           -0.277288                  40.312892  ...      0.306392      0.126328\n",
              "std             2.160817                  35.318866  ...      0.461006      0.332226\n",
              "min           -24.600006                   0.000000  ...      0.000000      0.000000\n",
              "25%            -1.499999                  11.709359  ...      0.000000      0.000000\n",
              "50%            -0.099998                  31.500000  ...      0.000000      0.000000\n",
              "75%             0.700012                  58.771980  ...      1.000000      0.000000\n",
              "max            11.400002                 124.749725  ...      1.000000      1.000000\n",
              "\n",
              "[8 rows x 16 columns]"
            ]
          },
          "metadata": {
            "tags": []
          },
          "execution_count": 31
        }
      ]
    },
    {
      "cell_type": "code",
      "metadata": {
        "id": "dw6QzaUBWSRt",
        "colab_type": "code",
        "colab": {}
      },
      "source": [
        "#First 14 columns are the features\n",
        "allFeatureNames = ['AltitudeVariation','VehicleSpeedInstantaneous','VehicleSpeedAverage','VehicleSpeedVariance','VehicleSpeedVariation','LongitudinalAcceleration','EngineLoad','EngineCoolantTemperature','ManifoldAbsolutePressure','EngineRPM','MassAirFlow','IntakeAirTemperature','VerticalAcceleration','FuelConsumptionAverage']"
      ],
      "execution_count": 0,
      "outputs": []
    },
    {
      "cell_type": "code",
      "metadata": {
        "id": "XemDuJohX6b6",
        "colab_type": "code",
        "outputId": "aaf1e56a-5ba5-4b64-cdfd-e3a59eb7ad55",
        "colab": {
          "base_uri": "https://localhost:8080/",
          "height": 34
        }
      },
      "source": [
        "print(alldata.shape)"
      ],
      "execution_count": 33,
      "outputs": [
        {
          "output_type": "stream",
          "text": [
            "(20526, 16)\n"
          ],
          "name": "stdout"
        }
      ]
    },
    {
      "cell_type": "code",
      "metadata": {
        "id": "PjMtu2DIX-p2",
        "colab_type": "code",
        "outputId": "a366e27d-04f6-4e6f-bceb-aa49c1c15a1c",
        "colab": {
          "base_uri": "https://localhost:8080/",
          "height": 34
        }
      },
      "source": [
        "#some non-numeric data remains, remove these\n",
        "alldata = alldata.apply (pd.to_numeric, errors='coerce')\n",
        "alldata = alldata.dropna()\n",
        "alldata = alldata.reset_index(drop=True)\n",
        "\n",
        "print(alldata.shape)\n",
        "\n"
      ],
      "execution_count": 34,
      "outputs": [
        {
          "output_type": "stream",
          "text": [
            "(20515, 16)\n"
          ],
          "name": "stdout"
        }
      ]
    },
    {
      "cell_type": "code",
      "metadata": {
        "id": "EVfv2ctdYlvE",
        "colab_type": "code",
        "outputId": "3258b566-a051-41a1-83d3-6714256ba773",
        "colab": {
          "base_uri": "https://localhost:8080/",
          "height": 317
        }
      },
      "source": [
        "alldata.describe()"
      ],
      "execution_count": 35,
      "outputs": [
        {
          "output_type": "execute_result",
          "data": {
            "text/html": [
              "<div>\n",
              "<style scoped>\n",
              "    .dataframe tbody tr th:only-of-type {\n",
              "        vertical-align: middle;\n",
              "    }\n",
              "\n",
              "    .dataframe tbody tr th {\n",
              "        vertical-align: top;\n",
              "    }\n",
              "\n",
              "    .dataframe thead th {\n",
              "        text-align: right;\n",
              "    }\n",
              "</style>\n",
              "<table border=\"1\" class=\"dataframe\">\n",
              "  <thead>\n",
              "    <tr style=\"text-align: right;\">\n",
              "      <th></th>\n",
              "      <th>AltitudeVariation</th>\n",
              "      <th>VehicleSpeedInstantaneous</th>\n",
              "      <th>VehicleSpeedAverage</th>\n",
              "      <th>VehicleSpeedVariance</th>\n",
              "      <th>VehicleSpeedVariation</th>\n",
              "      <th>LongitudinalAcceleration</th>\n",
              "      <th>EngineLoad</th>\n",
              "      <th>EngineCoolantTemperature</th>\n",
              "      <th>ManifoldAbsolutePressure</th>\n",
              "      <th>EngineRPM</th>\n",
              "      <th>MassAirFlow</th>\n",
              "      <th>IntakeAirTemperature</th>\n",
              "      <th>VerticalAcceleration</th>\n",
              "      <th>FuelConsumptionAverage</th>\n",
              "      <th>roadSurface</th>\n",
              "      <th>drivingStyle</th>\n",
              "    </tr>\n",
              "  </thead>\n",
              "  <tbody>\n",
              "    <tr>\n",
              "      <th>count</th>\n",
              "      <td>20515.000000</td>\n",
              "      <td>20515.000000</td>\n",
              "      <td>20515.000000</td>\n",
              "      <td>20515.000000</td>\n",
              "      <td>20515.000000</td>\n",
              "      <td>20515.000000</td>\n",
              "      <td>20515.000000</td>\n",
              "      <td>20515.000000</td>\n",
              "      <td>20515.000000</td>\n",
              "      <td>20515.000000</td>\n",
              "      <td>20515.000000</td>\n",
              "      <td>20515.000000</td>\n",
              "      <td>20515.000000</td>\n",
              "      <td>20515.000000</td>\n",
              "      <td>20515.000000</td>\n",
              "      <td>20515.000000</td>\n",
              "    </tr>\n",
              "    <tr>\n",
              "      <th>mean</th>\n",
              "      <td>-0.277704</td>\n",
              "      <td>40.320752</td>\n",
              "      <td>40.537869</td>\n",
              "      <td>174.906987</td>\n",
              "      <td>-0.022406</td>\n",
              "      <td>0.717759</td>\n",
              "      <td>36.177393</td>\n",
              "      <td>74.187375</td>\n",
              "      <td>116.549062</td>\n",
              "      <td>1526.876700</td>\n",
              "      <td>16.445948</td>\n",
              "      <td>24.259664</td>\n",
              "      <td>0.595556</td>\n",
              "      <td>15.064420</td>\n",
              "      <td>0.306117</td>\n",
              "      <td>0.126395</td>\n",
              "    </tr>\n",
              "    <tr>\n",
              "      <th>std</th>\n",
              "      <td>2.161235</td>\n",
              "      <td>35.317822</td>\n",
              "      <td>32.683853</td>\n",
              "      <td>189.834142</td>\n",
              "      <td>2.388776</td>\n",
              "      <td>1.659486</td>\n",
              "      <td>26.367823</td>\n",
              "      <td>12.568416</td>\n",
              "      <td>21.541996</td>\n",
              "      <td>592.656671</td>\n",
              "      <td>10.035577</td>\n",
              "      <td>11.376732</td>\n",
              "      <td>3.701494</td>\n",
              "      <td>4.756993</td>\n",
              "      <td>0.460890</td>\n",
              "      <td>0.332302</td>\n",
              "    </tr>\n",
              "    <tr>\n",
              "      <th>min</th>\n",
              "      <td>-24.600006</td>\n",
              "      <td>0.000000</td>\n",
              "      <td>0.000000</td>\n",
              "      <td>0.000000</td>\n",
              "      <td>-18.000002</td>\n",
              "      <td>-3.065000</td>\n",
              "      <td>0.000000</td>\n",
              "      <td>12.000000</td>\n",
              "      <td>88.000000</td>\n",
              "      <td>0.000000</td>\n",
              "      <td>0.880000</td>\n",
              "      <td>7.000000</td>\n",
              "      <td>-2.763100</td>\n",
              "      <td>7.271883</td>\n",
              "      <td>0.000000</td>\n",
              "      <td>0.000000</td>\n",
              "    </tr>\n",
              "    <tr>\n",
              "      <th>25%</th>\n",
              "      <td>-1.500000</td>\n",
              "      <td>11.709359</td>\n",
              "      <td>16.023433</td>\n",
              "      <td>43.674785</td>\n",
              "      <td>-0.900000</td>\n",
              "      <td>-0.215000</td>\n",
              "      <td>18.431374</td>\n",
              "      <td>73.000000</td>\n",
              "      <td>103.000000</td>\n",
              "      <td>883.000000</td>\n",
              "      <td>7.440000</td>\n",
              "      <td>16.000000</td>\n",
              "      <td>-0.508350</td>\n",
              "      <td>11.311189</td>\n",
              "      <td>0.000000</td>\n",
              "      <td>0.000000</td>\n",
              "    </tr>\n",
              "    <tr>\n",
              "      <th>50%</th>\n",
              "      <td>-0.099998</td>\n",
              "      <td>31.500000</td>\n",
              "      <td>29.269646</td>\n",
              "      <td>112.915320</td>\n",
              "      <td>0.000000</td>\n",
              "      <td>0.394500</td>\n",
              "      <td>30.196079</td>\n",
              "      <td>79.000000</td>\n",
              "      <td>107.000000</td>\n",
              "      <td>1534.000000</td>\n",
              "      <td>15.410000</td>\n",
              "      <td>20.000000</td>\n",
              "      <td>-0.056700</td>\n",
              "      <td>14.372605</td>\n",
              "      <td>0.000000</td>\n",
              "      <td>0.000000</td>\n",
              "    </tr>\n",
              "    <tr>\n",
              "      <th>75%</th>\n",
              "      <td>0.700012</td>\n",
              "      <td>58.884569</td>\n",
              "      <td>55.696635</td>\n",
              "      <td>234.770714</td>\n",
              "      <td>0.900002</td>\n",
              "      <td>1.167750</td>\n",
              "      <td>56.862747</td>\n",
              "      <td>81.000000</td>\n",
              "      <td>123.000000</td>\n",
              "      <td>2040.000000</td>\n",
              "      <td>22.665000</td>\n",
              "      <td>33.000000</td>\n",
              "      <td>0.257800</td>\n",
              "      <td>18.312412</td>\n",
              "      <td>1.000000</td>\n",
              "      <td>0.000000</td>\n",
              "    </tr>\n",
              "    <tr>\n",
              "      <th>max</th>\n",
              "      <td>11.400002</td>\n",
              "      <td>124.749725</td>\n",
              "      <td>121.330733</td>\n",
              "      <td>1418.370369</td>\n",
              "      <td>97.199997</td>\n",
              "      <td>8.477800</td>\n",
              "      <td>100.000000</td>\n",
              "      <td>89.000000</td>\n",
              "      <td>252.000000</td>\n",
              "      <td>3167.000000</td>\n",
              "      <td>73.250000</td>\n",
              "      <td>65.000000</td>\n",
              "      <td>17.944800</td>\n",
              "      <td>45.336861</td>\n",
              "      <td>1.000000</td>\n",
              "      <td>1.000000</td>\n",
              "    </tr>\n",
              "  </tbody>\n",
              "</table>\n",
              "</div>"
            ],
            "text/plain": [
              "       AltitudeVariation  VehicleSpeedInstantaneous  ...   roadSurface  drivingStyle\n",
              "count       20515.000000               20515.000000  ...  20515.000000  20515.000000\n",
              "mean           -0.277704                  40.320752  ...      0.306117      0.126395\n",
              "std             2.161235                  35.317822  ...      0.460890      0.332302\n",
              "min           -24.600006                   0.000000  ...      0.000000      0.000000\n",
              "25%            -1.500000                  11.709359  ...      0.000000      0.000000\n",
              "50%            -0.099998                  31.500000  ...      0.000000      0.000000\n",
              "75%             0.700012                  58.884569  ...      1.000000      0.000000\n",
              "max            11.400002                 124.749725  ...      1.000000      1.000000\n",
              "\n",
              "[8 rows x 16 columns]"
            ]
          },
          "metadata": {
            "tags": []
          },
          "execution_count": 35
        }
      ]
    },
    {
      "cell_type": "code",
      "metadata": {
        "id": "6Ox1y_cqpiGO",
        "colab_type": "code",
        "colab": {}
      },
      "source": [
        ""
      ],
      "execution_count": 0,
      "outputs": []
    },
    {
      "cell_type": "code",
      "metadata": {
        "id": "dqADF1vFZQBA",
        "colab_type": "code",
        "outputId": "7fe8a63e-142a-4705-c4d2-30aede24c301",
        "colab": {
          "base_uri": "https://localhost:8080/",
          "height": 224
        }
      },
      "source": [
        "AllFeatures = alldata[allFeatureNames]\n",
        "AllFeatures.head()\n",
        "\n",
        "######### Data is now cleaned (but still unbalanced). ########"
      ],
      "execution_count": 36,
      "outputs": [
        {
          "output_type": "execute_result",
          "data": {
            "text/html": [
              "<div>\n",
              "<style scoped>\n",
              "    .dataframe tbody tr th:only-of-type {\n",
              "        vertical-align: middle;\n",
              "    }\n",
              "\n",
              "    .dataframe tbody tr th {\n",
              "        vertical-align: top;\n",
              "    }\n",
              "\n",
              "    .dataframe thead th {\n",
              "        text-align: right;\n",
              "    }\n",
              "</style>\n",
              "<table border=\"1\" class=\"dataframe\">\n",
              "  <thead>\n",
              "    <tr style=\"text-align: right;\">\n",
              "      <th></th>\n",
              "      <th>AltitudeVariation</th>\n",
              "      <th>VehicleSpeedInstantaneous</th>\n",
              "      <th>VehicleSpeedAverage</th>\n",
              "      <th>VehicleSpeedVariance</th>\n",
              "      <th>VehicleSpeedVariation</th>\n",
              "      <th>LongitudinalAcceleration</th>\n",
              "      <th>EngineLoad</th>\n",
              "      <th>EngineCoolantTemperature</th>\n",
              "      <th>ManifoldAbsolutePressure</th>\n",
              "      <th>EngineRPM</th>\n",
              "      <th>MassAirFlow</th>\n",
              "      <th>IntakeAirTemperature</th>\n",
              "      <th>VerticalAcceleration</th>\n",
              "      <th>FuelConsumptionAverage</th>\n",
              "    </tr>\n",
              "  </thead>\n",
              "  <tbody>\n",
              "    <tr>\n",
              "      <th>0</th>\n",
              "      <td>-2.299988</td>\n",
              "      <td>25.670519</td>\n",
              "      <td>13.223501</td>\n",
              "      <td>121.592690</td>\n",
              "      <td>-2.476980</td>\n",
              "      <td>0.3555</td>\n",
              "      <td>4.705883</td>\n",
              "      <td>68.0</td>\n",
              "      <td>106.0</td>\n",
              "      <td>1796.0</td>\n",
              "      <td>15.81</td>\n",
              "      <td>24.0</td>\n",
              "      <td>-0.1133</td>\n",
              "      <td>19.497335</td>\n",
              "    </tr>\n",
              "    <tr>\n",
              "      <th>1</th>\n",
              "      <td>-2.099976</td>\n",
              "      <td>24.094259</td>\n",
              "      <td>13.638919</td>\n",
              "      <td>120.422571</td>\n",
              "      <td>-1.576260</td>\n",
              "      <td>0.4492</td>\n",
              "      <td>10.588236</td>\n",
              "      <td>68.0</td>\n",
              "      <td>103.0</td>\n",
              "      <td>1689.0</td>\n",
              "      <td>14.65</td>\n",
              "      <td>22.0</td>\n",
              "      <td>-0.1289</td>\n",
              "      <td>19.515722</td>\n",
              "    </tr>\n",
              "    <tr>\n",
              "      <th>2</th>\n",
              "      <td>-1.500000</td>\n",
              "      <td>22.743179</td>\n",
              "      <td>14.031043</td>\n",
              "      <td>118.456769</td>\n",
              "      <td>-1.351080</td>\n",
              "      <td>0.4258</td>\n",
              "      <td>27.450981</td>\n",
              "      <td>68.0</td>\n",
              "      <td>103.0</td>\n",
              "      <td>1599.0</td>\n",
              "      <td>11.85</td>\n",
              "      <td>21.0</td>\n",
              "      <td>-0.1328</td>\n",
              "      <td>19.441765</td>\n",
              "    </tr>\n",
              "    <tr>\n",
              "      <th>3</th>\n",
              "      <td>0.100037</td>\n",
              "      <td>22.292820</td>\n",
              "      <td>14.171073</td>\n",
              "      <td>117.571308</td>\n",
              "      <td>-0.450359</td>\n",
              "      <td>0.4140</td>\n",
              "      <td>24.313726</td>\n",
              "      <td>69.0</td>\n",
              "      <td>104.0</td>\n",
              "      <td>1620.0</td>\n",
              "      <td>12.21</td>\n",
              "      <td>20.0</td>\n",
              "      <td>-0.0859</td>\n",
              "      <td>19.388769</td>\n",
              "    </tr>\n",
              "    <tr>\n",
              "      <th>4</th>\n",
              "      <td>0.099976</td>\n",
              "      <td>23.643900</td>\n",
              "      <td>14.328954</td>\n",
              "      <td>117.074149</td>\n",
              "      <td>1.351080</td>\n",
              "      <td>0.3945</td>\n",
              "      <td>20.000000</td>\n",
              "      <td>69.0</td>\n",
              "      <td>104.0</td>\n",
              "      <td>1708.0</td>\n",
              "      <td>11.91</td>\n",
              "      <td>21.0</td>\n",
              "      <td>-0.0664</td>\n",
              "      <td>19.301638</td>\n",
              "    </tr>\n",
              "  </tbody>\n",
              "</table>\n",
              "</div>"
            ],
            "text/plain": [
              "   AltitudeVariation  ...  FuelConsumptionAverage\n",
              "0          -2.299988  ...               19.497335\n",
              "1          -2.099976  ...               19.515722\n",
              "2          -1.500000  ...               19.441765\n",
              "3           0.100037  ...               19.388769\n",
              "4           0.099976  ...               19.301638\n",
              "\n",
              "[5 rows x 14 columns]"
            ]
          },
          "metadata": {
            "tags": []
          },
          "execution_count": 36
        }
      ]
    },
    {
      "cell_type": "code",
      "metadata": {
        "id": "P0AHQWX2qkSD",
        "colab_type": "code",
        "outputId": "f49115e5-92e6-4d9e-d229-a6aa59983157",
        "colab": {
          "base_uri": "https://localhost:8080/",
          "height": 204
        }
      },
      "source": [
        "#Take the 5 features with largest standard deviations and scale them (Is there a better way to identify the most important features?)\n",
        "relevantFeatureNames = ['VehicleSpeedInstantaneous','VehicleSpeedAverage','EngineLoad','EngineRPM','IntakeAirTemperature']\n",
        "relevantFeatures = alldata[relevantFeatureNames]\n",
        "relevantFeatures.head()\n"
      ],
      "execution_count": 37,
      "outputs": [
        {
          "output_type": "execute_result",
          "data": {
            "text/html": [
              "<div>\n",
              "<style scoped>\n",
              "    .dataframe tbody tr th:only-of-type {\n",
              "        vertical-align: middle;\n",
              "    }\n",
              "\n",
              "    .dataframe tbody tr th {\n",
              "        vertical-align: top;\n",
              "    }\n",
              "\n",
              "    .dataframe thead th {\n",
              "        text-align: right;\n",
              "    }\n",
              "</style>\n",
              "<table border=\"1\" class=\"dataframe\">\n",
              "  <thead>\n",
              "    <tr style=\"text-align: right;\">\n",
              "      <th></th>\n",
              "      <th>VehicleSpeedInstantaneous</th>\n",
              "      <th>VehicleSpeedAverage</th>\n",
              "      <th>EngineLoad</th>\n",
              "      <th>EngineRPM</th>\n",
              "      <th>IntakeAirTemperature</th>\n",
              "    </tr>\n",
              "  </thead>\n",
              "  <tbody>\n",
              "    <tr>\n",
              "      <th>0</th>\n",
              "      <td>25.670519</td>\n",
              "      <td>13.223501</td>\n",
              "      <td>4.705883</td>\n",
              "      <td>1796.0</td>\n",
              "      <td>24.0</td>\n",
              "    </tr>\n",
              "    <tr>\n",
              "      <th>1</th>\n",
              "      <td>24.094259</td>\n",
              "      <td>13.638919</td>\n",
              "      <td>10.588236</td>\n",
              "      <td>1689.0</td>\n",
              "      <td>22.0</td>\n",
              "    </tr>\n",
              "    <tr>\n",
              "      <th>2</th>\n",
              "      <td>22.743179</td>\n",
              "      <td>14.031043</td>\n",
              "      <td>27.450981</td>\n",
              "      <td>1599.0</td>\n",
              "      <td>21.0</td>\n",
              "    </tr>\n",
              "    <tr>\n",
              "      <th>3</th>\n",
              "      <td>22.292820</td>\n",
              "      <td>14.171073</td>\n",
              "      <td>24.313726</td>\n",
              "      <td>1620.0</td>\n",
              "      <td>20.0</td>\n",
              "    </tr>\n",
              "    <tr>\n",
              "      <th>4</th>\n",
              "      <td>23.643900</td>\n",
              "      <td>14.328954</td>\n",
              "      <td>20.000000</td>\n",
              "      <td>1708.0</td>\n",
              "      <td>21.0</td>\n",
              "    </tr>\n",
              "  </tbody>\n",
              "</table>\n",
              "</div>"
            ],
            "text/plain": [
              "   VehicleSpeedInstantaneous  ...  IntakeAirTemperature\n",
              "0                  25.670519  ...                  24.0\n",
              "1                  24.094259  ...                  22.0\n",
              "2                  22.743179  ...                  21.0\n",
              "3                  22.292820  ...                  20.0\n",
              "4                  23.643900  ...                  21.0\n",
              "\n",
              "[5 rows x 5 columns]"
            ]
          },
          "metadata": {
            "tags": []
          },
          "execution_count": 37
        }
      ]
    },
    {
      "cell_type": "code",
      "metadata": {
        "id": "v85Tav78sdv_",
        "colab_type": "code",
        "outputId": "3aec957a-c0a6-4d25-9883-281103049b1e",
        "colab": {
          "base_uri": "https://localhost:8080/",
          "height": 204
        }
      },
      "source": [
        "\n",
        "\n",
        "#First need to concatanate the relevant features with the classes\n",
        "RelevantData = alldata[['VehicleSpeedInstantaneous', 'VehicleSpeedAverage', 'EngineLoad', 'EngineRPM', 'IntakeAirTemperature', 'drivingStyle']]\n",
        "#RelevantData[relevantFeatureNames]= RelevantFeaturesScaled[relevantFeatureNames]\n",
        "RelevantData.head()\n"
      ],
      "execution_count": 38,
      "outputs": [
        {
          "output_type": "execute_result",
          "data": {
            "text/html": [
              "<div>\n",
              "<style scoped>\n",
              "    .dataframe tbody tr th:only-of-type {\n",
              "        vertical-align: middle;\n",
              "    }\n",
              "\n",
              "    .dataframe tbody tr th {\n",
              "        vertical-align: top;\n",
              "    }\n",
              "\n",
              "    .dataframe thead th {\n",
              "        text-align: right;\n",
              "    }\n",
              "</style>\n",
              "<table border=\"1\" class=\"dataframe\">\n",
              "  <thead>\n",
              "    <tr style=\"text-align: right;\">\n",
              "      <th></th>\n",
              "      <th>VehicleSpeedInstantaneous</th>\n",
              "      <th>VehicleSpeedAverage</th>\n",
              "      <th>EngineLoad</th>\n",
              "      <th>EngineRPM</th>\n",
              "      <th>IntakeAirTemperature</th>\n",
              "      <th>drivingStyle</th>\n",
              "    </tr>\n",
              "  </thead>\n",
              "  <tbody>\n",
              "    <tr>\n",
              "      <th>0</th>\n",
              "      <td>25.670519</td>\n",
              "      <td>13.223501</td>\n",
              "      <td>4.705883</td>\n",
              "      <td>1796.0</td>\n",
              "      <td>24.0</td>\n",
              "      <td>0</td>\n",
              "    </tr>\n",
              "    <tr>\n",
              "      <th>1</th>\n",
              "      <td>24.094259</td>\n",
              "      <td>13.638919</td>\n",
              "      <td>10.588236</td>\n",
              "      <td>1689.0</td>\n",
              "      <td>22.0</td>\n",
              "      <td>0</td>\n",
              "    </tr>\n",
              "    <tr>\n",
              "      <th>2</th>\n",
              "      <td>22.743179</td>\n",
              "      <td>14.031043</td>\n",
              "      <td>27.450981</td>\n",
              "      <td>1599.0</td>\n",
              "      <td>21.0</td>\n",
              "      <td>0</td>\n",
              "    </tr>\n",
              "    <tr>\n",
              "      <th>3</th>\n",
              "      <td>22.292820</td>\n",
              "      <td>14.171073</td>\n",
              "      <td>24.313726</td>\n",
              "      <td>1620.0</td>\n",
              "      <td>20.0</td>\n",
              "      <td>0</td>\n",
              "    </tr>\n",
              "    <tr>\n",
              "      <th>4</th>\n",
              "      <td>23.643900</td>\n",
              "      <td>14.328954</td>\n",
              "      <td>20.000000</td>\n",
              "      <td>1708.0</td>\n",
              "      <td>21.0</td>\n",
              "      <td>0</td>\n",
              "    </tr>\n",
              "  </tbody>\n",
              "</table>\n",
              "</div>"
            ],
            "text/plain": [
              "   VehicleSpeedInstantaneous  ...  drivingStyle\n",
              "0                  25.670519  ...             0\n",
              "1                  24.094259  ...             0\n",
              "2                  22.743179  ...             0\n",
              "3                  22.292820  ...             0\n",
              "4                  23.643900  ...             0\n",
              "\n",
              "[5 rows x 6 columns]"
            ]
          },
          "metadata": {
            "tags": []
          },
          "execution_count": 38
        }
      ]
    },
    {
      "cell_type": "code",
      "metadata": {
        "id": "voEc7PXzwp--",
        "colab_type": "code",
        "outputId": "242b819d-9437-4d61-b832-a2632a8c80a9",
        "colab": {
          "base_uri": "https://localhost:8080/",
          "height": 297
        }
      },
      "source": [
        "RelevantData.describe()"
      ],
      "execution_count": 39,
      "outputs": [
        {
          "output_type": "execute_result",
          "data": {
            "text/html": [
              "<div>\n",
              "<style scoped>\n",
              "    .dataframe tbody tr th:only-of-type {\n",
              "        vertical-align: middle;\n",
              "    }\n",
              "\n",
              "    .dataframe tbody tr th {\n",
              "        vertical-align: top;\n",
              "    }\n",
              "\n",
              "    .dataframe thead th {\n",
              "        text-align: right;\n",
              "    }\n",
              "</style>\n",
              "<table border=\"1\" class=\"dataframe\">\n",
              "  <thead>\n",
              "    <tr style=\"text-align: right;\">\n",
              "      <th></th>\n",
              "      <th>VehicleSpeedInstantaneous</th>\n",
              "      <th>VehicleSpeedAverage</th>\n",
              "      <th>EngineLoad</th>\n",
              "      <th>EngineRPM</th>\n",
              "      <th>IntakeAirTemperature</th>\n",
              "      <th>drivingStyle</th>\n",
              "    </tr>\n",
              "  </thead>\n",
              "  <tbody>\n",
              "    <tr>\n",
              "      <th>count</th>\n",
              "      <td>20515.000000</td>\n",
              "      <td>20515.000000</td>\n",
              "      <td>20515.000000</td>\n",
              "      <td>20515.000000</td>\n",
              "      <td>20515.000000</td>\n",
              "      <td>20515.000000</td>\n",
              "    </tr>\n",
              "    <tr>\n",
              "      <th>mean</th>\n",
              "      <td>40.320752</td>\n",
              "      <td>40.537869</td>\n",
              "      <td>36.177393</td>\n",
              "      <td>1526.876700</td>\n",
              "      <td>24.259664</td>\n",
              "      <td>0.126395</td>\n",
              "    </tr>\n",
              "    <tr>\n",
              "      <th>std</th>\n",
              "      <td>35.317822</td>\n",
              "      <td>32.683853</td>\n",
              "      <td>26.367823</td>\n",
              "      <td>592.656671</td>\n",
              "      <td>11.376732</td>\n",
              "      <td>0.332302</td>\n",
              "    </tr>\n",
              "    <tr>\n",
              "      <th>min</th>\n",
              "      <td>0.000000</td>\n",
              "      <td>0.000000</td>\n",
              "      <td>0.000000</td>\n",
              "      <td>0.000000</td>\n",
              "      <td>7.000000</td>\n",
              "      <td>0.000000</td>\n",
              "    </tr>\n",
              "    <tr>\n",
              "      <th>25%</th>\n",
              "      <td>11.709359</td>\n",
              "      <td>16.023433</td>\n",
              "      <td>18.431374</td>\n",
              "      <td>883.000000</td>\n",
              "      <td>16.000000</td>\n",
              "      <td>0.000000</td>\n",
              "    </tr>\n",
              "    <tr>\n",
              "      <th>50%</th>\n",
              "      <td>31.500000</td>\n",
              "      <td>29.269646</td>\n",
              "      <td>30.196079</td>\n",
              "      <td>1534.000000</td>\n",
              "      <td>20.000000</td>\n",
              "      <td>0.000000</td>\n",
              "    </tr>\n",
              "    <tr>\n",
              "      <th>75%</th>\n",
              "      <td>58.884569</td>\n",
              "      <td>55.696635</td>\n",
              "      <td>56.862747</td>\n",
              "      <td>2040.000000</td>\n",
              "      <td>33.000000</td>\n",
              "      <td>0.000000</td>\n",
              "    </tr>\n",
              "    <tr>\n",
              "      <th>max</th>\n",
              "      <td>124.749725</td>\n",
              "      <td>121.330733</td>\n",
              "      <td>100.000000</td>\n",
              "      <td>3167.000000</td>\n",
              "      <td>65.000000</td>\n",
              "      <td>1.000000</td>\n",
              "    </tr>\n",
              "  </tbody>\n",
              "</table>\n",
              "</div>"
            ],
            "text/plain": [
              "       VehicleSpeedInstantaneous  ...  drivingStyle\n",
              "count               20515.000000  ...  20515.000000\n",
              "mean                   40.320752  ...      0.126395\n",
              "std                    35.317822  ...      0.332302\n",
              "min                     0.000000  ...      0.000000\n",
              "25%                    11.709359  ...      0.000000\n",
              "50%                    31.500000  ...      0.000000\n",
              "75%                    58.884569  ...      0.000000\n",
              "max                   124.749725  ...      1.000000\n",
              "\n",
              "[8 rows x 6 columns]"
            ]
          },
          "metadata": {
            "tags": []
          },
          "execution_count": 39
        }
      ]
    },
    {
      "cell_type": "code",
      "metadata": {
        "id": "1Rhk5P6_uqR0",
        "colab_type": "code",
        "outputId": "72756372-8ece-409b-f532-c67d512bc4ff",
        "colab": {
          "base_uri": "https://localhost:8080/",
          "height": 329
        }
      },
      "source": [
        "#Now work out the target counts for each class to get an understanding of the balancing that is needed\n",
        "target_count =RelevantData.drivingStyle.value_counts()\n",
        "print('EvenPaceStyle or Class 0:', target_count[0])\n",
        "print('AgressivePaceStyle or Class 1:', target_count[1])\n",
        "print('Proportion:', round(target_count[0] / target_count[1], 2), ': 1')\n",
        "\n",
        "target_count.plot(kind='bar', title='drivingStyle (target)');"
      ],
      "execution_count": 40,
      "outputs": [
        {
          "output_type": "stream",
          "text": [
            "EvenPaceStyle or Class 0: 17922\n",
            "AgressivePaceStyle or Class 1: 2593\n",
            "Proportion: 6.91 : 1\n"
          ],
          "name": "stdout"
        },
        {
          "output_type": "display_data",
          "data": {
            "image/png": "[encoded data removed]",
            "text/plain": [
              "<Figure size 432x288 with 1 Axes>"
            ]
          },
          "metadata": {
            "tags": []
          }
        }
      ]
    },
    {
      "cell_type": "code",
      "metadata": {
        "id": "rqAxlq8SyGzE",
        "colab_type": "code",
        "outputId": "4c0e0e25-065d-4f77-b04c-774b24910aa2",
        "colab": {
          "base_uri": "https://localhost:8080/",
          "height": 119
        }
      },
      "source": [
        "#Define the output (to be classified)\n",
        "y = RelevantData['drivingStyle']\n",
        "y.head()"
      ],
      "execution_count": 41,
      "outputs": [
        {
          "output_type": "execute_result",
          "data": {
            "text/plain": [
              "0    0\n",
              "1    0\n",
              "2    0\n",
              "3    0\n",
              "4    0\n",
              "Name: drivingStyle, dtype: int64"
            ]
          },
          "metadata": {
            "tags": []
          },
          "execution_count": 41
        }
      ]
    },
    {
      "cell_type": "code",
      "metadata": {
        "id": "eprbNnSTy1Wu",
        "colab_type": "code",
        "outputId": "9cb7e957-f916-4cd8-fac1-1a6158928e4c",
        "colab": {
          "base_uri": "https://localhost:8080/",
          "height": 85
        }
      },
      "source": [
        "#Split the data set into training and test data\n",
        "from sklearn.model_selection import train_test_split\n",
        "X_train, X_test, y_train, y_test = train_test_split(relevantFeatures, y, random_state = 1)\n",
        "print(X_train.shape)\n",
        "print(X_test.shape)\n",
        "print(y_train.shape)\n",
        "print(y_test.shape)"
      ],
      "execution_count": 43,
      "outputs": [
        {
          "output_type": "stream",
          "text": [
            "(15386, 5)\n",
            "(5129, 5)\n",
            "(15386,)\n",
            "(5129,)\n"
          ],
          "name": "stdout"
        }
      ]
    },
    {
      "cell_type": "code",
      "metadata": {
        "id": "H5a7zesUzYha",
        "colab_type": "code",
        "outputId": "afbe8fb3-355b-4ab8-e05a-0e7db6097d76",
        "colab": {
          "base_uri": "https://localhost:8080/",
          "height": 51
        }
      },
      "source": [
        "aggressive_percent = y_test.mean()\n",
        "even_percent = 1 - y_test.mean()\n",
        "print(aggressive_percent)\n",
        "print(even_percent)\n",
        "#Shows what the accuracy would be if 'Even Driving' Style is predicted always. (Works out to be ~87% when all 4 data files are used, or 81% if just the two opel corsa files) => We need to design a classifer that provides better accuracy than this!"
      ],
      "execution_count": 44,
      "outputs": [
        {
          "output_type": "stream",
          "text": [
            "0.12692532657438096\n",
            "0.8730746734256191\n"
          ],
          "name": "stdout"
        }
      ]
    },
    {
      "cell_type": "code",
      "metadata": {
        "id": "1to9Y9dj0dvF",
        "colab_type": "code",
        "colab": {}
      },
      "source": [
        "def plot_2d_space(X, y, label='Classes'):   \n",
        "    colors = ['#1F77B4', '#FF7F0E']\n",
        "    markers = ['o', 's']\n",
        "    for l, c, m in zip(np.unique(y), colors, markers):\n",
        "        plt.scatter(\n",
        "            X[y==l, 0],\n",
        "            X[y==l, 1],\n",
        "            c=c, label=l, marker=m\n",
        "        )\n",
        "    plt.title(label)\n",
        "    plt.legend(loc='upper right')\n",
        "    plt.show()"
      ],
      "execution_count": 0,
      "outputs": []
    },
    {
      "cell_type": "code",
      "metadata": {
        "id": "-Bz6KWgQ1a8H",
        "colab_type": "code",
        "outputId": "98843361-8fac-43ce-9d3d-9e5b092ea706",
        "colab": {
          "base_uri": "https://localhost:8080/",
          "height": 306
        }
      },
      "source": [
        "#Now perform KNN classification\n",
        "from sklearn.neighbors import KNeighborsClassifier\n",
        "from sklearn import metrics\n",
        "from sklearn.metrics import mean_squared_error, r2_score\n",
        "from sklearn.metrics import roc_curve, roc_auc_score\n",
        "from scipy import interp\n",
        "knn = KNeighborsClassifier(n_neighbors = 3)\n",
        "knn.fit(X_train, y_train)\n",
        "y2_pred = knn.predict(X_test)\n",
        "#Print the metrics\n",
        "print(\"Compare actual response with predicted (accuracy): \", metrics.accuracy_score(y_test, y2_pred))\n",
        "print(\"Precision: \", metrics.precision_score(y_test, y2_pred))\n",
        "print(\"Recall: \", metrics.recall_score(y_test, y2_pred))\n",
        "print(\"F1 Score: \", metrics.recall_score(y_test, y2_pred))\n",
        "print(\"Classification Report: \\n\", metrics.classification_report(y_test, y2_pred))\n",
        "print(\"Confusion Matrix: \\n\", metrics.confusion_matrix(y_test, y2_pred))"
      ],
      "execution_count": 46,
      "outputs": [
        {
          "output_type": "stream",
          "text": [
            "Compare actual response with predicted (accuracy):  0.8672255800350945\n",
            "Precision:  0.4675324675324675\n",
            "Recall:  0.3317972350230415\n",
            "F1 Score:  0.3317972350230415\n",
            "Classification Report: \n",
            "               precision    recall  f1-score   support\n",
            "\n",
            "           0       0.91      0.95      0.93      4478\n",
            "           1       0.47      0.33      0.39       651\n",
            "\n",
            "    accuracy                           0.87      5129\n",
            "   macro avg       0.69      0.64      0.66      5129\n",
            "weighted avg       0.85      0.87      0.86      5129\n",
            "\n",
            "Confusion Matrix: \n",
            " [[4232  246]\n",
            " [ 435  216]]\n"
          ],
          "name": "stdout"
        }
      ]
    },
    {
      "cell_type": "code",
      "metadata": {
        "id": "GVIoG_Cm2i2E",
        "colab_type": "code",
        "outputId": "dbeb8d62-c6a1-4439-ec96-63638eead60a",
        "colab": {
          "base_uri": "https://localhost:8080/",
          "height": 312
        }
      },
      "source": [
        "#Plot the ROC curve\n",
        "from itertools import cycle\n",
        "from sklearn import svm, datasets\n",
        "from sklearn.metrics import roc_curve, roc_auc_score\n",
        "from sklearn.preprocessing import label_binarize\n",
        "import sklearn.metrics as metrics\n",
        "\n",
        "probs = knn.predict_proba(X_test)\n",
        "preds = probs[:,1]\n",
        "fpr, tpr, threshold = metrics.roc_curve(y_test,preds)\n",
        "roc_auc = metrics.auc(fpr, tpr)\n",
        "\n",
        "import matplotlib.pyplot as plt\n",
        "plt.title('Receiver Operating Characteristic')\n",
        "plt.plot(fpr, tpr, 'b', label = 'AUC = %0.2f' % roc_auc)\n",
        "plt.legend(loc = 'lower right')\n",
        "plt.plot([0, 1], [0, 1],'r--')\n",
        "plt.xlim([0, 1])\n",
        "plt.ylim([0, 1])\n",
        "plt.ylabel('True Positive Rate')\n",
        "plt.xlabel('False Positive Rate')\n",
        "plt.show()\n",
        "print(\"ROC ACU Score\", metrics.roc_auc_score(y_test, preds))"
      ],
      "execution_count": 47,
      "outputs": [
        {
          "output_type": "display_data",
          "data": {
            "image/png": "[encoded data removed]",
            "text/plain": [
              "<Figure size 432x288 with 1 Axes>"
            ]
          },
          "metadata": {
            "tags": []
          }
        },
        {
          "output_type": "stream",
          "text": [
            "ROC ACU Score 0.7439336465903627\n"
          ],
          "name": "stdout"
        }
      ]
    },
    {
      "cell_type": "markdown",
      "metadata": {
        "id": "0imnjAlL5MBs",
        "colab_type": "text"
      },
      "source": [
        "KNN shows much poorer results when no scaling and no balancing. Only slightly improved results when using all features vs 5 features. It seems balancing does have a positive impact, however when scaling applied the benefit of balancing is less.\n",
        "\n",
        "\n"
      ]
    },
    {
      "cell_type": "code",
      "metadata": {
        "id": "o8XXuPjffd6k",
        "colab_type": "code",
        "colab": {
          "base_uri": "https://localhost:8080/",
          "height": 85
        },
        "outputId": "0e2db292-fa1b-4d3f-9a04-b795c1a2a109"
      },
      "source": [
        "#Try with Logistic Regression and SVM\n",
        "modelsvm = svm.SVC(kernel ='linear',class_weight='balanced', tol=0.001, probability=True)\n",
        "modelsvm.fit(X_train, y_train)"
      ],
      "execution_count": 48,
      "outputs": [
        {
          "output_type": "execute_result",
          "data": {
            "text/plain": [
              "SVC(C=1.0, cache_size=200, class_weight='balanced', coef0=0.0,\n",
              "    decision_function_shape='ovr', degree=3, gamma='auto_deprecated',\n",
              "    kernel='linear', max_iter=-1, probability=True, random_state=None,\n",
              "    shrinking=True, tol=0.001, verbose=False)"
            ]
          },
          "metadata": {
            "tags": []
          },
          "execution_count": 48
        }
      ]
    },
    {
      "cell_type": "code",
      "metadata": {
        "id": "BaEqk44sjPVf",
        "colab_type": "code",
        "colab": {
          "base_uri": "https://localhost:8080/",
          "height": 306
        },
        "outputId": "6650af13-6bc5-4c80-d5b6-0b6af036ec95"
      },
      "source": [
        "y3_pred = modelsvm.predict(X_test)\n",
        "print(\"Compare actual response with predicted (accuracy): \", metrics.accuracy_score(y_test, y3_pred))\n",
        "print(\"Precision: \", metrics.precision_score(y_test, y3_pred))\n",
        "print(\"Recall: \", metrics.recall_score(y_test, y3_pred))\n",
        "print(\"F1 Score: \", metrics.recall_score(y_test, y3_pred))\n",
        "print(\"Classification Report: \\n\", metrics.classification_report(y_test, y3_pred))\n",
        "print(\"Confusion Matrix: \\n\", metrics.confusion_matrix(y_test, y3_pred))"
      ],
      "execution_count": 49,
      "outputs": [
        {
          "output_type": "stream",
          "text": [
            "Compare actual response with predicted (accuracy):  0.5767206083057126\n",
            "Precision:  0.20358814352574103\n",
            "Recall:  0.8018433179723502\n",
            "F1 Score:  0.8018433179723502\n",
            "Classification Report: \n",
            "               precision    recall  f1-score   support\n",
            "\n",
            "           0       0.95      0.54      0.69      4478\n",
            "           1       0.20      0.80      0.32       651\n",
            "\n",
            "    accuracy                           0.58      5129\n",
            "   macro avg       0.58      0.67      0.51      5129\n",
            "weighted avg       0.86      0.58      0.65      5129\n",
            "\n",
            "Confusion Matrix: \n",
            " [[2436 2042]\n",
            " [ 129  522]]\n"
          ],
          "name": "stdout"
        }
      ]
    },
    {
      "cell_type": "code",
      "metadata": {
        "id": "Iscocq6mjTIl",
        "colab_type": "code",
        "colab": {
          "base_uri": "https://localhost:8080/",
          "height": 312
        },
        "outputId": "c493c12a-4375-44d6-cc30-8343822c0839"
      },
      "source": [
        "#Draw ROC curve for SVM\n",
        "probs = modelsvm.predict_proba(X_test)\n",
        "preds = probs[:,1]\n",
        "fpr, tpr, threshold = metrics.roc_curve(y_test,preds)\n",
        "roc_auc = metrics.auc(fpr, tpr)\n",
        "\n",
        "import matplotlib.pyplot as plt\n",
        "plt.title('Receiver Operating Characteristic')\n",
        "plt.plot(fpr, tpr, 'b', label = 'AUC = %0.2f' % roc_auc)\n",
        "plt.legend(loc = 'lower right')\n",
        "plt.plot([0, 1], [0, 1],'r--')\n",
        "plt.xlim([0, 1])\n",
        "plt.ylim([0, 1])\n",
        "plt.ylabel('True Positive Rate')\n",
        "plt.xlabel('False Positive Rate')\n",
        "plt.show()\n",
        "print(\"ROC ACU Score\", metrics.roc_auc_score(y_test, preds))"
      ],
      "execution_count": 50,
      "outputs": [
        {
          "output_type": "display_data",
          "data": {
            "image/png": "[encoded data removed]",
            "text/plain": [
              "<Figure size 432x288 with 1 Axes>"
            ]
          },
          "metadata": {
            "tags": []
          }
        },
        {
          "output_type": "stream",
          "text": [
            "ROC ACU Score 0.7380919792890862\n"
          ],
          "name": "stdout"
        }
      ]
    },
    {
      "cell_type": "code",
      "metadata": {
        "id": "iE6WbX8A6R8D",
        "colab_type": "code",
        "colab": {
          "base_uri": "https://localhost:8080/",
          "height": 204
        },
        "outputId": "851ed8a0-b79d-4626-ad62-78109851e808"
      },
      "source": [
        "X_train.head()"
      ],
      "execution_count": 51,
      "outputs": [
        {
          "output_type": "execute_result",
          "data": {
            "text/html": [
              "<div>\n",
              "<style scoped>\n",
              "    .dataframe tbody tr th:only-of-type {\n",
              "        vertical-align: middle;\n",
              "    }\n",
              "\n",
              "    .dataframe tbody tr th {\n",
              "        vertical-align: top;\n",
              "    }\n",
              "\n",
              "    .dataframe thead th {\n",
              "        text-align: right;\n",
              "    }\n",
              "</style>\n",
              "<table border=\"1\" class=\"dataframe\">\n",
              "  <thead>\n",
              "    <tr style=\"text-align: right;\">\n",
              "      <th></th>\n",
              "      <th>VehicleSpeedInstantaneous</th>\n",
              "      <th>VehicleSpeedAverage</th>\n",
              "      <th>EngineLoad</th>\n",
              "      <th>EngineRPM</th>\n",
              "      <th>IntakeAirTemperature</th>\n",
              "    </tr>\n",
              "  </thead>\n",
              "  <tbody>\n",
              "    <tr>\n",
              "      <th>6228</th>\n",
              "      <td>0.000000</td>\n",
              "      <td>27.460700</td>\n",
              "      <td>26.274509</td>\n",
              "      <td>794.0</td>\n",
              "      <td>11.0</td>\n",
              "    </tr>\n",
              "    <tr>\n",
              "      <th>14346</th>\n",
              "      <td>98.099998</td>\n",
              "      <td>88.304998</td>\n",
              "      <td>79.215691</td>\n",
              "      <td>2311.0</td>\n",
              "      <td>52.0</td>\n",
              "    </tr>\n",
              "    <tr>\n",
              "      <th>18553</th>\n",
              "      <td>21.599998</td>\n",
              "      <td>24.119999</td>\n",
              "      <td>0.000000</td>\n",
              "      <td>1309.5</td>\n",
              "      <td>18.0</td>\n",
              "    </tr>\n",
              "    <tr>\n",
              "      <th>13396</th>\n",
              "      <td>0.000000</td>\n",
              "      <td>27.224999</td>\n",
              "      <td>27.843138</td>\n",
              "      <td>753.5</td>\n",
              "      <td>35.0</td>\n",
              "    </tr>\n",
              "    <tr>\n",
              "      <th>4549</th>\n",
              "      <td>106.735321</td>\n",
              "      <td>113.122923</td>\n",
              "      <td>27.058825</td>\n",
              "      <td>2206.0</td>\n",
              "      <td>21.0</td>\n",
              "    </tr>\n",
              "  </tbody>\n",
              "</table>\n",
              "</div>"
            ],
            "text/plain": [
              "       VehicleSpeedInstantaneous  ...  IntakeAirTemperature\n",
              "6228                    0.000000  ...                  11.0\n",
              "14346                  98.099998  ...                  52.0\n",
              "18553                  21.599998  ...                  18.0\n",
              "13396                   0.000000  ...                  35.0\n",
              "4549                  106.735321  ...                  21.0\n",
              "\n",
              "[5 rows x 5 columns]"
            ]
          },
          "metadata": {
            "tags": []
          },
          "execution_count": 51
        }
      ]
    },
    {
      "cell_type": "code",
      "metadata": {
        "id": "O9qmqpHl6U-c",
        "colab_type": "code",
        "colab": {
          "base_uri": "https://localhost:8080/",
          "height": 119
        },
        "outputId": "bcb9345f-eb82-47d7-9c97-cd8f54b864a7"
      },
      "source": [
        "y_train.head()"
      ],
      "execution_count": 52,
      "outputs": [
        {
          "output_type": "execute_result",
          "data": {
            "text/plain": [
              "6228     0\n",
              "14346    0\n",
              "18553    0\n",
              "13396    1\n",
              "4549     0\n",
              "Name: drivingStyle, dtype: int64"
            ]
          },
          "metadata": {
            "tags": []
          },
          "execution_count": 52
        }
      ]
    },
    {
      "cell_type": "code",
      "metadata": {
        "id": "yKeuGwtVjWD8",
        "colab_type": "code",
        "colab": {
          "base_uri": "https://localhost:8080/",
          "height": 306
        },
        "outputId": "3bf03569-555f-4493-9198-f106f5a95b43"
      },
      "source": [
        "#Logistic Regression\n",
        "from sklearn.linear_model import LinearRegression, LogisticRegression\n",
        "logreg = LogisticRegression(solver='liblinear')\n",
        "logreg.fit(X_train,y_train)\n",
        "\n",
        "y_pred = logreg.predict(X_test)\n",
        "print(\"Compare actual response with predicted (accuracy): \", metrics.accuracy_score(y_test, y_pred))\n",
        "print(\"Precision: \", metrics.precision_score(y_test, y_pred))\n",
        "print(\"Recall: \", metrics.recall_score(y_test, y_pred))\n",
        "print(\"F1 Score: \", metrics.recall_score(y_test, y_pred))\n",
        "print(\"Classification Report: \\n\", metrics.classification_report(y_test, y_pred))\n",
        "print(\"Confusion Matrix: \\n\", metrics.confusion_matrix(y_test, y_pred))"
      ],
      "execution_count": 53,
      "outputs": [
        {
          "output_type": "stream",
          "text": [
            "Compare actual response with predicted (accuracy):  0.8713199454084617\n",
            "Precision:  0.40425531914893614\n",
            "Recall:  0.029185867895545316\n",
            "F1 Score:  0.029185867895545316\n",
            "Classification Report: \n",
            "               precision    recall  f1-score   support\n",
            "\n",
            "           0       0.88      0.99      0.93      4478\n",
            "           1       0.40      0.03      0.05       651\n",
            "\n",
            "    accuracy                           0.87      5129\n",
            "   macro avg       0.64      0.51      0.49      5129\n",
            "weighted avg       0.82      0.87      0.82      5129\n",
            "\n",
            "Confusion Matrix: \n",
            " [[4450   28]\n",
            " [ 632   19]]\n"
          ],
          "name": "stdout"
        }
      ]
    },
    {
      "cell_type": "code",
      "metadata": {
        "id": "qBnHg2pejZjA",
        "colab_type": "code",
        "colab": {
          "base_uri": "https://localhost:8080/",
          "height": 312
        },
        "outputId": "4da9738d-bb76-4adf-afe3-bbe6d7374ff5"
      },
      "source": [
        "#Draw ROC for Logistic Regression\n",
        "probs = logreg.predict_proba(X_test)\n",
        "preds = probs[:,1]\n",
        "fpr, tpr, threshold = metrics.roc_curve(y_test,preds)\n",
        "roc_auc = metrics.auc(fpr, tpr)\n",
        "\n",
        "import matplotlib.pyplot as plt\n",
        "plt.title('Receiver Operating Characteristic')\n",
        "plt.plot(fpr, tpr, 'b', label = 'AUC = %0.2f' % roc_auc)\n",
        "plt.legend(loc = 'lower right')\n",
        "plt.plot([0, 1], [0, 1],'r--')\n",
        "plt.xlim([0, 1])\n",
        "plt.ylim([0, 1])\n",
        "plt.ylabel('True Positive Rate')\n",
        "plt.xlabel('False Positive Rate')\n",
        "plt.show()\n",
        "print(\"ROC ACU Score\", metrics.roc_auc_score(y_test, preds))"
      ],
      "execution_count": 54,
      "outputs": [
        {
          "output_type": "display_data",
          "data": {
            "image/png": "[encoded data removed]",
            "text/plain": [
              "<Figure size 432x288 with 1 Axes>"
            ]
          },
          "metadata": {
            "tags": []
          }
        },
        {
          "output_type": "stream",
          "text": [
            "ROC ACU Score 0.7370146865817455\n"
          ],
          "name": "stdout"
        }
      ]
    },
    {
      "cell_type": "code",
      "metadata": {
        "id": "1rRjxolr3OJU",
        "colab_type": "code",
        "outputId": "e01bfaa5-e807-4263-8d99-480798fef4e6",
        "colab": {
          "base_uri": "https://localhost:8080/",
          "height": 306
        }
      },
      "source": [
        "#For comparison, check performance if ALL features are used:\n",
        "##First get the scaled version of the feature data\n",
        "#alldata[allFeatureNames]= AllFeaturesScaled[allFeatureNames]\n",
        "\n",
        "#Split the dataset\n",
        "X_train, X_test, y_train, y_test = train_test_split(alldata[allFeatureNames], y, random_state = 1)\n",
        "\n",
        "#Balancing using Random OverSampling\n",
        "\n",
        "#ros = RandomOverSampler()\n",
        "#X_ros, y_ros = ros.fit_sample(X_train, y_train)\n",
        "\n",
        "#print(X_ros.shape[0] - alldata.shape[0], 'new random picked points')\n",
        "\n",
        "#plot_2d_space(X_ros, y_ros, 'Random over-sampling')\n",
        "\n",
        "#Now split using x_ros, y_ros\n",
        "#X_train, X_test, y_train, y_test = train_test_split(X_ros, y_ros, random_state = 1)\n",
        "\n",
        "#And classify\n",
        "knn = KNeighborsClassifier(n_neighbors = 3)\n",
        "knn.fit(X_train, y_train)\n",
        "y2_pred = knn.predict(X_test)\n",
        "#Print the metrics\n",
        "print(\"Compare actual response with predicted (accuracy): \", metrics.accuracy_score(y_test, y2_pred))\n",
        "print(\"Precision: \", metrics.precision_score(y_test, y2_pred))\n",
        "print(\"Recall: \", metrics.recall_score(y_test, y2_pred))\n",
        "print(\"F1 Score: \", metrics.recall_score(y_test, y2_pred))\n",
        "print(\"Classification Report: \\n\", metrics.classification_report(y_test, y2_pred))\n",
        "print(\"Confusion Matrix: \\n\", metrics.confusion_matrix(y_test, y2_pred))"
      ],
      "execution_count": 55,
      "outputs": [
        {
          "output_type": "stream",
          "text": [
            "Compare actual response with predicted (accuracy):  0.8738545525443556\n",
            "Precision:  0.5044052863436124\n",
            "Recall:  0.35176651305683565\n",
            "F1 Score:  0.35176651305683565\n",
            "Classification Report: \n",
            "               precision    recall  f1-score   support\n",
            "\n",
            "           0       0.91      0.95      0.93      4478\n",
            "           1       0.50      0.35      0.41       651\n",
            "\n",
            "    accuracy                           0.87      5129\n",
            "   macro avg       0.71      0.65      0.67      5129\n",
            "weighted avg       0.86      0.87      0.86      5129\n",
            "\n",
            "Confusion Matrix: \n",
            " [[4253  225]\n",
            " [ 422  229]]\n"
          ],
          "name": "stdout"
        }
      ]
    }
  ]
}