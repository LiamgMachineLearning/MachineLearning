{
  "nbformat": 4,
  "nbformat_minor": 0,
  "metadata": {
    "colab": {
      "name": "ML Assignment 1 Group B - Balanced, Not Scaled.ipynb",
      "provenance": []
    },
    "kernelspec": {
      "name": "python3",
      "display_name": "Python 3"
    }
  },
  "cells": [
    {
      "cell_type": "code",
      "metadata": {
        "id": "3QI_Py2GSD6k",
        "colab_type": "code",
        "outputId": "9118911c-57dd-43fa-bdc0-2be361e90495",
        "colab": {
          "base_uri": "https://localhost:8080/",
          "height": 241
        }
      },
      "source": [
        "#Machine Learning Assignment 1 - Group B - Classification Algorithms and Cleaning Data\n",
        "import matplotlib.pyplot as plt\n",
        "import numpy as np\n",
        "from sklearn import datasets, linear_model\n",
        "from sklearn.metrics import mean_squared_error, r2_score\n",
        "from sklearn import preprocessing\n",
        "\n",
        "from itertools import cycle\n",
        "from sklearn import svm, datasets\n",
        "from sklearn.metrics import roc_curve, roc_auc_score\n",
        "from sklearn.preprocessing import label_binarize\n",
        "\n",
        "import pandas as pd\n",
        "\n",
        "#read in raw data from github\n",
        "df1=pd.read_csv('https://raw.githubusercontent.com/LiamgMachineLearning/MachineLearning/master/SeansData/opel_corsa_01.csv', sep=\";\")\n",
        "df2=pd.read_csv('https://raw.githubusercontent.com/LiamgMachineLearning/MachineLearning/master/SeansData/opel_corsa_02.csv', sep=\";\")\n",
        "df3=pd.read_csv('https://raw.githubusercontent.com/LiamgMachineLearning/MachineLearning/master/SeansData/peugeot_207_01.csv', sep=\";\")\n",
        "df4=pd.read_csv('https://raw.githubusercontent.com/LiamgMachineLearning/MachineLearning/master/SeansData/peugeot_207_02.csv', sep=\";\")\n",
        "\n",
        "#The peugeot files have a third class for road surface (FullOfHolesCondition), we will not use it here so remove those samples\n",
        "df3 = df3[df3.roadSurface != 'FullOfHolesCondition']\n",
        "df4 = df4[df4.roadSurface != 'FullOfHolesCondition']\n",
        "\n",
        "#combine dataframes\n",
        "allframes = [df1, df2, df3, df4]\n",
        "alldata = pd.concat(allframes)\n",
        "#print out first 5 rows of data set\n",
        "alldata.head()\n",
        "\n",
        "\n",
        "\n",
        "\n"
      ],
      "execution_count": 1,
      "outputs": [
        {
          "output_type": "execute_result",
          "data": {
            "text/html": [
              "<div>\n",
              "<style scoped>\n",
              "    .dataframe tbody tr th:only-of-type {\n",
              "        vertical-align: middle;\n",
              "    }\n",
              "\n",
              "    .dataframe tbody tr th {\n",
              "        vertical-align: top;\n",
              "    }\n",
              "\n",
              "    .dataframe thead th {\n",
              "        text-align: right;\n",
              "    }\n",
              "</style>\n",
              "<table border=\"1\" class=\"dataframe\">\n",
              "  <thead>\n",
              "    <tr style=\"text-align: right;\">\n",
              "      <th></th>\n",
              "      <th>Unnamed: 0</th>\n",
              "      <th>AltitudeVariation</th>\n",
              "      <th>VehicleSpeedInstantaneous</th>\n",
              "      <th>VehicleSpeedAverage</th>\n",
              "      <th>VehicleSpeedVariance</th>\n",
              "      <th>VehicleSpeedVariation</th>\n",
              "      <th>LongitudinalAcceleration</th>\n",
              "      <th>EngineLoad</th>\n",
              "      <th>EngineCoolantTemperature</th>\n",
              "      <th>ManifoldAbsolutePressure</th>\n",
              "      <th>EngineRPM</th>\n",
              "      <th>MassAirFlow</th>\n",
              "      <th>IntakeAirTemperature</th>\n",
              "      <th>VerticalAcceleration</th>\n",
              "      <th>FuelConsumptionAverage</th>\n",
              "      <th>roadSurface</th>\n",
              "      <th>traffic</th>\n",
              "      <th>drivingStyle</th>\n",
              "    </tr>\n",
              "  </thead>\n",
              "  <tbody>\n",
              "    <tr>\n",
              "      <th>0</th>\n",
              "      <td>59</td>\n",
              "      <td>-2.299988</td>\n",
              "      <td>25.670519</td>\n",
              "      <td>13.223501</td>\n",
              "      <td>121.592690</td>\n",
              "      <td>-2.476980</td>\n",
              "      <td>0.3555</td>\n",
              "      <td>4.705883</td>\n",
              "      <td>68.0</td>\n",
              "      <td>106.0</td>\n",
              "      <td>1796.0</td>\n",
              "      <td>15.81</td>\n",
              "      <td>24.0</td>\n",
              "      <td>-0.1133</td>\n",
              "      <td>19.497335</td>\n",
              "      <td>SmoothCondition</td>\n",
              "      <td>LowCongestionCondition</td>\n",
              "      <td>EvenPaceStyle</td>\n",
              "    </tr>\n",
              "    <tr>\n",
              "      <th>1</th>\n",
              "      <td>60</td>\n",
              "      <td>-2.099976</td>\n",
              "      <td>24.094259</td>\n",
              "      <td>13.638919</td>\n",
              "      <td>120.422571</td>\n",
              "      <td>-1.576260</td>\n",
              "      <td>0.4492</td>\n",
              "      <td>10.588236</td>\n",
              "      <td>68.0</td>\n",
              "      <td>103.0</td>\n",
              "      <td>1689.0</td>\n",
              "      <td>14.65</td>\n",
              "      <td>22.0</td>\n",
              "      <td>-0.1289</td>\n",
              "      <td>19.515722</td>\n",
              "      <td>SmoothCondition</td>\n",
              "      <td>LowCongestionCondition</td>\n",
              "      <td>EvenPaceStyle</td>\n",
              "    </tr>\n",
              "    <tr>\n",
              "      <th>2</th>\n",
              "      <td>61</td>\n",
              "      <td>-1.500000</td>\n",
              "      <td>22.743179</td>\n",
              "      <td>14.031043</td>\n",
              "      <td>118.456769</td>\n",
              "      <td>-1.351080</td>\n",
              "      <td>0.4258</td>\n",
              "      <td>27.450981</td>\n",
              "      <td>68.0</td>\n",
              "      <td>103.0</td>\n",
              "      <td>1599.0</td>\n",
              "      <td>11.85</td>\n",
              "      <td>21.0</td>\n",
              "      <td>-0.1328</td>\n",
              "      <td>19.441765</td>\n",
              "      <td>SmoothCondition</td>\n",
              "      <td>LowCongestionCondition</td>\n",
              "      <td>EvenPaceStyle</td>\n",
              "    </tr>\n",
              "    <tr>\n",
              "      <th>3</th>\n",
              "      <td>62</td>\n",
              "      <td>0.100037</td>\n",
              "      <td>22.292820</td>\n",
              "      <td>14.171073</td>\n",
              "      <td>117.571308</td>\n",
              "      <td>-0.450359</td>\n",
              "      <td>0.4140</td>\n",
              "      <td>24.313726</td>\n",
              "      <td>69.0</td>\n",
              "      <td>104.0</td>\n",
              "      <td>1620.0</td>\n",
              "      <td>12.21</td>\n",
              "      <td>20.0</td>\n",
              "      <td>-0.0859</td>\n",
              "      <td>19.388769</td>\n",
              "      <td>SmoothCondition</td>\n",
              "      <td>LowCongestionCondition</td>\n",
              "      <td>EvenPaceStyle</td>\n",
              "    </tr>\n",
              "    <tr>\n",
              "      <th>4</th>\n",
              "      <td>63</td>\n",
              "      <td>0.099976</td>\n",
              "      <td>23.643900</td>\n",
              "      <td>14.328954</td>\n",
              "      <td>117.074149</td>\n",
              "      <td>1.351080</td>\n",
              "      <td>0.3945</td>\n",
              "      <td>20.000000</td>\n",
              "      <td>69.0</td>\n",
              "      <td>104.0</td>\n",
              "      <td>1708.0</td>\n",
              "      <td>11.91</td>\n",
              "      <td>21.0</td>\n",
              "      <td>-0.0664</td>\n",
              "      <td>19.301638</td>\n",
              "      <td>SmoothCondition</td>\n",
              "      <td>LowCongestionCondition</td>\n",
              "      <td>EvenPaceStyle</td>\n",
              "    </tr>\n",
              "  </tbody>\n",
              "</table>\n",
              "</div>"
            ],
            "text/plain": [
              "   Unnamed: 0  AltitudeVariation  ...                 traffic   drivingStyle\n",
              "0          59          -2.299988  ...  LowCongestionCondition  EvenPaceStyle\n",
              "1          60          -2.099976  ...  LowCongestionCondition  EvenPaceStyle\n",
              "2          61          -1.500000  ...  LowCongestionCondition  EvenPaceStyle\n",
              "3          62           0.100037  ...  LowCongestionCondition  EvenPaceStyle\n",
              "4          63           0.099976  ...  LowCongestionCondition  EvenPaceStyle\n",
              "\n",
              "[5 rows x 18 columns]"
            ]
          },
          "metadata": {
            "tags": []
          },
          "execution_count": 1
        }
      ]
    },
    {
      "cell_type": "code",
      "metadata": {
        "id": "UROK9Oh3VhLQ",
        "colab_type": "code",
        "outputId": "3c88eb47-90bd-4983-a9c5-f7b70cb8a1c9",
        "colab": {
          "base_uri": "https://localhost:8080/",
          "height": 224
        }
      },
      "source": [
        "#Drop unnecessary columns\n",
        "alldata.drop(['Unnamed: 0', 'traffic'], axis=1, inplace=True)\n",
        "alldata.head()"
      ],
      "execution_count": 2,
      "outputs": [
        {
          "output_type": "execute_result",
          "data": {
            "text/html": [
              "<div>\n",
              "<style scoped>\n",
              "    .dataframe tbody tr th:only-of-type {\n",
              "        vertical-align: middle;\n",
              "    }\n",
              "\n",
              "    .dataframe tbody tr th {\n",
              "        vertical-align: top;\n",
              "    }\n",
              "\n",
              "    .dataframe thead th {\n",
              "        text-align: right;\n",
              "    }\n",
              "</style>\n",
              "<table border=\"1\" class=\"dataframe\">\n",
              "  <thead>\n",
              "    <tr style=\"text-align: right;\">\n",
              "      <th></th>\n",
              "      <th>AltitudeVariation</th>\n",
              "      <th>VehicleSpeedInstantaneous</th>\n",
              "      <th>VehicleSpeedAverage</th>\n",
              "      <th>VehicleSpeedVariance</th>\n",
              "      <th>VehicleSpeedVariation</th>\n",
              "      <th>LongitudinalAcceleration</th>\n",
              "      <th>EngineLoad</th>\n",
              "      <th>EngineCoolantTemperature</th>\n",
              "      <th>ManifoldAbsolutePressure</th>\n",
              "      <th>EngineRPM</th>\n",
              "      <th>MassAirFlow</th>\n",
              "      <th>IntakeAirTemperature</th>\n",
              "      <th>VerticalAcceleration</th>\n",
              "      <th>FuelConsumptionAverage</th>\n",
              "      <th>roadSurface</th>\n",
              "      <th>drivingStyle</th>\n",
              "    </tr>\n",
              "  </thead>\n",
              "  <tbody>\n",
              "    <tr>\n",
              "      <th>0</th>\n",
              "      <td>-2.299988</td>\n",
              "      <td>25.670519</td>\n",
              "      <td>13.223501</td>\n",
              "      <td>121.592690</td>\n",
              "      <td>-2.476980</td>\n",
              "      <td>0.3555</td>\n",
              "      <td>4.705883</td>\n",
              "      <td>68.0</td>\n",
              "      <td>106.0</td>\n",
              "      <td>1796.0</td>\n",
              "      <td>15.81</td>\n",
              "      <td>24.0</td>\n",
              "      <td>-0.1133</td>\n",
              "      <td>19.497335</td>\n",
              "      <td>SmoothCondition</td>\n",
              "      <td>EvenPaceStyle</td>\n",
              "    </tr>\n",
              "    <tr>\n",
              "      <th>1</th>\n",
              "      <td>-2.099976</td>\n",
              "      <td>24.094259</td>\n",
              "      <td>13.638919</td>\n",
              "      <td>120.422571</td>\n",
              "      <td>-1.576260</td>\n",
              "      <td>0.4492</td>\n",
              "      <td>10.588236</td>\n",
              "      <td>68.0</td>\n",
              "      <td>103.0</td>\n",
              "      <td>1689.0</td>\n",
              "      <td>14.65</td>\n",
              "      <td>22.0</td>\n",
              "      <td>-0.1289</td>\n",
              "      <td>19.515722</td>\n",
              "      <td>SmoothCondition</td>\n",
              "      <td>EvenPaceStyle</td>\n",
              "    </tr>\n",
              "    <tr>\n",
              "      <th>2</th>\n",
              "      <td>-1.500000</td>\n",
              "      <td>22.743179</td>\n",
              "      <td>14.031043</td>\n",
              "      <td>118.456769</td>\n",
              "      <td>-1.351080</td>\n",
              "      <td>0.4258</td>\n",
              "      <td>27.450981</td>\n",
              "      <td>68.0</td>\n",
              "      <td>103.0</td>\n",
              "      <td>1599.0</td>\n",
              "      <td>11.85</td>\n",
              "      <td>21.0</td>\n",
              "      <td>-0.1328</td>\n",
              "      <td>19.441765</td>\n",
              "      <td>SmoothCondition</td>\n",
              "      <td>EvenPaceStyle</td>\n",
              "    </tr>\n",
              "    <tr>\n",
              "      <th>3</th>\n",
              "      <td>0.100037</td>\n",
              "      <td>22.292820</td>\n",
              "      <td>14.171073</td>\n",
              "      <td>117.571308</td>\n",
              "      <td>-0.450359</td>\n",
              "      <td>0.4140</td>\n",
              "      <td>24.313726</td>\n",
              "      <td>69.0</td>\n",
              "      <td>104.0</td>\n",
              "      <td>1620.0</td>\n",
              "      <td>12.21</td>\n",
              "      <td>20.0</td>\n",
              "      <td>-0.0859</td>\n",
              "      <td>19.388769</td>\n",
              "      <td>SmoothCondition</td>\n",
              "      <td>EvenPaceStyle</td>\n",
              "    </tr>\n",
              "    <tr>\n",
              "      <th>4</th>\n",
              "      <td>0.099976</td>\n",
              "      <td>23.643900</td>\n",
              "      <td>14.328954</td>\n",
              "      <td>117.074149</td>\n",
              "      <td>1.351080</td>\n",
              "      <td>0.3945</td>\n",
              "      <td>20.000000</td>\n",
              "      <td>69.0</td>\n",
              "      <td>104.0</td>\n",
              "      <td>1708.0</td>\n",
              "      <td>11.91</td>\n",
              "      <td>21.0</td>\n",
              "      <td>-0.0664</td>\n",
              "      <td>19.301638</td>\n",
              "      <td>SmoothCondition</td>\n",
              "      <td>EvenPaceStyle</td>\n",
              "    </tr>\n",
              "  </tbody>\n",
              "</table>\n",
              "</div>"
            ],
            "text/plain": [
              "   AltitudeVariation  VehicleSpeedInstantaneous  ...      roadSurface   drivingStyle\n",
              "0          -2.299988                  25.670519  ...  SmoothCondition  EvenPaceStyle\n",
              "1          -2.099976                  24.094259  ...  SmoothCondition  EvenPaceStyle\n",
              "2          -1.500000                  22.743179  ...  SmoothCondition  EvenPaceStyle\n",
              "3           0.100037                  22.292820  ...  SmoothCondition  EvenPaceStyle\n",
              "4           0.099976                  23.643900  ...  SmoothCondition  EvenPaceStyle\n",
              "\n",
              "[5 rows x 16 columns]"
            ]
          },
          "metadata": {
            "tags": []
          },
          "execution_count": 2
        }
      ]
    },
    {
      "cell_type": "code",
      "metadata": {
        "id": "tWKzAhL2VQAT",
        "colab_type": "code",
        "outputId": "bdff8b8d-4eb3-4de6-9ae0-ea11425c194a",
        "colab": {
          "base_uri": "https://localhost:8080/",
          "height": 54
        }
      },
      "source": [
        "#feature names and class names are listed in the first row of the dataset\n",
        "column_names = list(alldata.head(0))\n",
        "print(column_names)\n",
        "\n",
        "#Replace text classes as numeric values\n",
        "alldata['drivingStyle'] = alldata.drivingStyle.replace({'EvenPaceStyle': 0, 'AggressiveStyle': 1}) #We would like to be able to identify Aggressive Driving, so assign AggressiveStyle as the positve class\n",
        "alldata['roadSurface']= alldata.roadSurface.replace({'SmoothCondition': 0, 'UnevenCondition': 1}) #We would like to be able to identify Uneven road surface, so assign UnevenCondition as the positive class"
      ],
      "execution_count": 3,
      "outputs": [
        {
          "output_type": "stream",
          "text": [
            "['AltitudeVariation', 'VehicleSpeedInstantaneous', 'VehicleSpeedAverage', 'VehicleSpeedVariance', 'VehicleSpeedVariation', 'LongitudinalAcceleration', 'EngineLoad', 'EngineCoolantTemperature', 'ManifoldAbsolutePressure', 'EngineRPM', 'MassAirFlow', 'IntakeAirTemperature', 'VerticalAcceleration', 'FuelConsumptionAverage', 'roadSurface', 'drivingStyle']\n"
          ],
          "name": "stdout"
        }
      ]
    },
    {
      "cell_type": "code",
      "metadata": {
        "id": "aduK-JlnWIEP",
        "colab_type": "code",
        "outputId": "d394b325-2dff-4163-f5ba-792b5a3ef9b3",
        "colab": {
          "base_uri": "https://localhost:8080/",
          "height": 317
        }
      },
      "source": [
        "alldata.describe()"
      ],
      "execution_count": 4,
      "outputs": [
        {
          "output_type": "execute_result",
          "data": {
            "text/html": [
              "<div>\n",
              "<style scoped>\n",
              "    .dataframe tbody tr th:only-of-type {\n",
              "        vertical-align: middle;\n",
              "    }\n",
              "\n",
              "    .dataframe tbody tr th {\n",
              "        vertical-align: top;\n",
              "    }\n",
              "\n",
              "    .dataframe thead th {\n",
              "        text-align: right;\n",
              "    }\n",
              "</style>\n",
              "<table border=\"1\" class=\"dataframe\">\n",
              "  <thead>\n",
              "    <tr style=\"text-align: right;\">\n",
              "      <th></th>\n",
              "      <th>AltitudeVariation</th>\n",
              "      <th>VehicleSpeedInstantaneous</th>\n",
              "      <th>VehicleSpeedAverage</th>\n",
              "      <th>VehicleSpeedVariance</th>\n",
              "      <th>VehicleSpeedVariation</th>\n",
              "      <th>LongitudinalAcceleration</th>\n",
              "      <th>EngineLoad</th>\n",
              "      <th>EngineCoolantTemperature</th>\n",
              "      <th>ManifoldAbsolutePressure</th>\n",
              "      <th>EngineRPM</th>\n",
              "      <th>MassAirFlow</th>\n",
              "      <th>IntakeAirTemperature</th>\n",
              "      <th>VerticalAcceleration</th>\n",
              "      <th>FuelConsumptionAverage</th>\n",
              "      <th>roadSurface</th>\n",
              "      <th>drivingStyle</th>\n",
              "    </tr>\n",
              "  </thead>\n",
              "  <tbody>\n",
              "    <tr>\n",
              "      <th>count</th>\n",
              "      <td>20526.000000</td>\n",
              "      <td>20519.000000</td>\n",
              "      <td>20526.000000</td>\n",
              "      <td>20526.000000</td>\n",
              "      <td>20526.000000</td>\n",
              "      <td>20526.000000</td>\n",
              "      <td>20521.000000</td>\n",
              "      <td>20521.000000</td>\n",
              "      <td>20521.000000</td>\n",
              "      <td>20521.000000</td>\n",
              "      <td>20521.000000</td>\n",
              "      <td>20521.000000</td>\n",
              "      <td>20526.000000</td>\n",
              "      <td>20521.000000</td>\n",
              "      <td>20526.000000</td>\n",
              "      <td>20526.000000</td>\n",
              "    </tr>\n",
              "    <tr>\n",
              "      <th>mean</th>\n",
              "      <td>-0.277288</td>\n",
              "      <td>40.312892</td>\n",
              "      <td>40.536049</td>\n",
              "      <td>174.856937</td>\n",
              "      <td>-0.029213</td>\n",
              "      <td>0.717826</td>\n",
              "      <td>36.173103</td>\n",
              "      <td>74.184007</td>\n",
              "      <td>116.547001</td>\n",
              "      <td>1526.855075</td>\n",
              "      <td>16.446303</td>\n",
              "      <td>24.260124</td>\n",
              "      <td>0.594821</td>\n",
              "      <td>15.064395</td>\n",
              "      <td>0.306392</td>\n",
              "      <td>0.126328</td>\n",
              "    </tr>\n",
              "    <tr>\n",
              "      <th>std</th>\n",
              "      <td>2.160817</td>\n",
              "      <td>35.318866</td>\n",
              "      <td>32.684890</td>\n",
              "      <td>189.798118</td>\n",
              "      <td>2.504639</td>\n",
              "      <td>1.659091</td>\n",
              "      <td>26.366717</td>\n",
              "      <td>12.570001</td>\n",
              "      <td>21.539724</td>\n",
              "      <td>592.678939</td>\n",
              "      <td>10.035839</td>\n",
              "      <td>11.376940</td>\n",
              "      <td>3.700660</td>\n",
              "      <td>4.756568</td>\n",
              "      <td>0.461006</td>\n",
              "      <td>0.332226</td>\n",
              "    </tr>\n",
              "    <tr>\n",
              "      <th>min</th>\n",
              "      <td>-24.600006</td>\n",
              "      <td>0.000000</td>\n",
              "      <td>0.000000</td>\n",
              "      <td>0.000000</td>\n",
              "      <td>-103.500000</td>\n",
              "      <td>-3.065000</td>\n",
              "      <td>0.000000</td>\n",
              "      <td>12.000000</td>\n",
              "      <td>88.000000</td>\n",
              "      <td>0.000000</td>\n",
              "      <td>0.880000</td>\n",
              "      <td>7.000000</td>\n",
              "      <td>-2.763100</td>\n",
              "      <td>7.271883</td>\n",
              "      <td>0.000000</td>\n",
              "      <td>0.000000</td>\n",
              "    </tr>\n",
              "    <tr>\n",
              "      <th>25%</th>\n",
              "      <td>-1.499999</td>\n",
              "      <td>11.709359</td>\n",
              "      <td>16.020389</td>\n",
              "      <td>43.675301</td>\n",
              "      <td>-0.900000</td>\n",
              "      <td>-0.215000</td>\n",
              "      <td>18.431374</td>\n",
              "      <td>73.000000</td>\n",
              "      <td>103.000000</td>\n",
              "      <td>883.000000</td>\n",
              "      <td>7.440000</td>\n",
              "      <td>16.000000</td>\n",
              "      <td>-0.508825</td>\n",
              "      <td>11.309890</td>\n",
              "      <td>0.000000</td>\n",
              "      <td>0.000000</td>\n",
              "    </tr>\n",
              "    <tr>\n",
              "      <th>50%</th>\n",
              "      <td>-0.099998</td>\n",
              "      <td>31.500000</td>\n",
              "      <td>29.266714</td>\n",
              "      <td>112.822027</td>\n",
              "      <td>0.000000</td>\n",
              "      <td>0.394500</td>\n",
              "      <td>30.196079</td>\n",
              "      <td>79.000000</td>\n",
              "      <td>107.000000</td>\n",
              "      <td>1534.000000</td>\n",
              "      <td>15.410000</td>\n",
              "      <td>20.000000</td>\n",
              "      <td>-0.057400</td>\n",
              "      <td>14.372615</td>\n",
              "      <td>0.000000</td>\n",
              "      <td>0.000000</td>\n",
              "    </tr>\n",
              "    <tr>\n",
              "      <th>75%</th>\n",
              "      <td>0.700012</td>\n",
              "      <td>58.771980</td>\n",
              "      <td>55.694878</td>\n",
              "      <td>234.770714</td>\n",
              "      <td>0.900002</td>\n",
              "      <td>1.167575</td>\n",
              "      <td>56.862747</td>\n",
              "      <td>81.000000</td>\n",
              "      <td>123.000000</td>\n",
              "      <td>2040.000000</td>\n",
              "      <td>22.670000</td>\n",
              "      <td>33.000000</td>\n",
              "      <td>0.257800</td>\n",
              "      <td>18.311926</td>\n",
              "      <td>1.000000</td>\n",
              "      <td>0.000000</td>\n",
              "    </tr>\n",
              "    <tr>\n",
              "      <th>max</th>\n",
              "      <td>11.400002</td>\n",
              "      <td>124.749725</td>\n",
              "      <td>121.330733</td>\n",
              "      <td>1418.370369</td>\n",
              "      <td>97.199997</td>\n",
              "      <td>8.477800</td>\n",
              "      <td>100.000000</td>\n",
              "      <td>89.000000</td>\n",
              "      <td>252.000000</td>\n",
              "      <td>3167.000000</td>\n",
              "      <td>73.250000</td>\n",
              "      <td>65.000000</td>\n",
              "      <td>17.944800</td>\n",
              "      <td>45.336861</td>\n",
              "      <td>1.000000</td>\n",
              "      <td>1.000000</td>\n",
              "    </tr>\n",
              "  </tbody>\n",
              "</table>\n",
              "</div>"
            ],
            "text/plain": [
              "       AltitudeVariation  VehicleSpeedInstantaneous  ...   roadSurface  drivingStyle\n",
              "count       20526.000000               20519.000000  ...  20526.000000  20526.000000\n",
              "mean           -0.277288                  40.312892  ...      0.306392      0.126328\n",
              "std             2.160817                  35.318866  ...      0.461006      0.332226\n",
              "min           -24.600006                   0.000000  ...      0.000000      0.000000\n",
              "25%            -1.499999                  11.709359  ...      0.000000      0.000000\n",
              "50%            -0.099998                  31.500000  ...      0.000000      0.000000\n",
              "75%             0.700012                  58.771980  ...      1.000000      0.000000\n",
              "max            11.400002                 124.749725  ...      1.000000      1.000000\n",
              "\n",
              "[8 rows x 16 columns]"
            ]
          },
          "metadata": {
            "tags": []
          },
          "execution_count": 4
        }
      ]
    },
    {
      "cell_type": "code",
      "metadata": {
        "id": "dw6QzaUBWSRt",
        "colab_type": "code",
        "colab": {}
      },
      "source": [
        "#First 14 columns are the features\n",
        "allFeatureNames = ['AltitudeVariation','VehicleSpeedInstantaneous','VehicleSpeedAverage','VehicleSpeedVariance','VehicleSpeedVariation','LongitudinalAcceleration','EngineLoad','EngineCoolantTemperature','ManifoldAbsolutePressure','EngineRPM','MassAirFlow','IntakeAirTemperature','VerticalAcceleration','FuelConsumptionAverage']"
      ],
      "execution_count": 0,
      "outputs": []
    },
    {
      "cell_type": "code",
      "metadata": {
        "id": "XemDuJohX6b6",
        "colab_type": "code",
        "outputId": "d40196f2-9936-4e16-e718-c17739e82270",
        "colab": {
          "base_uri": "https://localhost:8080/",
          "height": 34
        }
      },
      "source": [
        "print(alldata.shape)"
      ],
      "execution_count": 6,
      "outputs": [
        {
          "output_type": "stream",
          "text": [
            "(20526, 16)\n"
          ],
          "name": "stdout"
        }
      ]
    },
    {
      "cell_type": "code",
      "metadata": {
        "id": "PjMtu2DIX-p2",
        "colab_type": "code",
        "outputId": "f8c92412-5975-4a22-b241-0ce75e94de84",
        "colab": {
          "base_uri": "https://localhost:8080/",
          "height": 34
        }
      },
      "source": [
        "#some non-numeric data remains, remove these\n",
        "alldata = alldata.apply (pd.to_numeric, errors='coerce')\n",
        "alldata = alldata.dropna()\n",
        "alldata = alldata.reset_index(drop=True)\n",
        "\n",
        "print(alldata.shape)\n",
        "\n"
      ],
      "execution_count": 7,
      "outputs": [
        {
          "output_type": "stream",
          "text": [
            "(20515, 16)\n"
          ],
          "name": "stdout"
        }
      ]
    },
    {
      "cell_type": "code",
      "metadata": {
        "id": "EVfv2ctdYlvE",
        "colab_type": "code",
        "outputId": "00792528-d631-4cb2-aa2b-e4dfe2171793",
        "colab": {
          "base_uri": "https://localhost:8080/",
          "height": 317
        }
      },
      "source": [
        "alldata.describe()"
      ],
      "execution_count": 8,
      "outputs": [
        {
          "output_type": "execute_result",
          "data": {
            "text/html": [
              "<div>\n",
              "<style scoped>\n",
              "    .dataframe tbody tr th:only-of-type {\n",
              "        vertical-align: middle;\n",
              "    }\n",
              "\n",
              "    .dataframe tbody tr th {\n",
              "        vertical-align: top;\n",
              "    }\n",
              "\n",
              "    .dataframe thead th {\n",
              "        text-align: right;\n",
              "    }\n",
              "</style>\n",
              "<table border=\"1\" class=\"dataframe\">\n",
              "  <thead>\n",
              "    <tr style=\"text-align: right;\">\n",
              "      <th></th>\n",
              "      <th>AltitudeVariation</th>\n",
              "      <th>VehicleSpeedInstantaneous</th>\n",
              "      <th>VehicleSpeedAverage</th>\n",
              "      <th>VehicleSpeedVariance</th>\n",
              "      <th>VehicleSpeedVariation</th>\n",
              "      <th>LongitudinalAcceleration</th>\n",
              "      <th>EngineLoad</th>\n",
              "      <th>EngineCoolantTemperature</th>\n",
              "      <th>ManifoldAbsolutePressure</th>\n",
              "      <th>EngineRPM</th>\n",
              "      <th>MassAirFlow</th>\n",
              "      <th>IntakeAirTemperature</th>\n",
              "      <th>VerticalAcceleration</th>\n",
              "      <th>FuelConsumptionAverage</th>\n",
              "      <th>roadSurface</th>\n",
              "      <th>drivingStyle</th>\n",
              "    </tr>\n",
              "  </thead>\n",
              "  <tbody>\n",
              "    <tr>\n",
              "      <th>count</th>\n",
              "      <td>20515.000000</td>\n",
              "      <td>20515.000000</td>\n",
              "      <td>20515.000000</td>\n",
              "      <td>20515.000000</td>\n",
              "      <td>20515.000000</td>\n",
              "      <td>20515.000000</td>\n",
              "      <td>20515.000000</td>\n",
              "      <td>20515.000000</td>\n",
              "      <td>20515.000000</td>\n",
              "      <td>20515.000000</td>\n",
              "      <td>20515.000000</td>\n",
              "      <td>20515.000000</td>\n",
              "      <td>20515.000000</td>\n",
              "      <td>20515.000000</td>\n",
              "      <td>20515.000000</td>\n",
              "      <td>20515.000000</td>\n",
              "    </tr>\n",
              "    <tr>\n",
              "      <th>mean</th>\n",
              "      <td>-0.277704</td>\n",
              "      <td>40.320752</td>\n",
              "      <td>40.537869</td>\n",
              "      <td>174.906987</td>\n",
              "      <td>-0.022406</td>\n",
              "      <td>0.717759</td>\n",
              "      <td>36.177393</td>\n",
              "      <td>74.187375</td>\n",
              "      <td>116.549062</td>\n",
              "      <td>1526.876700</td>\n",
              "      <td>16.445948</td>\n",
              "      <td>24.259664</td>\n",
              "      <td>0.595556</td>\n",
              "      <td>15.064420</td>\n",
              "      <td>0.306117</td>\n",
              "      <td>0.126395</td>\n",
              "    </tr>\n",
              "    <tr>\n",
              "      <th>std</th>\n",
              "      <td>2.161235</td>\n",
              "      <td>35.317822</td>\n",
              "      <td>32.683853</td>\n",
              "      <td>189.834142</td>\n",
              "      <td>2.388776</td>\n",
              "      <td>1.659486</td>\n",
              "      <td>26.367823</td>\n",
              "      <td>12.568416</td>\n",
              "      <td>21.541996</td>\n",
              "      <td>592.656671</td>\n",
              "      <td>10.035577</td>\n",
              "      <td>11.376732</td>\n",
              "      <td>3.701494</td>\n",
              "      <td>4.756993</td>\n",
              "      <td>0.460890</td>\n",
              "      <td>0.332302</td>\n",
              "    </tr>\n",
              "    <tr>\n",
              "      <th>min</th>\n",
              "      <td>-24.600006</td>\n",
              "      <td>0.000000</td>\n",
              "      <td>0.000000</td>\n",
              "      <td>0.000000</td>\n",
              "      <td>-18.000002</td>\n",
              "      <td>-3.065000</td>\n",
              "      <td>0.000000</td>\n",
              "      <td>12.000000</td>\n",
              "      <td>88.000000</td>\n",
              "      <td>0.000000</td>\n",
              "      <td>0.880000</td>\n",
              "      <td>7.000000</td>\n",
              "      <td>-2.763100</td>\n",
              "      <td>7.271883</td>\n",
              "      <td>0.000000</td>\n",
              "      <td>0.000000</td>\n",
              "    </tr>\n",
              "    <tr>\n",
              "      <th>25%</th>\n",
              "      <td>-1.500000</td>\n",
              "      <td>11.709359</td>\n",
              "      <td>16.023433</td>\n",
              "      <td>43.674785</td>\n",
              "      <td>-0.900000</td>\n",
              "      <td>-0.215000</td>\n",
              "      <td>18.431374</td>\n",
              "      <td>73.000000</td>\n",
              "      <td>103.000000</td>\n",
              "      <td>883.000000</td>\n",
              "      <td>7.440000</td>\n",
              "      <td>16.000000</td>\n",
              "      <td>-0.508350</td>\n",
              "      <td>11.311189</td>\n",
              "      <td>0.000000</td>\n",
              "      <td>0.000000</td>\n",
              "    </tr>\n",
              "    <tr>\n",
              "      <th>50%</th>\n",
              "      <td>-0.099998</td>\n",
              "      <td>31.500000</td>\n",
              "      <td>29.269646</td>\n",
              "      <td>112.915320</td>\n",
              "      <td>0.000000</td>\n",
              "      <td>0.394500</td>\n",
              "      <td>30.196079</td>\n",
              "      <td>79.000000</td>\n",
              "      <td>107.000000</td>\n",
              "      <td>1534.000000</td>\n",
              "      <td>15.410000</td>\n",
              "      <td>20.000000</td>\n",
              "      <td>-0.056700</td>\n",
              "      <td>14.372605</td>\n",
              "      <td>0.000000</td>\n",
              "      <td>0.000000</td>\n",
              "    </tr>\n",
              "    <tr>\n",
              "      <th>75%</th>\n",
              "      <td>0.700012</td>\n",
              "      <td>58.884569</td>\n",
              "      <td>55.696635</td>\n",
              "      <td>234.770714</td>\n",
              "      <td>0.900002</td>\n",
              "      <td>1.167750</td>\n",
              "      <td>56.862747</td>\n",
              "      <td>81.000000</td>\n",
              "      <td>123.000000</td>\n",
              "      <td>2040.000000</td>\n",
              "      <td>22.665000</td>\n",
              "      <td>33.000000</td>\n",
              "      <td>0.257800</td>\n",
              "      <td>18.312412</td>\n",
              "      <td>1.000000</td>\n",
              "      <td>0.000000</td>\n",
              "    </tr>\n",
              "    <tr>\n",
              "      <th>max</th>\n",
              "      <td>11.400002</td>\n",
              "      <td>124.749725</td>\n",
              "      <td>121.330733</td>\n",
              "      <td>1418.370369</td>\n",
              "      <td>97.199997</td>\n",
              "      <td>8.477800</td>\n",
              "      <td>100.000000</td>\n",
              "      <td>89.000000</td>\n",
              "      <td>252.000000</td>\n",
              "      <td>3167.000000</td>\n",
              "      <td>73.250000</td>\n",
              "      <td>65.000000</td>\n",
              "      <td>17.944800</td>\n",
              "      <td>45.336861</td>\n",
              "      <td>1.000000</td>\n",
              "      <td>1.000000</td>\n",
              "    </tr>\n",
              "  </tbody>\n",
              "</table>\n",
              "</div>"
            ],
            "text/plain": [
              "       AltitudeVariation  VehicleSpeedInstantaneous  ...   roadSurface  drivingStyle\n",
              "count       20515.000000               20515.000000  ...  20515.000000  20515.000000\n",
              "mean           -0.277704                  40.320752  ...      0.306117      0.126395\n",
              "std             2.161235                  35.317822  ...      0.460890      0.332302\n",
              "min           -24.600006                   0.000000  ...      0.000000      0.000000\n",
              "25%            -1.500000                  11.709359  ...      0.000000      0.000000\n",
              "50%            -0.099998                  31.500000  ...      0.000000      0.000000\n",
              "75%             0.700012                  58.884569  ...      1.000000      0.000000\n",
              "max            11.400002                 124.749725  ...      1.000000      1.000000\n",
              "\n",
              "[8 rows x 16 columns]"
            ]
          },
          "metadata": {
            "tags": []
          },
          "execution_count": 8
        }
      ]
    },
    {
      "cell_type": "code",
      "metadata": {
        "id": "dqADF1vFZQBA",
        "colab_type": "code",
        "outputId": "1487a684-c98d-461f-ef84-0918dccb31f2",
        "colab": {
          "base_uri": "https://localhost:8080/",
          "height": 224
        }
      },
      "source": [
        "AllFeatures = alldata[allFeatureNames]\n",
        "AllFeatures.head()\n",
        "\n",
        "######### Data is now cleaned (but still unbalanced). ########"
      ],
      "execution_count": 9,
      "outputs": [
        {
          "output_type": "execute_result",
          "data": {
            "text/html": [
              "<div>\n",
              "<style scoped>\n",
              "    .dataframe tbody tr th:only-of-type {\n",
              "        vertical-align: middle;\n",
              "    }\n",
              "\n",
              "    .dataframe tbody tr th {\n",
              "        vertical-align: top;\n",
              "    }\n",
              "\n",
              "    .dataframe thead th {\n",
              "        text-align: right;\n",
              "    }\n",
              "</style>\n",
              "<table border=\"1\" class=\"dataframe\">\n",
              "  <thead>\n",
              "    <tr style=\"text-align: right;\">\n",
              "      <th></th>\n",
              "      <th>AltitudeVariation</th>\n",
              "      <th>VehicleSpeedInstantaneous</th>\n",
              "      <th>VehicleSpeedAverage</th>\n",
              "      <th>VehicleSpeedVariance</th>\n",
              "      <th>VehicleSpeedVariation</th>\n",
              "      <th>LongitudinalAcceleration</th>\n",
              "      <th>EngineLoad</th>\n",
              "      <th>EngineCoolantTemperature</th>\n",
              "      <th>ManifoldAbsolutePressure</th>\n",
              "      <th>EngineRPM</th>\n",
              "      <th>MassAirFlow</th>\n",
              "      <th>IntakeAirTemperature</th>\n",
              "      <th>VerticalAcceleration</th>\n",
              "      <th>FuelConsumptionAverage</th>\n",
              "    </tr>\n",
              "  </thead>\n",
              "  <tbody>\n",
              "    <tr>\n",
              "      <th>0</th>\n",
              "      <td>-2.299988</td>\n",
              "      <td>25.670519</td>\n",
              "      <td>13.223501</td>\n",
              "      <td>121.592690</td>\n",
              "      <td>-2.476980</td>\n",
              "      <td>0.3555</td>\n",
              "      <td>4.705883</td>\n",
              "      <td>68.0</td>\n",
              "      <td>106.0</td>\n",
              "      <td>1796.0</td>\n",
              "      <td>15.81</td>\n",
              "      <td>24.0</td>\n",
              "      <td>-0.1133</td>\n",
              "      <td>19.497335</td>\n",
              "    </tr>\n",
              "    <tr>\n",
              "      <th>1</th>\n",
              "      <td>-2.099976</td>\n",
              "      <td>24.094259</td>\n",
              "      <td>13.638919</td>\n",
              "      <td>120.422571</td>\n",
              "      <td>-1.576260</td>\n",
              "      <td>0.4492</td>\n",
              "      <td>10.588236</td>\n",
              "      <td>68.0</td>\n",
              "      <td>103.0</td>\n",
              "      <td>1689.0</td>\n",
              "      <td>14.65</td>\n",
              "      <td>22.0</td>\n",
              "      <td>-0.1289</td>\n",
              "      <td>19.515722</td>\n",
              "    </tr>\n",
              "    <tr>\n",
              "      <th>2</th>\n",
              "      <td>-1.500000</td>\n",
              "      <td>22.743179</td>\n",
              "      <td>14.031043</td>\n",
              "      <td>118.456769</td>\n",
              "      <td>-1.351080</td>\n",
              "      <td>0.4258</td>\n",
              "      <td>27.450981</td>\n",
              "      <td>68.0</td>\n",
              "      <td>103.0</td>\n",
              "      <td>1599.0</td>\n",
              "      <td>11.85</td>\n",
              "      <td>21.0</td>\n",
              "      <td>-0.1328</td>\n",
              "      <td>19.441765</td>\n",
              "    </tr>\n",
              "    <tr>\n",
              "      <th>3</th>\n",
              "      <td>0.100037</td>\n",
              "      <td>22.292820</td>\n",
              "      <td>14.171073</td>\n",
              "      <td>117.571308</td>\n",
              "      <td>-0.450359</td>\n",
              "      <td>0.4140</td>\n",
              "      <td>24.313726</td>\n",
              "      <td>69.0</td>\n",
              "      <td>104.0</td>\n",
              "      <td>1620.0</td>\n",
              "      <td>12.21</td>\n",
              "      <td>20.0</td>\n",
              "      <td>-0.0859</td>\n",
              "      <td>19.388769</td>\n",
              "    </tr>\n",
              "    <tr>\n",
              "      <th>4</th>\n",
              "      <td>0.099976</td>\n",
              "      <td>23.643900</td>\n",
              "      <td>14.328954</td>\n",
              "      <td>117.074149</td>\n",
              "      <td>1.351080</td>\n",
              "      <td>0.3945</td>\n",
              "      <td>20.000000</td>\n",
              "      <td>69.0</td>\n",
              "      <td>104.0</td>\n",
              "      <td>1708.0</td>\n",
              "      <td>11.91</td>\n",
              "      <td>21.0</td>\n",
              "      <td>-0.0664</td>\n",
              "      <td>19.301638</td>\n",
              "    </tr>\n",
              "  </tbody>\n",
              "</table>\n",
              "</div>"
            ],
            "text/plain": [
              "   AltitudeVariation  ...  FuelConsumptionAverage\n",
              "0          -2.299988  ...               19.497335\n",
              "1          -2.099976  ...               19.515722\n",
              "2          -1.500000  ...               19.441765\n",
              "3           0.100037  ...               19.388769\n",
              "4           0.099976  ...               19.301638\n",
              "\n",
              "[5 rows x 14 columns]"
            ]
          },
          "metadata": {
            "tags": []
          },
          "execution_count": 9
        }
      ]
    },
    {
      "cell_type": "code",
      "metadata": {
        "id": "81W_R8fFpaxV",
        "colab_type": "code",
        "outputId": "a20060e1-eb8b-451a-94e2-2d9b56a03845",
        "colab": {
          "base_uri": "https://localhost:8080/",
          "height": 317
        }
      },
      "source": [
        "AllFeatures.describe()"
      ],
      "execution_count": 10,
      "outputs": [
        {
          "output_type": "execute_result",
          "data": {
            "text/html": [
              "<div>\n",
              "<style scoped>\n",
              "    .dataframe tbody tr th:only-of-type {\n",
              "        vertical-align: middle;\n",
              "    }\n",
              "\n",
              "    .dataframe tbody tr th {\n",
              "        vertical-align: top;\n",
              "    }\n",
              "\n",
              "    .dataframe thead th {\n",
              "        text-align: right;\n",
              "    }\n",
              "</style>\n",
              "<table border=\"1\" class=\"dataframe\">\n",
              "  <thead>\n",
              "    <tr style=\"text-align: right;\">\n",
              "      <th></th>\n",
              "      <th>AltitudeVariation</th>\n",
              "      <th>VehicleSpeedInstantaneous</th>\n",
              "      <th>VehicleSpeedAverage</th>\n",
              "      <th>VehicleSpeedVariance</th>\n",
              "      <th>VehicleSpeedVariation</th>\n",
              "      <th>LongitudinalAcceleration</th>\n",
              "      <th>EngineLoad</th>\n",
              "      <th>EngineCoolantTemperature</th>\n",
              "      <th>ManifoldAbsolutePressure</th>\n",
              "      <th>EngineRPM</th>\n",
              "      <th>MassAirFlow</th>\n",
              "      <th>IntakeAirTemperature</th>\n",
              "      <th>VerticalAcceleration</th>\n",
              "      <th>FuelConsumptionAverage</th>\n",
              "    </tr>\n",
              "  </thead>\n",
              "  <tbody>\n",
              "    <tr>\n",
              "      <th>count</th>\n",
              "      <td>20515.000000</td>\n",
              "      <td>20515.000000</td>\n",
              "      <td>20515.000000</td>\n",
              "      <td>20515.000000</td>\n",
              "      <td>20515.000000</td>\n",
              "      <td>20515.000000</td>\n",
              "      <td>20515.000000</td>\n",
              "      <td>20515.000000</td>\n",
              "      <td>20515.000000</td>\n",
              "      <td>20515.000000</td>\n",
              "      <td>20515.000000</td>\n",
              "      <td>20515.000000</td>\n",
              "      <td>20515.000000</td>\n",
              "      <td>20515.000000</td>\n",
              "    </tr>\n",
              "    <tr>\n",
              "      <th>mean</th>\n",
              "      <td>-0.277704</td>\n",
              "      <td>40.320752</td>\n",
              "      <td>40.537869</td>\n",
              "      <td>174.906987</td>\n",
              "      <td>-0.022406</td>\n",
              "      <td>0.717759</td>\n",
              "      <td>36.177393</td>\n",
              "      <td>74.187375</td>\n",
              "      <td>116.549062</td>\n",
              "      <td>1526.876700</td>\n",
              "      <td>16.445948</td>\n",
              "      <td>24.259664</td>\n",
              "      <td>0.595556</td>\n",
              "      <td>15.064420</td>\n",
              "    </tr>\n",
              "    <tr>\n",
              "      <th>std</th>\n",
              "      <td>2.161235</td>\n",
              "      <td>35.317822</td>\n",
              "      <td>32.683853</td>\n",
              "      <td>189.834142</td>\n",
              "      <td>2.388776</td>\n",
              "      <td>1.659486</td>\n",
              "      <td>26.367823</td>\n",
              "      <td>12.568416</td>\n",
              "      <td>21.541996</td>\n",
              "      <td>592.656671</td>\n",
              "      <td>10.035577</td>\n",
              "      <td>11.376732</td>\n",
              "      <td>3.701494</td>\n",
              "      <td>4.756993</td>\n",
              "    </tr>\n",
              "    <tr>\n",
              "      <th>min</th>\n",
              "      <td>-24.600006</td>\n",
              "      <td>0.000000</td>\n",
              "      <td>0.000000</td>\n",
              "      <td>0.000000</td>\n",
              "      <td>-18.000002</td>\n",
              "      <td>-3.065000</td>\n",
              "      <td>0.000000</td>\n",
              "      <td>12.000000</td>\n",
              "      <td>88.000000</td>\n",
              "      <td>0.000000</td>\n",
              "      <td>0.880000</td>\n",
              "      <td>7.000000</td>\n",
              "      <td>-2.763100</td>\n",
              "      <td>7.271883</td>\n",
              "    </tr>\n",
              "    <tr>\n",
              "      <th>25%</th>\n",
              "      <td>-1.500000</td>\n",
              "      <td>11.709359</td>\n",
              "      <td>16.023433</td>\n",
              "      <td>43.674785</td>\n",
              "      <td>-0.900000</td>\n",
              "      <td>-0.215000</td>\n",
              "      <td>18.431374</td>\n",
              "      <td>73.000000</td>\n",
              "      <td>103.000000</td>\n",
              "      <td>883.000000</td>\n",
              "      <td>7.440000</td>\n",
              "      <td>16.000000</td>\n",
              "      <td>-0.508350</td>\n",
              "      <td>11.311189</td>\n",
              "    </tr>\n",
              "    <tr>\n",
              "      <th>50%</th>\n",
              "      <td>-0.099998</td>\n",
              "      <td>31.500000</td>\n",
              "      <td>29.269646</td>\n",
              "      <td>112.915320</td>\n",
              "      <td>0.000000</td>\n",
              "      <td>0.394500</td>\n",
              "      <td>30.196079</td>\n",
              "      <td>79.000000</td>\n",
              "      <td>107.000000</td>\n",
              "      <td>1534.000000</td>\n",
              "      <td>15.410000</td>\n",
              "      <td>20.000000</td>\n",
              "      <td>-0.056700</td>\n",
              "      <td>14.372605</td>\n",
              "    </tr>\n",
              "    <tr>\n",
              "      <th>75%</th>\n",
              "      <td>0.700012</td>\n",
              "      <td>58.884569</td>\n",
              "      <td>55.696635</td>\n",
              "      <td>234.770714</td>\n",
              "      <td>0.900002</td>\n",
              "      <td>1.167750</td>\n",
              "      <td>56.862747</td>\n",
              "      <td>81.000000</td>\n",
              "      <td>123.000000</td>\n",
              "      <td>2040.000000</td>\n",
              "      <td>22.665000</td>\n",
              "      <td>33.000000</td>\n",
              "      <td>0.257800</td>\n",
              "      <td>18.312412</td>\n",
              "    </tr>\n",
              "    <tr>\n",
              "      <th>max</th>\n",
              "      <td>11.400002</td>\n",
              "      <td>124.749725</td>\n",
              "      <td>121.330733</td>\n",
              "      <td>1418.370369</td>\n",
              "      <td>97.199997</td>\n",
              "      <td>8.477800</td>\n",
              "      <td>100.000000</td>\n",
              "      <td>89.000000</td>\n",
              "      <td>252.000000</td>\n",
              "      <td>3167.000000</td>\n",
              "      <td>73.250000</td>\n",
              "      <td>65.000000</td>\n",
              "      <td>17.944800</td>\n",
              "      <td>45.336861</td>\n",
              "    </tr>\n",
              "  </tbody>\n",
              "</table>\n",
              "</div>"
            ],
            "text/plain": [
              "       AltitudeVariation  ...  FuelConsumptionAverage\n",
              "count       20515.000000  ...            20515.000000\n",
              "mean           -0.277704  ...               15.064420\n",
              "std             2.161235  ...                4.756993\n",
              "min           -24.600006  ...                7.271883\n",
              "25%            -1.500000  ...               11.311189\n",
              "50%            -0.099998  ...               14.372605\n",
              "75%             0.700012  ...               18.312412\n",
              "max            11.400002  ...               45.336861\n",
              "\n",
              "[8 rows x 14 columns]"
            ]
          },
          "metadata": {
            "tags": []
          },
          "execution_count": 10
        }
      ]
    },
    {
      "cell_type": "code",
      "metadata": {
        "id": "P0AHQWX2qkSD",
        "colab_type": "code",
        "outputId": "0af33785-bb5e-4e00-a77b-62e9d92d63a3",
        "colab": {
          "base_uri": "https://localhost:8080/",
          "height": 204
        }
      },
      "source": [
        "#Take the 5 features with largest standard deviations and scale them (Is there a better way to identify the most important features?)\n",
        "relevantFeatureNames = ['VehicleSpeedInstantaneous','VehicleSpeedAverage','EngineLoad','EngineRPM','IntakeAirTemperature']\n",
        "relevantFeatures = alldata[relevantFeatureNames]\n",
        "relevantFeatures.head()\n"
      ],
      "execution_count": 11,
      "outputs": [
        {
          "output_type": "execute_result",
          "data": {
            "text/html": [
              "<div>\n",
              "<style scoped>\n",
              "    .dataframe tbody tr th:only-of-type {\n",
              "        vertical-align: middle;\n",
              "    }\n",
              "\n",
              "    .dataframe tbody tr th {\n",
              "        vertical-align: top;\n",
              "    }\n",
              "\n",
              "    .dataframe thead th {\n",
              "        text-align: right;\n",
              "    }\n",
              "</style>\n",
              "<table border=\"1\" class=\"dataframe\">\n",
              "  <thead>\n",
              "    <tr style=\"text-align: right;\">\n",
              "      <th></th>\n",
              "      <th>VehicleSpeedInstantaneous</th>\n",
              "      <th>VehicleSpeedAverage</th>\n",
              "      <th>EngineLoad</th>\n",
              "      <th>EngineRPM</th>\n",
              "      <th>IntakeAirTemperature</th>\n",
              "    </tr>\n",
              "  </thead>\n",
              "  <tbody>\n",
              "    <tr>\n",
              "      <th>0</th>\n",
              "      <td>25.670519</td>\n",
              "      <td>13.223501</td>\n",
              "      <td>4.705883</td>\n",
              "      <td>1796.0</td>\n",
              "      <td>24.0</td>\n",
              "    </tr>\n",
              "    <tr>\n",
              "      <th>1</th>\n",
              "      <td>24.094259</td>\n",
              "      <td>13.638919</td>\n",
              "      <td>10.588236</td>\n",
              "      <td>1689.0</td>\n",
              "      <td>22.0</td>\n",
              "    </tr>\n",
              "    <tr>\n",
              "      <th>2</th>\n",
              "      <td>22.743179</td>\n",
              "      <td>14.031043</td>\n",
              "      <td>27.450981</td>\n",
              "      <td>1599.0</td>\n",
              "      <td>21.0</td>\n",
              "    </tr>\n",
              "    <tr>\n",
              "      <th>3</th>\n",
              "      <td>22.292820</td>\n",
              "      <td>14.171073</td>\n",
              "      <td>24.313726</td>\n",
              "      <td>1620.0</td>\n",
              "      <td>20.0</td>\n",
              "    </tr>\n",
              "    <tr>\n",
              "      <th>4</th>\n",
              "      <td>23.643900</td>\n",
              "      <td>14.328954</td>\n",
              "      <td>20.000000</td>\n",
              "      <td>1708.0</td>\n",
              "      <td>21.0</td>\n",
              "    </tr>\n",
              "  </tbody>\n",
              "</table>\n",
              "</div>"
            ],
            "text/plain": [
              "   VehicleSpeedInstantaneous  ...  IntakeAirTemperature\n",
              "0                  25.670519  ...                  24.0\n",
              "1                  24.094259  ...                  22.0\n",
              "2                  22.743179  ...                  21.0\n",
              "3                  22.292820  ...                  20.0\n",
              "4                  23.643900  ...                  21.0\n",
              "\n",
              "[5 rows x 5 columns]"
            ]
          },
          "metadata": {
            "tags": []
          },
          "execution_count": 11
        }
      ]
    },
    {
      "cell_type": "code",
      "metadata": {
        "id": "v85Tav78sdv_",
        "colab_type": "code",
        "outputId": "cf80a6f9-b0be-4c93-98de-943f8cdb8f41",
        "colab": {
          "base_uri": "https://localhost:8080/",
          "height": 204
        }
      },
      "source": [
        "#Balance the datasets\n",
        "\n",
        "#First need to concatanate the relevant features with the classes\n",
        "RelevantData = alldata[['VehicleSpeedInstantaneous', 'VehicleSpeedAverage', 'EngineLoad', 'EngineRPM', 'IntakeAirTemperature', 'drivingStyle']]\n",
        "RelevantData.head()\n"
      ],
      "execution_count": 12,
      "outputs": [
        {
          "output_type": "execute_result",
          "data": {
            "text/html": [
              "<div>\n",
              "<style scoped>\n",
              "    .dataframe tbody tr th:only-of-type {\n",
              "        vertical-align: middle;\n",
              "    }\n",
              "\n",
              "    .dataframe tbody tr th {\n",
              "        vertical-align: top;\n",
              "    }\n",
              "\n",
              "    .dataframe thead th {\n",
              "        text-align: right;\n",
              "    }\n",
              "</style>\n",
              "<table border=\"1\" class=\"dataframe\">\n",
              "  <thead>\n",
              "    <tr style=\"text-align: right;\">\n",
              "      <th></th>\n",
              "      <th>VehicleSpeedInstantaneous</th>\n",
              "      <th>VehicleSpeedAverage</th>\n",
              "      <th>EngineLoad</th>\n",
              "      <th>EngineRPM</th>\n",
              "      <th>IntakeAirTemperature</th>\n",
              "      <th>drivingStyle</th>\n",
              "    </tr>\n",
              "  </thead>\n",
              "  <tbody>\n",
              "    <tr>\n",
              "      <th>0</th>\n",
              "      <td>25.670519</td>\n",
              "      <td>13.223501</td>\n",
              "      <td>4.705883</td>\n",
              "      <td>1796.0</td>\n",
              "      <td>24.0</td>\n",
              "      <td>0</td>\n",
              "    </tr>\n",
              "    <tr>\n",
              "      <th>1</th>\n",
              "      <td>24.094259</td>\n",
              "      <td>13.638919</td>\n",
              "      <td>10.588236</td>\n",
              "      <td>1689.0</td>\n",
              "      <td>22.0</td>\n",
              "      <td>0</td>\n",
              "    </tr>\n",
              "    <tr>\n",
              "      <th>2</th>\n",
              "      <td>22.743179</td>\n",
              "      <td>14.031043</td>\n",
              "      <td>27.450981</td>\n",
              "      <td>1599.0</td>\n",
              "      <td>21.0</td>\n",
              "      <td>0</td>\n",
              "    </tr>\n",
              "    <tr>\n",
              "      <th>3</th>\n",
              "      <td>22.292820</td>\n",
              "      <td>14.171073</td>\n",
              "      <td>24.313726</td>\n",
              "      <td>1620.0</td>\n",
              "      <td>20.0</td>\n",
              "      <td>0</td>\n",
              "    </tr>\n",
              "    <tr>\n",
              "      <th>4</th>\n",
              "      <td>23.643900</td>\n",
              "      <td>14.328954</td>\n",
              "      <td>20.000000</td>\n",
              "      <td>1708.0</td>\n",
              "      <td>21.0</td>\n",
              "      <td>0</td>\n",
              "    </tr>\n",
              "  </tbody>\n",
              "</table>\n",
              "</div>"
            ],
            "text/plain": [
              "   VehicleSpeedInstantaneous  ...  drivingStyle\n",
              "0                  25.670519  ...             0\n",
              "1                  24.094259  ...             0\n",
              "2                  22.743179  ...             0\n",
              "3                  22.292820  ...             0\n",
              "4                  23.643900  ...             0\n",
              "\n",
              "[5 rows x 6 columns]"
            ]
          },
          "metadata": {
            "tags": []
          },
          "execution_count": 12
        }
      ]
    },
    {
      "cell_type": "code",
      "metadata": {
        "id": "voEc7PXzwp--",
        "colab_type": "code",
        "outputId": "a421e1d9-1111-453b-d603-3491e0200e8d",
        "colab": {
          "base_uri": "https://localhost:8080/",
          "height": 297
        }
      },
      "source": [
        "RelevantData.describe()"
      ],
      "execution_count": 13,
      "outputs": [
        {
          "output_type": "execute_result",
          "data": {
            "text/html": [
              "<div>\n",
              "<style scoped>\n",
              "    .dataframe tbody tr th:only-of-type {\n",
              "        vertical-align: middle;\n",
              "    }\n",
              "\n",
              "    .dataframe tbody tr th {\n",
              "        vertical-align: top;\n",
              "    }\n",
              "\n",
              "    .dataframe thead th {\n",
              "        text-align: right;\n",
              "    }\n",
              "</style>\n",
              "<table border=\"1\" class=\"dataframe\">\n",
              "  <thead>\n",
              "    <tr style=\"text-align: right;\">\n",
              "      <th></th>\n",
              "      <th>VehicleSpeedInstantaneous</th>\n",
              "      <th>VehicleSpeedAverage</th>\n",
              "      <th>EngineLoad</th>\n",
              "      <th>EngineRPM</th>\n",
              "      <th>IntakeAirTemperature</th>\n",
              "      <th>drivingStyle</th>\n",
              "    </tr>\n",
              "  </thead>\n",
              "  <tbody>\n",
              "    <tr>\n",
              "      <th>count</th>\n",
              "      <td>20515.000000</td>\n",
              "      <td>20515.000000</td>\n",
              "      <td>20515.000000</td>\n",
              "      <td>20515.000000</td>\n",
              "      <td>20515.000000</td>\n",
              "      <td>20515.000000</td>\n",
              "    </tr>\n",
              "    <tr>\n",
              "      <th>mean</th>\n",
              "      <td>40.320752</td>\n",
              "      <td>40.537869</td>\n",
              "      <td>36.177393</td>\n",
              "      <td>1526.876700</td>\n",
              "      <td>24.259664</td>\n",
              "      <td>0.126395</td>\n",
              "    </tr>\n",
              "    <tr>\n",
              "      <th>std</th>\n",
              "      <td>35.317822</td>\n",
              "      <td>32.683853</td>\n",
              "      <td>26.367823</td>\n",
              "      <td>592.656671</td>\n",
              "      <td>11.376732</td>\n",
              "      <td>0.332302</td>\n",
              "    </tr>\n",
              "    <tr>\n",
              "      <th>min</th>\n",
              "      <td>0.000000</td>\n",
              "      <td>0.000000</td>\n",
              "      <td>0.000000</td>\n",
              "      <td>0.000000</td>\n",
              "      <td>7.000000</td>\n",
              "      <td>0.000000</td>\n",
              "    </tr>\n",
              "    <tr>\n",
              "      <th>25%</th>\n",
              "      <td>11.709359</td>\n",
              "      <td>16.023433</td>\n",
              "      <td>18.431374</td>\n",
              "      <td>883.000000</td>\n",
              "      <td>16.000000</td>\n",
              "      <td>0.000000</td>\n",
              "    </tr>\n",
              "    <tr>\n",
              "      <th>50%</th>\n",
              "      <td>31.500000</td>\n",
              "      <td>29.269646</td>\n",
              "      <td>30.196079</td>\n",
              "      <td>1534.000000</td>\n",
              "      <td>20.000000</td>\n",
              "      <td>0.000000</td>\n",
              "    </tr>\n",
              "    <tr>\n",
              "      <th>75%</th>\n",
              "      <td>58.884569</td>\n",
              "      <td>55.696635</td>\n",
              "      <td>56.862747</td>\n",
              "      <td>2040.000000</td>\n",
              "      <td>33.000000</td>\n",
              "      <td>0.000000</td>\n",
              "    </tr>\n",
              "    <tr>\n",
              "      <th>max</th>\n",
              "      <td>124.749725</td>\n",
              "      <td>121.330733</td>\n",
              "      <td>100.000000</td>\n",
              "      <td>3167.000000</td>\n",
              "      <td>65.000000</td>\n",
              "      <td>1.000000</td>\n",
              "    </tr>\n",
              "  </tbody>\n",
              "</table>\n",
              "</div>"
            ],
            "text/plain": [
              "       VehicleSpeedInstantaneous  ...  drivingStyle\n",
              "count               20515.000000  ...  20515.000000\n",
              "mean                   40.320752  ...      0.126395\n",
              "std                    35.317822  ...      0.332302\n",
              "min                     0.000000  ...      0.000000\n",
              "25%                    11.709359  ...      0.000000\n",
              "50%                    31.500000  ...      0.000000\n",
              "75%                    58.884569  ...      0.000000\n",
              "max                   124.749725  ...      1.000000\n",
              "\n",
              "[8 rows x 6 columns]"
            ]
          },
          "metadata": {
            "tags": []
          },
          "execution_count": 13
        }
      ]
    },
    {
      "cell_type": "code",
      "metadata": {
        "id": "1Rhk5P6_uqR0",
        "colab_type": "code",
        "outputId": "9056f5bd-9cab-4a06-d55e-3b6ee3b05b88",
        "colab": {
          "base_uri": "https://localhost:8080/",
          "height": 329
        }
      },
      "source": [
        "#Now work out the target counts for each class to get an understanding of the balancing that is needed\n",
        "target_count =RelevantData.drivingStyle.value_counts()\n",
        "print('EvenPaceStyle or Class 0:', target_count[0])\n",
        "print('AgressivePaceStyle or Class 1:', target_count[1])\n",
        "print('Proportion:', round(target_count[0] / target_count[1], 2), ': 1')\n",
        "\n",
        "target_count.plot(kind='bar', title='drivingStyle (target)');"
      ],
      "execution_count": 14,
      "outputs": [
        {
          "output_type": "stream",
          "text": [
            "EvenPaceStyle or Class 0: 17922\n",
            "AgressivePaceStyle or Class 1: 2593\n",
            "Proportion: 6.91 : 1\n"
          ],
          "name": "stdout"
        },
        {
          "output_type": "display_data",
          "data": {
            "image/png": "[encoded data removed]",
            "text/plain": [
              "<Figure size 432x288 with 1 Axes>"
            ]
          },
          "metadata": {
            "tags": []
          }
        }
      ]
    },
    {
      "cell_type": "code",
      "metadata": {
        "id": "rqAxlq8SyGzE",
        "colab_type": "code",
        "outputId": "221c22a0-9375-4b40-df11-3908f92db480",
        "colab": {
          "base_uri": "https://localhost:8080/",
          "height": 119
        }
      },
      "source": [
        "#Define the output (to be classified)\n",
        "y = RelevantData['drivingStyle']\n",
        "y.head()"
      ],
      "execution_count": 15,
      "outputs": [
        {
          "output_type": "execute_result",
          "data": {
            "text/plain": [
              "0    0\n",
              "1    0\n",
              "2    0\n",
              "3    0\n",
              "4    0\n",
              "Name: drivingStyle, dtype: int64"
            ]
          },
          "metadata": {
            "tags": []
          },
          "execution_count": 15
        }
      ]
    },
    {
      "cell_type": "code",
      "metadata": {
        "id": "eprbNnSTy1Wu",
        "colab_type": "code",
        "outputId": "cb7bc4f6-e9f2-4456-d01e-38452fc9ff0b",
        "colab": {
          "base_uri": "https://localhost:8080/",
          "height": 85
        }
      },
      "source": [
        "#Split the data set into training and test data\n",
        "from sklearn.model_selection import train_test_split\n",
        "X_train, X_test, y_train, y_test = train_test_split(relevantFeatures, y, random_state = 1)\n",
        "print(X_train.shape)\n",
        "print(X_test.shape)\n",
        "print(y_train.shape)\n",
        "print(y_test.shape)"
      ],
      "execution_count": 28,
      "outputs": [
        {
          "output_type": "stream",
          "text": [
            "(15386, 5)\n",
            "(5129, 5)\n",
            "(15386,)\n",
            "(5129,)\n"
          ],
          "name": "stdout"
        }
      ]
    },
    {
      "cell_type": "code",
      "metadata": {
        "id": "H5a7zesUzYha",
        "colab_type": "code",
        "outputId": "e163d74b-de2c-480e-dcc3-f7b3191bc3e7",
        "colab": {
          "base_uri": "https://localhost:8080/",
          "height": 51
        }
      },
      "source": [
        "aggressive_percent = y_test.mean()\n",
        "even_percent = 1 - y_test.mean()\n",
        "print(aggressive_percent)\n",
        "print(even_percent)\n",
        "#Shows what the accuracy would be if 'Even Driving' Style is predicted always. (Works out to be ~87% when all 4 data files are used, or 81% if just the two opel corsa files) => We need to design a classifer that provides better accuracy than this!"
      ],
      "execution_count": 29,
      "outputs": [
        {
          "output_type": "stream",
          "text": [
            "0.12692532657438096\n",
            "0.8730746734256191\n"
          ],
          "name": "stdout"
        }
      ]
    },
    {
      "cell_type": "code",
      "metadata": {
        "id": "1to9Y9dj0dvF",
        "colab_type": "code",
        "colab": {}
      },
      "source": [
        "def plot_2d_space(X, y, label='Classes'):   \n",
        "    colors = ['#1F77B4', '#FF7F0E']\n",
        "    markers = ['o', 's']\n",
        "    for l, c, m in zip(np.unique(y), colors, markers):\n",
        "        plt.scatter(\n",
        "            X[y==l, 0],\n",
        "            X[y==l, 1],\n",
        "            c=c, label=l, marker=m\n",
        "        )\n",
        "    plt.title(label)\n",
        "    plt.legend(loc='upper right')\n",
        "    plt.show()"
      ],
      "execution_count": 0,
      "outputs": []
    },
    {
      "cell_type": "code",
      "metadata": {
        "id": "Gk0Nb6Y90ItU",
        "colab_type": "code",
        "outputId": "3a72c04b-1f88-4656-d40a-3748ef36f561",
        "colab": {
          "base_uri": "https://localhost:8080/",
          "height": 298
        }
      },
      "source": [
        "#Balancing using Python Imbalanced-Learn Module - Random OverSampling\n",
        "from imblearn.over_sampling import RandomOverSampler\n",
        "\n",
        "ros = RandomOverSampler()\n",
        "X_ros, y_ros = ros.fit_sample(X_train, y_train)\n",
        "\n",
        "print(X_ros.shape[0] - RelevantData.shape[0], 'new random picked points')\n",
        "\n",
        "plot_2d_space(X_ros, y_ros, 'Random over-sampling')"
      ],
      "execution_count": 31,
      "outputs": [
        {
          "output_type": "stream",
          "text": [
            "6373 new random picked points\n"
          ],
          "name": "stdout"
        },
        {
          "output_type": "display_data",
          "data": {
            "image/png": "[encoded data removed]",
            "text/plain": [
              "<Figure size 432x288 with 1 Axes>"
            ]
          },
          "metadata": {
            "tags": []
          }
        }
      ]
    },
    {
      "cell_type": "code",
      "metadata": {
        "id": "WwsHtrkx03iG",
        "colab_type": "code",
        "outputId": "e7a6a657-439c-40e2-c6c6-a31a3d38e08d",
        "colab": {
          "base_uri": "https://localhost:8080/",
          "height": 85
        }
      },
      "source": [
        "#Perform the data split with x_ros, y_ros\n",
        "X_train, X_test, y_train, y_test = train_test_split(X_ros, y_ros, random_state = 1)\n",
        "print(X_train.shape)\n",
        "print(X_test.shape)\n",
        "print(y_train.shape)\n",
        "print(y_test.shape)"
      ],
      "execution_count": 32,
      "outputs": [
        {
          "output_type": "stream",
          "text": [
            "(20166, 5)\n",
            "(6722, 5)\n",
            "(20166,)\n",
            "(6722,)\n"
          ],
          "name": "stdout"
        }
      ]
    },
    {
      "cell_type": "code",
      "metadata": {
        "id": "AJUyAvR91C2Q",
        "colab_type": "code",
        "outputId": "98101a10-502a-4597-9d74-ecf88e4e5858",
        "colab": {
          "base_uri": "https://localhost:8080/",
          "height": 51
        }
      },
      "source": [
        "#Now check again, should be closer to 50/50\n",
        "aggressive_percent = y_test.mean()\n",
        "even_percent = 1 - y_test.mean()\n",
        "print(aggressive_percent)\n",
        "print(even_percent)"
      ],
      "execution_count": 33,
      "outputs": [
        {
          "output_type": "stream",
          "text": [
            "0.4919666765843499\n",
            "0.5080333234156501\n"
          ],
          "name": "stdout"
        }
      ]
    },
    {
      "cell_type": "code",
      "metadata": {
        "id": "-Bz6KWgQ1a8H",
        "colab_type": "code",
        "outputId": "7a16df6b-b15e-4cce-d17d-185c75808dce",
        "colab": {
          "base_uri": "https://localhost:8080/",
          "height": 306
        }
      },
      "source": [
        "#Now perform KNN classification\n",
        "from sklearn.neighbors import KNeighborsClassifier\n",
        "from sklearn import metrics\n",
        "from sklearn.metrics import mean_squared_error, r2_score\n",
        "from sklearn.metrics import roc_curve, roc_auc_score\n",
        "from scipy import interp\n",
        "knn = KNeighborsClassifier(n_neighbors = 3)\n",
        "knn.fit(X_ros, y_ros)\n",
        "y2_pred = knn.predict(X_test)\n",
        "#Print the metrics\n",
        "print(\"Compare actual response with predicted (accuracy): \", metrics.accuracy_score(y_test, y2_pred))\n",
        "print(\"Precision: \", metrics.precision_score(y_test, y2_pred))\n",
        "print(\"Recall: \", metrics.recall_score(y_test, y2_pred))\n",
        "print(\"F1 Score: \", metrics.recall_score(y_test, y2_pred))\n",
        "print(\"Classification Report: \\n\", metrics.classification_report(y_test, y2_pred))\n",
        "print(\"Confusion Matrix: \\n\", metrics.confusion_matrix(y_test, y2_pred))"
      ],
      "execution_count": 34,
      "outputs": [
        {
          "output_type": "stream",
          "text": [
            "Compare actual response with predicted (accuracy):  0.9610235049092531\n",
            "Precision:  0.9265900812552536\n",
            "Recall:  1.0\n",
            "F1 Score:  1.0\n",
            "Classification Report: \n",
            "               precision    recall  f1-score   support\n",
            "\n",
            "           0       1.00      0.92      0.96      3415\n",
            "           1       0.93      1.00      0.96      3307\n",
            "\n",
            "    accuracy                           0.96      6722\n",
            "   macro avg       0.96      0.96      0.96      6722\n",
            "weighted avg       0.96      0.96      0.96      6722\n",
            "\n",
            "Confusion Matrix: \n",
            " [[3153  262]\n",
            " [   0 3307]]\n"
          ],
          "name": "stdout"
        }
      ]
    },
    {
      "cell_type": "code",
      "metadata": {
        "id": "GVIoG_Cm2i2E",
        "colab_type": "code",
        "outputId": "94916b3f-bc50-4b2b-ff60-86c99794518b",
        "colab": {
          "base_uri": "https://localhost:8080/",
          "height": 312
        }
      },
      "source": [
        "#Plot the ROC curve\n",
        "from itertools import cycle\n",
        "from sklearn import svm, datasets\n",
        "from sklearn.metrics import roc_curve, roc_auc_score\n",
        "from sklearn.preprocessing import label_binarize\n",
        "import sklearn.metrics as metrics\n",
        "\n",
        "probs = knn.predict_proba(X_test)\n",
        "preds = probs[:,1]\n",
        "fpr, tpr, threshold = metrics.roc_curve(y_test,preds)\n",
        "roc_auc = metrics.auc(fpr, tpr)\n",
        "\n",
        "import matplotlib.pyplot as plt\n",
        "plt.title('Receiver Operating Characteristic')\n",
        "plt.plot(fpr, tpr, 'b', label = 'AUC = %0.2f' % roc_auc)\n",
        "plt.legend(loc = 'lower right')\n",
        "plt.plot([0, 1], [0, 1],'r--')\n",
        "plt.xlim([0, 1])\n",
        "plt.ylim([0, 1])\n",
        "plt.ylabel('True Positive Rate')\n",
        "plt.xlabel('False Positive Rate')\n",
        "plt.show()\n",
        "print(\"ROC ACU Score\", metrics.roc_auc_score(y_test, preds))"
      ],
      "execution_count": 35,
      "outputs": [
        {
          "output_type": "display_data",
          "data": {
            "image/png": "[encoded data removed]",
            "text/plain": [
              "<Figure size 432x288 with 1 Axes>"
            ]
          },
          "metadata": {
            "tags": []
          }
        },
        {
          "output_type": "stream",
          "text": [
            "ROC ACU Score 0.999802805265551\n"
          ],
          "name": "stdout"
        }
      ]
    },
    {
      "cell_type": "code",
      "metadata": {
        "id": "qzCNg_nNbFuI",
        "colab_type": "code",
        "colab": {}
      },
      "source": [
        "#Try balanced (not scaled) datasets with Logistic Regression and SVM\n",
        "#1. All Features\n",
        "modelsvm = svm.SVC(kernel ='linear',class_weight='balanced', tol=0.001, probability=True)\n",
        "modelsvm.fit(X_ros, y_ros)"
      ],
      "execution_count": 0,
      "outputs": []
    },
    {
      "cell_type": "code",
      "metadata": {
        "id": "WzBHAW1HcRpz",
        "colab_type": "code",
        "outputId": "bb548a36-3108-4ed9-882e-580a89670932",
        "colab": {
          "base_uri": "https://localhost:8080/",
          "height": 306
        }
      },
      "source": [
        "y3_pred = modelsvm.predict(X_test)\n",
        "print(\"Compare actual response with predicted (accuracy): \", metrics.accuracy_score(y_test, y3_pred))\n",
        "print(\"Precision: \", metrics.precision_score(y_test, y3_pred))\n",
        "print(\"Recall: \", metrics.recall_score(y_test, y3_pred))\n",
        "print(\"F1 Score: \", metrics.recall_score(y_test, y3_pred))\n",
        "print(\"Classification Report: \\n\", metrics.classification_report(y_test, y3_pred))\n",
        "print(\"Confusion Matrix: \\n\", metrics.confusion_matrix(y_test, y3_pred))"
      ],
      "execution_count": 0,
      "outputs": [
        {
          "output_type": "stream",
          "text": [
            "Compare actual response with predicted (accuracy):  1.0\n",
            "Precision:  1.0\n",
            "Recall:  1.0\n",
            "F1 Score:  1.0\n",
            "Classification Report: \n",
            "               precision    recall  f1-score   support\n",
            "\n",
            "           0       1.00      1.00      1.00      3415\n",
            "           1       1.00      1.00      1.00      3307\n",
            "\n",
            "    accuracy                           1.00      6722\n",
            "   macro avg       1.00      1.00      1.00      6722\n",
            "weighted avg       1.00      1.00      1.00      6722\n",
            "\n",
            "Confusion Matrix: \n",
            " [[3415    0]\n",
            " [   0 3307]]\n"
          ],
          "name": "stdout"
        }
      ]
    },
    {
      "cell_type": "markdown",
      "metadata": {
        "id": "NaE8y-kucWHJ",
        "colab_type": "text"
      },
      "source": [
        "SVM copes much better than CNN with unscaled data, perfect result."
      ]
    },
    {
      "cell_type": "code",
      "metadata": {
        "id": "vq-yGwKDcoyy",
        "colab_type": "code",
        "outputId": "b15a7187-2787-4ad5-ae87-0a731378378a",
        "colab": {
          "base_uri": "https://localhost:8080/",
          "height": 312
        }
      },
      "source": [
        "#Draw ROC curve for SVM\n",
        "probs = modelsvm.predict_proba(X_test)\n",
        "preds = probs[:,1]\n",
        "fpr, tpr, threshold = metrics.roc_curve(y_test,preds)\n",
        "roc_auc = metrics.auc(fpr, tpr)\n",
        "\n",
        "import matplotlib.pyplot as plt\n",
        "plt.title('Receiver Operating Characteristic')\n",
        "plt.plot(fpr, tpr, 'b', label = 'AUC = %0.2f' % roc_auc)\n",
        "plt.legend(loc = 'lower right')\n",
        "plt.plot([0, 1], [0, 1],'r--')\n",
        "plt.xlim([0, 1])\n",
        "plt.ylim([0, 1])\n",
        "plt.ylabel('True Positive Rate')\n",
        "plt.xlabel('False Positive Rate')\n",
        "plt.show()\n",
        "print(\"ROC ACU Score\", metrics.roc_auc_score(y_test, preds))"
      ],
      "execution_count": 0,
      "outputs": [
        {
          "output_type": "display_data",
          "data": {
            "image/png": "[encoded data removed]",
            "text/plain": [
              "<Figure size 432x288 with 1 Axes>"
            ]
          },
          "metadata": {
            "tags": []
          }
        },
        {
          "output_type": "stream",
          "text": [
            "ROC ACU Score 1.0\n"
          ],
          "name": "stdout"
        }
      ]
    },
    {
      "cell_type": "code",
      "metadata": {
        "id": "P69YOVx2sosB",
        "colab_type": "code",
        "outputId": "c67775c9-0c34-436c-9be3-282f08310072",
        "colab": {
          "base_uri": "https://localhost:8080/",
          "height": 306
        }
      },
      "source": [
        "#Logistic Regression\n",
        "from sklearn.linear_model import LinearRegression, LogisticRegression\n",
        "logreg = LogisticRegression(solver='liblinear')\n",
        "logreg.fit(X_ros,y_ros)\n",
        "\n",
        "y_pred = logreg.predict(X_test)\n",
        "print(\"Compare actual response with predicted (accuracy): \", metrics.accuracy_score(y_test, y_pred))\n",
        "print(\"Precision: \", metrics.precision_score(y_test, y_pred))\n",
        "print(\"Recall: \", metrics.recall_score(y_test, y_pred))\n",
        "print(\"F1 Score: \", metrics.recall_score(y_test, y_pred))\n",
        "print(\"Classification Report: \\n\", metrics.classification_report(y_test, y_pred))\n",
        "print(\"Confusion Matrix: \\n\", metrics.confusion_matrix(y_test, y_pred))"
      ],
      "execution_count": 25,
      "outputs": [
        {
          "output_type": "stream",
          "text": [
            "Compare actual response with predicted (accuracy):  0.6749479321630467\n",
            "Precision:  0.6550580431177446\n",
            "Recall:  0.7166616268521319\n",
            "F1 Score:  0.7166616268521319\n",
            "Classification Report: \n",
            "               precision    recall  f1-score   support\n",
            "\n",
            "           0       0.70      0.63      0.66      3415\n",
            "           1       0.66      0.72      0.68      3307\n",
            "\n",
            "    accuracy                           0.67      6722\n",
            "   macro avg       0.68      0.68      0.67      6722\n",
            "weighted avg       0.68      0.67      0.67      6722\n",
            "\n",
            "Confusion Matrix: \n",
            " [[2167 1248]\n",
            " [ 937 2370]]\n"
          ],
          "name": "stdout"
        }
      ]
    },
    {
      "cell_type": "code",
      "metadata": {
        "id": "txKONWNvspXB",
        "colab_type": "code",
        "outputId": "f31eee44-b0c0-4d9e-d028-13f8339875fa",
        "colab": {
          "base_uri": "https://localhost:8080/",
          "height": 312
        }
      },
      "source": [
        "#Draw ROC for Logistic Regression\n",
        "probs = logreg.predict_proba(X_test)\n",
        "preds = probs[:,1]\n",
        "fpr, tpr, threshold = metrics.roc_curve(y_test,preds)\n",
        "roc_auc = metrics.auc(fpr, tpr)\n",
        "\n",
        "import matplotlib.pyplot as plt\n",
        "plt.title('Receiver Operating Characteristic')\n",
        "plt.plot(fpr, tpr, 'b', label = 'AUC = %0.2f' % roc_auc)\n",
        "plt.legend(loc = 'lower right')\n",
        "plt.plot([0, 1], [0, 1],'r--')\n",
        "plt.xlim([0, 1])\n",
        "plt.ylim([0, 1])\n",
        "plt.ylabel('True Positive Rate')\n",
        "plt.xlabel('False Positive Rate')\n",
        "plt.show()\n",
        "print(\"ROC ACU Score\", metrics.roc_auc_score(y_test, preds))"
      ],
      "execution_count": 26,
      "outputs": [
        {
          "output_type": "display_data",
          "data": {
            "image/png": "[encoded data removed]",
            "text/plain": [
              "<Figure size 432x288 with 1 Axes>"
            ]
          },
          "metadata": {
            "tags": []
          }
        },
        {
          "output_type": "stream",
          "text": [
            "ROC ACU Score 0.7420687560571856\n"
          ],
          "name": "stdout"
        }
      ]
    },
    {
      "cell_type": "code",
      "metadata": {
        "id": "-Bmzzx4xrYg2",
        "colab_type": "code",
        "outputId": "50b74501-0a28-4598-8368-a29fa421830e",
        "colab": {
          "base_uri": "https://localhost:8080/",
          "height": 587
        }
      },
      "source": [
        "#For comparison, check performance if ALL features are used:\n",
        "\n",
        "##First get the scaled version of the feature data\n",
        "#alldata[allFeatureNames]= AllFeaturesScaled[allFeatureNames]\n",
        "\n",
        "#Split the dataset\n",
        "X_train, X_test, y_train, y_test = train_test_split(alldata[allFeatureNames], y, random_state = 1)\n",
        "\n",
        "#Balancing using Random OverSampling\n",
        "\n",
        "ros = RandomOverSampler()\n",
        "X_ros, y_ros = ros.fit_sample(X_train, y_train)\n",
        "\n",
        "print(X_ros.shape[0] - alldata.shape[0], 'new random picked points')\n",
        "\n",
        "plot_2d_space(X_ros, y_ros, 'Random over-sampling')\n",
        "\n",
        "#Now split using x_ros, y_ros\n",
        "X_train, X_test, y_train, y_test = train_test_split(X_ros, y_ros, random_state = 1)\n",
        "\n",
        "#And classify\n",
        "knn = KNeighborsClassifier(n_neighbors = 3)\n",
        "knn.fit(X_ros, y_ros)\n",
        "y2_pred = knn.predict(X_test)\n",
        "#Print the metrics\n",
        "print(\"Compare actual response with predicted (accuracy): \", metrics.accuracy_score(y_test, y2_pred))\n",
        "print(\"Precision: \", metrics.precision_score(y_test, y2_pred))\n",
        "print(\"Recall: \", metrics.recall_score(y_test, y2_pred))\n",
        "print(\"F1 Score: \", metrics.recall_score(y_test, y2_pred))\n",
        "print(\"Classification Report: \\n\", metrics.classification_report(y_test, y2_pred))\n",
        "print(\"Confusion Matrix: \\n\", metrics.confusion_matrix(y_test, y2_pred))"
      ],
      "execution_count": 27,
      "outputs": [
        {
          "output_type": "stream",
          "text": [
            "6373 new random picked points\n"
          ],
          "name": "stdout"
        },
        {
          "output_type": "display_data",
          "data": {
            "image/png": "[encoded data removed]",
            "text/plain": [
              "<Figure size 432x288 with 1 Axes>"
            ]
          },
          "metadata": {
            "tags": []
          }
        },
        {
          "output_type": "stream",
          "text": [
            "Compare actual response with predicted (accuracy):  0.9653376971139542\n",
            "Precision:  0.9344262295081968\n",
            "Recall:  0.9996976111279104\n",
            "F1 Score:  0.9996976111279104\n",
            "Classification Report: \n",
            "               precision    recall  f1-score   support\n",
            "\n",
            "           0       1.00      0.93      0.96      3415\n",
            "           1       0.93      1.00      0.97      3307\n",
            "\n",
            "    accuracy                           0.97      6722\n",
            "   macro avg       0.97      0.97      0.97      6722\n",
            "weighted avg       0.97      0.97      0.97      6722\n",
            "\n",
            "Confusion Matrix: \n",
            " [[3183  232]\n",
            " [   1 3306]]\n"
          ],
          "name": "stdout"
        }
      ]
    },
    {
      "cell_type": "code",
      "metadata": {
        "id": "EWgc5rl1VeIk",
        "colab_type": "code",
        "colab": {}
      },
      "source": [
        "#Plot the ROC curve\n",
        "from itertools import cycle\n",
        "from sklearn import svm, datasets\n",
        "from sklearn.metrics import roc_curve, roc_auc_score\n",
        "from sklearn.preprocessing import label_binarize\n",
        "import sklearn.metrics as metrics\n",
        "\n",
        "probs = knn.predict_proba(X_test)\n",
        "preds = probs[:,1]\n",
        "fpr, tpr, threshold = metrics.roc_curve(y_test,preds)\n",
        "roc_auc = metrics.auc(fpr, tpr)\n",
        "\n",
        "import matplotlib.pyplot as plt\n",
        "plt.title('Receiver Operating Characteristic')\n",
        "plt.plot(fpr, tpr, 'b', label = 'AUC = %0.2f' % roc_auc)\n",
        "plt.legend(loc = 'lower right')\n",
        "plt.plot([0, 1], [0, 1],'r--')\n",
        "plt.xlim([0, 1])\n",
        "plt.ylim([0, 1])\n",
        "plt.ylabel('True Positive Rate')\n",
        "plt.xlabel('False Positive Rate')\n",
        "plt.show()\n",
        "print(\"ROC ACU Score\", metrics.roc_auc_score(y_test, preds))"
      ],
      "execution_count": 0,
      "outputs": []
    },
    {
      "cell_type": "markdown",
      "metadata": {
        "id": "0imnjAlL5MBs",
        "colab_type": "text"
      },
      "source": [
        ""
      ]
    }
  ]
}