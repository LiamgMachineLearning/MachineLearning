{
 "cells": [
  {
   "cell_type": "markdown",
   "metadata": {
    "colab_type": "text",
    "id": "4r5n_333F_Qc"
   },
   "source": [
    "**Machine Learning Assignment 1 - Group B**"
   ]
  },
  {
   "cell_type": "code",
   "execution_count": 271,
   "metadata": {
    "colab": {
     "base_uri": "https://localhost:8080/",
     "height": 54
    },
    "colab_type": "code",
    "id": "IVqKVjYyF4g9",
    "outputId": "26e91cf9-343d-47e4-a663-d717e5413578"
   },
   "outputs": [
    {
     "name": "stdout",
     "output_type": "stream",
     "text": [
      "['AltitudeVariation', 'VehicleSpeedInstantaneous', 'VehicleSpeedAverage', 'VehicleSpeedVariance', 'VehicleSpeedVariation', 'LongitudinalAcceleration', 'EngineLoad', 'EngineCoolantTemperature', 'ManifoldAbsolutePressure', 'EngineRPM', 'MassAirFlow', 'IntakeAirTemperature', 'VerticalAcceleration', 'FuelConsumptionAverage', 'roadSurface', 'traffic', 'drivingStyle']\n"
     ]
    }
   ],
   "source": [
    "import matplotlib.pyplot as plt\n",
    "import numpy as np\n",
    "from sklearn import datasets, linear_model\n",
    "from sklearn.metrics import mean_squared_error, r2_score\n",
    "from sklearn import preprocessing\n",
    "\n",
    "import pandas as pd\n",
    "\n",
    "df1=pd.read_csv('https://raw.githubusercontent.com/LiamgMachineLearning/MachineLearning/master/SeansData/opel_corsa_01.csv', sep=\";\")\n",
    "df2=pd.read_csv('https://raw.githubusercontent.com/LiamgMachineLearning/MachineLearning/master/SeansData/opel_corsa_02.csv', sep=\";\")\n",
    "#df3=pd.read_csv('https://raw.githubusercontent.com/LiamgMachineLearning/MachineLearning/master/SeansData/peugeot_207_01.csv', sep=\";\")\n",
    "#df4=pd.read_csv('https://raw.githubusercontent.com/LiamgMachineLearning/MachineLearning/master/SeansData/peugeot_207_02.csv', sep=\";\")\n",
    "\n",
    "#allframes = [df1,df2,df3,df4]\n",
    "allframes = [df1, df2]\n",
    "\n",
    "feature_names = list(df1.head(0))\n",
    "feature_names.pop(0)\n",
    "\n",
    "print(feature_names)\n"
   ]
  },
  {
   "cell_type": "code",
   "execution_count": 272,
   "metadata": {},
   "outputs": [],
   "source": [
    "x = feature_names\n",
    "#df.count(axis='columns')"
   ]
  },
  {
   "cell_type": "code",
   "execution_count": 273,
   "metadata": {},
   "outputs": [
    {
     "name": "stdout",
     "output_type": "stream",
     "text": [
      "(7038, 18)\n"
     ]
    }
   ],
   "source": [
    "print(df1.shape)"
   ]
  },
  {
   "cell_type": "code",
   "execution_count": 274,
   "metadata": {
    "colab": {
     "base_uri": "https://localhost:8080/",
     "height": 232
    },
    "colab_type": "code",
    "id": "a2IC6D83HC5n",
    "outputId": "53cbf5dd-aed2-4d67-cafa-3f603d3a39f8"
   },
   "outputs": [
    {
     "data": {
      "text/html": [
       "<div>\n",
       "<style scoped>\n",
       "    .dataframe tbody tr th:only-of-type {\n",
       "        vertical-align: middle;\n",
       "    }\n",
       "\n",
       "    .dataframe tbody tr th {\n",
       "        vertical-align: top;\n",
       "    }\n",
       "\n",
       "    .dataframe thead th {\n",
       "        text-align: right;\n",
       "    }\n",
       "</style>\n",
       "<table border=\"1\" class=\"dataframe\">\n",
       "  <thead>\n",
       "    <tr style=\"text-align: right;\">\n",
       "      <th></th>\n",
       "      <th>Unnamed: 0</th>\n",
       "      <th>AltitudeVariation</th>\n",
       "      <th>VehicleSpeedInstantaneous</th>\n",
       "      <th>VehicleSpeedAverage</th>\n",
       "      <th>VehicleSpeedVariance</th>\n",
       "      <th>VehicleSpeedVariation</th>\n",
       "      <th>LongitudinalAcceleration</th>\n",
       "      <th>EngineLoad</th>\n",
       "      <th>EngineCoolantTemperature</th>\n",
       "      <th>ManifoldAbsolutePressure</th>\n",
       "      <th>EngineRPM</th>\n",
       "      <th>MassAirFlow</th>\n",
       "      <th>IntakeAirTemperature</th>\n",
       "      <th>VerticalAcceleration</th>\n",
       "      <th>FuelConsumptionAverage</th>\n",
       "      <th>roadSurface</th>\n",
       "      <th>traffic</th>\n",
       "      <th>drivingStyle</th>\n",
       "    </tr>\n",
       "  </thead>\n",
       "  <tbody>\n",
       "    <tr>\n",
       "      <th>0</th>\n",
       "      <td>59</td>\n",
       "      <td>-2.299988</td>\n",
       "      <td>25.670519</td>\n",
       "      <td>13.223501</td>\n",
       "      <td>121.592690</td>\n",
       "      <td>-2.476980</td>\n",
       "      <td>0.3555</td>\n",
       "      <td>4.705883</td>\n",
       "      <td>68</td>\n",
       "      <td>106</td>\n",
       "      <td>1796</td>\n",
       "      <td>15.81</td>\n",
       "      <td>24</td>\n",
       "      <td>-0.1133</td>\n",
       "      <td>19.497335</td>\n",
       "      <td>SmoothCondition</td>\n",
       "      <td>LowCongestionCondition</td>\n",
       "      <td>EvenPaceStyle</td>\n",
       "    </tr>\n",
       "    <tr>\n",
       "      <th>1</th>\n",
       "      <td>60</td>\n",
       "      <td>-2.099976</td>\n",
       "      <td>24.094259</td>\n",
       "      <td>13.638919</td>\n",
       "      <td>120.422571</td>\n",
       "      <td>-1.576260</td>\n",
       "      <td>0.4492</td>\n",
       "      <td>10.588236</td>\n",
       "      <td>68</td>\n",
       "      <td>103</td>\n",
       "      <td>1689</td>\n",
       "      <td>14.65</td>\n",
       "      <td>22</td>\n",
       "      <td>-0.1289</td>\n",
       "      <td>19.515722</td>\n",
       "      <td>SmoothCondition</td>\n",
       "      <td>LowCongestionCondition</td>\n",
       "      <td>EvenPaceStyle</td>\n",
       "    </tr>\n",
       "    <tr>\n",
       "      <th>2</th>\n",
       "      <td>61</td>\n",
       "      <td>-1.500000</td>\n",
       "      <td>22.743179</td>\n",
       "      <td>14.031043</td>\n",
       "      <td>118.456769</td>\n",
       "      <td>-1.351080</td>\n",
       "      <td>0.4258</td>\n",
       "      <td>27.450981</td>\n",
       "      <td>68</td>\n",
       "      <td>103</td>\n",
       "      <td>1599</td>\n",
       "      <td>11.85</td>\n",
       "      <td>21</td>\n",
       "      <td>-0.1328</td>\n",
       "      <td>19.441765</td>\n",
       "      <td>SmoothCondition</td>\n",
       "      <td>LowCongestionCondition</td>\n",
       "      <td>EvenPaceStyle</td>\n",
       "    </tr>\n",
       "    <tr>\n",
       "      <th>3</th>\n",
       "      <td>62</td>\n",
       "      <td>0.100037</td>\n",
       "      <td>22.292820</td>\n",
       "      <td>14.171073</td>\n",
       "      <td>117.571308</td>\n",
       "      <td>-0.450359</td>\n",
       "      <td>0.4140</td>\n",
       "      <td>24.313726</td>\n",
       "      <td>69</td>\n",
       "      <td>104</td>\n",
       "      <td>1620</td>\n",
       "      <td>12.21</td>\n",
       "      <td>20</td>\n",
       "      <td>-0.0859</td>\n",
       "      <td>19.388769</td>\n",
       "      <td>SmoothCondition</td>\n",
       "      <td>LowCongestionCondition</td>\n",
       "      <td>EvenPaceStyle</td>\n",
       "    </tr>\n",
       "    <tr>\n",
       "      <th>4</th>\n",
       "      <td>63</td>\n",
       "      <td>0.099976</td>\n",
       "      <td>23.643900</td>\n",
       "      <td>14.328954</td>\n",
       "      <td>117.074149</td>\n",
       "      <td>1.351080</td>\n",
       "      <td>0.3945</td>\n",
       "      <td>20.000000</td>\n",
       "      <td>69</td>\n",
       "      <td>104</td>\n",
       "      <td>1708</td>\n",
       "      <td>11.91</td>\n",
       "      <td>21</td>\n",
       "      <td>-0.0664</td>\n",
       "      <td>19.301638</td>\n",
       "      <td>SmoothCondition</td>\n",
       "      <td>LowCongestionCondition</td>\n",
       "      <td>EvenPaceStyle</td>\n",
       "    </tr>\n",
       "  </tbody>\n",
       "</table>\n",
       "</div>"
      ],
      "text/plain": [
       "   Unnamed: 0  AltitudeVariation  VehicleSpeedInstantaneous  \\\n",
       "0          59          -2.299988                  25.670519   \n",
       "1          60          -2.099976                  24.094259   \n",
       "2          61          -1.500000                  22.743179   \n",
       "3          62           0.100037                  22.292820   \n",
       "4          63           0.099976                  23.643900   \n",
       "\n",
       "   VehicleSpeedAverage  VehicleSpeedVariance  VehicleSpeedVariation  \\\n",
       "0            13.223501            121.592690              -2.476980   \n",
       "1            13.638919            120.422571              -1.576260   \n",
       "2            14.031043            118.456769              -1.351080   \n",
       "3            14.171073            117.571308              -0.450359   \n",
       "4            14.328954            117.074149               1.351080   \n",
       "\n",
       "   LongitudinalAcceleration  EngineLoad  EngineCoolantTemperature  \\\n",
       "0                    0.3555    4.705883                        68   \n",
       "1                    0.4492   10.588236                        68   \n",
       "2                    0.4258   27.450981                        68   \n",
       "3                    0.4140   24.313726                        69   \n",
       "4                    0.3945   20.000000                        69   \n",
       "\n",
       "   ManifoldAbsolutePressure  EngineRPM  MassAirFlow  IntakeAirTemperature  \\\n",
       "0                       106       1796        15.81                    24   \n",
       "1                       103       1689        14.65                    22   \n",
       "2                       103       1599        11.85                    21   \n",
       "3                       104       1620        12.21                    20   \n",
       "4                       104       1708        11.91                    21   \n",
       "\n",
       "   VerticalAcceleration  FuelConsumptionAverage      roadSurface  \\\n",
       "0               -0.1133               19.497335  SmoothCondition   \n",
       "1               -0.1289               19.515722  SmoothCondition   \n",
       "2               -0.1328               19.441765  SmoothCondition   \n",
       "3               -0.0859               19.388769  SmoothCondition   \n",
       "4               -0.0664               19.301638  SmoothCondition   \n",
       "\n",
       "                  traffic   drivingStyle  \n",
       "0  LowCongestionCondition  EvenPaceStyle  \n",
       "1  LowCongestionCondition  EvenPaceStyle  \n",
       "2  LowCongestionCondition  EvenPaceStyle  \n",
       "3  LowCongestionCondition  EvenPaceStyle  \n",
       "4  LowCongestionCondition  EvenPaceStyle  "
      ]
     },
     "execution_count": 274,
     "metadata": {},
     "output_type": "execute_result"
    }
   ],
   "source": [
    "df = pd.concat(allframes)\n",
    "df3 = pd.concat(allframes)\n",
    "#print out first 5 rows of data set\n",
    "df.head()\n",
    "df3.head()"
   ]
  },
  {
   "cell_type": "code",
   "execution_count": 275,
   "metadata": {
    "colab": {
     "base_uri": "https://localhost:8080/",
     "height": 215
    },
    "colab_type": "code",
    "id": "mGY02qf4Pdj7",
    "outputId": "d247bac6-6163-4877-f270-3d9ea6c3c156"
   },
   "outputs": [
    {
     "data": {
      "text/html": [
       "<div>\n",
       "<style scoped>\n",
       "    .dataframe tbody tr th:only-of-type {\n",
       "        vertical-align: middle;\n",
       "    }\n",
       "\n",
       "    .dataframe tbody tr th {\n",
       "        vertical-align: top;\n",
       "    }\n",
       "\n",
       "    .dataframe thead th {\n",
       "        text-align: right;\n",
       "    }\n",
       "</style>\n",
       "<table border=\"1\" class=\"dataframe\">\n",
       "  <thead>\n",
       "    <tr style=\"text-align: right;\">\n",
       "      <th></th>\n",
       "      <th>AltitudeVariation</th>\n",
       "      <th>VehicleSpeedInstantaneous</th>\n",
       "      <th>VehicleSpeedAverage</th>\n",
       "      <th>VehicleSpeedVariance</th>\n",
       "      <th>VehicleSpeedVariation</th>\n",
       "      <th>LongitudinalAcceleration</th>\n",
       "      <th>EngineLoad</th>\n",
       "      <th>EngineCoolantTemperature</th>\n",
       "      <th>ManifoldAbsolutePressure</th>\n",
       "      <th>EngineRPM</th>\n",
       "      <th>MassAirFlow</th>\n",
       "      <th>IntakeAirTemperature</th>\n",
       "      <th>VerticalAcceleration</th>\n",
       "      <th>FuelConsumptionAverage</th>\n",
       "      <th>roadSurface</th>\n",
       "      <th>drivingStyle</th>\n",
       "    </tr>\n",
       "  </thead>\n",
       "  <tbody>\n",
       "    <tr>\n",
       "      <th>0</th>\n",
       "      <td>-2.299988</td>\n",
       "      <td>25.670519</td>\n",
       "      <td>13.223501</td>\n",
       "      <td>121.592690</td>\n",
       "      <td>-2.476980</td>\n",
       "      <td>0.3555</td>\n",
       "      <td>4.705883</td>\n",
       "      <td>68</td>\n",
       "      <td>106</td>\n",
       "      <td>1796</td>\n",
       "      <td>15.81</td>\n",
       "      <td>24</td>\n",
       "      <td>-0.1133</td>\n",
       "      <td>19.497335</td>\n",
       "      <td>SmoothCondition</td>\n",
       "      <td>EvenPaceStyle</td>\n",
       "    </tr>\n",
       "    <tr>\n",
       "      <th>1</th>\n",
       "      <td>-2.099976</td>\n",
       "      <td>24.094259</td>\n",
       "      <td>13.638919</td>\n",
       "      <td>120.422571</td>\n",
       "      <td>-1.576260</td>\n",
       "      <td>0.4492</td>\n",
       "      <td>10.588236</td>\n",
       "      <td>68</td>\n",
       "      <td>103</td>\n",
       "      <td>1689</td>\n",
       "      <td>14.65</td>\n",
       "      <td>22</td>\n",
       "      <td>-0.1289</td>\n",
       "      <td>19.515722</td>\n",
       "      <td>SmoothCondition</td>\n",
       "      <td>EvenPaceStyle</td>\n",
       "    </tr>\n",
       "    <tr>\n",
       "      <th>2</th>\n",
       "      <td>-1.500000</td>\n",
       "      <td>22.743179</td>\n",
       "      <td>14.031043</td>\n",
       "      <td>118.456769</td>\n",
       "      <td>-1.351080</td>\n",
       "      <td>0.4258</td>\n",
       "      <td>27.450981</td>\n",
       "      <td>68</td>\n",
       "      <td>103</td>\n",
       "      <td>1599</td>\n",
       "      <td>11.85</td>\n",
       "      <td>21</td>\n",
       "      <td>-0.1328</td>\n",
       "      <td>19.441765</td>\n",
       "      <td>SmoothCondition</td>\n",
       "      <td>EvenPaceStyle</td>\n",
       "    </tr>\n",
       "    <tr>\n",
       "      <th>3</th>\n",
       "      <td>0.100037</td>\n",
       "      <td>22.292820</td>\n",
       "      <td>14.171073</td>\n",
       "      <td>117.571308</td>\n",
       "      <td>-0.450359</td>\n",
       "      <td>0.4140</td>\n",
       "      <td>24.313726</td>\n",
       "      <td>69</td>\n",
       "      <td>104</td>\n",
       "      <td>1620</td>\n",
       "      <td>12.21</td>\n",
       "      <td>20</td>\n",
       "      <td>-0.0859</td>\n",
       "      <td>19.388769</td>\n",
       "      <td>SmoothCondition</td>\n",
       "      <td>EvenPaceStyle</td>\n",
       "    </tr>\n",
       "    <tr>\n",
       "      <th>4</th>\n",
       "      <td>0.099976</td>\n",
       "      <td>23.643900</td>\n",
       "      <td>14.328954</td>\n",
       "      <td>117.074149</td>\n",
       "      <td>1.351080</td>\n",
       "      <td>0.3945</td>\n",
       "      <td>20.000000</td>\n",
       "      <td>69</td>\n",
       "      <td>104</td>\n",
       "      <td>1708</td>\n",
       "      <td>11.91</td>\n",
       "      <td>21</td>\n",
       "      <td>-0.0664</td>\n",
       "      <td>19.301638</td>\n",
       "      <td>SmoothCondition</td>\n",
       "      <td>EvenPaceStyle</td>\n",
       "    </tr>\n",
       "  </tbody>\n",
       "</table>\n",
       "</div>"
      ],
      "text/plain": [
       "   AltitudeVariation  VehicleSpeedInstantaneous  VehicleSpeedAverage  \\\n",
       "0          -2.299988                  25.670519            13.223501   \n",
       "1          -2.099976                  24.094259            13.638919   \n",
       "2          -1.500000                  22.743179            14.031043   \n",
       "3           0.100037                  22.292820            14.171073   \n",
       "4           0.099976                  23.643900            14.328954   \n",
       "\n",
       "   VehicleSpeedVariance  VehicleSpeedVariation  LongitudinalAcceleration  \\\n",
       "0            121.592690              -2.476980                    0.3555   \n",
       "1            120.422571              -1.576260                    0.4492   \n",
       "2            118.456769              -1.351080                    0.4258   \n",
       "3            117.571308              -0.450359                    0.4140   \n",
       "4            117.074149               1.351080                    0.3945   \n",
       "\n",
       "   EngineLoad  EngineCoolantTemperature  ManifoldAbsolutePressure  EngineRPM  \\\n",
       "0    4.705883                        68                       106       1796   \n",
       "1   10.588236                        68                       103       1689   \n",
       "2   27.450981                        68                       103       1599   \n",
       "3   24.313726                        69                       104       1620   \n",
       "4   20.000000                        69                       104       1708   \n",
       "\n",
       "   MassAirFlow  IntakeAirTemperature  VerticalAcceleration  \\\n",
       "0        15.81                    24               -0.1133   \n",
       "1        14.65                    22               -0.1289   \n",
       "2        11.85                    21               -0.1328   \n",
       "3        12.21                    20               -0.0859   \n",
       "4        11.91                    21               -0.0664   \n",
       "\n",
       "   FuelConsumptionAverage      roadSurface   drivingStyle  \n",
       "0               19.497335  SmoothCondition  EvenPaceStyle  \n",
       "1               19.515722  SmoothCondition  EvenPaceStyle  \n",
       "2               19.441765  SmoothCondition  EvenPaceStyle  \n",
       "3               19.388769  SmoothCondition  EvenPaceStyle  \n",
       "4               19.301638  SmoothCondition  EvenPaceStyle  "
      ]
     },
     "execution_count": 275,
     "metadata": {},
     "output_type": "execute_result"
    }
   ],
   "source": [
    "df.drop(['Unnamed: 0', 'traffic'], axis=1, inplace=True)\n",
    "df3.drop(['Unnamed: 0', 'traffic'], axis=1, inplace=True)\n",
    "df3.head()"
   ]
  },
  {
   "cell_type": "code",
   "execution_count": 276,
   "metadata": {
    "colab": {
     "base_uri": "https://localhost:8080/",
     "height": 304
    },
    "colab_type": "code",
    "id": "tHb4ykzAVY1Y",
    "outputId": "7d79d169-5b7f-46c5-aef4-db228e348a55"
   },
   "outputs": [
    {
     "data": {
      "text/html": [
       "<div>\n",
       "<style scoped>\n",
       "    .dataframe tbody tr th:only-of-type {\n",
       "        vertical-align: middle;\n",
       "    }\n",
       "\n",
       "    .dataframe tbody tr th {\n",
       "        vertical-align: top;\n",
       "    }\n",
       "\n",
       "    .dataframe thead th {\n",
       "        text-align: right;\n",
       "    }\n",
       "</style>\n",
       "<table border=\"1\" class=\"dataframe\">\n",
       "  <thead>\n",
       "    <tr style=\"text-align: right;\">\n",
       "      <th></th>\n",
       "      <th>AltitudeVariation</th>\n",
       "      <th>VehicleSpeedInstantaneous</th>\n",
       "      <th>VehicleSpeedAverage</th>\n",
       "      <th>VehicleSpeedVariance</th>\n",
       "      <th>VehicleSpeedVariation</th>\n",
       "      <th>LongitudinalAcceleration</th>\n",
       "      <th>EngineLoad</th>\n",
       "      <th>EngineCoolantTemperature</th>\n",
       "      <th>ManifoldAbsolutePressure</th>\n",
       "      <th>EngineRPM</th>\n",
       "      <th>MassAirFlow</th>\n",
       "      <th>IntakeAirTemperature</th>\n",
       "      <th>VerticalAcceleration</th>\n",
       "      <th>FuelConsumptionAverage</th>\n",
       "    </tr>\n",
       "  </thead>\n",
       "  <tbody>\n",
       "    <tr>\n",
       "      <th>count</th>\n",
       "      <td>11130.000000</td>\n",
       "      <td>11130.000000</td>\n",
       "      <td>11130.000000</td>\n",
       "      <td>11130.000000</td>\n",
       "      <td>11130.000000</td>\n",
       "      <td>11130.000000</td>\n",
       "      <td>11130.000000</td>\n",
       "      <td>11130.000000</td>\n",
       "      <td>11130.000000</td>\n",
       "      <td>11130.000000</td>\n",
       "      <td>11130.000000</td>\n",
       "      <td>11130.000000</td>\n",
       "      <td>11130.000000</td>\n",
       "      <td>11130.000000</td>\n",
       "    </tr>\n",
       "    <tr>\n",
       "      <th>mean</th>\n",
       "      <td>-0.478689</td>\n",
       "      <td>39.021730</td>\n",
       "      <td>39.185487</td>\n",
       "      <td>194.612717</td>\n",
       "      <td>-0.022943</td>\n",
       "      <td>0.680345</td>\n",
       "      <td>29.436817</td>\n",
       "      <td>76.253369</td>\n",
       "      <td>119.002875</td>\n",
       "      <td>1601.092902</td>\n",
       "      <td>17.185517</td>\n",
       "      <td>16.957862</td>\n",
       "      <td>1.528442</td>\n",
       "      <td>16.164601</td>\n",
       "    </tr>\n",
       "    <tr>\n",
       "      <th>std</th>\n",
       "      <td>2.036172</td>\n",
       "      <td>34.845227</td>\n",
       "      <td>31.849461</td>\n",
       "      <td>192.573430</td>\n",
       "      <td>2.332198</td>\n",
       "      <td>2.069489</td>\n",
       "      <td>21.412885</td>\n",
       "      <td>9.869676</td>\n",
       "      <td>25.184805</td>\n",
       "      <td>561.948593</td>\n",
       "      <td>10.678724</td>\n",
       "      <td>4.196808</td>\n",
       "      <td>4.794766</td>\n",
       "      <td>5.073774</td>\n",
       "    </tr>\n",
       "    <tr>\n",
       "      <th>min</th>\n",
       "      <td>-9.200012</td>\n",
       "      <td>0.000000</td>\n",
       "      <td>0.000000</td>\n",
       "      <td>0.000000</td>\n",
       "      <td>-17.789218</td>\n",
       "      <td>-2.380000</td>\n",
       "      <td>0.000000</td>\n",
       "      <td>40.000000</td>\n",
       "      <td>98.000000</td>\n",
       "      <td>752.000000</td>\n",
       "      <td>4.010000</td>\n",
       "      <td>7.000000</td>\n",
       "      <td>-1.246000</td>\n",
       "      <td>7.271883</td>\n",
       "    </tr>\n",
       "    <tr>\n",
       "      <th>25%</th>\n",
       "      <td>-1.700012</td>\n",
       "      <td>9.513855</td>\n",
       "      <td>15.837660</td>\n",
       "      <td>49.953278</td>\n",
       "      <td>-0.900721</td>\n",
       "      <td>-0.301000</td>\n",
       "      <td>16.470589</td>\n",
       "      <td>77.000000</td>\n",
       "      <td>102.000000</td>\n",
       "      <td>1000.250000</td>\n",
       "      <td>8.180000</td>\n",
       "      <td>14.000000</td>\n",
       "      <td>-0.136700</td>\n",
       "      <td>12.028536</td>\n",
       "    </tr>\n",
       "    <tr>\n",
       "      <th>50%</th>\n",
       "      <td>-0.200012</td>\n",
       "      <td>30.849661</td>\n",
       "      <td>27.730916</td>\n",
       "      <td>128.287362</td>\n",
       "      <td>0.000000</td>\n",
       "      <td>0.133000</td>\n",
       "      <td>26.274509</td>\n",
       "      <td>80.000000</td>\n",
       "      <td>109.000000</td>\n",
       "      <td>1694.000000</td>\n",
       "      <td>15.480000</td>\n",
       "      <td>17.000000</td>\n",
       "      <td>0.125000</td>\n",
       "      <td>15.909114</td>\n",
       "    </tr>\n",
       "    <tr>\n",
       "      <th>75%</th>\n",
       "      <td>0.399963</td>\n",
       "      <td>58.096436</td>\n",
       "      <td>54.418498</td>\n",
       "      <td>274.462603</td>\n",
       "      <td>0.900721</td>\n",
       "      <td>0.734300</td>\n",
       "      <td>39.607845</td>\n",
       "      <td>82.000000</td>\n",
       "      <td>125.000000</td>\n",
       "      <td>2086.000000</td>\n",
       "      <td>22.677500</td>\n",
       "      <td>19.000000</td>\n",
       "      <td>0.386700</td>\n",
       "      <td>19.982862</td>\n",
       "    </tr>\n",
       "    <tr>\n",
       "      <th>max</th>\n",
       "      <td>10.700012</td>\n",
       "      <td>124.749725</td>\n",
       "      <td>121.330733</td>\n",
       "      <td>1051.789888</td>\n",
       "      <td>12.384899</td>\n",
       "      <td>8.477800</td>\n",
       "      <td>100.000000</td>\n",
       "      <td>89.000000</td>\n",
       "      <td>252.000000</td>\n",
       "      <td>3167.000000</td>\n",
       "      <td>73.250000</td>\n",
       "      <td>34.000000</td>\n",
       "      <td>17.944800</td>\n",
       "      <td>45.336861</td>\n",
       "    </tr>\n",
       "  </tbody>\n",
       "</table>\n",
       "</div>"
      ],
      "text/plain": [
       "       AltitudeVariation  VehicleSpeedInstantaneous  VehicleSpeedAverage  \\\n",
       "count       11130.000000               11130.000000         11130.000000   \n",
       "mean           -0.478689                  39.021730            39.185487   \n",
       "std             2.036172                  34.845227            31.849461   \n",
       "min            -9.200012                   0.000000             0.000000   \n",
       "25%            -1.700012                   9.513855            15.837660   \n",
       "50%            -0.200012                  30.849661            27.730916   \n",
       "75%             0.399963                  58.096436            54.418498   \n",
       "max            10.700012                 124.749725           121.330733   \n",
       "\n",
       "       VehicleSpeedVariance  VehicleSpeedVariation  LongitudinalAcceleration  \\\n",
       "count          11130.000000           11130.000000              11130.000000   \n",
       "mean             194.612717              -0.022943                  0.680345   \n",
       "std              192.573430               2.332198                  2.069489   \n",
       "min                0.000000             -17.789218                 -2.380000   \n",
       "25%               49.953278              -0.900721                 -0.301000   \n",
       "50%              128.287362               0.000000                  0.133000   \n",
       "75%              274.462603               0.900721                  0.734300   \n",
       "max             1051.789888              12.384899                  8.477800   \n",
       "\n",
       "         EngineLoad  EngineCoolantTemperature  ManifoldAbsolutePressure  \\\n",
       "count  11130.000000              11130.000000              11130.000000   \n",
       "mean      29.436817                 76.253369                119.002875   \n",
       "std       21.412885                  9.869676                 25.184805   \n",
       "min        0.000000                 40.000000                 98.000000   \n",
       "25%       16.470589                 77.000000                102.000000   \n",
       "50%       26.274509                 80.000000                109.000000   \n",
       "75%       39.607845                 82.000000                125.000000   \n",
       "max      100.000000                 89.000000                252.000000   \n",
       "\n",
       "          EngineRPM   MassAirFlow  IntakeAirTemperature  VerticalAcceleration  \\\n",
       "count  11130.000000  11130.000000          11130.000000          11130.000000   \n",
       "mean    1601.092902     17.185517             16.957862              1.528442   \n",
       "std      561.948593     10.678724              4.196808              4.794766   \n",
       "min      752.000000      4.010000              7.000000             -1.246000   \n",
       "25%     1000.250000      8.180000             14.000000             -0.136700   \n",
       "50%     1694.000000     15.480000             17.000000              0.125000   \n",
       "75%     2086.000000     22.677500             19.000000              0.386700   \n",
       "max     3167.000000     73.250000             34.000000             17.944800   \n",
       "\n",
       "       FuelConsumptionAverage  \n",
       "count            11130.000000  \n",
       "mean                16.164601  \n",
       "std                  5.073774  \n",
       "min                  7.271883  \n",
       "25%                 12.028536  \n",
       "50%                 15.909114  \n",
       "75%                 19.982862  \n",
       "max                 45.336861  "
      ]
     },
     "execution_count": 276,
     "metadata": {},
     "output_type": "execute_result"
    }
   ],
   "source": [
    "df3.describe()"
   ]
  },
  {
   "cell_type": "code",
   "execution_count": 277,
   "metadata": {},
   "outputs": [
    {
     "name": "stdout",
     "output_type": "stream",
     "text": [
      "(11130, 16)\n"
     ]
    }
   ],
   "source": [
    "print(df3.shape)"
   ]
  },
  {
   "cell_type": "code",
   "execution_count": null,
   "metadata": {},
   "outputs": [],
   "source": []
  },
  {
   "cell_type": "code",
   "execution_count": 278,
   "metadata": {},
   "outputs": [],
   "source": [
    "#xx = df.iloc[:,[1,2]] \n",
    "scaling= df3.iloc[:,0:14]\n"
   ]
  },
  {
   "cell_type": "code",
   "execution_count": 279,
   "metadata": {},
   "outputs": [
    {
     "data": {
      "text/html": [
       "<div>\n",
       "<style scoped>\n",
       "    .dataframe tbody tr th:only-of-type {\n",
       "        vertical-align: middle;\n",
       "    }\n",
       "\n",
       "    .dataframe tbody tr th {\n",
       "        vertical-align: top;\n",
       "    }\n",
       "\n",
       "    .dataframe thead th {\n",
       "        text-align: right;\n",
       "    }\n",
       "</style>\n",
       "<table border=\"1\" class=\"dataframe\">\n",
       "  <thead>\n",
       "    <tr style=\"text-align: right;\">\n",
       "      <th></th>\n",
       "      <th>AltitudeVariation</th>\n",
       "      <th>VehicleSpeedInstantaneous</th>\n",
       "      <th>VehicleSpeedAverage</th>\n",
       "      <th>VehicleSpeedVariance</th>\n",
       "      <th>VehicleSpeedVariation</th>\n",
       "      <th>LongitudinalAcceleration</th>\n",
       "      <th>EngineLoad</th>\n",
       "      <th>EngineCoolantTemperature</th>\n",
       "      <th>ManifoldAbsolutePressure</th>\n",
       "      <th>EngineRPM</th>\n",
       "      <th>MassAirFlow</th>\n",
       "      <th>IntakeAirTemperature</th>\n",
       "      <th>VerticalAcceleration</th>\n",
       "      <th>FuelConsumptionAverage</th>\n",
       "    </tr>\n",
       "  </thead>\n",
       "  <tbody>\n",
       "    <tr>\n",
       "      <th>0</th>\n",
       "      <td>-2.299988</td>\n",
       "      <td>25.670519</td>\n",
       "      <td>13.223501</td>\n",
       "      <td>121.592690</td>\n",
       "      <td>-2.476980</td>\n",
       "      <td>0.3555</td>\n",
       "      <td>4.705883</td>\n",
       "      <td>68</td>\n",
       "      <td>106</td>\n",
       "      <td>1796</td>\n",
       "      <td>15.81</td>\n",
       "      <td>24</td>\n",
       "      <td>-0.1133</td>\n",
       "      <td>19.497335</td>\n",
       "    </tr>\n",
       "    <tr>\n",
       "      <th>1</th>\n",
       "      <td>-2.099976</td>\n",
       "      <td>24.094259</td>\n",
       "      <td>13.638919</td>\n",
       "      <td>120.422571</td>\n",
       "      <td>-1.576260</td>\n",
       "      <td>0.4492</td>\n",
       "      <td>10.588236</td>\n",
       "      <td>68</td>\n",
       "      <td>103</td>\n",
       "      <td>1689</td>\n",
       "      <td>14.65</td>\n",
       "      <td>22</td>\n",
       "      <td>-0.1289</td>\n",
       "      <td>19.515722</td>\n",
       "    </tr>\n",
       "    <tr>\n",
       "      <th>2</th>\n",
       "      <td>-1.500000</td>\n",
       "      <td>22.743179</td>\n",
       "      <td>14.031043</td>\n",
       "      <td>118.456769</td>\n",
       "      <td>-1.351080</td>\n",
       "      <td>0.4258</td>\n",
       "      <td>27.450981</td>\n",
       "      <td>68</td>\n",
       "      <td>103</td>\n",
       "      <td>1599</td>\n",
       "      <td>11.85</td>\n",
       "      <td>21</td>\n",
       "      <td>-0.1328</td>\n",
       "      <td>19.441765</td>\n",
       "    </tr>\n",
       "    <tr>\n",
       "      <th>3</th>\n",
       "      <td>0.100037</td>\n",
       "      <td>22.292820</td>\n",
       "      <td>14.171073</td>\n",
       "      <td>117.571308</td>\n",
       "      <td>-0.450359</td>\n",
       "      <td>0.4140</td>\n",
       "      <td>24.313726</td>\n",
       "      <td>69</td>\n",
       "      <td>104</td>\n",
       "      <td>1620</td>\n",
       "      <td>12.21</td>\n",
       "      <td>20</td>\n",
       "      <td>-0.0859</td>\n",
       "      <td>19.388769</td>\n",
       "    </tr>\n",
       "    <tr>\n",
       "      <th>4</th>\n",
       "      <td>0.099976</td>\n",
       "      <td>23.643900</td>\n",
       "      <td>14.328954</td>\n",
       "      <td>117.074149</td>\n",
       "      <td>1.351080</td>\n",
       "      <td>0.3945</td>\n",
       "      <td>20.000000</td>\n",
       "      <td>69</td>\n",
       "      <td>104</td>\n",
       "      <td>1708</td>\n",
       "      <td>11.91</td>\n",
       "      <td>21</td>\n",
       "      <td>-0.0664</td>\n",
       "      <td>19.301638</td>\n",
       "    </tr>\n",
       "  </tbody>\n",
       "</table>\n",
       "</div>"
      ],
      "text/plain": [
       "   AltitudeVariation  VehicleSpeedInstantaneous  VehicleSpeedAverage  \\\n",
       "0          -2.299988                  25.670519            13.223501   \n",
       "1          -2.099976                  24.094259            13.638919   \n",
       "2          -1.500000                  22.743179            14.031043   \n",
       "3           0.100037                  22.292820            14.171073   \n",
       "4           0.099976                  23.643900            14.328954   \n",
       "\n",
       "   VehicleSpeedVariance  VehicleSpeedVariation  LongitudinalAcceleration  \\\n",
       "0            121.592690              -2.476980                    0.3555   \n",
       "1            120.422571              -1.576260                    0.4492   \n",
       "2            118.456769              -1.351080                    0.4258   \n",
       "3            117.571308              -0.450359                    0.4140   \n",
       "4            117.074149               1.351080                    0.3945   \n",
       "\n",
       "   EngineLoad  EngineCoolantTemperature  ManifoldAbsolutePressure  EngineRPM  \\\n",
       "0    4.705883                        68                       106       1796   \n",
       "1   10.588236                        68                       103       1689   \n",
       "2   27.450981                        68                       103       1599   \n",
       "3   24.313726                        69                       104       1620   \n",
       "4   20.000000                        69                       104       1708   \n",
       "\n",
       "   MassAirFlow  IntakeAirTemperature  VerticalAcceleration  \\\n",
       "0        15.81                    24               -0.1133   \n",
       "1        14.65                    22               -0.1289   \n",
       "2        11.85                    21               -0.1328   \n",
       "3        12.21                    20               -0.0859   \n",
       "4        11.91                    21               -0.0664   \n",
       "\n",
       "   FuelConsumptionAverage  \n",
       "0               19.497335  \n",
       "1               19.515722  \n",
       "2               19.441765  \n",
       "3               19.388769  \n",
       "4               19.301638  "
      ]
     },
     "execution_count": 279,
     "metadata": {},
     "output_type": "execute_result"
    }
   ],
   "source": [
    "scaling.head()"
   ]
  },
  {
   "cell_type": "code",
   "execution_count": 280,
   "metadata": {},
   "outputs": [],
   "source": [
    "min_max_scaler = preprocessing.StandardScaler() \n",
    "  \n",
    "# Scaled feature \n",
    "x_after_min_max_scaler = min_max_scaler.fit(scaling) \n",
    "rescaled = x_after_min_max_scaler.transform(scaling)"
   ]
  },
  {
   "cell_type": "code",
   "execution_count": 281,
   "metadata": {},
   "outputs": [
    {
     "name": "stdout",
     "output_type": "stream",
     "text": [
      "[[-0.89451217 -0.38317476 -0.81518342 -0.37919721]\n",
      " [-0.79627826 -0.42841282 -0.80213965 -0.38527371]\n",
      " [-0.50160649 -0.46718831 -0.78982731 -0.39548223]\n",
      " [ 0.28423484 -0.48011345 -0.78543049 -0.40008048]\n",
      " [ 0.28420488 -0.44133796 -0.78047318 -0.40266226]\n",
      " [ 0.28423484 -0.4090251  -0.76751069 -0.4120391 ]\n",
      " [ 0.38246875 -0.38963739 -0.75501955 -0.41804725]\n",
      " [ 0.38243879 -0.35086185 -0.74146785 -0.42491624]\n",
      " [ 0.33333682 -0.31208636 -0.72756263 -0.42926978]\n",
      " [ 0.52980464 -0.26684824 -0.71271468 -0.43283129]\n",
      " [ 0.48067271 -0.21514761 -0.69704184 -0.4338107 ]\n",
      " [ 0.43157073 -0.13759664 -0.67913003 -0.43476043]\n",
      " [-0.05959883 -0.09235847 -0.66062901 -0.43304371]\n",
      " [-0.20690475 -0.05358304 -0.64118526 -0.43224593]\n",
      " [-0.3542706   0.01104269 -0.62056311 -0.42801534]]\n"
     ]
    }
   ],
   "source": [
    "print(rescaled[:15,:4])"
   ]
  },
  {
   "cell_type": "code",
   "execution_count": 282,
   "metadata": {},
   "outputs": [],
   "source": [
    "minmaxscaler = preprocessing.MinMaxScaler(feature_range =(0, 1))\n",
    "x_after_min_max_scaler = minmaxscaler.fit_transform(scaling)"
   ]
  },
  {
   "cell_type": "code",
   "execution_count": 283,
   "metadata": {},
   "outputs": [
    {
     "name": "stdout",
     "output_type": "stream",
     "text": [
      "[[0.34673447 0.20577616 0.10898723 0.11560549 0.50746266]\n",
      " [0.35678532 0.19314078 0.11241108 0.11449299 0.53731343]\n",
      " [0.38693481 0.18231046 0.11564294 0.11262399 0.54477611]\n",
      " [0.46733856 0.17870035 0.11679706 0.11178212 0.57462688]\n",
      " [0.4673355  0.18953068 0.1180983  0.11130944 0.63432835]\n",
      " [0.46733856 0.19855593 0.12150082 0.1095927  0.62686561]\n",
      " [0.47738941 0.20397109 0.12477961 0.10849271 0.61194026]\n",
      " [0.47738635 0.21480143 0.12833679 0.10723512 0.63432841]\n",
      " [0.47236246 0.22563175 0.13198676 0.10643806 0.63432835]\n",
      " [0.49246416 0.23826714 0.13588419 0.10578601 0.64179109]\n",
      " [0.4874372  0.25270757 0.13999814 0.1056067  0.6492537 ]\n",
      " [0.48241331 0.27436822 0.1446998  0.10543282 0.67910447]\n",
      " [0.43215905 0.28700362 0.14955613 0.10574712 0.64179115]\n",
      " [0.41708737 0.29783393 0.1546599  0.10589318 0.63432829]\n",
      " [0.40200956 0.31588445 0.160073   0.10666773 0.66417899]]\n"
     ]
    }
   ],
   "source": [
    "print(x_after_min_max_scaler[:15,:5])"
   ]
  },
  {
   "cell_type": "code",
   "execution_count": 284,
   "metadata": {},
   "outputs": [
    {
     "data": {
      "text/plain": [
       "(11130, 14)"
      ]
     },
     "execution_count": 284,
     "metadata": {},
     "output_type": "execute_result"
    }
   ],
   "source": [
    "x_after_min_max_scaler.shape"
   ]
  },
  {
   "cell_type": "code",
   "execution_count": 285,
   "metadata": {},
   "outputs": [],
   "source": [
    "df3 = df3.iloc[:,:14]"
   ]
  },
  {
   "cell_type": "code",
   "execution_count": 286,
   "metadata": {},
   "outputs": [
    {
     "data": {
      "text/plain": [
       "(11130, 14)"
      ]
     },
     "execution_count": 286,
     "metadata": {},
     "output_type": "execute_result"
    }
   ],
   "source": [
    "df3.shape"
   ]
  },
  {
   "cell_type": "code",
   "execution_count": 287,
   "metadata": {},
   "outputs": [
    {
     "data": {
      "text/html": [
       "<div>\n",
       "<style scoped>\n",
       "    .dataframe tbody tr th:only-of-type {\n",
       "        vertical-align: middle;\n",
       "    }\n",
       "\n",
       "    .dataframe tbody tr th {\n",
       "        vertical-align: top;\n",
       "    }\n",
       "\n",
       "    .dataframe thead th {\n",
       "        text-align: right;\n",
       "    }\n",
       "</style>\n",
       "<table border=\"1\" class=\"dataframe\">\n",
       "  <thead>\n",
       "    <tr style=\"text-align: right;\">\n",
       "      <th></th>\n",
       "      <th>AltitudeVariation</th>\n",
       "      <th>VehicleSpeedInstantaneous</th>\n",
       "      <th>VehicleSpeedAverage</th>\n",
       "      <th>VehicleSpeedVariance</th>\n",
       "      <th>VehicleSpeedVariation</th>\n",
       "      <th>LongitudinalAcceleration</th>\n",
       "      <th>EngineLoad</th>\n",
       "      <th>EngineCoolantTemperature</th>\n",
       "      <th>ManifoldAbsolutePressure</th>\n",
       "      <th>EngineRPM</th>\n",
       "      <th>MassAirFlow</th>\n",
       "      <th>IntakeAirTemperature</th>\n",
       "      <th>VerticalAcceleration</th>\n",
       "      <th>FuelConsumptionAverage</th>\n",
       "    </tr>\n",
       "  </thead>\n",
       "  <tbody>\n",
       "    <tr>\n",
       "      <th>0</th>\n",
       "      <td>-2.299988</td>\n",
       "      <td>25.670519</td>\n",
       "      <td>13.223501</td>\n",
       "      <td>121.592690</td>\n",
       "      <td>-2.476980</td>\n",
       "      <td>0.3555</td>\n",
       "      <td>4.705883</td>\n",
       "      <td>68</td>\n",
       "      <td>106</td>\n",
       "      <td>1796</td>\n",
       "      <td>15.81</td>\n",
       "      <td>24</td>\n",
       "      <td>-0.1133</td>\n",
       "      <td>19.497335</td>\n",
       "    </tr>\n",
       "    <tr>\n",
       "      <th>1</th>\n",
       "      <td>-2.099976</td>\n",
       "      <td>24.094259</td>\n",
       "      <td>13.638919</td>\n",
       "      <td>120.422571</td>\n",
       "      <td>-1.576260</td>\n",
       "      <td>0.4492</td>\n",
       "      <td>10.588236</td>\n",
       "      <td>68</td>\n",
       "      <td>103</td>\n",
       "      <td>1689</td>\n",
       "      <td>14.65</td>\n",
       "      <td>22</td>\n",
       "      <td>-0.1289</td>\n",
       "      <td>19.515722</td>\n",
       "    </tr>\n",
       "    <tr>\n",
       "      <th>2</th>\n",
       "      <td>-1.500000</td>\n",
       "      <td>22.743179</td>\n",
       "      <td>14.031043</td>\n",
       "      <td>118.456769</td>\n",
       "      <td>-1.351080</td>\n",
       "      <td>0.4258</td>\n",
       "      <td>27.450981</td>\n",
       "      <td>68</td>\n",
       "      <td>103</td>\n",
       "      <td>1599</td>\n",
       "      <td>11.85</td>\n",
       "      <td>21</td>\n",
       "      <td>-0.1328</td>\n",
       "      <td>19.441765</td>\n",
       "    </tr>\n",
       "    <tr>\n",
       "      <th>3</th>\n",
       "      <td>0.100037</td>\n",
       "      <td>22.292820</td>\n",
       "      <td>14.171073</td>\n",
       "      <td>117.571308</td>\n",
       "      <td>-0.450359</td>\n",
       "      <td>0.4140</td>\n",
       "      <td>24.313726</td>\n",
       "      <td>69</td>\n",
       "      <td>104</td>\n",
       "      <td>1620</td>\n",
       "      <td>12.21</td>\n",
       "      <td>20</td>\n",
       "      <td>-0.0859</td>\n",
       "      <td>19.388769</td>\n",
       "    </tr>\n",
       "    <tr>\n",
       "      <th>4</th>\n",
       "      <td>0.099976</td>\n",
       "      <td>23.643900</td>\n",
       "      <td>14.328954</td>\n",
       "      <td>117.074149</td>\n",
       "      <td>1.351080</td>\n",
       "      <td>0.3945</td>\n",
       "      <td>20.000000</td>\n",
       "      <td>69</td>\n",
       "      <td>104</td>\n",
       "      <td>1708</td>\n",
       "      <td>11.91</td>\n",
       "      <td>21</td>\n",
       "      <td>-0.0664</td>\n",
       "      <td>19.301638</td>\n",
       "    </tr>\n",
       "  </tbody>\n",
       "</table>\n",
       "</div>"
      ],
      "text/plain": [
       "   AltitudeVariation  VehicleSpeedInstantaneous  VehicleSpeedAverage  \\\n",
       "0          -2.299988                  25.670519            13.223501   \n",
       "1          -2.099976                  24.094259            13.638919   \n",
       "2          -1.500000                  22.743179            14.031043   \n",
       "3           0.100037                  22.292820            14.171073   \n",
       "4           0.099976                  23.643900            14.328954   \n",
       "\n",
       "   VehicleSpeedVariance  VehicleSpeedVariation  LongitudinalAcceleration  \\\n",
       "0            121.592690              -2.476980                    0.3555   \n",
       "1            120.422571              -1.576260                    0.4492   \n",
       "2            118.456769              -1.351080                    0.4258   \n",
       "3            117.571308              -0.450359                    0.4140   \n",
       "4            117.074149               1.351080                    0.3945   \n",
       "\n",
       "   EngineLoad  EngineCoolantTemperature  ManifoldAbsolutePressure  EngineRPM  \\\n",
       "0    4.705883                        68                       106       1796   \n",
       "1   10.588236                        68                       103       1689   \n",
       "2   27.450981                        68                       103       1599   \n",
       "3   24.313726                        69                       104       1620   \n",
       "4   20.000000                        69                       104       1708   \n",
       "\n",
       "   MassAirFlow  IntakeAirTemperature  VerticalAcceleration  \\\n",
       "0        15.81                    24               -0.1133   \n",
       "1        14.65                    22               -0.1289   \n",
       "2        11.85                    21               -0.1328   \n",
       "3        12.21                    20               -0.0859   \n",
       "4        11.91                    21               -0.0664   \n",
       "\n",
       "   FuelConsumptionAverage  \n",
       "0               19.497335  \n",
       "1               19.515722  \n",
       "2               19.441765  \n",
       "3               19.388769  \n",
       "4               19.301638  "
      ]
     },
     "execution_count": 287,
     "metadata": {},
     "output_type": "execute_result"
    }
   ],
   "source": [
    "df3.head()"
   ]
  },
  {
   "cell_type": "code",
   "execution_count": 288,
   "metadata": {},
   "outputs": [
    {
     "data": {
      "text/plain": [
       "(11130, 14)"
      ]
     },
     "execution_count": 288,
     "metadata": {},
     "output_type": "execute_result"
    }
   ],
   "source": [
    "df3.shape"
   ]
  },
  {
   "cell_type": "code",
   "execution_count": 289,
   "metadata": {},
   "outputs": [],
   "source": [
    "#df[0:,:14]= x_after_min_max_scaler"
   ]
  },
  {
   "cell_type": "code",
   "execution_count": 290,
   "metadata": {},
   "outputs": [
    {
     "data": {
      "text/plain": [
       "(11130, 14)"
      ]
     },
     "execution_count": 290,
     "metadata": {},
     "output_type": "execute_result"
    }
   ],
   "source": [
    "x_after_min_max_scaler.shape"
   ]
  },
  {
   "cell_type": "code",
   "execution_count": 291,
   "metadata": {},
   "outputs": [
    {
     "data": {
      "text/plain": [
       "0.3467344693306004"
      ]
     },
     "execution_count": 291,
     "metadata": {},
     "output_type": "execute_result"
    }
   ],
   "source": [
    "x_after_min_max_scaler[0,0]"
   ]
  },
  {
   "cell_type": "code",
   "execution_count": 292,
   "metadata": {},
   "outputs": [],
   "source": [
    "xxx = df3.values #returns a numpy array\n",
    "min_max_scaler = preprocessing.MinMaxScaler()\n",
    "x_scaled = min_max_scaler.fit_transform(xxx)\n",
    "df4 = pd.DataFrame(x_scaled)"
   ]
  },
  {
   "cell_type": "code",
   "execution_count": 293,
   "metadata": {},
   "outputs": [],
   "source": [
    "#df[0:1,0:1]=x_after_min_max_scaler[0:1,0:1]"
   ]
  },
  {
   "cell_type": "code",
   "execution_count": 294,
   "metadata": {},
   "outputs": [
    {
     "data": {
      "text/html": [
       "<div>\n",
       "<style scoped>\n",
       "    .dataframe tbody tr th:only-of-type {\n",
       "        vertical-align: middle;\n",
       "    }\n",
       "\n",
       "    .dataframe tbody tr th {\n",
       "        vertical-align: top;\n",
       "    }\n",
       "\n",
       "    .dataframe thead th {\n",
       "        text-align: right;\n",
       "    }\n",
       "</style>\n",
       "<table border=\"1\" class=\"dataframe\">\n",
       "  <thead>\n",
       "    <tr style=\"text-align: right;\">\n",
       "      <th></th>\n",
       "      <th>0</th>\n",
       "      <th>1</th>\n",
       "      <th>2</th>\n",
       "      <th>3</th>\n",
       "      <th>4</th>\n",
       "      <th>5</th>\n",
       "      <th>6</th>\n",
       "      <th>7</th>\n",
       "      <th>8</th>\n",
       "      <th>9</th>\n",
       "      <th>10</th>\n",
       "      <th>11</th>\n",
       "      <th>12</th>\n",
       "      <th>13</th>\n",
       "    </tr>\n",
       "  </thead>\n",
       "  <tbody>\n",
       "    <tr>\n",
       "      <th>0</th>\n",
       "      <td>0.346734</td>\n",
       "      <td>0.205776</td>\n",
       "      <td>0.108987</td>\n",
       "      <td>0.115605</td>\n",
       "      <td>0.507463</td>\n",
       "      <td>0.251939</td>\n",
       "      <td>0.047059</td>\n",
       "      <td>0.571429</td>\n",
       "      <td>0.051948</td>\n",
       "      <td>0.432298</td>\n",
       "      <td>0.170422</td>\n",
       "      <td>0.629630</td>\n",
       "      <td>0.059023</td>\n",
       "      <td>0.321173</td>\n",
       "    </tr>\n",
       "    <tr>\n",
       "      <th>1</th>\n",
       "      <td>0.356785</td>\n",
       "      <td>0.193141</td>\n",
       "      <td>0.112411</td>\n",
       "      <td>0.114493</td>\n",
       "      <td>0.537313</td>\n",
       "      <td>0.260568</td>\n",
       "      <td>0.105882</td>\n",
       "      <td>0.571429</td>\n",
       "      <td>0.032468</td>\n",
       "      <td>0.387992</td>\n",
       "      <td>0.153668</td>\n",
       "      <td>0.555556</td>\n",
       "      <td>0.058210</td>\n",
       "      <td>0.321656</td>\n",
       "    </tr>\n",
       "    <tr>\n",
       "      <th>2</th>\n",
       "      <td>0.386935</td>\n",
       "      <td>0.182310</td>\n",
       "      <td>0.115643</td>\n",
       "      <td>0.112624</td>\n",
       "      <td>0.544776</td>\n",
       "      <td>0.258413</td>\n",
       "      <td>0.274510</td>\n",
       "      <td>0.571429</td>\n",
       "      <td>0.032468</td>\n",
       "      <td>0.350725</td>\n",
       "      <td>0.113229</td>\n",
       "      <td>0.518519</td>\n",
       "      <td>0.058007</td>\n",
       "      <td>0.319713</td>\n",
       "    </tr>\n",
       "    <tr>\n",
       "      <th>3</th>\n",
       "      <td>0.467339</td>\n",
       "      <td>0.178700</td>\n",
       "      <td>0.116797</td>\n",
       "      <td>0.111782</td>\n",
       "      <td>0.574627</td>\n",
       "      <td>0.257327</td>\n",
       "      <td>0.243137</td>\n",
       "      <td>0.591837</td>\n",
       "      <td>0.038961</td>\n",
       "      <td>0.359420</td>\n",
       "      <td>0.118429</td>\n",
       "      <td>0.481481</td>\n",
       "      <td>0.060451</td>\n",
       "      <td>0.318321</td>\n",
       "    </tr>\n",
       "    <tr>\n",
       "      <th>4</th>\n",
       "      <td>0.467335</td>\n",
       "      <td>0.189531</td>\n",
       "      <td>0.118098</td>\n",
       "      <td>0.111309</td>\n",
       "      <td>0.634328</td>\n",
       "      <td>0.255531</td>\n",
       "      <td>0.200000</td>\n",
       "      <td>0.591837</td>\n",
       "      <td>0.038961</td>\n",
       "      <td>0.395859</td>\n",
       "      <td>0.114096</td>\n",
       "      <td>0.518519</td>\n",
       "      <td>0.061467</td>\n",
       "      <td>0.316032</td>\n",
       "    </tr>\n",
       "  </tbody>\n",
       "</table>\n",
       "</div>"
      ],
      "text/plain": [
       "          0         1         2         3         4         5         6  \\\n",
       "0  0.346734  0.205776  0.108987  0.115605  0.507463  0.251939  0.047059   \n",
       "1  0.356785  0.193141  0.112411  0.114493  0.537313  0.260568  0.105882   \n",
       "2  0.386935  0.182310  0.115643  0.112624  0.544776  0.258413  0.274510   \n",
       "3  0.467339  0.178700  0.116797  0.111782  0.574627  0.257327  0.243137   \n",
       "4  0.467335  0.189531  0.118098  0.111309  0.634328  0.255531  0.200000   \n",
       "\n",
       "          7         8         9        10        11        12        13  \n",
       "0  0.571429  0.051948  0.432298  0.170422  0.629630  0.059023  0.321173  \n",
       "1  0.571429  0.032468  0.387992  0.153668  0.555556  0.058210  0.321656  \n",
       "2  0.571429  0.032468  0.350725  0.113229  0.518519  0.058007  0.319713  \n",
       "3  0.591837  0.038961  0.359420  0.118429  0.481481  0.060451  0.318321  \n",
       "4  0.591837  0.038961  0.395859  0.114096  0.518519  0.061467  0.316032  "
      ]
     },
     "execution_count": 294,
     "metadata": {},
     "output_type": "execute_result"
    }
   ],
   "source": [
    "df4.head()"
   ]
  },
  {
   "cell_type": "code",
   "execution_count": 295,
   "metadata": {},
   "outputs": [
    {
     "data": {
      "text/html": [
       "<div>\n",
       "<style scoped>\n",
       "    .dataframe tbody tr th:only-of-type {\n",
       "        vertical-align: middle;\n",
       "    }\n",
       "\n",
       "    .dataframe tbody tr th {\n",
       "        vertical-align: top;\n",
       "    }\n",
       "\n",
       "    .dataframe thead th {\n",
       "        text-align: right;\n",
       "    }\n",
       "</style>\n",
       "<table border=\"1\" class=\"dataframe\">\n",
       "  <thead>\n",
       "    <tr style=\"text-align: right;\">\n",
       "      <th></th>\n",
       "      <th>AltitudeVariation</th>\n",
       "      <th>VehicleSpeedInstantaneous</th>\n",
       "      <th>VehicleSpeedAverage</th>\n",
       "      <th>VehicleSpeedVariance</th>\n",
       "      <th>VehicleSpeedVariation</th>\n",
       "      <th>LongitudinalAcceleration</th>\n",
       "      <th>EngineLoad</th>\n",
       "      <th>EngineCoolantTemperature</th>\n",
       "      <th>ManifoldAbsolutePressure</th>\n",
       "      <th>EngineRPM</th>\n",
       "      <th>MassAirFlow</th>\n",
       "      <th>IntakeAirTemperature</th>\n",
       "      <th>VerticalAcceleration</th>\n",
       "      <th>FuelConsumptionAverage</th>\n",
       "    </tr>\n",
       "  </thead>\n",
       "  <tbody>\n",
       "    <tr>\n",
       "      <th>0</th>\n",
       "      <td>-2.299988</td>\n",
       "      <td>25.670519</td>\n",
       "      <td>13.223501</td>\n",
       "      <td>121.592690</td>\n",
       "      <td>-2.476980</td>\n",
       "      <td>0.3555</td>\n",
       "      <td>4.705883</td>\n",
       "      <td>68</td>\n",
       "      <td>106</td>\n",
       "      <td>1796</td>\n",
       "      <td>15.81</td>\n",
       "      <td>24</td>\n",
       "      <td>-0.1133</td>\n",
       "      <td>19.497335</td>\n",
       "    </tr>\n",
       "    <tr>\n",
       "      <th>1</th>\n",
       "      <td>-2.099976</td>\n",
       "      <td>24.094259</td>\n",
       "      <td>13.638919</td>\n",
       "      <td>120.422571</td>\n",
       "      <td>-1.576260</td>\n",
       "      <td>0.4492</td>\n",
       "      <td>10.588236</td>\n",
       "      <td>68</td>\n",
       "      <td>103</td>\n",
       "      <td>1689</td>\n",
       "      <td>14.65</td>\n",
       "      <td>22</td>\n",
       "      <td>-0.1289</td>\n",
       "      <td>19.515722</td>\n",
       "    </tr>\n",
       "    <tr>\n",
       "      <th>2</th>\n",
       "      <td>-1.500000</td>\n",
       "      <td>22.743179</td>\n",
       "      <td>14.031043</td>\n",
       "      <td>118.456769</td>\n",
       "      <td>-1.351080</td>\n",
       "      <td>0.4258</td>\n",
       "      <td>27.450981</td>\n",
       "      <td>68</td>\n",
       "      <td>103</td>\n",
       "      <td>1599</td>\n",
       "      <td>11.85</td>\n",
       "      <td>21</td>\n",
       "      <td>-0.1328</td>\n",
       "      <td>19.441765</td>\n",
       "    </tr>\n",
       "    <tr>\n",
       "      <th>3</th>\n",
       "      <td>0.100037</td>\n",
       "      <td>22.292820</td>\n",
       "      <td>14.171073</td>\n",
       "      <td>117.571308</td>\n",
       "      <td>-0.450359</td>\n",
       "      <td>0.4140</td>\n",
       "      <td>24.313726</td>\n",
       "      <td>69</td>\n",
       "      <td>104</td>\n",
       "      <td>1620</td>\n",
       "      <td>12.21</td>\n",
       "      <td>20</td>\n",
       "      <td>-0.0859</td>\n",
       "      <td>19.388769</td>\n",
       "    </tr>\n",
       "    <tr>\n",
       "      <th>4</th>\n",
       "      <td>0.099976</td>\n",
       "      <td>23.643900</td>\n",
       "      <td>14.328954</td>\n",
       "      <td>117.074149</td>\n",
       "      <td>1.351080</td>\n",
       "      <td>0.3945</td>\n",
       "      <td>20.000000</td>\n",
       "      <td>69</td>\n",
       "      <td>104</td>\n",
       "      <td>1708</td>\n",
       "      <td>11.91</td>\n",
       "      <td>21</td>\n",
       "      <td>-0.0664</td>\n",
       "      <td>19.301638</td>\n",
       "    </tr>\n",
       "  </tbody>\n",
       "</table>\n",
       "</div>"
      ],
      "text/plain": [
       "   AltitudeVariation  VehicleSpeedInstantaneous  VehicleSpeedAverage  \\\n",
       "0          -2.299988                  25.670519            13.223501   \n",
       "1          -2.099976                  24.094259            13.638919   \n",
       "2          -1.500000                  22.743179            14.031043   \n",
       "3           0.100037                  22.292820            14.171073   \n",
       "4           0.099976                  23.643900            14.328954   \n",
       "\n",
       "   VehicleSpeedVariance  VehicleSpeedVariation  LongitudinalAcceleration  \\\n",
       "0            121.592690              -2.476980                    0.3555   \n",
       "1            120.422571              -1.576260                    0.4492   \n",
       "2            118.456769              -1.351080                    0.4258   \n",
       "3            117.571308              -0.450359                    0.4140   \n",
       "4            117.074149               1.351080                    0.3945   \n",
       "\n",
       "   EngineLoad  EngineCoolantTemperature  ManifoldAbsolutePressure  EngineRPM  \\\n",
       "0    4.705883                        68                       106       1796   \n",
       "1   10.588236                        68                       103       1689   \n",
       "2   27.450981                        68                       103       1599   \n",
       "3   24.313726                        69                       104       1620   \n",
       "4   20.000000                        69                       104       1708   \n",
       "\n",
       "   MassAirFlow  IntakeAirTemperature  VerticalAcceleration  \\\n",
       "0        15.81                    24               -0.1133   \n",
       "1        14.65                    22               -0.1289   \n",
       "2        11.85                    21               -0.1328   \n",
       "3        12.21                    20               -0.0859   \n",
       "4        11.91                    21               -0.0664   \n",
       "\n",
       "   FuelConsumptionAverage  \n",
       "0               19.497335  \n",
       "1               19.515722  \n",
       "2               19.441765  \n",
       "3               19.388769  \n",
       "4               19.301638  "
      ]
     },
     "execution_count": 295,
     "metadata": {},
     "output_type": "execute_result"
    }
   ],
   "source": [
    "df3.head()"
   ]
  },
  {
   "cell_type": "code",
   "execution_count": 296,
   "metadata": {},
   "outputs": [],
   "source": [
    "df4.columns = df3.columns"
   ]
  },
  {
   "cell_type": "code",
   "execution_count": 297,
   "metadata": {},
   "outputs": [
    {
     "data": {
      "text/html": [
       "<div>\n",
       "<style scoped>\n",
       "    .dataframe tbody tr th:only-of-type {\n",
       "        vertical-align: middle;\n",
       "    }\n",
       "\n",
       "    .dataframe tbody tr th {\n",
       "        vertical-align: top;\n",
       "    }\n",
       "\n",
       "    .dataframe thead th {\n",
       "        text-align: right;\n",
       "    }\n",
       "</style>\n",
       "<table border=\"1\" class=\"dataframe\">\n",
       "  <thead>\n",
       "    <tr style=\"text-align: right;\">\n",
       "      <th></th>\n",
       "      <th>AltitudeVariation</th>\n",
       "      <th>VehicleSpeedInstantaneous</th>\n",
       "      <th>VehicleSpeedAverage</th>\n",
       "      <th>VehicleSpeedVariance</th>\n",
       "      <th>VehicleSpeedVariation</th>\n",
       "      <th>LongitudinalAcceleration</th>\n",
       "      <th>EngineLoad</th>\n",
       "      <th>EngineCoolantTemperature</th>\n",
       "      <th>ManifoldAbsolutePressure</th>\n",
       "      <th>EngineRPM</th>\n",
       "      <th>MassAirFlow</th>\n",
       "      <th>IntakeAirTemperature</th>\n",
       "      <th>VerticalAcceleration</th>\n",
       "      <th>FuelConsumptionAverage</th>\n",
       "    </tr>\n",
       "  </thead>\n",
       "  <tbody>\n",
       "    <tr>\n",
       "      <th>0</th>\n",
       "      <td>0.346734</td>\n",
       "      <td>0.205776</td>\n",
       "      <td>0.108987</td>\n",
       "      <td>0.115605</td>\n",
       "      <td>0.507463</td>\n",
       "      <td>0.251939</td>\n",
       "      <td>0.047059</td>\n",
       "      <td>0.571429</td>\n",
       "      <td>0.051948</td>\n",
       "      <td>0.432298</td>\n",
       "      <td>0.170422</td>\n",
       "      <td>0.629630</td>\n",
       "      <td>0.059023</td>\n",
       "      <td>0.321173</td>\n",
       "    </tr>\n",
       "    <tr>\n",
       "      <th>1</th>\n",
       "      <td>0.356785</td>\n",
       "      <td>0.193141</td>\n",
       "      <td>0.112411</td>\n",
       "      <td>0.114493</td>\n",
       "      <td>0.537313</td>\n",
       "      <td>0.260568</td>\n",
       "      <td>0.105882</td>\n",
       "      <td>0.571429</td>\n",
       "      <td>0.032468</td>\n",
       "      <td>0.387992</td>\n",
       "      <td>0.153668</td>\n",
       "      <td>0.555556</td>\n",
       "      <td>0.058210</td>\n",
       "      <td>0.321656</td>\n",
       "    </tr>\n",
       "    <tr>\n",
       "      <th>2</th>\n",
       "      <td>0.386935</td>\n",
       "      <td>0.182310</td>\n",
       "      <td>0.115643</td>\n",
       "      <td>0.112624</td>\n",
       "      <td>0.544776</td>\n",
       "      <td>0.258413</td>\n",
       "      <td>0.274510</td>\n",
       "      <td>0.571429</td>\n",
       "      <td>0.032468</td>\n",
       "      <td>0.350725</td>\n",
       "      <td>0.113229</td>\n",
       "      <td>0.518519</td>\n",
       "      <td>0.058007</td>\n",
       "      <td>0.319713</td>\n",
       "    </tr>\n",
       "    <tr>\n",
       "      <th>3</th>\n",
       "      <td>0.467339</td>\n",
       "      <td>0.178700</td>\n",
       "      <td>0.116797</td>\n",
       "      <td>0.111782</td>\n",
       "      <td>0.574627</td>\n",
       "      <td>0.257327</td>\n",
       "      <td>0.243137</td>\n",
       "      <td>0.591837</td>\n",
       "      <td>0.038961</td>\n",
       "      <td>0.359420</td>\n",
       "      <td>0.118429</td>\n",
       "      <td>0.481481</td>\n",
       "      <td>0.060451</td>\n",
       "      <td>0.318321</td>\n",
       "    </tr>\n",
       "    <tr>\n",
       "      <th>4</th>\n",
       "      <td>0.467335</td>\n",
       "      <td>0.189531</td>\n",
       "      <td>0.118098</td>\n",
       "      <td>0.111309</td>\n",
       "      <td>0.634328</td>\n",
       "      <td>0.255531</td>\n",
       "      <td>0.200000</td>\n",
       "      <td>0.591837</td>\n",
       "      <td>0.038961</td>\n",
       "      <td>0.395859</td>\n",
       "      <td>0.114096</td>\n",
       "      <td>0.518519</td>\n",
       "      <td>0.061467</td>\n",
       "      <td>0.316032</td>\n",
       "    </tr>\n",
       "  </tbody>\n",
       "</table>\n",
       "</div>"
      ],
      "text/plain": [
       "   AltitudeVariation  VehicleSpeedInstantaneous  VehicleSpeedAverage  \\\n",
       "0           0.346734                   0.205776             0.108987   \n",
       "1           0.356785                   0.193141             0.112411   \n",
       "2           0.386935                   0.182310             0.115643   \n",
       "3           0.467339                   0.178700             0.116797   \n",
       "4           0.467335                   0.189531             0.118098   \n",
       "\n",
       "   VehicleSpeedVariance  VehicleSpeedVariation  LongitudinalAcceleration  \\\n",
       "0              0.115605               0.507463                  0.251939   \n",
       "1              0.114493               0.537313                  0.260568   \n",
       "2              0.112624               0.544776                  0.258413   \n",
       "3              0.111782               0.574627                  0.257327   \n",
       "4              0.111309               0.634328                  0.255531   \n",
       "\n",
       "   EngineLoad  EngineCoolantTemperature  ManifoldAbsolutePressure  EngineRPM  \\\n",
       "0    0.047059                  0.571429                  0.051948   0.432298   \n",
       "1    0.105882                  0.571429                  0.032468   0.387992   \n",
       "2    0.274510                  0.571429                  0.032468   0.350725   \n",
       "3    0.243137                  0.591837                  0.038961   0.359420   \n",
       "4    0.200000                  0.591837                  0.038961   0.395859   \n",
       "\n",
       "   MassAirFlow  IntakeAirTemperature  VerticalAcceleration  \\\n",
       "0     0.170422              0.629630              0.059023   \n",
       "1     0.153668              0.555556              0.058210   \n",
       "2     0.113229              0.518519              0.058007   \n",
       "3     0.118429              0.481481              0.060451   \n",
       "4     0.114096              0.518519              0.061467   \n",
       "\n",
       "   FuelConsumptionAverage  \n",
       "0                0.321173  \n",
       "1                0.321656  \n",
       "2                0.319713  \n",
       "3                0.318321  \n",
       "4                0.316032  "
      ]
     },
     "execution_count": 297,
     "metadata": {},
     "output_type": "execute_result"
    }
   ],
   "source": [
    "df4.head()"
   ]
  },
  {
   "cell_type": "code",
   "execution_count": 298,
   "metadata": {
    "colab": {
     "base_uri": "https://localhost:8080/",
     "height": 166
    },
    "colab_type": "code",
    "id": "rDINPzuRYjEr",
    "outputId": "a6b36707-459d-43c8-8ca3-a8cd30215b46"
   },
   "outputs": [
    {
     "data": {
      "text/html": [
       "<div>\n",
       "<style scoped>\n",
       "    .dataframe tbody tr th:only-of-type {\n",
       "        vertical-align: middle;\n",
       "    }\n",
       "\n",
       "    .dataframe tbody tr th {\n",
       "        vertical-align: top;\n",
       "    }\n",
       "\n",
       "    .dataframe thead th {\n",
       "        text-align: right;\n",
       "    }\n",
       "</style>\n",
       "<table border=\"1\" class=\"dataframe\">\n",
       "  <thead>\n",
       "    <tr style=\"text-align: right;\">\n",
       "      <th></th>\n",
       "      <th>roadSurface</th>\n",
       "      <th>drivingStyle</th>\n",
       "    </tr>\n",
       "  </thead>\n",
       "  <tbody>\n",
       "    <tr>\n",
       "      <th>count</th>\n",
       "      <td>11130</td>\n",
       "      <td>11130</td>\n",
       "    </tr>\n",
       "    <tr>\n",
       "      <th>unique</th>\n",
       "      <td>2</td>\n",
       "      <td>2</td>\n",
       "    </tr>\n",
       "    <tr>\n",
       "      <th>top</th>\n",
       "      <td>SmoothCondition</td>\n",
       "      <td>EvenPaceStyle</td>\n",
       "    </tr>\n",
       "    <tr>\n",
       "      <th>freq</th>\n",
       "      <td>10685</td>\n",
       "      <td>9041</td>\n",
       "    </tr>\n",
       "  </tbody>\n",
       "</table>\n",
       "</div>"
      ],
      "text/plain": [
       "            roadSurface   drivingStyle\n",
       "count             11130          11130\n",
       "unique                2              2\n",
       "top     SmoothCondition  EvenPaceStyle\n",
       "freq              10685           9041"
      ]
     },
     "execution_count": 298,
     "metadata": {},
     "output_type": "execute_result"
    }
   ],
   "source": [
    "df.describe(include=[np.object])"
   ]
  },
  {
   "cell_type": "code",
   "execution_count": 299,
   "metadata": {
    "colab": {},
    "colab_type": "code",
    "id": "9219lvCcjAKI"
   },
   "outputs": [],
   "source": [
    "df['drivingStyle'] = df.drivingStyle.replace({'EvenPaceStyle': 0, 'AggressiveStyle': 1})\n",
    "df['roadSurface']= df.roadSurface.replace({'SmoothCondition': 0, 'UnevenCondition': 1})"
   ]
  },
  {
   "cell_type": "code",
   "execution_count": 300,
   "metadata": {
    "colab": {},
    "colab_type": "code",
    "id": "w8e_ZaAMextl"
   },
   "outputs": [],
   "source": [
    "def plotCorrelationMatrix(df, graphWidth):\n",
    "    #filename = df.dataframeName\n",
    "    #df = df.dropna('columns') # drop columns with NaN\n",
    "    df = df[[col for col in df if df[col].nunique() > 1]] # keep columns where there are more than 1 unique values\n",
    "    if df.shape[1] < 2:\n",
    "        print(f'No correlation plots shown: The number of non-NaN or constant columns ({df.shape[1]}) is less than 2')\n",
    "        return\n",
    "    corr = df.corr()\n",
    "    plt.figure(num=None, figsize=(graphWidth, graphWidth), dpi=80, facecolor='w', edgecolor='k')\n",
    "    corrMat = plt.matshow(corr, fignum = 1)\n",
    "    plt.xticks(range(len(corr.columns)), corr.columns, rotation=90)\n",
    "    plt.yticks(range(len(corr.columns)), corr.columns)\n",
    "    plt.gca().xaxis.tick_bottom()\n",
    "    plt.colorbar(corrMat)\n",
    "    plt.title(f'Correlation Matrix for opel_corsa_01', fontsize=15)\n",
    "    plt.show()"
   ]
  },
  {
   "cell_type": "code",
   "execution_count": 301,
   "metadata": {
    "colab": {
     "base_uri": "https://localhost:8080/",
     "height": 634
    },
    "colab_type": "code",
    "id": "EwGwtli5fCIh",
    "outputId": "7cbbf4f1-e5e9-4622-c034-890c9ab98be8"
   },
   "outputs": [
    {
     "data": {
      "image/png": "[encoded data removed]",
      "text/plain": [
       "<Figure size 640x640 with 2 Axes>"
      ]
     },
     "metadata": {},
     "output_type": "display_data"
    }
   ],
   "source": [
    "plotCorrelationMatrix(df, 8)"
   ]
  },
  {
   "cell_type": "code",
   "execution_count": 302,
   "metadata": {},
   "outputs": [
    {
     "data": {
      "image/png": "[encoded data removed]",
      "text/plain": [
       "<Figure size 640x640 with 2 Axes>"
      ]
     },
     "metadata": {},
     "output_type": "display_data"
    }
   ],
   "source": [
    "plotCorrelationMatrix(df4, 8)"
   ]
  },
  {
   "cell_type": "markdown",
   "metadata": {
    "colab_type": "text",
    "id": "FPreOT73fgIw"
   },
   "source": [
    "Before balancing data, see how classifiers perform:\n"
   ]
  },
  {
   "cell_type": "code",
   "execution_count": 303,
   "metadata": {
    "colab": {
     "base_uri": "https://localhost:8080/",
     "height": 286
    },
    "colab_type": "code",
    "id": "r7nMK7kyfmt4",
    "outputId": "30e25489-573b-4938-e981-2429a8af6849"
   },
   "outputs": [
    {
     "data": {
      "text/plain": [
       "['AltitudeVariation',\n",
       " 'VehicleSpeedInstantaneous',\n",
       " 'VehicleSpeedAverage',\n",
       " 'VehicleSpeedVariance',\n",
       " 'VehicleSpeedVariation',\n",
       " 'LongitudinalAcceleration',\n",
       " 'EngineLoad',\n",
       " 'EngineCoolantTemperature',\n",
       " 'ManifoldAbsolutePressure',\n",
       " 'EngineRPM',\n",
       " 'MassAirFlow',\n",
       " 'IntakeAirTemperature',\n",
       " 'VerticalAcceleration',\n",
       " 'FuelConsumptionAverage',\n",
       " 'roadSurface',\n",
       " 'drivingStyle']"
      ]
     },
     "execution_count": 303,
     "metadata": {},
     "output_type": "execute_result"
    }
   ],
   "source": [
    "list(df.columns)"
   ]
  },
  {
   "cell_type": "code",
   "execution_count": 304,
   "metadata": {
    "colab": {},
    "colab_type": "code",
    "id": "PA87eiODfzUe"
   },
   "outputs": [],
   "source": [
    "features = ['AltitudeVariation','VehicleSpeedInstantaneous','VehicleSpeedAverage','VehicleSpeedVariance','VehicleSpeedVariation','LongitudinalAcceleration','EngineLoad','EngineCoolantTemperature','ManifoldAbsolutePressure','EngineRPM','MassAirFlow','IntakeAirTemperature','VerticalAcceleration','FuelConsumptionAverage']"
   ]
  },
  {
   "cell_type": "code",
   "execution_count": 305,
   "metadata": {
    "colab": {
     "base_uri": "https://localhost:8080/",
     "height": 215
    },
    "colab_type": "code",
    "id": "qNrEEd5agaNH",
    "outputId": "c81143d4-c8b0-4471-92be-4af409355407"
   },
   "outputs": [
    {
     "data": {
      "text/html": [
       "<div>\n",
       "<style scoped>\n",
       "    .dataframe tbody tr th:only-of-type {\n",
       "        vertical-align: middle;\n",
       "    }\n",
       "\n",
       "    .dataframe tbody tr th {\n",
       "        vertical-align: top;\n",
       "    }\n",
       "\n",
       "    .dataframe thead th {\n",
       "        text-align: right;\n",
       "    }\n",
       "</style>\n",
       "<table border=\"1\" class=\"dataframe\">\n",
       "  <thead>\n",
       "    <tr style=\"text-align: right;\">\n",
       "      <th></th>\n",
       "      <th>AltitudeVariation</th>\n",
       "      <th>VehicleSpeedInstantaneous</th>\n",
       "      <th>VehicleSpeedAverage</th>\n",
       "      <th>VehicleSpeedVariance</th>\n",
       "      <th>VehicleSpeedVariation</th>\n",
       "      <th>LongitudinalAcceleration</th>\n",
       "      <th>EngineLoad</th>\n",
       "      <th>EngineCoolantTemperature</th>\n",
       "      <th>ManifoldAbsolutePressure</th>\n",
       "      <th>EngineRPM</th>\n",
       "      <th>MassAirFlow</th>\n",
       "      <th>IntakeAirTemperature</th>\n",
       "      <th>VerticalAcceleration</th>\n",
       "      <th>FuelConsumptionAverage</th>\n",
       "    </tr>\n",
       "  </thead>\n",
       "  <tbody>\n",
       "    <tr>\n",
       "      <th>0</th>\n",
       "      <td>-2.299988</td>\n",
       "      <td>25.670519</td>\n",
       "      <td>13.223501</td>\n",
       "      <td>121.592690</td>\n",
       "      <td>-2.476980</td>\n",
       "      <td>0.3555</td>\n",
       "      <td>4.705883</td>\n",
       "      <td>68</td>\n",
       "      <td>106</td>\n",
       "      <td>1796</td>\n",
       "      <td>15.81</td>\n",
       "      <td>24</td>\n",
       "      <td>-0.1133</td>\n",
       "      <td>19.497335</td>\n",
       "    </tr>\n",
       "    <tr>\n",
       "      <th>1</th>\n",
       "      <td>-2.099976</td>\n",
       "      <td>24.094259</td>\n",
       "      <td>13.638919</td>\n",
       "      <td>120.422571</td>\n",
       "      <td>-1.576260</td>\n",
       "      <td>0.4492</td>\n",
       "      <td>10.588236</td>\n",
       "      <td>68</td>\n",
       "      <td>103</td>\n",
       "      <td>1689</td>\n",
       "      <td>14.65</td>\n",
       "      <td>22</td>\n",
       "      <td>-0.1289</td>\n",
       "      <td>19.515722</td>\n",
       "    </tr>\n",
       "    <tr>\n",
       "      <th>2</th>\n",
       "      <td>-1.500000</td>\n",
       "      <td>22.743179</td>\n",
       "      <td>14.031043</td>\n",
       "      <td>118.456769</td>\n",
       "      <td>-1.351080</td>\n",
       "      <td>0.4258</td>\n",
       "      <td>27.450981</td>\n",
       "      <td>68</td>\n",
       "      <td>103</td>\n",
       "      <td>1599</td>\n",
       "      <td>11.85</td>\n",
       "      <td>21</td>\n",
       "      <td>-0.1328</td>\n",
       "      <td>19.441765</td>\n",
       "    </tr>\n",
       "    <tr>\n",
       "      <th>3</th>\n",
       "      <td>0.100037</td>\n",
       "      <td>22.292820</td>\n",
       "      <td>14.171073</td>\n",
       "      <td>117.571308</td>\n",
       "      <td>-0.450359</td>\n",
       "      <td>0.4140</td>\n",
       "      <td>24.313726</td>\n",
       "      <td>69</td>\n",
       "      <td>104</td>\n",
       "      <td>1620</td>\n",
       "      <td>12.21</td>\n",
       "      <td>20</td>\n",
       "      <td>-0.0859</td>\n",
       "      <td>19.388769</td>\n",
       "    </tr>\n",
       "    <tr>\n",
       "      <th>4</th>\n",
       "      <td>0.099976</td>\n",
       "      <td>23.643900</td>\n",
       "      <td>14.328954</td>\n",
       "      <td>117.074149</td>\n",
       "      <td>1.351080</td>\n",
       "      <td>0.3945</td>\n",
       "      <td>20.000000</td>\n",
       "      <td>69</td>\n",
       "      <td>104</td>\n",
       "      <td>1708</td>\n",
       "      <td>11.91</td>\n",
       "      <td>21</td>\n",
       "      <td>-0.0664</td>\n",
       "      <td>19.301638</td>\n",
       "    </tr>\n",
       "  </tbody>\n",
       "</table>\n",
       "</div>"
      ],
      "text/plain": [
       "   AltitudeVariation  VehicleSpeedInstantaneous  VehicleSpeedAverage  \\\n",
       "0          -2.299988                  25.670519            13.223501   \n",
       "1          -2.099976                  24.094259            13.638919   \n",
       "2          -1.500000                  22.743179            14.031043   \n",
       "3           0.100037                  22.292820            14.171073   \n",
       "4           0.099976                  23.643900            14.328954   \n",
       "\n",
       "   VehicleSpeedVariance  VehicleSpeedVariation  LongitudinalAcceleration  \\\n",
       "0            121.592690              -2.476980                    0.3555   \n",
       "1            120.422571              -1.576260                    0.4492   \n",
       "2            118.456769              -1.351080                    0.4258   \n",
       "3            117.571308              -0.450359                    0.4140   \n",
       "4            117.074149               1.351080                    0.3945   \n",
       "\n",
       "   EngineLoad  EngineCoolantTemperature  ManifoldAbsolutePressure  EngineRPM  \\\n",
       "0    4.705883                        68                       106       1796   \n",
       "1   10.588236                        68                       103       1689   \n",
       "2   27.450981                        68                       103       1599   \n",
       "3   24.313726                        69                       104       1620   \n",
       "4   20.000000                        69                       104       1708   \n",
       "\n",
       "   MassAirFlow  IntakeAirTemperature  VerticalAcceleration  \\\n",
       "0        15.81                    24               -0.1133   \n",
       "1        14.65                    22               -0.1289   \n",
       "2        11.85                    21               -0.1328   \n",
       "3        12.21                    20               -0.0859   \n",
       "4        11.91                    21               -0.0664   \n",
       "\n",
       "   FuelConsumptionAverage  \n",
       "0               19.497335  \n",
       "1               19.515722  \n",
       "2               19.441765  \n",
       "3               19.388769  \n",
       "4               19.301638  "
      ]
     },
     "execution_count": 305,
     "metadata": {},
     "output_type": "execute_result"
    }
   ],
   "source": [
    "X = df[features]\n",
    "X.head()\n"
   ]
  },
  {
   "cell_type": "code",
   "execution_count": 306,
   "metadata": {
    "colab": {
     "base_uri": "https://localhost:8080/",
     "height": 34
    },
    "colab_type": "code",
    "id": "6xGsqpChgmB7",
    "outputId": "6be7a495-22ad-4a4b-c059-04bd76f1c014"
   },
   "outputs": [
    {
     "name": "stdout",
     "output_type": "stream",
     "text": [
      "(11130, 14)\n"
     ]
    }
   ],
   "source": [
    "print(X.shape)"
   ]
  },
  {
   "cell_type": "code",
   "execution_count": 307,
   "metadata": {
    "colab": {
     "base_uri": "https://localhost:8080/",
     "height": 54
    },
    "colab_type": "code",
    "id": "ttYBM8oQ_NLz",
    "outputId": "cbff89e5-82fc-467c-ed0d-e47f3a40ab17"
   },
   "outputs": [],
   "source": [
    "\n",
    "#feature_names.pop(16)\n",
    "#feature_names.pop(15)\n",
    "#feature_names.pop(14)\n",
    "#print(feature_names)\n",
    "#for i in feature_names:\n",
    "#        df[i].fillna(df[i].mean(), inplace=True)"
   ]
  },
  {
   "cell_type": "code",
   "execution_count": 308,
   "metadata": {
    "colab": {
     "base_uri": "https://localhost:8080/",
     "height": 304
    },
    "colab_type": "code",
    "id": "W2iok9OrDxO-",
    "outputId": "548e6509-5ac7-4b50-ea3d-aafaab09a9ed"
   },
   "outputs": [],
   "source": [
    "#df.describe()"
   ]
  },
  {
   "cell_type": "code",
   "execution_count": 309,
   "metadata": {
    "colab": {
     "base_uri": "https://localhost:8080/",
     "height": 633
    },
    "colab_type": "code",
    "id": "n0C7Dg17D_Mm",
    "outputId": "a30f2cee-a147-4ea9-8b0a-4da20636d451"
   },
   "outputs": [],
   "source": [
    "#plotCorrelationMatrix(df, 8)"
   ]
  },
  {
   "cell_type": "code",
   "execution_count": 310,
   "metadata": {
    "colab": {
     "base_uri": "https://localhost:8080/",
     "height": 118
    },
    "colab_type": "code",
    "id": "1dS1DIW-gr3Y",
    "outputId": "0fc6c813-8f95-4320-a4a9-af6b857043a6"
   },
   "outputs": [
    {
     "data": {
      "text/plain": [
       "0    0\n",
       "1    0\n",
       "2    0\n",
       "3    0\n",
       "4    0\n",
       "Name: drivingStyle, dtype: int64"
      ]
     },
     "execution_count": 310,
     "metadata": {},
     "output_type": "execute_result"
    }
   ],
   "source": [
    "y = df['drivingStyle']\n",
    "y.head()"
   ]
  },
  {
   "cell_type": "code",
   "execution_count": 311,
   "metadata": {
    "colab": {
     "base_uri": "https://localhost:8080/",
     "height": 84
    },
    "colab_type": "code",
    "id": "-tz1068GhR0H",
    "outputId": "545cfbca-23a2-4055-8563-e4bf02932c28"
   },
   "outputs": [
    {
     "name": "stdout",
     "output_type": "stream",
     "text": [
      "(8347, 14)\n",
      "(2783, 14)\n",
      "(8347,)\n",
      "(2783,)\n"
     ]
    }
   ],
   "source": [
    "from sklearn.model_selection import train_test_split\n",
    "X_train, X_test, y_train, y_test = train_test_split(X, y, random_state = 1)\n",
    "print(X_train.shape)\n",
    "print(X_test.shape)\n",
    "print(y_train.shape)\n",
    "print(y_test.shape)"
   ]
  },
  {
   "cell_type": "code",
   "execution_count": 312,
   "metadata": {
    "colab": {
     "base_uri": "https://localhost:8080/",
     "height": 50
    },
    "colab_type": "code",
    "id": "kWX38byOinSj",
    "outputId": "2c1b5db0-4c5a-4903-9f63-f27e0dac6900"
   },
   "outputs": [
    {
     "name": "stdout",
     "output_type": "stream",
     "text": [
      "0.1814588573481854\n",
      "0.8185411426518145\n"
     ]
    }
   ],
   "source": [
    "aggressive_percent = y_test.mean()\n",
    "even_percent = 1 - y_test.mean()\n",
    "print(aggressive_percent)\n",
    "print(even_percent)\n"
   ]
  },
  {
   "cell_type": "markdown",
   "metadata": {
    "colab_type": "text",
    "id": "5b1SPD07jv5r"
   },
   "source": [
    "=> Even if Even Driving Style is predicted always, the accuracy would be **81.8%**\n",
    "=> We need to design a classifer that provides better accuracy than this!"
   ]
  },
  {
   "cell_type": "code",
   "execution_count": 313,
   "metadata": {
    "colab": {
     "base_uri": "https://localhost:8080/",
     "height": 101
    },
    "colab_type": "code",
    "id": "uUUY4I2Zj9fl",
    "outputId": "d91d72d9-55ad-457c-ff7b-ae6adbacbdd0"
   },
   "outputs": [
    {
     "data": {
      "text/plain": [
       "LogisticRegression(C=1.0, class_weight=None, dual=False, fit_intercept=True,\n",
       "                   intercept_scaling=1, l1_ratio=None, max_iter=100,\n",
       "                   multi_class='warn', n_jobs=None, penalty='l2',\n",
       "                   random_state=None, solver='liblinear', tol=0.0001, verbose=0,\n",
       "                   warm_start=False)"
      ]
     },
     "execution_count": 313,
     "metadata": {},
     "output_type": "execute_result"
    }
   ],
   "source": [
    "from sklearn.linear_model import LinearRegression, LogisticRegression\n",
    "logreg = LogisticRegression(solver='liblinear')\n",
    "logreg.fit(X_train,y_train)"
   ]
  },
  {
   "cell_type": "code",
   "execution_count": 314,
   "metadata": {
    "colab": {
     "base_uri": "https://localhost:8080/",
     "height": 302
    },
    "colab_type": "code",
    "id": "xNYaJrbWpQfO",
    "outputId": "82421568-5a4e-415b-ede3-bcca8d86dd58"
   },
   "outputs": [
    {
     "name": "stdout",
     "output_type": "stream",
     "text": [
      "Compare actual response with predicted (accuracy):  0.8192597915918074\n",
      "Precision:  0.5138888888888888\n",
      "Recall:  0.07326732673267326\n",
      "F1 Score:  0.07326732673267326\n",
      "Classification Report: \n",
      "               precision    recall  f1-score   support\n",
      "\n",
      "           0       0.83      0.98      0.90      2278\n",
      "           1       0.51      0.07      0.13       505\n",
      "\n",
      "    accuracy                           0.82      2783\n",
      "   macro avg       0.67      0.53      0.51      2783\n",
      "weighted avg       0.77      0.82      0.76      2783\n",
      "\n",
      "Confusion Matrix: \n",
      " [[2243   35]\n",
      " [ 468   37]]\n"
     ]
    }
   ],
   "source": [
    "y_pred = logreg.predict(X_test)\n",
    "from sklearn import metrics\n",
    "print(\"Compare actual response with predicted (accuracy): \", metrics.accuracy_score(y_test, y_pred))\n",
    "print(\"Precision: \", metrics.precision_score(y_test, y_pred))\n",
    "print(\"Recall: \", metrics.recall_score(y_test, y_pred))\n",
    "print(\"F1 Score: \", metrics.recall_score(y_test, y_pred))\n",
    "print(\"Classification Report: \\n\", metrics.classification_report(y_test, y_pred))\n",
    "print(\"Confusion Matrix: \\n\", metrics.confusion_matrix(y_test, y_pred))"
   ]
  },
  {
   "cell_type": "code",
   "execution_count": 315,
   "metadata": {
    "colab": {
     "base_uri": "https://localhost:8080/",
     "height": 101
    },
    "colab_type": "code",
    "id": "oGf0NxAqpmYZ",
    "outputId": "7ea2e0aa-2d35-439b-95b9-b2608288e818"
   },
   "outputs": [
    {
     "data": {
      "text/plain": [
       "LogisticRegression(C=1.0, class_weight='balanced', dual=False,\n",
       "                   fit_intercept=True, intercept_scaling=1, l1_ratio=None,\n",
       "                   max_iter=100, multi_class='warn', n_jobs=None, penalty='l2',\n",
       "                   random_state=None, solver='liblinear', tol=0.0001, verbose=0,\n",
       "                   warm_start=False)"
      ]
     },
     "execution_count": 315,
     "metadata": {},
     "output_type": "execute_result"
    }
   ],
   "source": [
    "logreg = LogisticRegression(solver='liblinear',class_weight='balanced')\n",
    "logreg.fit(X_train,y_train)"
   ]
  },
  {
   "cell_type": "code",
   "execution_count": 316,
   "metadata": {
    "colab": {
     "base_uri": "https://localhost:8080/",
     "height": 302
    },
    "colab_type": "code",
    "id": "idx1SX41p_1H",
    "outputId": "bc4f1595-6ce2-47fa-d602-e37712bb6e75"
   },
   "outputs": [
    {
     "name": "stdout",
     "output_type": "stream",
     "text": [
      "Compare actual response with predicted (accuracy):  0.6083363277039167\n",
      "Precision:  0.28317272053372866\n",
      "Recall:  0.7564356435643564\n",
      "F1 Score:  0.7564356435643564\n",
      "Classification Report: \n",
      "               precision    recall  f1-score   support\n",
      "\n",
      "           0       0.91      0.58      0.71      2278\n",
      "           1       0.28      0.76      0.41       505\n",
      "\n",
      "    accuracy                           0.61      2783\n",
      "   macro avg       0.60      0.67      0.56      2783\n",
      "weighted avg       0.80      0.61      0.65      2783\n",
      "\n",
      "Confusion Matrix: \n",
      " [[1311  967]\n",
      " [ 123  382]]\n"
     ]
    }
   ],
   "source": [
    "y_pred = logreg.predict(X_test)\n",
    "\n",
    "print(\"Compare actual response with predicted (accuracy): \", metrics.accuracy_score(y_test, y_pred))\n",
    "print(\"Precision: \", metrics.precision_score(y_test, y_pred))\n",
    "print(\"Recall: \", metrics.recall_score(y_test, y_pred))\n",
    "print(\"F1 Score: \", metrics.recall_score(y_test, y_pred))\n",
    "print(\"Classification Report: \\n\", metrics.classification_report(y_test, y_pred))\n",
    "print(\"Confusion Matrix: \\n\", metrics.confusion_matrix(y_test, y_pred))"
   ]
  },
  {
   "cell_type": "code",
   "execution_count": 317,
   "metadata": {
    "colab": {
     "base_uri": "https://localhost:8080/",
     "height": 302
    },
    "colab_type": "code",
    "id": "86w5fbemvaiB",
    "outputId": "658aee06-e304-4759-f044-0acb21446aac"
   },
   "outputs": [
    {
     "name": "stdout",
     "output_type": "stream",
     "text": [
      "Compare actual response with predicted (accuracy):  0.8196191160618038\n",
      "Precision:  0.5043227665706052\n",
      "Recall:  0.3465346534653465\n",
      "F1 Score:  0.3465346534653465\n",
      "Classification Report: \n",
      "               precision    recall  f1-score   support\n",
      "\n",
      "           0       0.86      0.92      0.89      2278\n",
      "           1       0.50      0.35      0.41       505\n",
      "\n",
      "    accuracy                           0.82      2783\n",
      "   macro avg       0.68      0.64      0.65      2783\n",
      "weighted avg       0.80      0.82      0.81      2783\n",
      "\n",
      "Confusion Matrix: \n",
      " [[2106  172]\n",
      " [ 330  175]]\n"
     ]
    }
   ],
   "source": [
    "from sklearn.neighbors import KNeighborsClassifier\n",
    "knn = KNeighborsClassifier(n_neighbors = 5)\n",
    "knn.fit(X_train, y_train)\n",
    "y2_pred = knn.predict(X_test)\n",
    "print(\"Compare actual response with predicted (accuracy): \", metrics.accuracy_score(y_test, y2_pred))\n",
    "print(\"Precision: \", metrics.precision_score(y_test, y2_pred))\n",
    "print(\"Recall: \", metrics.recall_score(y_test, y2_pred))\n",
    "print(\"F1 Score: \", metrics.recall_score(y_test, y2_pred))\n",
    "print(\"Classification Report: \\n\", metrics.classification_report(y_test, y2_pred))\n",
    "print(\"Confusion Matrix: \\n\", metrics.confusion_matrix(y_test, y2_pred))"
   ]
  },
  {
   "cell_type": "code",
   "execution_count": 318,
   "metadata": {
    "colab": {
     "base_uri": "https://localhost:8080/",
     "height": 84
    },
    "colab_type": "code",
    "id": "Z3na2aIZxc9c",
    "outputId": "55b86f9c-0837-4bcf-b1a6-fae046eac606"
   },
   "outputs": [
    {
     "data": {
      "text/plain": [
       "SVC(C=1.0, cache_size=200, class_weight=None, coef0=0.0,\n",
       "    decision_function_shape='ovr', degree=3, gamma='auto_deprecated',\n",
       "    kernel='linear', max_iter=-1, probability=False, random_state=None,\n",
       "    shrinking=True, tol=0.001, verbose=False)"
      ]
     },
     "execution_count": 318,
     "metadata": {},
     "output_type": "execute_result"
    }
   ],
   "source": [
    "from sklearn import svm\n",
    "modelsvm = svm.SVC(kernel ='linear')\n",
    "modelsvm.fit(X_train, y_train)"
   ]
  },
  {
   "cell_type": "code",
   "execution_count": 319,
   "metadata": {
    "colab": {
     "base_uri": "https://localhost:8080/",
     "height": 302
    },
    "colab_type": "code",
    "id": "hQ0rZwCizKDi",
    "outputId": "7fe6da23-dbd3-4496-bc41-f02329b8fe4e"
   },
   "outputs": [
    {
     "name": "stdout",
     "output_type": "stream",
     "text": [
      "Compare actual response with predicted (accuracy):  0.8192597915918074\n",
      "Precision:  0.5192307692307693\n",
      "Recall:  0.053465346534653464\n",
      "F1 Score:  0.053465346534653464\n",
      "Classification Report: \n",
      "               precision    recall  f1-score   support\n",
      "\n",
      "           0       0.82      0.99      0.90      2278\n",
      "           1       0.52      0.05      0.10       505\n",
      "\n",
      "    accuracy                           0.82      2783\n",
      "   macro avg       0.67      0.52      0.50      2783\n",
      "weighted avg       0.77      0.82      0.75      2783\n",
      "\n",
      "Confusion Matrix: \n",
      " [[2253   25]\n",
      " [ 478   27]]\n"
     ]
    }
   ],
   "source": [
    "y3_pred = modelsvm.predict(X_test)\n",
    "print(\"Compare actual response with predicted (accuracy): \", metrics.accuracy_score(y_test, y3_pred))\n",
    "print(\"Precision: \", metrics.precision_score(y_test, y3_pred))\n",
    "print(\"Recall: \", metrics.recall_score(y_test, y3_pred))\n",
    "print(\"F1 Score: \", metrics.recall_score(y_test, y3_pred))\n",
    "print(\"Classification Report: \\n\", metrics.classification_report(y_test, y3_pred))\n",
    "print(\"Confusion Matrix: \\n\", metrics.confusion_matrix(y_test, y3_pred))"
   ]
  },
  {
   "cell_type": "code",
   "execution_count": 320,
   "metadata": {
    "colab": {
     "base_uri": "https://localhost:8080/",
     "height": 84
    },
    "colab_type": "code",
    "id": "6dzQQAly0MIl",
    "outputId": "9a18f428-09ab-43f9-8d55-efbb0a1fd32e"
   },
   "outputs": [
    {
     "data": {
      "text/plain": [
       "SVC(C=1.0, cache_size=200, class_weight='balanced', coef0=0.0,\n",
       "    decision_function_shape='ovr', degree=3, gamma='auto_deprecated',\n",
       "    kernel='linear', max_iter=-1, probability=False, random_state=None,\n",
       "    shrinking=True, tol=0.001, verbose=False)"
      ]
     },
     "execution_count": 320,
     "metadata": {},
     "output_type": "execute_result"
    }
   ],
   "source": [
    "modelsvm = svm.SVC(kernel ='linear',class_weight='balanced')\n",
    "modelsvm.fit(X_train, y_train)"
   ]
  },
  {
   "cell_type": "code",
   "execution_count": 321,
   "metadata": {
    "colab": {
     "base_uri": "https://localhost:8080/",
     "height": 302
    },
    "colab_type": "code",
    "id": "p2h6OfxB1KrD",
    "outputId": "01951638-f842-4c12-b312-331953097bf5"
   },
   "outputs": [
    {
     "name": "stdout",
     "output_type": "stream",
     "text": [
      "Compare actual response with predicted (accuracy):  0.5939633489040603\n",
      "Precision:  0.2813156053184045\n",
      "Recall:  0.7960396039603961\n",
      "F1 Score:  0.7960396039603961\n",
      "Classification Report: \n",
      "               precision    recall  f1-score   support\n",
      "\n",
      "           0       0.92      0.55      0.69      2278\n",
      "           1       0.28      0.80      0.42       505\n",
      "\n",
      "    accuracy                           0.59      2783\n",
      "   macro avg       0.60      0.67      0.55      2783\n",
      "weighted avg       0.81      0.59      0.64      2783\n",
      "\n",
      "Confusion Matrix: \n",
      " [[1251 1027]\n",
      " [ 103  402]]\n"
     ]
    }
   ],
   "source": [
    "y3_pred = modelsvm.predict(X_test)\n",
    "print(\"Compare actual response with predicted (accuracy): \", metrics.accuracy_score(y_test, y3_pred))\n",
    "print(\"Precision: \", metrics.precision_score(y_test, y3_pred))\n",
    "print(\"Recall: \", metrics.recall_score(y_test, y3_pred))\n",
    "print(\"F1 Score: \", metrics.recall_score(y_test, y3_pred))\n",
    "print(\"Classification Report: \\n\", metrics.classification_report(y_test, y3_pred))\n",
    "print(\"Confusion Matrix: \\n\", metrics.confusion_matrix(y_test, y3_pred))"
   ]
  },
  {
   "cell_type": "markdown",
   "metadata": {},
   "source": [
    "Balancing the DataSet then rerun Olivia Code to show metrics and confusion matrx if results improve or not?"
   ]
  },
  {
   "cell_type": "code",
   "execution_count": 322,
   "metadata": {},
   "outputs": [
    {
     "data": {
      "text/html": [
       "<div>\n",
       "<style scoped>\n",
       "    .dataframe tbody tr th:only-of-type {\n",
       "        vertical-align: middle;\n",
       "    }\n",
       "\n",
       "    .dataframe tbody tr th {\n",
       "        vertical-align: top;\n",
       "    }\n",
       "\n",
       "    .dataframe thead th {\n",
       "        text-align: right;\n",
       "    }\n",
       "</style>\n",
       "<table border=\"1\" class=\"dataframe\">\n",
       "  <thead>\n",
       "    <tr style=\"text-align: right;\">\n",
       "      <th></th>\n",
       "      <th>AltitudeVariation</th>\n",
       "      <th>VehicleSpeedInstantaneous</th>\n",
       "      <th>VehicleSpeedAverage</th>\n",
       "      <th>VehicleSpeedVariance</th>\n",
       "      <th>VehicleSpeedVariation</th>\n",
       "      <th>LongitudinalAcceleration</th>\n",
       "      <th>EngineLoad</th>\n",
       "      <th>EngineCoolantTemperature</th>\n",
       "      <th>ManifoldAbsolutePressure</th>\n",
       "      <th>EngineRPM</th>\n",
       "      <th>MassAirFlow</th>\n",
       "      <th>IntakeAirTemperature</th>\n",
       "      <th>VerticalAcceleration</th>\n",
       "      <th>FuelConsumptionAverage</th>\n",
       "      <th>roadSurface</th>\n",
       "      <th>drivingStyle</th>\n",
       "    </tr>\n",
       "  </thead>\n",
       "  <tbody>\n",
       "    <tr>\n",
       "      <th>0</th>\n",
       "      <td>-2.299988</td>\n",
       "      <td>25.670519</td>\n",
       "      <td>13.223501</td>\n",
       "      <td>121.592690</td>\n",
       "      <td>-2.476980</td>\n",
       "      <td>0.3555</td>\n",
       "      <td>4.705883</td>\n",
       "      <td>68</td>\n",
       "      <td>106</td>\n",
       "      <td>1796</td>\n",
       "      <td>15.81</td>\n",
       "      <td>24</td>\n",
       "      <td>-0.1133</td>\n",
       "      <td>19.497335</td>\n",
       "      <td>0</td>\n",
       "      <td>0</td>\n",
       "    </tr>\n",
       "    <tr>\n",
       "      <th>1</th>\n",
       "      <td>-2.099976</td>\n",
       "      <td>24.094259</td>\n",
       "      <td>13.638919</td>\n",
       "      <td>120.422571</td>\n",
       "      <td>-1.576260</td>\n",
       "      <td>0.4492</td>\n",
       "      <td>10.588236</td>\n",
       "      <td>68</td>\n",
       "      <td>103</td>\n",
       "      <td>1689</td>\n",
       "      <td>14.65</td>\n",
       "      <td>22</td>\n",
       "      <td>-0.1289</td>\n",
       "      <td>19.515722</td>\n",
       "      <td>0</td>\n",
       "      <td>0</td>\n",
       "    </tr>\n",
       "    <tr>\n",
       "      <th>2</th>\n",
       "      <td>-1.500000</td>\n",
       "      <td>22.743179</td>\n",
       "      <td>14.031043</td>\n",
       "      <td>118.456769</td>\n",
       "      <td>-1.351080</td>\n",
       "      <td>0.4258</td>\n",
       "      <td>27.450981</td>\n",
       "      <td>68</td>\n",
       "      <td>103</td>\n",
       "      <td>1599</td>\n",
       "      <td>11.85</td>\n",
       "      <td>21</td>\n",
       "      <td>-0.1328</td>\n",
       "      <td>19.441765</td>\n",
       "      <td>0</td>\n",
       "      <td>0</td>\n",
       "    </tr>\n",
       "    <tr>\n",
       "      <th>3</th>\n",
       "      <td>0.100037</td>\n",
       "      <td>22.292820</td>\n",
       "      <td>14.171073</td>\n",
       "      <td>117.571308</td>\n",
       "      <td>-0.450359</td>\n",
       "      <td>0.4140</td>\n",
       "      <td>24.313726</td>\n",
       "      <td>69</td>\n",
       "      <td>104</td>\n",
       "      <td>1620</td>\n",
       "      <td>12.21</td>\n",
       "      <td>20</td>\n",
       "      <td>-0.0859</td>\n",
       "      <td>19.388769</td>\n",
       "      <td>0</td>\n",
       "      <td>0</td>\n",
       "    </tr>\n",
       "    <tr>\n",
       "      <th>4</th>\n",
       "      <td>0.099976</td>\n",
       "      <td>23.643900</td>\n",
       "      <td>14.328954</td>\n",
       "      <td>117.074149</td>\n",
       "      <td>1.351080</td>\n",
       "      <td>0.3945</td>\n",
       "      <td>20.000000</td>\n",
       "      <td>69</td>\n",
       "      <td>104</td>\n",
       "      <td>1708</td>\n",
       "      <td>11.91</td>\n",
       "      <td>21</td>\n",
       "      <td>-0.0664</td>\n",
       "      <td>19.301638</td>\n",
       "      <td>0</td>\n",
       "      <td>0</td>\n",
       "    </tr>\n",
       "  </tbody>\n",
       "</table>\n",
       "</div>"
      ],
      "text/plain": [
       "   AltitudeVariation  VehicleSpeedInstantaneous  VehicleSpeedAverage  \\\n",
       "0          -2.299988                  25.670519            13.223501   \n",
       "1          -2.099976                  24.094259            13.638919   \n",
       "2          -1.500000                  22.743179            14.031043   \n",
       "3           0.100037                  22.292820            14.171073   \n",
       "4           0.099976                  23.643900            14.328954   \n",
       "\n",
       "   VehicleSpeedVariance  VehicleSpeedVariation  LongitudinalAcceleration  \\\n",
       "0            121.592690              -2.476980                    0.3555   \n",
       "1            120.422571              -1.576260                    0.4492   \n",
       "2            118.456769              -1.351080                    0.4258   \n",
       "3            117.571308              -0.450359                    0.4140   \n",
       "4            117.074149               1.351080                    0.3945   \n",
       "\n",
       "   EngineLoad  EngineCoolantTemperature  ManifoldAbsolutePressure  EngineRPM  \\\n",
       "0    4.705883                        68                       106       1796   \n",
       "1   10.588236                        68                       103       1689   \n",
       "2   27.450981                        68                       103       1599   \n",
       "3   24.313726                        69                       104       1620   \n",
       "4   20.000000                        69                       104       1708   \n",
       "\n",
       "   MassAirFlow  IntakeAirTemperature  VerticalAcceleration  \\\n",
       "0        15.81                    24               -0.1133   \n",
       "1        14.65                    22               -0.1289   \n",
       "2        11.85                    21               -0.1328   \n",
       "3        12.21                    20               -0.0859   \n",
       "4        11.91                    21               -0.0664   \n",
       "\n",
       "   FuelConsumptionAverage  roadSurface  drivingStyle  \n",
       "0               19.497335            0             0  \n",
       "1               19.515722            0             0  \n",
       "2               19.441765            0             0  \n",
       "3               19.388769            0             0  \n",
       "4               19.301638            0             0  "
      ]
     },
     "execution_count": 322,
     "metadata": {},
     "output_type": "execute_result"
    }
   ],
   "source": [
    "df.head()"
   ]
  },
  {
   "cell_type": "code",
   "execution_count": null,
   "metadata": {},
   "outputs": [],
   "source": [
    "target_count = df.drivingStyle.value_counts()\n",
    "print('EvenPAceStyle or Class 0:', target_count[0])\n",
    "print('AgressivePaceStyle or Class 1:', target_count[1])\n",
    "print('Proportion:', round(target_count[0] / target_count[1], 2), ': 1')\n",
    "\n",
    "target_count.plot(kind='bar', title='drivingStyle (target)');"
   ]
  },
  {
   "cell_type": "markdown",
   "metadata": {},
   "source": [
    "Balancing using Python Imbalanced-Learn Module - Random UnderSampling"
   ]
  },
  {
   "cell_type": "code",
   "execution_count": 327,
   "metadata": {},
   "outputs": [],
   "source": [
    "def plot_2d_space(X, y, label='Classes'):   \n",
    "    colors = ['#1F77B4', '#FF7F0E']\n",
    "    markers = ['o', 's']\n",
    "    for l, c, m in zip(np.unique(y), colors, markers):\n",
    "        plt.scatter(\n",
    "            X[y==l, 0],\n",
    "            X[y==l, 1],\n",
    "            c=c, label=l, marker=m\n",
    "        )\n",
    "    plt.title(label)\n",
    "    plt.legend(loc='upper right')\n",
    "    plt.show()"
   ]
  },
  {
   "cell_type": "code",
   "execution_count": 329,
   "metadata": {},
   "outputs": [
    {
     "name": "stdout",
     "output_type": "stream",
     "text": [
      "Removed indexes: [4276 3747  707 ... 8343 8344 8345]\n"
     ]
    },
    {
     "data": {
      "image/png": "[encoded data removed]",
      "text/plain": [
       "<Figure size 432x288 with 1 Axes>"
      ]
     },
     "metadata": {},
     "output_type": "display_data"
    }
   ],
   "source": [
    "import imblearn\n",
    "from imblearn.under_sampling import RandomUnderSampler\n",
    "\n",
    "rus = RandomUnderSampler(return_indices=True)\n",
    "X_rus, y_rus, id_rus = rus.fit_sample(X_train, y_train)\n",
    "\n",
    "print('Removed indexes:', id_rus)\n",
    "\n",
    "plot_2d_space(X_rus, y_rus, 'Random under-sampling')"
   ]
  },
  {
   "cell_type": "code",
   "execution_count": 330,
   "metadata": {},
   "outputs": [
    {
     "name": "stdout",
     "output_type": "stream",
     "text": [
      "(2376, 14)\n",
      "(792, 14)\n",
      "(2376,)\n",
      "(792,)\n"
     ]
    }
   ],
   "source": [
    "from sklearn.model_selection import train_test_split\n",
    "X_train, X_test, y_train, y_test = train_test_split(X_rus, y_rus, random_state = 1)\n",
    "print(X_train.shape)\n",
    "print(X_test.shape)\n",
    "print(y_train.shape)\n",
    "print(y_test.shape)"
   ]
  },
  {
   "cell_type": "code",
   "execution_count": 331,
   "metadata": {},
   "outputs": [
    {
     "name": "stdout",
     "output_type": "stream",
     "text": [
      "0.494949494949495\n",
      "0.505050505050505\n"
     ]
    }
   ],
   "source": [
    "aggressive_percent = y_test.mean()\n",
    "even_percent = 1 - y_test.mean()\n",
    "print(aggressive_percent)\n",
    "print(even_percent)"
   ]
  },
  {
   "cell_type": "code",
   "execution_count": 332,
   "metadata": {},
   "outputs": [
    {
     "data": {
      "text/plain": [
       "LogisticRegression(C=1.0, class_weight=None, dual=False, fit_intercept=True,\n",
       "                   intercept_scaling=1, l1_ratio=None, max_iter=100,\n",
       "                   multi_class='warn', n_jobs=None, penalty='l2',\n",
       "                   random_state=None, solver='liblinear', tol=0.0001, verbose=0,\n",
       "                   warm_start=False)"
      ]
     },
     "execution_count": 332,
     "metadata": {},
     "output_type": "execute_result"
    }
   ],
   "source": [
    "from sklearn.linear_model import LinearRegression, LogisticRegression\n",
    "logreg = LogisticRegression(solver='liblinear')\n",
    "logreg.fit(X_train,y_train)"
   ]
  },
  {
   "cell_type": "code",
   "execution_count": 333,
   "metadata": {},
   "outputs": [
    {
     "name": "stdout",
     "output_type": "stream",
     "text": [
      "Compare actual response with predicted (accuracy):  0.6704545454545454\n",
      "Precision:  0.6465324384787472\n",
      "Recall:  0.7372448979591837\n",
      "F1 Score:  0.7372448979591837\n",
      "Classification Report: \n",
      "               precision    recall  f1-score   support\n",
      "\n",
      "           0       0.70      0.60      0.65       400\n",
      "           1       0.65      0.74      0.69       392\n",
      "\n",
      "    accuracy                           0.67       792\n",
      "   macro avg       0.67      0.67      0.67       792\n",
      "weighted avg       0.67      0.67      0.67       792\n",
      "\n",
      "Confusion Matrix: \n",
      " [[242 158]\n",
      " [103 289]]\n"
     ]
    }
   ],
   "source": [
    "y_pred = logreg.predict(X_test)\n",
    "from sklearn import metrics\n",
    "print(\"Compare actual response with predicted (accuracy): \", metrics.accuracy_score(y_test, y_pred))\n",
    "print(\"Precision: \", metrics.precision_score(y_test, y_pred))\n",
    "print(\"Recall: \", metrics.recall_score(y_test, y_pred))\n",
    "print(\"F1 Score: \", metrics.recall_score(y_test, y_pred))\n",
    "print(\"Classification Report: \\n\", metrics.classification_report(y_test, y_pred))\n",
    "print(\"Confusion Matrix: \\n\", metrics.confusion_matrix(y_test, y_pred))"
   ]
  },
  {
   "cell_type": "markdown",
   "metadata": {},
   "source": [
    "Balancing using Python Imbalanced-Learn Module - Random OverSampling"
   ]
  },
  {
   "cell_type": "code",
   "execution_count": 334,
   "metadata": {},
   "outputs": [
    {
     "name": "stdout",
     "output_type": "stream",
     "text": [
      "6952 new random picked points\n"
     ]
    },
    {
     "data": {
      "image/png": "[encoded data removed]",
      "text/plain": [
       "<Figure size 432x288 with 1 Axes>"
      ]
     },
     "metadata": {},
     "output_type": "display_data"
    }
   ],
   "source": [
    "from imblearn.over_sampling import RandomOverSampler\n",
    "\n",
    "ros = RandomOverSampler()\n",
    "X_ros, y_ros = ros.fit_sample(X, y)\n",
    "\n",
    "print(X_ros.shape[0] - X.shape[0], 'new random picked points')\n",
    "\n",
    "plot_2d_space(X_ros, y_ros, 'Random over-sampling')"
   ]
  },
  {
   "cell_type": "code",
   "execution_count": 349,
   "metadata": {},
   "outputs": [
    {
     "name": "stdout",
     "output_type": "stream",
     "text": [
      "(13561, 14)\n",
      "(4521, 14)\n",
      "(13561,)\n",
      "(4521,)\n"
     ]
    }
   ],
   "source": [
    "from sklearn.model_selection import train_test_split\n",
    "X_train, X_test, y_train, y_test = train_test_split(X_ros, y_ros, random_state = 1)\n",
    "print(X_train.shape)\n",
    "print(X_test.shape)\n",
    "print(y_train.shape)\n",
    "print(y_test.shape)"
   ]
  },
  {
   "cell_type": "code",
   "execution_count": 336,
   "metadata": {},
   "outputs": [
    {
     "name": "stdout",
     "output_type": "stream",
     "text": [
      "0.5014377350143774\n",
      "0.4985622649856226\n"
     ]
    }
   ],
   "source": [
    "aggressive_percent = y_test.mean()\n",
    "even_percent = 1 - y_test.mean()\n",
    "print(aggressive_percent)\n",
    "print(even_percent)"
   ]
  },
  {
   "cell_type": "code",
   "execution_count": 337,
   "metadata": {},
   "outputs": [
    {
     "data": {
      "text/plain": [
       "LogisticRegression(C=1.0, class_weight=None, dual=False, fit_intercept=True,\n",
       "                   intercept_scaling=1, l1_ratio=None, max_iter=100,\n",
       "                   multi_class='warn', n_jobs=None, penalty='l2',\n",
       "                   random_state=None, solver='liblinear', tol=0.0001, verbose=0,\n",
       "                   warm_start=False)"
      ]
     },
     "execution_count": 337,
     "metadata": {},
     "output_type": "execute_result"
    }
   ],
   "source": [
    "from sklearn.linear_model import LinearRegression, LogisticRegression\n",
    "logreg = LogisticRegression(solver='liblinear')\n",
    "logreg.fit(X_train,y_train)"
   ]
  },
  {
   "cell_type": "code",
   "execution_count": 338,
   "metadata": {},
   "outputs": [
    {
     "name": "stdout",
     "output_type": "stream",
     "text": [
      "Compare actual response with predicted (accuracy):  0.6655607166556071\n",
      "Precision:  0.6421845574387948\n",
      "Recall:  0.7520952801058668\n",
      "F1 Score:  0.7520952801058668\n",
      "Classification Report: \n",
      "               precision    recall  f1-score   support\n",
      "\n",
      "           0       0.70      0.58      0.63      2254\n",
      "           1       0.64      0.75      0.69      2267\n",
      "\n",
      "    accuracy                           0.67      4521\n",
      "   macro avg       0.67      0.67      0.66      4521\n",
      "weighted avg       0.67      0.67      0.66      4521\n",
      "\n",
      "Confusion Matrix: \n",
      " [[1304  950]\n",
      " [ 562 1705]]\n"
     ]
    }
   ],
   "source": [
    "y_pred = logreg.predict(X_test)\n",
    "from sklearn import metrics\n",
    "print(\"Compare actual response with predicted (accuracy): \", metrics.accuracy_score(y_test, y_pred))\n",
    "print(\"Precision: \", metrics.precision_score(y_test, y_pred))\n",
    "print(\"Recall: \", metrics.recall_score(y_test, y_pred))\n",
    "print(\"F1 Score: \", metrics.recall_score(y_test, y_pred))\n",
    "print(\"Classification Report: \\n\", metrics.classification_report(y_test, y_pred))\n",
    "print(\"Confusion Matrix: \\n\", metrics.confusion_matrix(y_test, y_pred))"
   ]
  },
  {
   "cell_type": "code",
   "execution_count": 353,
   "metadata": {},
   "outputs": [],
   "source": [
    "from sklearn import svm\n",
    "#modelsvm = svm.SVC(kernel ='linear')\n",
    "#modelsvm.fit(X_train, y_train)\n"
   ]
  },
  {
   "cell_type": "code",
   "execution_count": 354,
   "metadata": {},
   "outputs": [
    {
     "data": {
      "text/plain": [
       "SVC(C=1.0, cache_size=200, class_weight='balanced', coef0=0.0,\n",
       "    decision_function_shape='ovr', degree=3, gamma='auto_deprecated',\n",
       "    kernel='linear', max_iter=-1, probability=False, random_state=None,\n",
       "    shrinking=True, tol=0.001, verbose=False)"
      ]
     },
     "execution_count": 354,
     "metadata": {},
     "output_type": "execute_result"
    }
   ],
   "source": [
    "\n",
    "modelsvm = svm.SVC(kernel ='linear',class_weight='balanced', tol=0.001)\n",
    "modelsvm.fit(X_train, y_train)"
   ]
  },
  {
   "cell_type": "code",
   "execution_count": 355,
   "metadata": {},
   "outputs": [
    {
     "name": "stdout",
     "output_type": "stream",
     "text": [
      "Compare actual response with predicted (accuracy):  0.6640123866401239\n",
      "Precision:  0.6286992429456297\n",
      "Recall:  0.8059108954565505\n",
      "F1 Score:  0.8059108954565505\n",
      "Classification Report: \n",
      "               precision    recall  f1-score   support\n",
      "\n",
      "           0       0.73      0.52      0.61      2254\n",
      "           1       0.63      0.81      0.71      2267\n",
      "\n",
      "    accuracy                           0.66      4521\n",
      "   macro avg       0.68      0.66      0.66      4521\n",
      "weighted avg       0.68      0.66      0.66      4521\n",
      "\n",
      "Confusion Matrix: \n",
      " [[1175 1079]\n",
      " [ 440 1827]]\n"
     ]
    }
   ],
   "source": [
    "y3_pred = modelsvm.predict(X_test)\n",
    "print(\"Compare actual response with predicted (accuracy): \", metrics.accuracy_score(y_test, y3_pred))\n",
    "print(\"Precision: \", metrics.precision_score(y_test, y3_pred))\n",
    "print(\"Recall: \", metrics.recall_score(y_test, y3_pred))\n",
    "print(\"F1 Score: \", metrics.recall_score(y_test, y3_pred))\n",
    "print(\"Classification Report: \\n\", metrics.classification_report(y_test, y3_pred))\n",
    "print(\"Confusion Matrix: \\n\", metrics.confusion_matrix(y_test, y3_pred))"
   ]
  },
  {
   "cell_type": "markdown",
   "metadata": {},
   "source": [
    "re-running svm.SVC(kernel ='linear',class_weight='balanced') on undersampled data"
   ]
  },
  {
   "cell_type": "code",
   "execution_count": 342,
   "metadata": {},
   "outputs": [
    {
     "name": "stdout",
     "output_type": "stream",
     "text": [
      "(2376, 14)\n",
      "(792, 14)\n",
      "(2376,)\n",
      "(792,)\n"
     ]
    }
   ],
   "source": [
    "X_train, X_test, y_train, y_test = train_test_split(X_rus, y_rus, random_state = 1)\n",
    "print(X_train.shape)\n",
    "print(X_test.shape)\n",
    "print(y_train.shape)\n",
    "print(y_test.shape)"
   ]
  },
  {
   "cell_type": "code",
   "execution_count": 347,
   "metadata": {},
   "outputs": [
    {
     "data": {
      "text/plain": [
       "SVC(C=1.0, cache_size=200, class_weight='balanced', coef0=0.0,\n",
       "    decision_function_shape='ovr', degree=3, gamma='auto_deprecated',\n",
       "    kernel='linear', max_iter=-1, probability=False, random_state=None,\n",
       "    shrinking=True, tol=0.1, verbose=False)"
      ]
     },
     "execution_count": 347,
     "metadata": {},
     "output_type": "execute_result"
    }
   ],
   "source": [
    "modelsvm = svm.SVC(kernel ='linear',class_weight='balanced', tol=0.1)\n",
    "modelsvm.fit(X_train, y_train)"
   ]
  },
  {
   "cell_type": "code",
   "execution_count": 348,
   "metadata": {},
   "outputs": [
    {
     "name": "stdout",
     "output_type": "stream",
     "text": [
      "Compare actual response with predicted (accuracy):  0.678030303030303\n",
      "Precision:  0.6604215456674473\n",
      "Recall:  0.7193877551020408\n",
      "F1 Score:  0.7193877551020408\n",
      "Classification Report: \n",
      "               precision    recall  f1-score   support\n",
      "\n",
      "           0       0.70      0.64      0.67       400\n",
      "           1       0.66      0.72      0.69       392\n",
      "\n",
      "    accuracy                           0.68       792\n",
      "   macro avg       0.68      0.68      0.68       792\n",
      "weighted avg       0.68      0.68      0.68       792\n",
      "\n",
      "Confusion Matrix: \n",
      " [[255 145]\n",
      " [110 282]]\n"
     ]
    }
   ],
   "source": [
    "y3_pred = modelsvm.predict(X_test)\n",
    "print(\"Compare actual response with predicted (accuracy): \", metrics.accuracy_score(y_test, y3_pred))\n",
    "print(\"Precision: \", metrics.precision_score(y_test, y3_pred))\n",
    "print(\"Recall: \", metrics.recall_score(y_test, y3_pred))\n",
    "print(\"F1 Score: \", metrics.recall_score(y_test, y3_pred))\n",
    "print(\"Classification Report: \\n\", metrics.classification_report(y_test, y3_pred))\n",
    "print(\"Confusion Matrix: \\n\", metrics.confusion_matrix(y_test, y3_pred))"
   ]
  },
  {
   "cell_type": "markdown",
   "metadata": {},
   "source": [
    "performing svm on rescaled features and oversampled data"
   ]
  },
  {
   "cell_type": "code",
   "execution_count": 356,
   "metadata": {},
   "outputs": [
    {
     "data": {
      "text/html": [
       "<div>\n",
       "<style scoped>\n",
       "    .dataframe tbody tr th:only-of-type {\n",
       "        vertical-align: middle;\n",
       "    }\n",
       "\n",
       "    .dataframe tbody tr th {\n",
       "        vertical-align: top;\n",
       "    }\n",
       "\n",
       "    .dataframe thead th {\n",
       "        text-align: right;\n",
       "    }\n",
       "</style>\n",
       "<table border=\"1\" class=\"dataframe\">\n",
       "  <thead>\n",
       "    <tr style=\"text-align: right;\">\n",
       "      <th></th>\n",
       "      <th>AltitudeVariation</th>\n",
       "      <th>VehicleSpeedInstantaneous</th>\n",
       "      <th>VehicleSpeedAverage</th>\n",
       "      <th>VehicleSpeedVariance</th>\n",
       "      <th>VehicleSpeedVariation</th>\n",
       "      <th>LongitudinalAcceleration</th>\n",
       "      <th>EngineLoad</th>\n",
       "      <th>EngineCoolantTemperature</th>\n",
       "      <th>ManifoldAbsolutePressure</th>\n",
       "      <th>EngineRPM</th>\n",
       "      <th>MassAirFlow</th>\n",
       "      <th>IntakeAirTemperature</th>\n",
       "      <th>VerticalAcceleration</th>\n",
       "      <th>FuelConsumptionAverage</th>\n",
       "    </tr>\n",
       "  </thead>\n",
       "  <tbody>\n",
       "    <tr>\n",
       "      <th>0</th>\n",
       "      <td>0.346734</td>\n",
       "      <td>0.205776</td>\n",
       "      <td>0.108987</td>\n",
       "      <td>0.115605</td>\n",
       "      <td>0.507463</td>\n",
       "      <td>0.251939</td>\n",
       "      <td>0.047059</td>\n",
       "      <td>0.571429</td>\n",
       "      <td>0.051948</td>\n",
       "      <td>0.432298</td>\n",
       "      <td>0.170422</td>\n",
       "      <td>0.629630</td>\n",
       "      <td>0.059023</td>\n",
       "      <td>0.321173</td>\n",
       "    </tr>\n",
       "    <tr>\n",
       "      <th>1</th>\n",
       "      <td>0.356785</td>\n",
       "      <td>0.193141</td>\n",
       "      <td>0.112411</td>\n",
       "      <td>0.114493</td>\n",
       "      <td>0.537313</td>\n",
       "      <td>0.260568</td>\n",
       "      <td>0.105882</td>\n",
       "      <td>0.571429</td>\n",
       "      <td>0.032468</td>\n",
       "      <td>0.387992</td>\n",
       "      <td>0.153668</td>\n",
       "      <td>0.555556</td>\n",
       "      <td>0.058210</td>\n",
       "      <td>0.321656</td>\n",
       "    </tr>\n",
       "    <tr>\n",
       "      <th>2</th>\n",
       "      <td>0.386935</td>\n",
       "      <td>0.182310</td>\n",
       "      <td>0.115643</td>\n",
       "      <td>0.112624</td>\n",
       "      <td>0.544776</td>\n",
       "      <td>0.258413</td>\n",
       "      <td>0.274510</td>\n",
       "      <td>0.571429</td>\n",
       "      <td>0.032468</td>\n",
       "      <td>0.350725</td>\n",
       "      <td>0.113229</td>\n",
       "      <td>0.518519</td>\n",
       "      <td>0.058007</td>\n",
       "      <td>0.319713</td>\n",
       "    </tr>\n",
       "    <tr>\n",
       "      <th>3</th>\n",
       "      <td>0.467339</td>\n",
       "      <td>0.178700</td>\n",
       "      <td>0.116797</td>\n",
       "      <td>0.111782</td>\n",
       "      <td>0.574627</td>\n",
       "      <td>0.257327</td>\n",
       "      <td>0.243137</td>\n",
       "      <td>0.591837</td>\n",
       "      <td>0.038961</td>\n",
       "      <td>0.359420</td>\n",
       "      <td>0.118429</td>\n",
       "      <td>0.481481</td>\n",
       "      <td>0.060451</td>\n",
       "      <td>0.318321</td>\n",
       "    </tr>\n",
       "    <tr>\n",
       "      <th>4</th>\n",
       "      <td>0.467335</td>\n",
       "      <td>0.189531</td>\n",
       "      <td>0.118098</td>\n",
       "      <td>0.111309</td>\n",
       "      <td>0.634328</td>\n",
       "      <td>0.255531</td>\n",
       "      <td>0.200000</td>\n",
       "      <td>0.591837</td>\n",
       "      <td>0.038961</td>\n",
       "      <td>0.395859</td>\n",
       "      <td>0.114096</td>\n",
       "      <td>0.518519</td>\n",
       "      <td>0.061467</td>\n",
       "      <td>0.316032</td>\n",
       "    </tr>\n",
       "  </tbody>\n",
       "</table>\n",
       "</div>"
      ],
      "text/plain": [
       "   AltitudeVariation  VehicleSpeedInstantaneous  VehicleSpeedAverage  \\\n",
       "0           0.346734                   0.205776             0.108987   \n",
       "1           0.356785                   0.193141             0.112411   \n",
       "2           0.386935                   0.182310             0.115643   \n",
       "3           0.467339                   0.178700             0.116797   \n",
       "4           0.467335                   0.189531             0.118098   \n",
       "\n",
       "   VehicleSpeedVariance  VehicleSpeedVariation  LongitudinalAcceleration  \\\n",
       "0              0.115605               0.507463                  0.251939   \n",
       "1              0.114493               0.537313                  0.260568   \n",
       "2              0.112624               0.544776                  0.258413   \n",
       "3              0.111782               0.574627                  0.257327   \n",
       "4              0.111309               0.634328                  0.255531   \n",
       "\n",
       "   EngineLoad  EngineCoolantTemperature  ManifoldAbsolutePressure  EngineRPM  \\\n",
       "0    0.047059                  0.571429                  0.051948   0.432298   \n",
       "1    0.105882                  0.571429                  0.032468   0.387992   \n",
       "2    0.274510                  0.571429                  0.032468   0.350725   \n",
       "3    0.243137                  0.591837                  0.038961   0.359420   \n",
       "4    0.200000                  0.591837                  0.038961   0.395859   \n",
       "\n",
       "   MassAirFlow  IntakeAirTemperature  VerticalAcceleration  \\\n",
       "0     0.170422              0.629630              0.059023   \n",
       "1     0.153668              0.555556              0.058210   \n",
       "2     0.113229              0.518519              0.058007   \n",
       "3     0.118429              0.481481              0.060451   \n",
       "4     0.114096              0.518519              0.061467   \n",
       "\n",
       "   FuelConsumptionAverage  \n",
       "0                0.321173  \n",
       "1                0.321656  \n",
       "2                0.319713  \n",
       "3                0.318321  \n",
       "4                0.316032  "
      ]
     },
     "execution_count": 356,
     "metadata": {},
     "output_type": "execute_result"
    }
   ],
   "source": [
    "X = df4[features]\n",
    "X.head()"
   ]
  },
  {
   "cell_type": "code",
   "execution_count": 357,
   "metadata": {},
   "outputs": [
    {
     "name": "stdout",
     "output_type": "stream",
     "text": [
      "(11130, 14)\n"
     ]
    }
   ],
   "source": [
    "print(X.shape)"
   ]
  },
  {
   "cell_type": "code",
   "execution_count": 394,
   "metadata": {},
   "outputs": [
    {
     "data": {
      "text/plain": [
       "0    0\n",
       "1    0\n",
       "2    0\n",
       "3    0\n",
       "4    0\n",
       "Name: drivingStyle, dtype: int64"
      ]
     },
     "execution_count": 394,
     "metadata": {},
     "output_type": "execute_result"
    }
   ],
   "source": [
    "y = df['drivingStyle']\n",
    "y.head()"
   ]
  },
  {
   "cell_type": "code",
   "execution_count": 395,
   "metadata": {},
   "outputs": [
    {
     "name": "stdout",
     "output_type": "stream",
     "text": [
      "(11130,)\n"
     ]
    }
   ],
   "source": [
    "print(y.shape)"
   ]
  },
  {
   "cell_type": "code",
   "execution_count": 396,
   "metadata": {},
   "outputs": [
    {
     "name": "stdout",
     "output_type": "stream",
     "text": [
      "(8347, 14)\n",
      "(2783, 14)\n",
      "(8347,)\n",
      "(2783,)\n"
     ]
    }
   ],
   "source": [
    "from sklearn.model_selection import train_test_split\n",
    "X_train, X_test, y_train, y_test = train_test_split(X, y, random_state = 1)\n",
    "print(X_train.shape)\n",
    "print(X_test.shape)\n",
    "print(y_train.shape)\n",
    "print(y_test.shape)"
   ]
  },
  {
   "cell_type": "code",
   "execution_count": 397,
   "metadata": {},
   "outputs": [
    {
     "name": "stdout",
     "output_type": "stream",
     "text": [
      "2396 new random picked points\n"
     ]
    },
    {
     "data": {
      "image/png": "[encoded data removed]",
      "text/plain": [
       "<Figure size 432x288 with 1 Axes>"
      ]
     },
     "metadata": {},
     "output_type": "display_data"
    }
   ],
   "source": [
    "from imblearn.over_sampling import RandomOverSampler\n",
    "\n",
    "ros = RandomOverSampler()\n",
    "X_ros, y_ros = ros.fit_sample(X_train, y_train)\n",
    "\n",
    "print(X_ros.shape[0] - X.shape[0], 'new random picked points')\n",
    "\n",
    "plot_2d_space(X_ros, y_ros, 'Random over-sampling')"
   ]
  },
  {
   "cell_type": "code",
   "execution_count": 398,
   "metadata": {},
   "outputs": [
    {
     "data": {
      "text/plain": [
       "SVC(C=1.0, cache_size=200, class_weight='balanced', coef0=0.0,\n",
       "    decision_function_shape='ovr', degree=3, gamma='auto_deprecated',\n",
       "    kernel='linear', max_iter=-1, probability=False, random_state=None,\n",
       "    shrinking=True, tol=0.001, verbose=False)"
      ]
     },
     "execution_count": 398,
     "metadata": {},
     "output_type": "execute_result"
    }
   ],
   "source": [
    "modelsvm = svm.SVC(kernel ='linear',class_weight='balanced', tol=0.001)\n",
    "modelsvm.fit(X_train, y_train)"
   ]
  },
  {
   "cell_type": "code",
   "execution_count": 399,
   "metadata": {},
   "outputs": [
    {
     "name": "stdout",
     "output_type": "stream",
     "text": [
      "Compare actual response with predicted (accuracy):  0.5454545454545454\n",
      "Precision:  0.2668711656441718\n",
      "Recall:  0.8613861386138614\n",
      "F1 Score:  0.8613861386138614\n",
      "Classification Report: \n",
      "               precision    recall  f1-score   support\n",
      "\n",
      "           0       0.94      0.48      0.63      2278\n",
      "           1       0.27      0.86      0.41       505\n",
      "\n",
      "    accuracy                           0.55      2783\n",
      "   macro avg       0.60      0.67      0.52      2783\n",
      "weighted avg       0.82      0.55      0.59      2783\n",
      "\n",
      "Confusion Matrix: \n",
      " [[1083 1195]\n",
      " [  70  435]]\n"
     ]
    }
   ],
   "source": [
    "y3_pred = modelsvm.predict(X_test)\n",
    "print(\"Compare actual response with predicted (accuracy): \", metrics.accuracy_score(y_test, y3_pred))\n",
    "print(\"Precision: \", metrics.precision_score(y_test, y3_pred))\n",
    "print(\"Recall: \", metrics.recall_score(y_test, y3_pred))\n",
    "print(\"F1 Score: \", metrics.recall_score(y_test, y3_pred))\n",
    "print(\"Classification Report: \\n\", metrics.classification_report(y_test, y3_pred))\n",
    "print(\"Confusion Matrix: \\n\", metrics.confusion_matrix(y_test, y3_pred))"
   ]
  },
  {
   "cell_type": "code",
   "execution_count": 400,
   "metadata": {},
   "outputs": [],
   "source": [
    "from sklearn.preprocessing import label_binarize"
   ]
  },
  {
   "cell_type": "code",
   "execution_count": 408,
   "metadata": {},
   "outputs": [],
   "source": [
    "y = label_binarize(y, classes=[0,1])\n",
    "n_classes = y.shape[1]"
   ]
  },
  {
   "cell_type": "code",
   "execution_count": 409,
   "metadata": {},
   "outputs": [],
   "source": [
    "from sklearn.metrics import roc_curve, auc\n",
    "from scipy import interp"
   ]
  },
  {
   "cell_type": "code",
   "execution_count": 410,
   "metadata": {},
   "outputs": [
    {
     "ename": "ValueError",
     "evalue": "Can only tuple-index with a MultiIndex",
     "output_type": "error",
     "traceback": [
      "\u001b[1;31m---------------------------------------------------------------------------\u001b[0m",
      "\u001b[1;31mValueError\u001b[0m                                Traceback (most recent call last)",
      "\u001b[1;32m<ipython-input-410-93bac8a7c3aa>\u001b[0m in \u001b[0;36m<module>\u001b[1;34m()\u001b[0m\n\u001b[0;32m      4\u001b[0m \u001b[0mroc_auc\u001b[0m \u001b[1;33m=\u001b[0m \u001b[0mdict\u001b[0m\u001b[1;33m(\u001b[0m\u001b[1;33m)\u001b[0m\u001b[1;33m\u001b[0m\u001b[1;33m\u001b[0m\u001b[0m\n\u001b[0;32m      5\u001b[0m \u001b[1;32mfor\u001b[0m \u001b[0mi\u001b[0m \u001b[1;32min\u001b[0m \u001b[0mrange\u001b[0m\u001b[1;33m(\u001b[0m\u001b[0mn_classes\u001b[0m\u001b[1;33m)\u001b[0m\u001b[1;33m:\u001b[0m\u001b[1;33m\u001b[0m\u001b[1;33m\u001b[0m\u001b[0m\n\u001b[1;32m----> 6\u001b[1;33m     \u001b[0mfpr\u001b[0m\u001b[1;33m[\u001b[0m\u001b[0mi\u001b[0m\u001b[1;33m]\u001b[0m\u001b[1;33m,\u001b[0m \u001b[0mtpr\u001b[0m\u001b[1;33m[\u001b[0m\u001b[0mi\u001b[0m\u001b[1;33m]\u001b[0m\u001b[1;33m,\u001b[0m \u001b[0m_\u001b[0m \u001b[1;33m=\u001b[0m \u001b[0mroc_curve\u001b[0m\u001b[1;33m(\u001b[0m\u001b[0my_test\u001b[0m\u001b[1;33m[\u001b[0m\u001b[1;33m:\u001b[0m\u001b[1;33m,\u001b[0m \u001b[0mi\u001b[0m\u001b[1;33m]\u001b[0m\u001b[1;33m,\u001b[0m \u001b[0my3_pred\u001b[0m\u001b[1;33m[\u001b[0m\u001b[1;33m:\u001b[0m\u001b[1;33m,\u001b[0m \u001b[0mi\u001b[0m\u001b[1;33m]\u001b[0m\u001b[1;33m)\u001b[0m\u001b[1;33m\u001b[0m\u001b[1;33m\u001b[0m\u001b[0m\n\u001b[0m\u001b[0;32m      7\u001b[0m     \u001b[0mroc_auc\u001b[0m\u001b[1;33m[\u001b[0m\u001b[0mi\u001b[0m\u001b[1;33m]\u001b[0m \u001b[1;33m=\u001b[0m \u001b[0mauc\u001b[0m\u001b[1;33m(\u001b[0m\u001b[0mfpr\u001b[0m\u001b[1;33m[\u001b[0m\u001b[0mi\u001b[0m\u001b[1;33m]\u001b[0m\u001b[1;33m,\u001b[0m \u001b[0mtpr\u001b[0m\u001b[1;33m[\u001b[0m\u001b[0mi\u001b[0m\u001b[1;33m]\u001b[0m\u001b[1;33m)\u001b[0m\u001b[1;33m\u001b[0m\u001b[1;33m\u001b[0m\u001b[0m\n\u001b[0;32m      8\u001b[0m \u001b[1;33m\u001b[0m\u001b[0m\n",
      "\u001b[1;32mc:\\users\\liam\\appdata\\local\\programs\\python\\python37-32\\lib\\site-packages\\pandas\\core\\series.py\u001b[0m in \u001b[0;36m__getitem__\u001b[1;34m(self, key)\u001b[0m\n\u001b[0;32m   1111\u001b[0m             \u001b[0mkey\u001b[0m \u001b[1;33m=\u001b[0m \u001b[0mcheck_bool_indexer\u001b[0m\u001b[1;33m(\u001b[0m\u001b[0mself\u001b[0m\u001b[1;33m.\u001b[0m\u001b[0mindex\u001b[0m\u001b[1;33m,\u001b[0m \u001b[0mkey\u001b[0m\u001b[1;33m)\u001b[0m\u001b[1;33m\u001b[0m\u001b[1;33m\u001b[0m\u001b[0m\n\u001b[0;32m   1112\u001b[0m \u001b[1;33m\u001b[0m\u001b[0m\n\u001b[1;32m-> 1113\u001b[1;33m         \u001b[1;32mreturn\u001b[0m \u001b[0mself\u001b[0m\u001b[1;33m.\u001b[0m\u001b[0m_get_with\u001b[0m\u001b[1;33m(\u001b[0m\u001b[0mkey\u001b[0m\u001b[1;33m)\u001b[0m\u001b[1;33m\u001b[0m\u001b[1;33m\u001b[0m\u001b[0m\n\u001b[0m\u001b[0;32m   1114\u001b[0m \u001b[1;33m\u001b[0m\u001b[0m\n\u001b[0;32m   1115\u001b[0m     \u001b[1;32mdef\u001b[0m \u001b[0m_get_with\u001b[0m\u001b[1;33m(\u001b[0m\u001b[0mself\u001b[0m\u001b[1;33m,\u001b[0m \u001b[0mkey\u001b[0m\u001b[1;33m)\u001b[0m\u001b[1;33m:\u001b[0m\u001b[1;33m\u001b[0m\u001b[1;33m\u001b[0m\u001b[0m\n",
      "\u001b[1;32mc:\\users\\liam\\appdata\\local\\programs\\python\\python37-32\\lib\\site-packages\\pandas\\core\\series.py\u001b[0m in \u001b[0;36m_get_with\u001b[1;34m(self, key)\u001b[0m\n\u001b[0;32m   1125\u001b[0m         \u001b[1;32melif\u001b[0m \u001b[0misinstance\u001b[0m\u001b[1;33m(\u001b[0m\u001b[0mkey\u001b[0m\u001b[1;33m,\u001b[0m \u001b[0mtuple\u001b[0m\u001b[1;33m)\u001b[0m\u001b[1;33m:\u001b[0m\u001b[1;33m\u001b[0m\u001b[1;33m\u001b[0m\u001b[0m\n\u001b[0;32m   1126\u001b[0m             \u001b[1;32mtry\u001b[0m\u001b[1;33m:\u001b[0m\u001b[1;33m\u001b[0m\u001b[1;33m\u001b[0m\u001b[0m\n\u001b[1;32m-> 1127\u001b[1;33m                 \u001b[1;32mreturn\u001b[0m \u001b[0mself\u001b[0m\u001b[1;33m.\u001b[0m\u001b[0m_get_values_tuple\u001b[0m\u001b[1;33m(\u001b[0m\u001b[0mkey\u001b[0m\u001b[1;33m)\u001b[0m\u001b[1;33m\u001b[0m\u001b[1;33m\u001b[0m\u001b[0m\n\u001b[0m\u001b[0;32m   1128\u001b[0m             \u001b[1;32mexcept\u001b[0m \u001b[0mException\u001b[0m\u001b[1;33m:\u001b[0m\u001b[1;33m\u001b[0m\u001b[1;33m\u001b[0m\u001b[0m\n\u001b[0;32m   1129\u001b[0m                 \u001b[1;32mif\u001b[0m \u001b[0mlen\u001b[0m\u001b[1;33m(\u001b[0m\u001b[0mkey\u001b[0m\u001b[1;33m)\u001b[0m \u001b[1;33m==\u001b[0m \u001b[1;36m1\u001b[0m\u001b[1;33m:\u001b[0m\u001b[1;33m\u001b[0m\u001b[1;33m\u001b[0m\u001b[0m\n",
      "\u001b[1;32mc:\\users\\liam\\appdata\\local\\programs\\python\\python37-32\\lib\\site-packages\\pandas\\core\\series.py\u001b[0m in \u001b[0;36m_get_values_tuple\u001b[1;34m(self, key)\u001b[0m\n\u001b[0;32m   1170\u001b[0m \u001b[1;33m\u001b[0m\u001b[0m\n\u001b[0;32m   1171\u001b[0m         \u001b[1;32mif\u001b[0m \u001b[1;32mnot\u001b[0m \u001b[0misinstance\u001b[0m\u001b[1;33m(\u001b[0m\u001b[0mself\u001b[0m\u001b[1;33m.\u001b[0m\u001b[0mindex\u001b[0m\u001b[1;33m,\u001b[0m \u001b[0mMultiIndex\u001b[0m\u001b[1;33m)\u001b[0m\u001b[1;33m:\u001b[0m\u001b[1;33m\u001b[0m\u001b[1;33m\u001b[0m\u001b[0m\n\u001b[1;32m-> 1172\u001b[1;33m             \u001b[1;32mraise\u001b[0m \u001b[0mValueError\u001b[0m\u001b[1;33m(\u001b[0m\u001b[1;34m\"Can only tuple-index with a MultiIndex\"\u001b[0m\u001b[1;33m)\u001b[0m\u001b[1;33m\u001b[0m\u001b[1;33m\u001b[0m\u001b[0m\n\u001b[0m\u001b[0;32m   1173\u001b[0m \u001b[1;33m\u001b[0m\u001b[0m\n\u001b[0;32m   1174\u001b[0m         \u001b[1;31m# If key is contained, would have returned by now\u001b[0m\u001b[1;33m\u001b[0m\u001b[1;33m\u001b[0m\u001b[1;33m\u001b[0m\u001b[0m\n",
      "\u001b[1;31mValueError\u001b[0m: Can only tuple-index with a MultiIndex"
     ]
    }
   ],
   "source": [
    "# Compute ROC curve and ROC area for each class\n",
    "fpr = dict()\n",
    "tpr = dict()\n",
    "roc_auc = dict()\n",
    "for i in range(n_classes):\n",
    "    fpr[i], tpr[i], _ = roc_curve(y_test[:, i], y3_pred[:, i])\n",
    "    roc_auc[i] = auc(fpr[i], tpr[i])\n",
    "\n",
    "# Compute micro-average ROC curve and ROC area\n",
    "fpr[\"micro\"], tpr[\"micro\"], _ = roc_curve(y_test.ravel(), y3_pred.ravel())\n",
    "roc_auc[\"micro\"] = auc(fpr[\"micro\"], tpr[\"micro\"])"
   ]
  },
  {
   "cell_type": "code",
   "execution_count": 404,
   "metadata": {},
   "outputs": [
    {
     "ename": "KeyError",
     "evalue": "2",
     "output_type": "error",
     "traceback": [
      "\u001b[1;31m---------------------------------------------------------------------------\u001b[0m",
      "\u001b[1;31mKeyError\u001b[0m                                  Traceback (most recent call last)",
      "\u001b[1;32m<ipython-input-404-8f1cfc1b7723>\u001b[0m in \u001b[0;36m<module>\u001b[1;34m()\u001b[0m\n\u001b[0;32m      1\u001b[0m \u001b[0mplt\u001b[0m\u001b[1;33m.\u001b[0m\u001b[0mfigure\u001b[0m\u001b[1;33m(\u001b[0m\u001b[1;33m)\u001b[0m\u001b[1;33m\u001b[0m\u001b[1;33m\u001b[0m\u001b[0m\n\u001b[0;32m      2\u001b[0m \u001b[0mlw\u001b[0m \u001b[1;33m=\u001b[0m \u001b[1;36m2\u001b[0m\u001b[1;33m\u001b[0m\u001b[1;33m\u001b[0m\u001b[0m\n\u001b[1;32m----> 3\u001b[1;33m plt.plot(fpr[2], tpr[2], color='darkorange',\n\u001b[0m\u001b[0;32m      4\u001b[0m          lw=lw, label='ROC curve (area = %0.2f)' % roc_auc[2])\n\u001b[0;32m      5\u001b[0m \u001b[0mplt\u001b[0m\u001b[1;33m.\u001b[0m\u001b[0mplot\u001b[0m\u001b[1;33m(\u001b[0m\u001b[1;33m[\u001b[0m\u001b[1;36m0\u001b[0m\u001b[1;33m,\u001b[0m \u001b[1;36m1\u001b[0m\u001b[1;33m]\u001b[0m\u001b[1;33m,\u001b[0m \u001b[1;33m[\u001b[0m\u001b[1;36m0\u001b[0m\u001b[1;33m,\u001b[0m \u001b[1;36m1\u001b[0m\u001b[1;33m]\u001b[0m\u001b[1;33m,\u001b[0m \u001b[0mcolor\u001b[0m\u001b[1;33m=\u001b[0m\u001b[1;34m'navy'\u001b[0m\u001b[1;33m,\u001b[0m \u001b[0mlw\u001b[0m\u001b[1;33m=\u001b[0m\u001b[0mlw\u001b[0m\u001b[1;33m,\u001b[0m \u001b[0mlinestyle\u001b[0m\u001b[1;33m=\u001b[0m\u001b[1;34m'--'\u001b[0m\u001b[1;33m)\u001b[0m\u001b[1;33m\u001b[0m\u001b[1;33m\u001b[0m\u001b[0m\n",
      "\u001b[1;31mKeyError\u001b[0m: 2"
     ]
    },
    {
     "data": {
      "text/plain": [
       "<Figure size 432x288 with 0 Axes>"
      ]
     },
     "metadata": {},
     "output_type": "display_data"
    }
   ],
   "source": [
    "plt.figure()\n",
    "lw = 2\n",
    "plt.plot(fpr[2], tpr[2], color='darkorange',\n",
    "         lw=lw, label='ROC curve (area = %0.2f)' % roc_auc[2])\n",
    "plt.plot([0, 1], [0, 1], color='navy', lw=lw, linestyle='--')\n",
    "plt.xlim([0.0, 1.0])\n",
    "plt.ylim([0.0, 1.05])\n",
    "plt.xlabel('False Positive Rate')\n",
    "plt.ylabel('True Positive Rate')\n",
    "plt.title('Receiver operating characteristic example')\n",
    "plt.legend(loc=\"lower right\")\n",
    "plt.show()"
   ]
  },
  {
   "cell_type": "code",
   "execution_count": null,
   "metadata": {},
   "outputs": [],
   "source": []
  }
 ],
 "metadata": {
  "colab": {
   "name": "MLA1 - Olivia - 2 - all files.ipynb",
   "provenance": []
  },
  "kernelspec": {
   "display_name": "Python 3",
   "language": "python",
   "name": "python3"
  },
  "language_info": {
   "codemirror_mode": {
    "name": "ipython",
    "version": 3
   },
   "file_extension": ".py",
   "mimetype": "text/x-python",
   "name": "python",
   "nbconvert_exporter": "python",
   "pygments_lexer": "ipython3",
   "version": "3.7.2"
  }
 },
 "nbformat": 4,
 "nbformat_minor": 1
}
