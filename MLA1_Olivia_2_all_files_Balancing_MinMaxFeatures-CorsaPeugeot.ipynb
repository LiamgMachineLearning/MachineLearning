{
 "cells": [
  {
   "cell_type": "markdown",
   "metadata": {
    "colab_type": "text",
    "id": "4r5n_333F_Qc"
   },
   "source": [
    "**Machine Learning Assignment 1 - Group B**"
   ]
  },
  {
   "cell_type": "code",
   "execution_count": 770,
   "metadata": {
    "colab": {
     "base_uri": "https://localhost:8080/",
     "height": 54
    },
    "colab_type": "code",
    "id": "IVqKVjYyF4g9",
    "outputId": "26e91cf9-343d-47e4-a663-d717e5413578"
   },
   "outputs": [
    {
     "name": "stdout",
     "output_type": "stream",
     "text": [
      "['AltitudeVariation', 'VehicleSpeedInstantaneous', 'VehicleSpeedAverage', 'VehicleSpeedVariance', 'VehicleSpeedVariation', 'LongitudinalAcceleration', 'EngineLoad', 'EngineCoolantTemperature', 'ManifoldAbsolutePressure', 'EngineRPM', 'MassAirFlow', 'IntakeAirTemperature', 'VerticalAcceleration', 'FuelConsumptionAverage', 'roadSurface', 'traffic', 'drivingStyle']\n"
     ]
    }
   ],
   "source": [
    "import matplotlib.pyplot as plt\n",
    "import numpy as np\n",
    "from sklearn import datasets, linear_model\n",
    "from sklearn.metrics import mean_squared_error, r2_score\n",
    "from sklearn import preprocessing\n",
    "\n",
    "from itertools import cycle\n",
    "from sklearn import svm, datasets\n",
    "from sklearn.metrics import roc_curve, roc_auc_score\n",
    "from sklearn.preprocessing import label_binarize\n",
    "\n",
    "import pandas as pd\n",
    "\n",
    "df1=pd.read_csv('https://raw.githubusercontent.com/LiamgMachineLearning/MachineLearning/master/SeansData/opel_corsa_01.csv', sep=\";\")\n",
    "df2=pd.read_csv('https://raw.githubusercontent.com/LiamgMachineLearning/MachineLearning/master/SeansData/opel_corsa_02.csv', sep=\";\")\n",
    "#df3=pd.read_csv('https://raw.githubusercontent.com/LiamgMachineLearning/MachineLearning/master/SeansData/peugeot_207_01.csv', sep=\";\")\n",
    "#df4=pd.read_csv('https://raw.githubusercontent.com/LiamgMachineLearning/MachineLearning/master/SeansData/peugeot_207_02.csv', sep=\";\")\n",
    "df3=pd.read_csv('https://raw.githubusercontent.com/LiamgMachineLearning/MachineLearning/master/Car_Data/peugeot_01_LGa.csv')\n",
    "df4=pd.read_csv('https://raw.githubusercontent.com/LiamgMachineLearning/MachineLearning/master/Car_Data/peugeot_02_LGa.csv')\n",
    "df3 = df3[df3.roadSurface != 'FullOfHolesCondition']\n",
    "df4 = df4[df4.roadSurface != 'FullOfHolesCondition']\n",
    "\n",
    "#allframes = [df1,df2,df3,df4]\n",
    "allframes = [df1, df2, df3, df4]\n",
    "\n",
    "feature_names = list(df1.head(0))\n",
    "feature_names.pop(0)\n",
    "\n",
    "print(feature_names)\n",
    "df1['drivingStyle'] = df1.drivingStyle.replace({'EvenPaceStyle': 0, 'AggressiveStyle': 1})\n",
    "df1['roadSurface']= df1.roadSurface.replace({'SmoothCondition': 0, 'UnevenCondition': 1})\n",
    "df2['drivingStyle'] = df2.drivingStyle.replace({'EvenPaceStyle': 0, 'AggressiveStyle': 1})\n",
    "df2['roadSurface']= df2.roadSurface.replace({'SmoothCondition': 0, 'UnevenCondition': 1})\n",
    "df3['drivingStyle'] = df3.drivingStyle.replace({'EvenPaceStyle': 0, 'AggressiveStyle': 1})\n",
    "df3['roadSurface']= df3.roadSurface.replace({'SmoothCondition': 0, 'UnevenCondition': 1})\n",
    "df4['drivingStyle'] = df4.drivingStyle.replace({'EvenPaceStyle': 0, 'AggressiveStyle': 1})\n",
    "df4['roadSurface']= df4.roadSurface.replace({'SmoothCondition': 0, 'UnevenCondition': 1})\n",
    "\n"
   ]
  },
  {
   "cell_type": "code",
   "execution_count": 771,
   "metadata": {},
   "outputs": [],
   "source": [
    "x = feature_names\n",
    "#df.count(axis='columns')"
   ]
  },
  {
   "cell_type": "code",
   "execution_count": 772,
   "metadata": {},
   "outputs": [
    {
     "name": "stdout",
     "output_type": "stream",
     "text": [
      "(7038, 18)\n",
      "(4092, 18)\n",
      "(6316, 17)\n",
      "(3080, 17)\n"
     ]
    }
   ],
   "source": [
    "print(df1.shape)\n",
    "print(df2.shape)\n",
    "print(df3.shape)\n",
    "print(df4.shape)"
   ]
  },
  {
   "cell_type": "code",
   "execution_count": 773,
   "metadata": {
    "colab": {
     "base_uri": "https://localhost:8080/",
     "height": 232
    },
    "colab_type": "code",
    "id": "a2IC6D83HC5n",
    "outputId": "53cbf5dd-aed2-4d67-cafa-3f603d3a39f8"
   },
   "outputs": [
    {
     "name": "stderr",
     "output_type": "stream",
     "text": [
      "c:\\users\\liam\\appdata\\local\\programs\\python\\python37-32\\lib\\site-packages\\ipykernel_launcher.py:1: FutureWarning: Sorting because non-concatenation axis is not aligned. A future version\n",
      "of pandas will change to not sort by default.\n",
      "\n",
      "To accept the future behavior, pass 'sort=False'.\n",
      "\n",
      "To retain the current behavior and silence the warning, pass 'sort=True'.\n",
      "\n",
      "  \"\"\"Entry point for launching an IPython kernel.\n",
      "c:\\users\\liam\\appdata\\local\\programs\\python\\python37-32\\lib\\site-packages\\ipykernel_launcher.py:2: FutureWarning: Sorting because non-concatenation axis is not aligned. A future version\n",
      "of pandas will change to not sort by default.\n",
      "\n",
      "To accept the future behavior, pass 'sort=False'.\n",
      "\n",
      "To retain the current behavior and silence the warning, pass 'sort=True'.\n",
      "\n",
      "  \n"
     ]
    }
   ],
   "source": [
    "df = pd.concat(allframes)\n",
    "df5 = pd.concat(allframes)\n",
    "#print out first 5 rows of data set\n",
    "#df.head()"
   ]
  },
  {
   "cell_type": "code",
   "execution_count": 774,
   "metadata": {},
   "outputs": [
    {
     "data": {
      "text/html": [
       "<div>\n",
       "<style scoped>\n",
       "    .dataframe tbody tr th:only-of-type {\n",
       "        vertical-align: middle;\n",
       "    }\n",
       "\n",
       "    .dataframe tbody tr th {\n",
       "        vertical-align: top;\n",
       "    }\n",
       "\n",
       "    .dataframe thead th {\n",
       "        text-align: right;\n",
       "    }\n",
       "</style>\n",
       "<table border=\"1\" class=\"dataframe\">\n",
       "  <thead>\n",
       "    <tr style=\"text-align: right;\">\n",
       "      <th></th>\n",
       "      <th>AltitudeVariation</th>\n",
       "      <th>EngineCoolantTemperature</th>\n",
       "      <th>EngineLoad</th>\n",
       "      <th>EngineRPM</th>\n",
       "      <th>FuelConsumptionAverage</th>\n",
       "      <th>IntakeAirTemperature</th>\n",
       "      <th>LongitudinalAcceleration</th>\n",
       "      <th>ManifoldAbsolutePressure</th>\n",
       "      <th>MassAirFlow</th>\n",
       "      <th>Unnamed: 0</th>\n",
       "      <th>VehicleSpeedAverage</th>\n",
       "      <th>VehicleSpeedInstantaneous</th>\n",
       "      <th>VehicleSpeedVariance</th>\n",
       "      <th>VehicleSpeedVariation</th>\n",
       "      <th>VerticalAcceleration</th>\n",
       "      <th>drivingStyle</th>\n",
       "      <th>roadSurface</th>\n",
       "      <th>traffic</th>\n",
       "    </tr>\n",
       "  </thead>\n",
       "  <tbody>\n",
       "    <tr>\n",
       "      <th>0</th>\n",
       "      <td>-2.299988</td>\n",
       "      <td>68.0</td>\n",
       "      <td>4.705883</td>\n",
       "      <td>1796.0</td>\n",
       "      <td>19.497335</td>\n",
       "      <td>24.0</td>\n",
       "      <td>0.3555</td>\n",
       "      <td>106.0</td>\n",
       "      <td>15.81</td>\n",
       "      <td>59.0</td>\n",
       "      <td>13.223501</td>\n",
       "      <td>25.670519</td>\n",
       "      <td>121.592690</td>\n",
       "      <td>-2.476980</td>\n",
       "      <td>-0.1133</td>\n",
       "      <td>0</td>\n",
       "      <td>0</td>\n",
       "      <td>LowCongestionCondition</td>\n",
       "    </tr>\n",
       "    <tr>\n",
       "      <th>1</th>\n",
       "      <td>-2.099976</td>\n",
       "      <td>68.0</td>\n",
       "      <td>10.588236</td>\n",
       "      <td>1689.0</td>\n",
       "      <td>19.515722</td>\n",
       "      <td>22.0</td>\n",
       "      <td>0.4492</td>\n",
       "      <td>103.0</td>\n",
       "      <td>14.65</td>\n",
       "      <td>60.0</td>\n",
       "      <td>13.638919</td>\n",
       "      <td>24.094259</td>\n",
       "      <td>120.422571</td>\n",
       "      <td>-1.576260</td>\n",
       "      <td>-0.1289</td>\n",
       "      <td>0</td>\n",
       "      <td>0</td>\n",
       "      <td>LowCongestionCondition</td>\n",
       "    </tr>\n",
       "    <tr>\n",
       "      <th>2</th>\n",
       "      <td>-1.500000</td>\n",
       "      <td>68.0</td>\n",
       "      <td>27.450981</td>\n",
       "      <td>1599.0</td>\n",
       "      <td>19.441765</td>\n",
       "      <td>21.0</td>\n",
       "      <td>0.4258</td>\n",
       "      <td>103.0</td>\n",
       "      <td>11.85</td>\n",
       "      <td>61.0</td>\n",
       "      <td>14.031043</td>\n",
       "      <td>22.743179</td>\n",
       "      <td>118.456769</td>\n",
       "      <td>-1.351080</td>\n",
       "      <td>-0.1328</td>\n",
       "      <td>0</td>\n",
       "      <td>0</td>\n",
       "      <td>LowCongestionCondition</td>\n",
       "    </tr>\n",
       "    <tr>\n",
       "      <th>3</th>\n",
       "      <td>0.100037</td>\n",
       "      <td>69.0</td>\n",
       "      <td>24.313726</td>\n",
       "      <td>1620.0</td>\n",
       "      <td>19.388769</td>\n",
       "      <td>20.0</td>\n",
       "      <td>0.4140</td>\n",
       "      <td>104.0</td>\n",
       "      <td>12.21</td>\n",
       "      <td>62.0</td>\n",
       "      <td>14.171073</td>\n",
       "      <td>22.292820</td>\n",
       "      <td>117.571308</td>\n",
       "      <td>-0.450359</td>\n",
       "      <td>-0.0859</td>\n",
       "      <td>0</td>\n",
       "      <td>0</td>\n",
       "      <td>LowCongestionCondition</td>\n",
       "    </tr>\n",
       "    <tr>\n",
       "      <th>4</th>\n",
       "      <td>0.099976</td>\n",
       "      <td>69.0</td>\n",
       "      <td>20.000000</td>\n",
       "      <td>1708.0</td>\n",
       "      <td>19.301638</td>\n",
       "      <td>21.0</td>\n",
       "      <td>0.3945</td>\n",
       "      <td>104.0</td>\n",
       "      <td>11.91</td>\n",
       "      <td>63.0</td>\n",
       "      <td>14.328954</td>\n",
       "      <td>23.643900</td>\n",
       "      <td>117.074149</td>\n",
       "      <td>1.351080</td>\n",
       "      <td>-0.0664</td>\n",
       "      <td>0</td>\n",
       "      <td>0</td>\n",
       "      <td>LowCongestionCondition</td>\n",
       "    </tr>\n",
       "  </tbody>\n",
       "</table>\n",
       "</div>"
      ],
      "text/plain": [
       "   AltitudeVariation  EngineCoolantTemperature  EngineLoad  EngineRPM  \\\n",
       "0          -2.299988                      68.0    4.705883     1796.0   \n",
       "1          -2.099976                      68.0   10.588236     1689.0   \n",
       "2          -1.500000                      68.0   27.450981     1599.0   \n",
       "3           0.100037                      69.0   24.313726     1620.0   \n",
       "4           0.099976                      69.0   20.000000     1708.0   \n",
       "\n",
       "   FuelConsumptionAverage  IntakeAirTemperature  LongitudinalAcceleration  \\\n",
       "0               19.497335                  24.0                    0.3555   \n",
       "1               19.515722                  22.0                    0.4492   \n",
       "2               19.441765                  21.0                    0.4258   \n",
       "3               19.388769                  20.0                    0.4140   \n",
       "4               19.301638                  21.0                    0.3945   \n",
       "\n",
       "   ManifoldAbsolutePressure  MassAirFlow  Unnamed: 0  VehicleSpeedAverage  \\\n",
       "0                     106.0        15.81        59.0            13.223501   \n",
       "1                     103.0        14.65        60.0            13.638919   \n",
       "2                     103.0        11.85        61.0            14.031043   \n",
       "3                     104.0        12.21        62.0            14.171073   \n",
       "4                     104.0        11.91        63.0            14.328954   \n",
       "\n",
       "   VehicleSpeedInstantaneous  VehicleSpeedVariance  VehicleSpeedVariation  \\\n",
       "0                  25.670519            121.592690              -2.476980   \n",
       "1                  24.094259            120.422571              -1.576260   \n",
       "2                  22.743179            118.456769              -1.351080   \n",
       "3                  22.292820            117.571308              -0.450359   \n",
       "4                  23.643900            117.074149               1.351080   \n",
       "\n",
       "   VerticalAcceleration  drivingStyle  roadSurface                 traffic  \n",
       "0               -0.1133             0            0  LowCongestionCondition  \n",
       "1               -0.1289             0            0  LowCongestionCondition  \n",
       "2               -0.1328             0            0  LowCongestionCondition  \n",
       "3               -0.0859             0            0  LowCongestionCondition  \n",
       "4               -0.0664             0            0  LowCongestionCondition  "
      ]
     },
     "execution_count": 774,
     "metadata": {},
     "output_type": "execute_result"
    }
   ],
   "source": [
    "df5.head()"
   ]
  },
  {
   "cell_type": "code",
   "execution_count": 775,
   "metadata": {
    "colab": {
     "base_uri": "https://localhost:8080/",
     "height": 215
    },
    "colab_type": "code",
    "id": "mGY02qf4Pdj7",
    "outputId": "d247bac6-6163-4877-f270-3d9ea6c3c156"
   },
   "outputs": [
    {
     "data": {
      "text/html": [
       "<div>\n",
       "<style scoped>\n",
       "    .dataframe tbody tr th:only-of-type {\n",
       "        vertical-align: middle;\n",
       "    }\n",
       "\n",
       "    .dataframe tbody tr th {\n",
       "        vertical-align: top;\n",
       "    }\n",
       "\n",
       "    .dataframe thead th {\n",
       "        text-align: right;\n",
       "    }\n",
       "</style>\n",
       "<table border=\"1\" class=\"dataframe\">\n",
       "  <thead>\n",
       "    <tr style=\"text-align: right;\">\n",
       "      <th></th>\n",
       "      <th>AltitudeVariation</th>\n",
       "      <th>EngineCoolantTemperature</th>\n",
       "      <th>EngineLoad</th>\n",
       "      <th>EngineRPM</th>\n",
       "      <th>FuelConsumptionAverage</th>\n",
       "      <th>IntakeAirTemperature</th>\n",
       "      <th>LongitudinalAcceleration</th>\n",
       "      <th>ManifoldAbsolutePressure</th>\n",
       "      <th>MassAirFlow</th>\n",
       "      <th>VehicleSpeedAverage</th>\n",
       "      <th>VehicleSpeedInstantaneous</th>\n",
       "      <th>VehicleSpeedVariance</th>\n",
       "      <th>VehicleSpeedVariation</th>\n",
       "      <th>VerticalAcceleration</th>\n",
       "      <th>drivingStyle</th>\n",
       "      <th>roadSurface</th>\n",
       "    </tr>\n",
       "  </thead>\n",
       "  <tbody>\n",
       "    <tr>\n",
       "      <th>0</th>\n",
       "      <td>-2.299988</td>\n",
       "      <td>68.0</td>\n",
       "      <td>4.705883</td>\n",
       "      <td>1796.0</td>\n",
       "      <td>19.497335</td>\n",
       "      <td>24.0</td>\n",
       "      <td>0.3555</td>\n",
       "      <td>106.0</td>\n",
       "      <td>15.81</td>\n",
       "      <td>13.223501</td>\n",
       "      <td>25.670519</td>\n",
       "      <td>121.592690</td>\n",
       "      <td>-2.476980</td>\n",
       "      <td>-0.1133</td>\n",
       "      <td>0</td>\n",
       "      <td>0</td>\n",
       "    </tr>\n",
       "    <tr>\n",
       "      <th>1</th>\n",
       "      <td>-2.099976</td>\n",
       "      <td>68.0</td>\n",
       "      <td>10.588236</td>\n",
       "      <td>1689.0</td>\n",
       "      <td>19.515722</td>\n",
       "      <td>22.0</td>\n",
       "      <td>0.4492</td>\n",
       "      <td>103.0</td>\n",
       "      <td>14.65</td>\n",
       "      <td>13.638919</td>\n",
       "      <td>24.094259</td>\n",
       "      <td>120.422571</td>\n",
       "      <td>-1.576260</td>\n",
       "      <td>-0.1289</td>\n",
       "      <td>0</td>\n",
       "      <td>0</td>\n",
       "    </tr>\n",
       "    <tr>\n",
       "      <th>2</th>\n",
       "      <td>-1.500000</td>\n",
       "      <td>68.0</td>\n",
       "      <td>27.450981</td>\n",
       "      <td>1599.0</td>\n",
       "      <td>19.441765</td>\n",
       "      <td>21.0</td>\n",
       "      <td>0.4258</td>\n",
       "      <td>103.0</td>\n",
       "      <td>11.85</td>\n",
       "      <td>14.031043</td>\n",
       "      <td>22.743179</td>\n",
       "      <td>118.456769</td>\n",
       "      <td>-1.351080</td>\n",
       "      <td>-0.1328</td>\n",
       "      <td>0</td>\n",
       "      <td>0</td>\n",
       "    </tr>\n",
       "    <tr>\n",
       "      <th>3</th>\n",
       "      <td>0.100037</td>\n",
       "      <td>69.0</td>\n",
       "      <td>24.313726</td>\n",
       "      <td>1620.0</td>\n",
       "      <td>19.388769</td>\n",
       "      <td>20.0</td>\n",
       "      <td>0.4140</td>\n",
       "      <td>104.0</td>\n",
       "      <td>12.21</td>\n",
       "      <td>14.171073</td>\n",
       "      <td>22.292820</td>\n",
       "      <td>117.571308</td>\n",
       "      <td>-0.450359</td>\n",
       "      <td>-0.0859</td>\n",
       "      <td>0</td>\n",
       "      <td>0</td>\n",
       "    </tr>\n",
       "    <tr>\n",
       "      <th>4</th>\n",
       "      <td>0.099976</td>\n",
       "      <td>69.0</td>\n",
       "      <td>20.000000</td>\n",
       "      <td>1708.0</td>\n",
       "      <td>19.301638</td>\n",
       "      <td>21.0</td>\n",
       "      <td>0.3945</td>\n",
       "      <td>104.0</td>\n",
       "      <td>11.91</td>\n",
       "      <td>14.328954</td>\n",
       "      <td>23.643900</td>\n",
       "      <td>117.074149</td>\n",
       "      <td>1.351080</td>\n",
       "      <td>-0.0664</td>\n",
       "      <td>0</td>\n",
       "      <td>0</td>\n",
       "    </tr>\n",
       "  </tbody>\n",
       "</table>\n",
       "</div>"
      ],
      "text/plain": [
       "   AltitudeVariation  EngineCoolantTemperature  EngineLoad  EngineRPM  \\\n",
       "0          -2.299988                      68.0    4.705883     1796.0   \n",
       "1          -2.099976                      68.0   10.588236     1689.0   \n",
       "2          -1.500000                      68.0   27.450981     1599.0   \n",
       "3           0.100037                      69.0   24.313726     1620.0   \n",
       "4           0.099976                      69.0   20.000000     1708.0   \n",
       "\n",
       "   FuelConsumptionAverage  IntakeAirTemperature  LongitudinalAcceleration  \\\n",
       "0               19.497335                  24.0                    0.3555   \n",
       "1               19.515722                  22.0                    0.4492   \n",
       "2               19.441765                  21.0                    0.4258   \n",
       "3               19.388769                  20.0                    0.4140   \n",
       "4               19.301638                  21.0                    0.3945   \n",
       "\n",
       "   ManifoldAbsolutePressure  MassAirFlow  VehicleSpeedAverage  \\\n",
       "0                     106.0        15.81            13.223501   \n",
       "1                     103.0        14.65            13.638919   \n",
       "2                     103.0        11.85            14.031043   \n",
       "3                     104.0        12.21            14.171073   \n",
       "4                     104.0        11.91            14.328954   \n",
       "\n",
       "   VehicleSpeedInstantaneous  VehicleSpeedVariance  VehicleSpeedVariation  \\\n",
       "0                  25.670519            121.592690              -2.476980   \n",
       "1                  24.094259            120.422571              -1.576260   \n",
       "2                  22.743179            118.456769              -1.351080   \n",
       "3                  22.292820            117.571308              -0.450359   \n",
       "4                  23.643900            117.074149               1.351080   \n",
       "\n",
       "   VerticalAcceleration  drivingStyle  roadSurface  \n",
       "0               -0.1133             0            0  \n",
       "1               -0.1289             0            0  \n",
       "2               -0.1328             0            0  \n",
       "3               -0.0859             0            0  \n",
       "4               -0.0664             0            0  "
      ]
     },
     "execution_count": 775,
     "metadata": {},
     "output_type": "execute_result"
    }
   ],
   "source": [
    "df.drop(['Unnamed: 0', 'traffic'], axis=1, inplace=True)\n",
    "df5.drop(['Unnamed: 0', 'traffic'], axis=1, inplace=True)\n",
    "df5.head()"
   ]
  },
  {
   "cell_type": "code",
   "execution_count": 776,
   "metadata": {
    "colab": {
     "base_uri": "https://localhost:8080/",
     "height": 304
    },
    "colab_type": "code",
    "id": "tHb4ykzAVY1Y",
    "outputId": "7d79d169-5b7f-46c5-aef4-db228e348a55"
   },
   "outputs": [
    {
     "data": {
      "text/html": [
       "<div>\n",
       "<style scoped>\n",
       "    .dataframe tbody tr th:only-of-type {\n",
       "        vertical-align: middle;\n",
       "    }\n",
       "\n",
       "    .dataframe tbody tr th {\n",
       "        vertical-align: top;\n",
       "    }\n",
       "\n",
       "    .dataframe thead th {\n",
       "        text-align: right;\n",
       "    }\n",
       "</style>\n",
       "<table border=\"1\" class=\"dataframe\">\n",
       "  <thead>\n",
       "    <tr style=\"text-align: right;\">\n",
       "      <th></th>\n",
       "      <th>AltitudeVariation</th>\n",
       "      <th>EngineCoolantTemperature</th>\n",
       "      <th>EngineLoad</th>\n",
       "      <th>EngineRPM</th>\n",
       "      <th>FuelConsumptionAverage</th>\n",
       "      <th>IntakeAirTemperature</th>\n",
       "      <th>LongitudinalAcceleration</th>\n",
       "      <th>ManifoldAbsolutePressure</th>\n",
       "      <th>MassAirFlow</th>\n",
       "      <th>VehicleSpeedAverage</th>\n",
       "      <th>VehicleSpeedInstantaneous</th>\n",
       "      <th>VehicleSpeedVariance</th>\n",
       "      <th>VehicleSpeedVariation</th>\n",
       "      <th>VerticalAcceleration</th>\n",
       "      <th>drivingStyle</th>\n",
       "      <th>roadSurface</th>\n",
       "    </tr>\n",
       "  </thead>\n",
       "  <tbody>\n",
       "    <tr>\n",
       "      <th>count</th>\n",
       "      <td>20526.000000</td>\n",
       "      <td>20521.000000</td>\n",
       "      <td>20521.000000</td>\n",
       "      <td>20521.000000</td>\n",
       "      <td>20521.000000</td>\n",
       "      <td>20521.000000</td>\n",
       "      <td>20526.000000</td>\n",
       "      <td>20521.000000</td>\n",
       "      <td>20521.000000</td>\n",
       "      <td>20526.000000</td>\n",
       "      <td>20519.000000</td>\n",
       "      <td>20526.000000</td>\n",
       "      <td>20526.000000</td>\n",
       "      <td>20526.000000</td>\n",
       "      <td>20526.000000</td>\n",
       "      <td>20526.000000</td>\n",
       "    </tr>\n",
       "    <tr>\n",
       "      <th>mean</th>\n",
       "      <td>-0.277288</td>\n",
       "      <td>74.184007</td>\n",
       "      <td>36.173103</td>\n",
       "      <td>1526.855075</td>\n",
       "      <td>15.064395</td>\n",
       "      <td>24.260124</td>\n",
       "      <td>0.717826</td>\n",
       "      <td>116.547001</td>\n",
       "      <td>16.446303</td>\n",
       "      <td>40.536049</td>\n",
       "      <td>40.312892</td>\n",
       "      <td>174.856937</td>\n",
       "      <td>-0.029213</td>\n",
       "      <td>0.594821</td>\n",
       "      <td>0.126328</td>\n",
       "      <td>0.306392</td>\n",
       "    </tr>\n",
       "    <tr>\n",
       "      <th>std</th>\n",
       "      <td>2.160817</td>\n",
       "      <td>12.570001</td>\n",
       "      <td>26.366717</td>\n",
       "      <td>592.678939</td>\n",
       "      <td>4.756568</td>\n",
       "      <td>11.376940</td>\n",
       "      <td>1.659091</td>\n",
       "      <td>21.539724</td>\n",
       "      <td>10.035839</td>\n",
       "      <td>32.684890</td>\n",
       "      <td>35.318866</td>\n",
       "      <td>189.798118</td>\n",
       "      <td>2.504639</td>\n",
       "      <td>3.700660</td>\n",
       "      <td>0.332226</td>\n",
       "      <td>0.461006</td>\n",
       "    </tr>\n",
       "    <tr>\n",
       "      <th>min</th>\n",
       "      <td>-24.600006</td>\n",
       "      <td>12.000000</td>\n",
       "      <td>0.000000</td>\n",
       "      <td>0.000000</td>\n",
       "      <td>7.271883</td>\n",
       "      <td>7.000000</td>\n",
       "      <td>-3.065000</td>\n",
       "      <td>88.000000</td>\n",
       "      <td>0.880000</td>\n",
       "      <td>0.000000</td>\n",
       "      <td>0.000000</td>\n",
       "      <td>0.000000</td>\n",
       "      <td>-103.500000</td>\n",
       "      <td>-2.763100</td>\n",
       "      <td>0.000000</td>\n",
       "      <td>0.000000</td>\n",
       "    </tr>\n",
       "    <tr>\n",
       "      <th>25%</th>\n",
       "      <td>-1.499999</td>\n",
       "      <td>73.000000</td>\n",
       "      <td>18.431374</td>\n",
       "      <td>883.000000</td>\n",
       "      <td>11.309890</td>\n",
       "      <td>16.000000</td>\n",
       "      <td>-0.215000</td>\n",
       "      <td>103.000000</td>\n",
       "      <td>7.440000</td>\n",
       "      <td>16.020389</td>\n",
       "      <td>11.709359</td>\n",
       "      <td>43.675301</td>\n",
       "      <td>-0.900000</td>\n",
       "      <td>-0.508825</td>\n",
       "      <td>0.000000</td>\n",
       "      <td>0.000000</td>\n",
       "    </tr>\n",
       "    <tr>\n",
       "      <th>50%</th>\n",
       "      <td>-0.099998</td>\n",
       "      <td>79.000000</td>\n",
       "      <td>30.196079</td>\n",
       "      <td>1534.000000</td>\n",
       "      <td>14.372615</td>\n",
       "      <td>20.000000</td>\n",
       "      <td>0.394500</td>\n",
       "      <td>107.000000</td>\n",
       "      <td>15.410000</td>\n",
       "      <td>29.266714</td>\n",
       "      <td>31.500000</td>\n",
       "      <td>112.822027</td>\n",
       "      <td>0.000000</td>\n",
       "      <td>-0.057400</td>\n",
       "      <td>0.000000</td>\n",
       "      <td>0.000000</td>\n",
       "    </tr>\n",
       "    <tr>\n",
       "      <th>75%</th>\n",
       "      <td>0.700012</td>\n",
       "      <td>81.000000</td>\n",
       "      <td>56.862747</td>\n",
       "      <td>2040.000000</td>\n",
       "      <td>18.311926</td>\n",
       "      <td>33.000000</td>\n",
       "      <td>1.167575</td>\n",
       "      <td>123.000000</td>\n",
       "      <td>22.670000</td>\n",
       "      <td>55.694878</td>\n",
       "      <td>58.771980</td>\n",
       "      <td>234.770714</td>\n",
       "      <td>0.900002</td>\n",
       "      <td>0.257800</td>\n",
       "      <td>0.000000</td>\n",
       "      <td>1.000000</td>\n",
       "    </tr>\n",
       "    <tr>\n",
       "      <th>max</th>\n",
       "      <td>11.400002</td>\n",
       "      <td>89.000000</td>\n",
       "      <td>100.000000</td>\n",
       "      <td>3167.000000</td>\n",
       "      <td>45.336861</td>\n",
       "      <td>65.000000</td>\n",
       "      <td>8.477800</td>\n",
       "      <td>252.000000</td>\n",
       "      <td>73.250000</td>\n",
       "      <td>121.330733</td>\n",
       "      <td>124.749725</td>\n",
       "      <td>1418.370369</td>\n",
       "      <td>97.199997</td>\n",
       "      <td>17.944800</td>\n",
       "      <td>1.000000</td>\n",
       "      <td>1.000000</td>\n",
       "    </tr>\n",
       "  </tbody>\n",
       "</table>\n",
       "</div>"
      ],
      "text/plain": [
       "       AltitudeVariation  EngineCoolantTemperature    EngineLoad  \\\n",
       "count       20526.000000              20521.000000  20521.000000   \n",
       "mean           -0.277288                 74.184007     36.173103   \n",
       "std             2.160817                 12.570001     26.366717   \n",
       "min           -24.600006                 12.000000      0.000000   \n",
       "25%            -1.499999                 73.000000     18.431374   \n",
       "50%            -0.099998                 79.000000     30.196079   \n",
       "75%             0.700012                 81.000000     56.862747   \n",
       "max            11.400002                 89.000000    100.000000   \n",
       "\n",
       "          EngineRPM  FuelConsumptionAverage  IntakeAirTemperature  \\\n",
       "count  20521.000000            20521.000000          20521.000000   \n",
       "mean    1526.855075               15.064395             24.260124   \n",
       "std      592.678939                4.756568             11.376940   \n",
       "min        0.000000                7.271883              7.000000   \n",
       "25%      883.000000               11.309890             16.000000   \n",
       "50%     1534.000000               14.372615             20.000000   \n",
       "75%     2040.000000               18.311926             33.000000   \n",
       "max     3167.000000               45.336861             65.000000   \n",
       "\n",
       "       LongitudinalAcceleration  ManifoldAbsolutePressure   MassAirFlow  \\\n",
       "count              20526.000000              20521.000000  20521.000000   \n",
       "mean                   0.717826                116.547001     16.446303   \n",
       "std                    1.659091                 21.539724     10.035839   \n",
       "min                   -3.065000                 88.000000      0.880000   \n",
       "25%                   -0.215000                103.000000      7.440000   \n",
       "50%                    0.394500                107.000000     15.410000   \n",
       "75%                    1.167575                123.000000     22.670000   \n",
       "max                    8.477800                252.000000     73.250000   \n",
       "\n",
       "       VehicleSpeedAverage  VehicleSpeedInstantaneous  VehicleSpeedVariance  \\\n",
       "count         20526.000000               20519.000000          20526.000000   \n",
       "mean             40.536049                  40.312892            174.856937   \n",
       "std              32.684890                  35.318866            189.798118   \n",
       "min               0.000000                   0.000000              0.000000   \n",
       "25%              16.020389                  11.709359             43.675301   \n",
       "50%              29.266714                  31.500000            112.822027   \n",
       "75%              55.694878                  58.771980            234.770714   \n",
       "max             121.330733                 124.749725           1418.370369   \n",
       "\n",
       "       VehicleSpeedVariation  VerticalAcceleration  drivingStyle   roadSurface  \n",
       "count           20526.000000          20526.000000  20526.000000  20526.000000  \n",
       "mean               -0.029213              0.594821      0.126328      0.306392  \n",
       "std                 2.504639              3.700660      0.332226      0.461006  \n",
       "min              -103.500000             -2.763100      0.000000      0.000000  \n",
       "25%                -0.900000             -0.508825      0.000000      0.000000  \n",
       "50%                 0.000000             -0.057400      0.000000      0.000000  \n",
       "75%                 0.900002              0.257800      0.000000      1.000000  \n",
       "max                97.199997             17.944800      1.000000      1.000000  "
      ]
     },
     "execution_count": 776,
     "metadata": {},
     "output_type": "execute_result"
    }
   ],
   "source": [
    "df5.describe()"
   ]
  },
  {
   "cell_type": "code",
   "execution_count": 777,
   "metadata": {},
   "outputs": [
    {
     "name": "stdout",
     "output_type": "stream",
     "text": [
      "(20526, 16)\n"
     ]
    }
   ],
   "source": [
    "print(df5.shape)"
   ]
  },
  {
   "cell_type": "code",
   "execution_count": 778,
   "metadata": {},
   "outputs": [
    {
     "name": "stdout",
     "output_type": "stream",
     "text": [
      "(20526, 16)\n"
     ]
    }
   ],
   "source": [
    "print(df.shape)"
   ]
  },
  {
   "cell_type": "markdown",
   "metadata": {},
   "source": [
    "Removing non numeric values from the df, confirming if any non numberic values existed by running shape"
   ]
  },
  {
   "cell_type": "code",
   "execution_count": 779,
   "metadata": {},
   "outputs": [
    {
     "name": "stdout",
     "output_type": "stream",
     "text": [
      "(20515, 16)\n"
     ]
    }
   ],
   "source": [
    "#import pandas as pd\n",
    "\n",
    "#df = pd.DataFrame({'values_1': ['700','ABC','500','XYZ','1200'],\n",
    "#                   'values_2': ['DDD','150','350','400','5000'] \n",
    "#                   })\n",
    "\n",
    "df = df.apply (pd.to_numeric, errors='coerce')\n",
    "df = df.dropna()\n",
    "df = df.reset_index(drop=True)\n",
    "\n",
    "print(df.shape)"
   ]
  },
  {
   "cell_type": "code",
   "execution_count": 780,
   "metadata": {},
   "outputs": [
    {
     "name": "stdout",
     "output_type": "stream",
     "text": [
      "(20515, 16)\n"
     ]
    }
   ],
   "source": [
    "df5 = df5.apply (pd.to_numeric, errors='coerce')\n",
    "df5 = df5.dropna()\n",
    "df5 = df5.reset_index(drop=True)\n",
    "\n",
    "print(df.shape)"
   ]
  },
  {
   "cell_type": "code",
   "execution_count": 781,
   "metadata": {},
   "outputs": [],
   "source": [
    "#xx = df.iloc[:,[1,2]] \n",
    "scaling= df5.iloc[:,0:14]\n"
   ]
  },
  {
   "cell_type": "code",
   "execution_count": 782,
   "metadata": {},
   "outputs": [
    {
     "data": {
      "text/html": [
       "<div>\n",
       "<style scoped>\n",
       "    .dataframe tbody tr th:only-of-type {\n",
       "        vertical-align: middle;\n",
       "    }\n",
       "\n",
       "    .dataframe tbody tr th {\n",
       "        vertical-align: top;\n",
       "    }\n",
       "\n",
       "    .dataframe thead th {\n",
       "        text-align: right;\n",
       "    }\n",
       "</style>\n",
       "<table border=\"1\" class=\"dataframe\">\n",
       "  <thead>\n",
       "    <tr style=\"text-align: right;\">\n",
       "      <th></th>\n",
       "      <th>AltitudeVariation</th>\n",
       "      <th>EngineCoolantTemperature</th>\n",
       "      <th>EngineLoad</th>\n",
       "      <th>EngineRPM</th>\n",
       "      <th>FuelConsumptionAverage</th>\n",
       "      <th>IntakeAirTemperature</th>\n",
       "      <th>LongitudinalAcceleration</th>\n",
       "      <th>ManifoldAbsolutePressure</th>\n",
       "      <th>MassAirFlow</th>\n",
       "      <th>VehicleSpeedAverage</th>\n",
       "      <th>VehicleSpeedInstantaneous</th>\n",
       "      <th>VehicleSpeedVariance</th>\n",
       "      <th>VehicleSpeedVariation</th>\n",
       "      <th>VerticalAcceleration</th>\n",
       "    </tr>\n",
       "  </thead>\n",
       "  <tbody>\n",
       "    <tr>\n",
       "      <th>0</th>\n",
       "      <td>-2.299988</td>\n",
       "      <td>68.0</td>\n",
       "      <td>4.705883</td>\n",
       "      <td>1796.0</td>\n",
       "      <td>19.497335</td>\n",
       "      <td>24.0</td>\n",
       "      <td>0.3555</td>\n",
       "      <td>106.0</td>\n",
       "      <td>15.81</td>\n",
       "      <td>13.223501</td>\n",
       "      <td>25.670519</td>\n",
       "      <td>121.592690</td>\n",
       "      <td>-2.476980</td>\n",
       "      <td>-0.1133</td>\n",
       "    </tr>\n",
       "    <tr>\n",
       "      <th>1</th>\n",
       "      <td>-2.099976</td>\n",
       "      <td>68.0</td>\n",
       "      <td>10.588236</td>\n",
       "      <td>1689.0</td>\n",
       "      <td>19.515722</td>\n",
       "      <td>22.0</td>\n",
       "      <td>0.4492</td>\n",
       "      <td>103.0</td>\n",
       "      <td>14.65</td>\n",
       "      <td>13.638919</td>\n",
       "      <td>24.094259</td>\n",
       "      <td>120.422571</td>\n",
       "      <td>-1.576260</td>\n",
       "      <td>-0.1289</td>\n",
       "    </tr>\n",
       "    <tr>\n",
       "      <th>2</th>\n",
       "      <td>-1.500000</td>\n",
       "      <td>68.0</td>\n",
       "      <td>27.450981</td>\n",
       "      <td>1599.0</td>\n",
       "      <td>19.441765</td>\n",
       "      <td>21.0</td>\n",
       "      <td>0.4258</td>\n",
       "      <td>103.0</td>\n",
       "      <td>11.85</td>\n",
       "      <td>14.031043</td>\n",
       "      <td>22.743179</td>\n",
       "      <td>118.456769</td>\n",
       "      <td>-1.351080</td>\n",
       "      <td>-0.1328</td>\n",
       "    </tr>\n",
       "    <tr>\n",
       "      <th>3</th>\n",
       "      <td>0.100037</td>\n",
       "      <td>69.0</td>\n",
       "      <td>24.313726</td>\n",
       "      <td>1620.0</td>\n",
       "      <td>19.388769</td>\n",
       "      <td>20.0</td>\n",
       "      <td>0.4140</td>\n",
       "      <td>104.0</td>\n",
       "      <td>12.21</td>\n",
       "      <td>14.171073</td>\n",
       "      <td>22.292820</td>\n",
       "      <td>117.571308</td>\n",
       "      <td>-0.450359</td>\n",
       "      <td>-0.0859</td>\n",
       "    </tr>\n",
       "    <tr>\n",
       "      <th>4</th>\n",
       "      <td>0.099976</td>\n",
       "      <td>69.0</td>\n",
       "      <td>20.000000</td>\n",
       "      <td>1708.0</td>\n",
       "      <td>19.301638</td>\n",
       "      <td>21.0</td>\n",
       "      <td>0.3945</td>\n",
       "      <td>104.0</td>\n",
       "      <td>11.91</td>\n",
       "      <td>14.328954</td>\n",
       "      <td>23.643900</td>\n",
       "      <td>117.074149</td>\n",
       "      <td>1.351080</td>\n",
       "      <td>-0.0664</td>\n",
       "    </tr>\n",
       "  </tbody>\n",
       "</table>\n",
       "</div>"
      ],
      "text/plain": [
       "   AltitudeVariation  EngineCoolantTemperature  EngineLoad  EngineRPM  \\\n",
       "0          -2.299988                      68.0    4.705883     1796.0   \n",
       "1          -2.099976                      68.0   10.588236     1689.0   \n",
       "2          -1.500000                      68.0   27.450981     1599.0   \n",
       "3           0.100037                      69.0   24.313726     1620.0   \n",
       "4           0.099976                      69.0   20.000000     1708.0   \n",
       "\n",
       "   FuelConsumptionAverage  IntakeAirTemperature  LongitudinalAcceleration  \\\n",
       "0               19.497335                  24.0                    0.3555   \n",
       "1               19.515722                  22.0                    0.4492   \n",
       "2               19.441765                  21.0                    0.4258   \n",
       "3               19.388769                  20.0                    0.4140   \n",
       "4               19.301638                  21.0                    0.3945   \n",
       "\n",
       "   ManifoldAbsolutePressure  MassAirFlow  VehicleSpeedAverage  \\\n",
       "0                     106.0        15.81            13.223501   \n",
       "1                     103.0        14.65            13.638919   \n",
       "2                     103.0        11.85            14.031043   \n",
       "3                     104.0        12.21            14.171073   \n",
       "4                     104.0        11.91            14.328954   \n",
       "\n",
       "   VehicleSpeedInstantaneous  VehicleSpeedVariance  VehicleSpeedVariation  \\\n",
       "0                  25.670519            121.592690              -2.476980   \n",
       "1                  24.094259            120.422571              -1.576260   \n",
       "2                  22.743179            118.456769              -1.351080   \n",
       "3                  22.292820            117.571308              -0.450359   \n",
       "4                  23.643900            117.074149               1.351080   \n",
       "\n",
       "   VerticalAcceleration  \n",
       "0               -0.1133  \n",
       "1               -0.1289  \n",
       "2               -0.1328  \n",
       "3               -0.0859  \n",
       "4               -0.0664  "
      ]
     },
     "execution_count": 782,
     "metadata": {},
     "output_type": "execute_result"
    }
   ],
   "source": [
    "scaling.head()"
   ]
  },
  {
   "cell_type": "code",
   "execution_count": 783,
   "metadata": {},
   "outputs": [],
   "source": [
    "min_max_scaler = preprocessing.StandardScaler() \n",
    "  \n",
    "# Scaled feature \n",
    "x_after_min_max_scaler = min_max_scaler.fit(scaling) \n",
    "rescaled = x_after_min_max_scaler.transform(scaling)"
   ]
  },
  {
   "cell_type": "code",
   "execution_count": 784,
   "metadata": {},
   "outputs": [
    {
     "name": "stdout",
     "output_type": "stream",
     "text": [
      "[[-0.93573017 -0.49230753 -1.19358654  0.45410753]\n",
      " [-0.84318259 -0.49230753 -0.97049278  0.27356016]\n",
      " [-0.56556807 -0.49230753 -0.33095736  0.12169788]\n",
      " [ 0.17478438 -0.41274107 -0.44994069  0.15713241]\n",
      " [ 0.17475615 -0.41274107 -0.6135428   0.30561997]\n",
      " [ 0.17478438 -0.41274107 -0.47968657  0.43892131]\n",
      " [ 0.26733196 -0.41274107 -0.49455948  0.4676064 ]\n",
      " [ 0.26730373 -0.41274107 -0.37557616  0.69539982]\n",
      " [ 0.22104406 -0.41274107 -0.25659276  1.05311986]\n",
      " [ 0.40613922 -0.41274107 -0.01862611  1.25391555]\n",
      " [ 0.35985132 -0.41274107  0.21934054  1.56101482]\n",
      " [ 0.31359164 -0.41274107 -0.42019488  1.08349232]\n",
      " [-0.14914628 -0.41274107  0.87374886  0.10482429]\n",
      " [-0.28792532 -0.33317461  0.57629058  0.26174865]\n",
      " [-0.4267608  -0.33317461 -0.22684695  0.3494913 ]]\n"
     ]
    }
   ],
   "source": [
    "print(rescaled[:15,:4])"
   ]
  },
  {
   "cell_type": "code",
   "execution_count": 785,
   "metadata": {},
   "outputs": [],
   "source": [
    "minmaxscaler = preprocessing.MinMaxScaler(feature_range =(0, 1))\n",
    "x_after_min_max_scaler = minmaxscaler.fit_transform(scaling)"
   ]
  },
  {
   "cell_type": "code",
   "execution_count": 786,
   "metadata": {},
   "outputs": [
    {
     "name": "stdout",
     "output_type": "stream",
     "text": [
      "[[0.61944482 0.72727273 0.04705883 0.5670982  0.32117325]\n",
      " [0.62500071 0.72727273 0.10588236 0.53331228 0.32165628]\n",
      " [0.6416667  0.72727273 0.27450981 0.50489422 0.31971336]\n",
      " [0.68611215 0.74025974 0.24313726 0.5115251  0.31832112]\n",
      " [0.68611046 0.74025974 0.2        0.53931165 0.3160321 ]\n",
      " [0.68611215 0.74025974 0.23529411 0.56425639 0.31256364]\n",
      " [0.69166805 0.74025974 0.23137255 0.56962425 0.30918237]\n",
      " [0.69166635 0.74025974 0.26274509 0.61225134 0.3077528 ]\n",
      " [0.68888925 0.74025974 0.29411766 0.67919166 0.30758178]\n",
      " [0.70000104 0.74025974 0.35686275 0.71676666 0.3080538 ]\n",
      " [0.69722224 0.74025974 0.41960785 0.77423429 0.31005354]\n",
      " [0.69444514 0.74025974 0.2509804  0.68487528 0.31252796]\n",
      " [0.66666568 0.74025974 0.59215687 0.50173666 0.31226981]\n",
      " [0.65833438 0.75324675 0.51372551 0.53110199 0.31147575]\n",
      " [0.64999969 0.75324675 0.30196079 0.54752131 0.31032533]]\n"
     ]
    }
   ],
   "source": [
    "print(x_after_min_max_scaler[:15,:5])"
   ]
  },
  {
   "cell_type": "code",
   "execution_count": 787,
   "metadata": {},
   "outputs": [
    {
     "data": {
      "text/plain": [
       "(20515, 14)"
      ]
     },
     "execution_count": 787,
     "metadata": {},
     "output_type": "execute_result"
    }
   ],
   "source": [
    "x_after_min_max_scaler.shape"
   ]
  },
  {
   "cell_type": "code",
   "execution_count": 788,
   "metadata": {},
   "outputs": [],
   "source": [
    "df5 = df5.iloc[:,:14]"
   ]
  },
  {
   "cell_type": "code",
   "execution_count": 789,
   "metadata": {},
   "outputs": [
    {
     "data": {
      "text/plain": [
       "(20515, 14)"
      ]
     },
     "execution_count": 789,
     "metadata": {},
     "output_type": "execute_result"
    }
   ],
   "source": [
    "df5.shape"
   ]
  },
  {
   "cell_type": "code",
   "execution_count": 790,
   "metadata": {},
   "outputs": [
    {
     "data": {
      "text/html": [
       "<div>\n",
       "<style scoped>\n",
       "    .dataframe tbody tr th:only-of-type {\n",
       "        vertical-align: middle;\n",
       "    }\n",
       "\n",
       "    .dataframe tbody tr th {\n",
       "        vertical-align: top;\n",
       "    }\n",
       "\n",
       "    .dataframe thead th {\n",
       "        text-align: right;\n",
       "    }\n",
       "</style>\n",
       "<table border=\"1\" class=\"dataframe\">\n",
       "  <thead>\n",
       "    <tr style=\"text-align: right;\">\n",
       "      <th></th>\n",
       "      <th>AltitudeVariation</th>\n",
       "      <th>EngineCoolantTemperature</th>\n",
       "      <th>EngineLoad</th>\n",
       "      <th>EngineRPM</th>\n",
       "      <th>FuelConsumptionAverage</th>\n",
       "      <th>IntakeAirTemperature</th>\n",
       "      <th>LongitudinalAcceleration</th>\n",
       "      <th>ManifoldAbsolutePressure</th>\n",
       "      <th>MassAirFlow</th>\n",
       "      <th>VehicleSpeedAverage</th>\n",
       "      <th>VehicleSpeedInstantaneous</th>\n",
       "      <th>VehicleSpeedVariance</th>\n",
       "      <th>VehicleSpeedVariation</th>\n",
       "      <th>VerticalAcceleration</th>\n",
       "    </tr>\n",
       "  </thead>\n",
       "  <tbody>\n",
       "    <tr>\n",
       "      <th>0</th>\n",
       "      <td>-2.299988</td>\n",
       "      <td>68.0</td>\n",
       "      <td>4.705883</td>\n",
       "      <td>1796.0</td>\n",
       "      <td>19.497335</td>\n",
       "      <td>24.0</td>\n",
       "      <td>0.3555</td>\n",
       "      <td>106.0</td>\n",
       "      <td>15.81</td>\n",
       "      <td>13.223501</td>\n",
       "      <td>25.670519</td>\n",
       "      <td>121.592690</td>\n",
       "      <td>-2.476980</td>\n",
       "      <td>-0.1133</td>\n",
       "    </tr>\n",
       "    <tr>\n",
       "      <th>1</th>\n",
       "      <td>-2.099976</td>\n",
       "      <td>68.0</td>\n",
       "      <td>10.588236</td>\n",
       "      <td>1689.0</td>\n",
       "      <td>19.515722</td>\n",
       "      <td>22.0</td>\n",
       "      <td>0.4492</td>\n",
       "      <td>103.0</td>\n",
       "      <td>14.65</td>\n",
       "      <td>13.638919</td>\n",
       "      <td>24.094259</td>\n",
       "      <td>120.422571</td>\n",
       "      <td>-1.576260</td>\n",
       "      <td>-0.1289</td>\n",
       "    </tr>\n",
       "    <tr>\n",
       "      <th>2</th>\n",
       "      <td>-1.500000</td>\n",
       "      <td>68.0</td>\n",
       "      <td>27.450981</td>\n",
       "      <td>1599.0</td>\n",
       "      <td>19.441765</td>\n",
       "      <td>21.0</td>\n",
       "      <td>0.4258</td>\n",
       "      <td>103.0</td>\n",
       "      <td>11.85</td>\n",
       "      <td>14.031043</td>\n",
       "      <td>22.743179</td>\n",
       "      <td>118.456769</td>\n",
       "      <td>-1.351080</td>\n",
       "      <td>-0.1328</td>\n",
       "    </tr>\n",
       "    <tr>\n",
       "      <th>3</th>\n",
       "      <td>0.100037</td>\n",
       "      <td>69.0</td>\n",
       "      <td>24.313726</td>\n",
       "      <td>1620.0</td>\n",
       "      <td>19.388769</td>\n",
       "      <td>20.0</td>\n",
       "      <td>0.4140</td>\n",
       "      <td>104.0</td>\n",
       "      <td>12.21</td>\n",
       "      <td>14.171073</td>\n",
       "      <td>22.292820</td>\n",
       "      <td>117.571308</td>\n",
       "      <td>-0.450359</td>\n",
       "      <td>-0.0859</td>\n",
       "    </tr>\n",
       "    <tr>\n",
       "      <th>4</th>\n",
       "      <td>0.099976</td>\n",
       "      <td>69.0</td>\n",
       "      <td>20.000000</td>\n",
       "      <td>1708.0</td>\n",
       "      <td>19.301638</td>\n",
       "      <td>21.0</td>\n",
       "      <td>0.3945</td>\n",
       "      <td>104.0</td>\n",
       "      <td>11.91</td>\n",
       "      <td>14.328954</td>\n",
       "      <td>23.643900</td>\n",
       "      <td>117.074149</td>\n",
       "      <td>1.351080</td>\n",
       "      <td>-0.0664</td>\n",
       "    </tr>\n",
       "  </tbody>\n",
       "</table>\n",
       "</div>"
      ],
      "text/plain": [
       "   AltitudeVariation  EngineCoolantTemperature  EngineLoad  EngineRPM  \\\n",
       "0          -2.299988                      68.0    4.705883     1796.0   \n",
       "1          -2.099976                      68.0   10.588236     1689.0   \n",
       "2          -1.500000                      68.0   27.450981     1599.0   \n",
       "3           0.100037                      69.0   24.313726     1620.0   \n",
       "4           0.099976                      69.0   20.000000     1708.0   \n",
       "\n",
       "   FuelConsumptionAverage  IntakeAirTemperature  LongitudinalAcceleration  \\\n",
       "0               19.497335                  24.0                    0.3555   \n",
       "1               19.515722                  22.0                    0.4492   \n",
       "2               19.441765                  21.0                    0.4258   \n",
       "3               19.388769                  20.0                    0.4140   \n",
       "4               19.301638                  21.0                    0.3945   \n",
       "\n",
       "   ManifoldAbsolutePressure  MassAirFlow  VehicleSpeedAverage  \\\n",
       "0                     106.0        15.81            13.223501   \n",
       "1                     103.0        14.65            13.638919   \n",
       "2                     103.0        11.85            14.031043   \n",
       "3                     104.0        12.21            14.171073   \n",
       "4                     104.0        11.91            14.328954   \n",
       "\n",
       "   VehicleSpeedInstantaneous  VehicleSpeedVariance  VehicleSpeedVariation  \\\n",
       "0                  25.670519            121.592690              -2.476980   \n",
       "1                  24.094259            120.422571              -1.576260   \n",
       "2                  22.743179            118.456769              -1.351080   \n",
       "3                  22.292820            117.571308              -0.450359   \n",
       "4                  23.643900            117.074149               1.351080   \n",
       "\n",
       "   VerticalAcceleration  \n",
       "0               -0.1133  \n",
       "1               -0.1289  \n",
       "2               -0.1328  \n",
       "3               -0.0859  \n",
       "4               -0.0664  "
      ]
     },
     "execution_count": 790,
     "metadata": {},
     "output_type": "execute_result"
    }
   ],
   "source": [
    "df5.head()"
   ]
  },
  {
   "cell_type": "code",
   "execution_count": 791,
   "metadata": {},
   "outputs": [],
   "source": [
    "#df3.shape"
   ]
  },
  {
   "cell_type": "code",
   "execution_count": 792,
   "metadata": {},
   "outputs": [],
   "source": [
    "#df[0:,:14]= x_after_min_max_scaler"
   ]
  },
  {
   "cell_type": "code",
   "execution_count": 793,
   "metadata": {},
   "outputs": [],
   "source": [
    "#x_after_min_max_scaler.shape"
   ]
  },
  {
   "cell_type": "code",
   "execution_count": 794,
   "metadata": {},
   "outputs": [
    {
     "data": {
      "text/plain": [
       "0.6194448214898893"
      ]
     },
     "execution_count": 794,
     "metadata": {},
     "output_type": "execute_result"
    }
   ],
   "source": [
    "x_after_min_max_scaler[0,0]"
   ]
  },
  {
   "cell_type": "code",
   "execution_count": 795,
   "metadata": {},
   "outputs": [],
   "source": [
    "xxx = df5.values #returns a numpy array\n",
    "min_max_scaler = preprocessing.MinMaxScaler()\n",
    "x_scaled = min_max_scaler.fit_transform(xxx)\n",
    "df6 = pd.DataFrame(x_scaled)"
   ]
  },
  {
   "cell_type": "code",
   "execution_count": 796,
   "metadata": {},
   "outputs": [],
   "source": [
    "#df[0:1,0:1]=x_after_min_max_scaler[0:1,0:1]"
   ]
  },
  {
   "cell_type": "code",
   "execution_count": 797,
   "metadata": {},
   "outputs": [
    {
     "data": {
      "text/html": [
       "<div>\n",
       "<style scoped>\n",
       "    .dataframe tbody tr th:only-of-type {\n",
       "        vertical-align: middle;\n",
       "    }\n",
       "\n",
       "    .dataframe tbody tr th {\n",
       "        vertical-align: top;\n",
       "    }\n",
       "\n",
       "    .dataframe thead th {\n",
       "        text-align: right;\n",
       "    }\n",
       "</style>\n",
       "<table border=\"1\" class=\"dataframe\">\n",
       "  <thead>\n",
       "    <tr style=\"text-align: right;\">\n",
       "      <th></th>\n",
       "      <th>0</th>\n",
       "      <th>1</th>\n",
       "      <th>2</th>\n",
       "      <th>3</th>\n",
       "      <th>4</th>\n",
       "      <th>5</th>\n",
       "      <th>6</th>\n",
       "      <th>7</th>\n",
       "      <th>8</th>\n",
       "      <th>9</th>\n",
       "      <th>10</th>\n",
       "      <th>11</th>\n",
       "      <th>12</th>\n",
       "      <th>13</th>\n",
       "    </tr>\n",
       "  </thead>\n",
       "  <tbody>\n",
       "    <tr>\n",
       "      <th>0</th>\n",
       "      <td>0.619445</td>\n",
       "      <td>0.727273</td>\n",
       "      <td>0.047059</td>\n",
       "      <td>0.567098</td>\n",
       "      <td>0.321173</td>\n",
       "      <td>0.293103</td>\n",
       "      <td>0.296332</td>\n",
       "      <td>0.109756</td>\n",
       "      <td>0.206301</td>\n",
       "      <td>0.108987</td>\n",
       "      <td>0.205776</td>\n",
       "      <td>0.085727</td>\n",
       "      <td>0.134748</td>\n",
       "      <td>0.127961</td>\n",
       "    </tr>\n",
       "    <tr>\n",
       "      <th>1</th>\n",
       "      <td>0.625001</td>\n",
       "      <td>0.727273</td>\n",
       "      <td>0.105882</td>\n",
       "      <td>0.533312</td>\n",
       "      <td>0.321656</td>\n",
       "      <td>0.258621</td>\n",
       "      <td>0.304450</td>\n",
       "      <td>0.091463</td>\n",
       "      <td>0.190272</td>\n",
       "      <td>0.112411</td>\n",
       "      <td>0.193141</td>\n",
       "      <td>0.084902</td>\n",
       "      <td>0.142567</td>\n",
       "      <td>0.127207</td>\n",
       "    </tr>\n",
       "    <tr>\n",
       "      <th>2</th>\n",
       "      <td>0.641667</td>\n",
       "      <td>0.727273</td>\n",
       "      <td>0.274510</td>\n",
       "      <td>0.504894</td>\n",
       "      <td>0.319713</td>\n",
       "      <td>0.241379</td>\n",
       "      <td>0.302422</td>\n",
       "      <td>0.091463</td>\n",
       "      <td>0.151582</td>\n",
       "      <td>0.115643</td>\n",
       "      <td>0.182310</td>\n",
       "      <td>0.083516</td>\n",
       "      <td>0.144522</td>\n",
       "      <td>0.127019</td>\n",
       "    </tr>\n",
       "    <tr>\n",
       "      <th>3</th>\n",
       "      <td>0.686112</td>\n",
       "      <td>0.740260</td>\n",
       "      <td>0.243137</td>\n",
       "      <td>0.511525</td>\n",
       "      <td>0.318321</td>\n",
       "      <td>0.224138</td>\n",
       "      <td>0.301400</td>\n",
       "      <td>0.097561</td>\n",
       "      <td>0.156557</td>\n",
       "      <td>0.116797</td>\n",
       "      <td>0.178700</td>\n",
       "      <td>0.082892</td>\n",
       "      <td>0.152341</td>\n",
       "      <td>0.129284</td>\n",
       "    </tr>\n",
       "    <tr>\n",
       "      <th>4</th>\n",
       "      <td>0.686110</td>\n",
       "      <td>0.740260</td>\n",
       "      <td>0.200000</td>\n",
       "      <td>0.539312</td>\n",
       "      <td>0.316032</td>\n",
       "      <td>0.241379</td>\n",
       "      <td>0.299711</td>\n",
       "      <td>0.097561</td>\n",
       "      <td>0.152411</td>\n",
       "      <td>0.118098</td>\n",
       "      <td>0.189531</td>\n",
       "      <td>0.082541</td>\n",
       "      <td>0.167978</td>\n",
       "      <td>0.130226</td>\n",
       "    </tr>\n",
       "  </tbody>\n",
       "</table>\n",
       "</div>"
      ],
      "text/plain": [
       "          0         1         2         3         4         5         6  \\\n",
       "0  0.619445  0.727273  0.047059  0.567098  0.321173  0.293103  0.296332   \n",
       "1  0.625001  0.727273  0.105882  0.533312  0.321656  0.258621  0.304450   \n",
       "2  0.641667  0.727273  0.274510  0.504894  0.319713  0.241379  0.302422   \n",
       "3  0.686112  0.740260  0.243137  0.511525  0.318321  0.224138  0.301400   \n",
       "4  0.686110  0.740260  0.200000  0.539312  0.316032  0.241379  0.299711   \n",
       "\n",
       "          7         8         9        10        11        12        13  \n",
       "0  0.109756  0.206301  0.108987  0.205776  0.085727  0.134748  0.127961  \n",
       "1  0.091463  0.190272  0.112411  0.193141  0.084902  0.142567  0.127207  \n",
       "2  0.091463  0.151582  0.115643  0.182310  0.083516  0.144522  0.127019  \n",
       "3  0.097561  0.156557  0.116797  0.178700  0.082892  0.152341  0.129284  \n",
       "4  0.097561  0.152411  0.118098  0.189531  0.082541  0.167978  0.130226  "
      ]
     },
     "execution_count": 797,
     "metadata": {},
     "output_type": "execute_result"
    }
   ],
   "source": [
    "df6.head()"
   ]
  },
  {
   "cell_type": "code",
   "execution_count": 798,
   "metadata": {},
   "outputs": [],
   "source": [
    "#x_after_min_max_scaler.columns = df5.columns\n",
    "df6.columns = df5.columns"
   ]
  },
  {
   "cell_type": "code",
   "execution_count": 799,
   "metadata": {},
   "outputs": [
    {
     "data": {
      "text/html": [
       "<div>\n",
       "<style scoped>\n",
       "    .dataframe tbody tr th:only-of-type {\n",
       "        vertical-align: middle;\n",
       "    }\n",
       "\n",
       "    .dataframe tbody tr th {\n",
       "        vertical-align: top;\n",
       "    }\n",
       "\n",
       "    .dataframe thead th {\n",
       "        text-align: right;\n",
       "    }\n",
       "</style>\n",
       "<table border=\"1\" class=\"dataframe\">\n",
       "  <thead>\n",
       "    <tr style=\"text-align: right;\">\n",
       "      <th></th>\n",
       "      <th>AltitudeVariation</th>\n",
       "      <th>EngineCoolantTemperature</th>\n",
       "      <th>EngineLoad</th>\n",
       "      <th>EngineRPM</th>\n",
       "      <th>FuelConsumptionAverage</th>\n",
       "      <th>IntakeAirTemperature</th>\n",
       "      <th>LongitudinalAcceleration</th>\n",
       "      <th>ManifoldAbsolutePressure</th>\n",
       "      <th>MassAirFlow</th>\n",
       "      <th>VehicleSpeedAverage</th>\n",
       "      <th>VehicleSpeedInstantaneous</th>\n",
       "      <th>VehicleSpeedVariance</th>\n",
       "      <th>VehicleSpeedVariation</th>\n",
       "      <th>VerticalAcceleration</th>\n",
       "    </tr>\n",
       "  </thead>\n",
       "  <tbody>\n",
       "    <tr>\n",
       "      <th>0</th>\n",
       "      <td>0.619445</td>\n",
       "      <td>0.727273</td>\n",
       "      <td>0.047059</td>\n",
       "      <td>0.567098</td>\n",
       "      <td>0.321173</td>\n",
       "      <td>0.293103</td>\n",
       "      <td>0.296332</td>\n",
       "      <td>0.109756</td>\n",
       "      <td>0.206301</td>\n",
       "      <td>0.108987</td>\n",
       "      <td>0.205776</td>\n",
       "      <td>0.085727</td>\n",
       "      <td>0.134748</td>\n",
       "      <td>0.127961</td>\n",
       "    </tr>\n",
       "    <tr>\n",
       "      <th>1</th>\n",
       "      <td>0.625001</td>\n",
       "      <td>0.727273</td>\n",
       "      <td>0.105882</td>\n",
       "      <td>0.533312</td>\n",
       "      <td>0.321656</td>\n",
       "      <td>0.258621</td>\n",
       "      <td>0.304450</td>\n",
       "      <td>0.091463</td>\n",
       "      <td>0.190272</td>\n",
       "      <td>0.112411</td>\n",
       "      <td>0.193141</td>\n",
       "      <td>0.084902</td>\n",
       "      <td>0.142567</td>\n",
       "      <td>0.127207</td>\n",
       "    </tr>\n",
       "    <tr>\n",
       "      <th>2</th>\n",
       "      <td>0.641667</td>\n",
       "      <td>0.727273</td>\n",
       "      <td>0.274510</td>\n",
       "      <td>0.504894</td>\n",
       "      <td>0.319713</td>\n",
       "      <td>0.241379</td>\n",
       "      <td>0.302422</td>\n",
       "      <td>0.091463</td>\n",
       "      <td>0.151582</td>\n",
       "      <td>0.115643</td>\n",
       "      <td>0.182310</td>\n",
       "      <td>0.083516</td>\n",
       "      <td>0.144522</td>\n",
       "      <td>0.127019</td>\n",
       "    </tr>\n",
       "    <tr>\n",
       "      <th>3</th>\n",
       "      <td>0.686112</td>\n",
       "      <td>0.740260</td>\n",
       "      <td>0.243137</td>\n",
       "      <td>0.511525</td>\n",
       "      <td>0.318321</td>\n",
       "      <td>0.224138</td>\n",
       "      <td>0.301400</td>\n",
       "      <td>0.097561</td>\n",
       "      <td>0.156557</td>\n",
       "      <td>0.116797</td>\n",
       "      <td>0.178700</td>\n",
       "      <td>0.082892</td>\n",
       "      <td>0.152341</td>\n",
       "      <td>0.129284</td>\n",
       "    </tr>\n",
       "    <tr>\n",
       "      <th>4</th>\n",
       "      <td>0.686110</td>\n",
       "      <td>0.740260</td>\n",
       "      <td>0.200000</td>\n",
       "      <td>0.539312</td>\n",
       "      <td>0.316032</td>\n",
       "      <td>0.241379</td>\n",
       "      <td>0.299711</td>\n",
       "      <td>0.097561</td>\n",
       "      <td>0.152411</td>\n",
       "      <td>0.118098</td>\n",
       "      <td>0.189531</td>\n",
       "      <td>0.082541</td>\n",
       "      <td>0.167978</td>\n",
       "      <td>0.130226</td>\n",
       "    </tr>\n",
       "  </tbody>\n",
       "</table>\n",
       "</div>"
      ],
      "text/plain": [
       "   AltitudeVariation  EngineCoolantTemperature  EngineLoad  EngineRPM  \\\n",
       "0           0.619445                  0.727273    0.047059   0.567098   \n",
       "1           0.625001                  0.727273    0.105882   0.533312   \n",
       "2           0.641667                  0.727273    0.274510   0.504894   \n",
       "3           0.686112                  0.740260    0.243137   0.511525   \n",
       "4           0.686110                  0.740260    0.200000   0.539312   \n",
       "\n",
       "   FuelConsumptionAverage  IntakeAirTemperature  LongitudinalAcceleration  \\\n",
       "0                0.321173              0.293103                  0.296332   \n",
       "1                0.321656              0.258621                  0.304450   \n",
       "2                0.319713              0.241379                  0.302422   \n",
       "3                0.318321              0.224138                  0.301400   \n",
       "4                0.316032              0.241379                  0.299711   \n",
       "\n",
       "   ManifoldAbsolutePressure  MassAirFlow  VehicleSpeedAverage  \\\n",
       "0                  0.109756     0.206301             0.108987   \n",
       "1                  0.091463     0.190272             0.112411   \n",
       "2                  0.091463     0.151582             0.115643   \n",
       "3                  0.097561     0.156557             0.116797   \n",
       "4                  0.097561     0.152411             0.118098   \n",
       "\n",
       "   VehicleSpeedInstantaneous  VehicleSpeedVariance  VehicleSpeedVariation  \\\n",
       "0                   0.205776              0.085727               0.134748   \n",
       "1                   0.193141              0.084902               0.142567   \n",
       "2                   0.182310              0.083516               0.144522   \n",
       "3                   0.178700              0.082892               0.152341   \n",
       "4                   0.189531              0.082541               0.167978   \n",
       "\n",
       "   VerticalAcceleration  \n",
       "0              0.127961  \n",
       "1              0.127207  \n",
       "2              0.127019  \n",
       "3              0.129284  \n",
       "4              0.130226  "
      ]
     },
     "execution_count": 799,
     "metadata": {},
     "output_type": "execute_result"
    }
   ],
   "source": [
    "df6.head()"
   ]
  },
  {
   "cell_type": "code",
   "execution_count": 800,
   "metadata": {
    "colab": {
     "base_uri": "https://localhost:8080/",
     "height": 166
    },
    "colab_type": "code",
    "id": "rDINPzuRYjEr",
    "outputId": "a6b36707-459d-43c8-8ca3-a8cd30215b46"
   },
   "outputs": [],
   "source": [
    "#df.describe(include=[np.object])"
   ]
  },
  {
   "cell_type": "code",
   "execution_count": 801,
   "metadata": {
    "colab": {},
    "colab_type": "code",
    "id": "9219lvCcjAKI"
   },
   "outputs": [],
   "source": [
    "#df['drivingStyle'] = df.drivingStyle.replace({'EvenPaceStyle': 0, 'AggressiveStyle': 1})\n",
    "#df['roadSurface']= df.roadSurface.replace({'SmoothCondition': 0, 'UnevenCondition': 1})\n",
    "#df6['drivingStyle'] = df6.drivingStyle.replace({'EvenPaceStyle': 0, 'AggressiveStyle': 1})\n",
    "#df6['roadSurface']= df6.roadSurface.replace({'SmoothCondition': 0, 'UnevenCondition': 1})"
   ]
  },
  {
   "cell_type": "code",
   "execution_count": 802,
   "metadata": {
    "colab": {},
    "colab_type": "code",
    "id": "w8e_ZaAMextl"
   },
   "outputs": [],
   "source": [
    "def plotCorrelationMatrix(df, graphWidth):\n",
    "    #filename = df.dataframeName\n",
    "    #df = df.dropna('columns') # drop columns with NaN\n",
    "    df = df[[col for col in df if df[col].nunique() > 1]] # keep columns where there are more than 1 unique values\n",
    "    if df.shape[1] < 2:\n",
    "        print(f'No correlation plots shown: The number of non-NaN or constant columns ({df.shape[1]}) is less than 2')\n",
    "        return\n",
    "    corr = df.corr()\n",
    "    plt.figure(num=None, figsize=(graphWidth, graphWidth), dpi=80, facecolor='w', edgecolor='k')\n",
    "    corrMat = plt.matshow(corr, fignum = 1)\n",
    "    plt.xticks(range(len(corr.columns)), corr.columns, rotation=90)\n",
    "    plt.yticks(range(len(corr.columns)), corr.columns)\n",
    "    plt.gca().xaxis.tick_bottom()\n",
    "    plt.colorbar(corrMat)\n",
    "    plt.title(f'Correlation Matrix for opel_corsa_01', fontsize=15)\n",
    "    plt.show()"
   ]
  },
  {
   "cell_type": "code",
   "execution_count": 803,
   "metadata": {
    "colab": {
     "base_uri": "https://localhost:8080/",
     "height": 634
    },
    "colab_type": "code",
    "id": "EwGwtli5fCIh",
    "outputId": "7cbbf4f1-e5e9-4622-c034-890c9ab98be8"
   },
   "outputs": [
    {
     "data": {
      "image/png": "[encoded data removed]",
      "text/plain": [
       "<Figure size 640x640 with 2 Axes>"
      ]
     },
     "metadata": {},
     "output_type": "display_data"
    }
   ],
   "source": [
    "plotCorrelationMatrix(df, 8)"
   ]
  },
  {
   "cell_type": "code",
   "execution_count": 804,
   "metadata": {},
   "outputs": [
    {
     "data": {
      "image/png": "[encoded data removed]",
      "text/plain": [
       "<Figure size 640x640 with 2 Axes>"
      ]
     },
     "metadata": {},
     "output_type": "display_data"
    }
   ],
   "source": [
    "plotCorrelationMatrix(df6, 8)"
   ]
  },
  {
   "cell_type": "markdown",
   "metadata": {
    "colab_type": "text",
    "id": "FPreOT73fgIw"
   },
   "source": [
    "Before balancing data, see how classifiers perform:\n"
   ]
  },
  {
   "cell_type": "code",
   "execution_count": 805,
   "metadata": {
    "colab": {
     "base_uri": "https://localhost:8080/",
     "height": 286
    },
    "colab_type": "code",
    "id": "r7nMK7kyfmt4",
    "outputId": "30e25489-573b-4938-e981-2429a8af6849"
   },
   "outputs": [
    {
     "data": {
      "text/plain": [
       "['AltitudeVariation',\n",
       " 'EngineCoolantTemperature',\n",
       " 'EngineLoad',\n",
       " 'EngineRPM',\n",
       " 'FuelConsumptionAverage',\n",
       " 'IntakeAirTemperature',\n",
       " 'LongitudinalAcceleration',\n",
       " 'ManifoldAbsolutePressure',\n",
       " 'MassAirFlow',\n",
       " 'VehicleSpeedAverage',\n",
       " 'VehicleSpeedInstantaneous',\n",
       " 'VehicleSpeedVariance',\n",
       " 'VehicleSpeedVariation',\n",
       " 'VerticalAcceleration']"
      ]
     },
     "execution_count": 805,
     "metadata": {},
     "output_type": "execute_result"
    }
   ],
   "source": [
    "list(df6.columns)"
   ]
  },
  {
   "cell_type": "code",
   "execution_count": 806,
   "metadata": {
    "colab": {},
    "colab_type": "code",
    "id": "PA87eiODfzUe"
   },
   "outputs": [],
   "source": [
    "features = ['AltitudeVariation','VehicleSpeedInstantaneous','VehicleSpeedAverage','VehicleSpeedVariance','VehicleSpeedVariation','LongitudinalAcceleration','EngineLoad','EngineCoolantTemperature','ManifoldAbsolutePressure','EngineRPM','MassAirFlow','IntakeAirTemperature','VerticalAcceleration','FuelConsumptionAverage']"
   ]
  },
  {
   "cell_type": "code",
   "execution_count": 807,
   "metadata": {
    "colab": {
     "base_uri": "https://localhost:8080/",
     "height": 215
    },
    "colab_type": "code",
    "id": "qNrEEd5agaNH",
    "outputId": "c81143d4-c8b0-4471-92be-4af409355407"
   },
   "outputs": [
    {
     "data": {
      "text/html": [
       "<div>\n",
       "<style scoped>\n",
       "    .dataframe tbody tr th:only-of-type {\n",
       "        vertical-align: middle;\n",
       "    }\n",
       "\n",
       "    .dataframe tbody tr th {\n",
       "        vertical-align: top;\n",
       "    }\n",
       "\n",
       "    .dataframe thead th {\n",
       "        text-align: right;\n",
       "    }\n",
       "</style>\n",
       "<table border=\"1\" class=\"dataframe\">\n",
       "  <thead>\n",
       "    <tr style=\"text-align: right;\">\n",
       "      <th></th>\n",
       "      <th>AltitudeVariation</th>\n",
       "      <th>VehicleSpeedInstantaneous</th>\n",
       "      <th>VehicleSpeedAverage</th>\n",
       "      <th>VehicleSpeedVariance</th>\n",
       "      <th>VehicleSpeedVariation</th>\n",
       "      <th>LongitudinalAcceleration</th>\n",
       "      <th>EngineLoad</th>\n",
       "      <th>EngineCoolantTemperature</th>\n",
       "      <th>ManifoldAbsolutePressure</th>\n",
       "      <th>EngineRPM</th>\n",
       "      <th>MassAirFlow</th>\n",
       "      <th>IntakeAirTemperature</th>\n",
       "      <th>VerticalAcceleration</th>\n",
       "      <th>FuelConsumptionAverage</th>\n",
       "    </tr>\n",
       "  </thead>\n",
       "  <tbody>\n",
       "    <tr>\n",
       "      <th>0</th>\n",
       "      <td>0.619</td>\n",
       "      <td>0.206</td>\n",
       "      <td>0.109</td>\n",
       "      <td>0.086</td>\n",
       "      <td>0.135</td>\n",
       "      <td>0.296</td>\n",
       "      <td>0.047</td>\n",
       "      <td>0.727</td>\n",
       "      <td>0.110</td>\n",
       "      <td>0.567</td>\n",
       "      <td>0.206</td>\n",
       "      <td>0.293</td>\n",
       "      <td>0.128</td>\n",
       "      <td>0.321</td>\n",
       "    </tr>\n",
       "    <tr>\n",
       "      <th>1</th>\n",
       "      <td>0.625</td>\n",
       "      <td>0.193</td>\n",
       "      <td>0.112</td>\n",
       "      <td>0.085</td>\n",
       "      <td>0.143</td>\n",
       "      <td>0.304</td>\n",
       "      <td>0.106</td>\n",
       "      <td>0.727</td>\n",
       "      <td>0.091</td>\n",
       "      <td>0.533</td>\n",
       "      <td>0.190</td>\n",
       "      <td>0.259</td>\n",
       "      <td>0.127</td>\n",
       "      <td>0.322</td>\n",
       "    </tr>\n",
       "    <tr>\n",
       "      <th>2</th>\n",
       "      <td>0.642</td>\n",
       "      <td>0.182</td>\n",
       "      <td>0.116</td>\n",
       "      <td>0.084</td>\n",
       "      <td>0.145</td>\n",
       "      <td>0.302</td>\n",
       "      <td>0.275</td>\n",
       "      <td>0.727</td>\n",
       "      <td>0.091</td>\n",
       "      <td>0.505</td>\n",
       "      <td>0.152</td>\n",
       "      <td>0.241</td>\n",
       "      <td>0.127</td>\n",
       "      <td>0.320</td>\n",
       "    </tr>\n",
       "    <tr>\n",
       "      <th>3</th>\n",
       "      <td>0.686</td>\n",
       "      <td>0.179</td>\n",
       "      <td>0.117</td>\n",
       "      <td>0.083</td>\n",
       "      <td>0.152</td>\n",
       "      <td>0.301</td>\n",
       "      <td>0.243</td>\n",
       "      <td>0.740</td>\n",
       "      <td>0.098</td>\n",
       "      <td>0.512</td>\n",
       "      <td>0.157</td>\n",
       "      <td>0.224</td>\n",
       "      <td>0.129</td>\n",
       "      <td>0.318</td>\n",
       "    </tr>\n",
       "    <tr>\n",
       "      <th>4</th>\n",
       "      <td>0.686</td>\n",
       "      <td>0.190</td>\n",
       "      <td>0.118</td>\n",
       "      <td>0.083</td>\n",
       "      <td>0.168</td>\n",
       "      <td>0.300</td>\n",
       "      <td>0.200</td>\n",
       "      <td>0.740</td>\n",
       "      <td>0.098</td>\n",
       "      <td>0.539</td>\n",
       "      <td>0.152</td>\n",
       "      <td>0.241</td>\n",
       "      <td>0.130</td>\n",
       "      <td>0.316</td>\n",
       "    </tr>\n",
       "  </tbody>\n",
       "</table>\n",
       "</div>"
      ],
      "text/plain": [
       "   AltitudeVariation  VehicleSpeedInstantaneous  VehicleSpeedAverage  \\\n",
       "0              0.619                      0.206                0.109   \n",
       "1              0.625                      0.193                0.112   \n",
       "2              0.642                      0.182                0.116   \n",
       "3              0.686                      0.179                0.117   \n",
       "4              0.686                      0.190                0.118   \n",
       "\n",
       "   VehicleSpeedVariance  VehicleSpeedVariation  LongitudinalAcceleration  \\\n",
       "0                 0.086                  0.135                     0.296   \n",
       "1                 0.085                  0.143                     0.304   \n",
       "2                 0.084                  0.145                     0.302   \n",
       "3                 0.083                  0.152                     0.301   \n",
       "4                 0.083                  0.168                     0.300   \n",
       "\n",
       "   EngineLoad  EngineCoolantTemperature  ManifoldAbsolutePressure  EngineRPM  \\\n",
       "0       0.047                     0.727                     0.110      0.567   \n",
       "1       0.106                     0.727                     0.091      0.533   \n",
       "2       0.275                     0.727                     0.091      0.505   \n",
       "3       0.243                     0.740                     0.098      0.512   \n",
       "4       0.200                     0.740                     0.098      0.539   \n",
       "\n",
       "   MassAirFlow  IntakeAirTemperature  VerticalAcceleration  \\\n",
       "0        0.206                 0.293                 0.128   \n",
       "1        0.190                 0.259                 0.127   \n",
       "2        0.152                 0.241                 0.127   \n",
       "3        0.157                 0.224                 0.129   \n",
       "4        0.152                 0.241                 0.130   \n",
       "\n",
       "   FuelConsumptionAverage  \n",
       "0                   0.321  \n",
       "1                   0.322  \n",
       "2                   0.320  \n",
       "3                   0.318  \n",
       "4                   0.316  "
      ]
     },
     "execution_count": 807,
     "metadata": {},
     "output_type": "execute_result"
    }
   ],
   "source": [
    "X = df6[features]\n",
    "X = X.round(3);\n",
    "X.head()\n"
   ]
  },
  {
   "cell_type": "code",
   "execution_count": 808,
   "metadata": {
    "colab": {
     "base_uri": "https://localhost:8080/",
     "height": 34
    },
    "colab_type": "code",
    "id": "6xGsqpChgmB7",
    "outputId": "6be7a495-22ad-4a4b-c059-04bd76f1c014"
   },
   "outputs": [
    {
     "name": "stdout",
     "output_type": "stream",
     "text": [
      "(20515, 14)\n"
     ]
    }
   ],
   "source": [
    "print(X.shape)"
   ]
  },
  {
   "cell_type": "code",
   "execution_count": 809,
   "metadata": {
    "colab": {
     "base_uri": "https://localhost:8080/",
     "height": 54
    },
    "colab_type": "code",
    "id": "ttYBM8oQ_NLz",
    "outputId": "cbff89e5-82fc-467c-ed0d-e47f3a40ab17"
   },
   "outputs": [],
   "source": [
    "\n",
    "#feature_names.pop(16)\n",
    "#feature_names.pop(15)\n",
    "#feature_names.pop(14)\n",
    "#print(feature_names)\n",
    "#for i in feature_names:\n",
    "#        df[i].fillna(df[i].mean(), inplace=True)"
   ]
  },
  {
   "cell_type": "code",
   "execution_count": 810,
   "metadata": {
    "colab": {
     "base_uri": "https://localhost:8080/",
     "height": 304
    },
    "colab_type": "code",
    "id": "W2iok9OrDxO-",
    "outputId": "548e6509-5ac7-4b50-ea3d-aafaab09a9ed"
   },
   "outputs": [],
   "source": [
    "#df.describe()"
   ]
  },
  {
   "cell_type": "code",
   "execution_count": 811,
   "metadata": {
    "colab": {
     "base_uri": "https://localhost:8080/",
     "height": 633
    },
    "colab_type": "code",
    "id": "n0C7Dg17D_Mm",
    "outputId": "a30f2cee-a147-4ea9-8b0a-4da20636d451"
   },
   "outputs": [],
   "source": [
    "#plotCorrelationMatrix(df, 8)"
   ]
  },
  {
   "cell_type": "code",
   "execution_count": 812,
   "metadata": {
    "colab": {
     "base_uri": "https://localhost:8080/",
     "height": 118
    },
    "colab_type": "code",
    "id": "1dS1DIW-gr3Y",
    "outputId": "0fc6c813-8f95-4320-a4a9-af6b857043a6"
   },
   "outputs": [
    {
     "data": {
      "text/plain": [
       "0    0\n",
       "1    0\n",
       "2    0\n",
       "3    0\n",
       "4    0\n",
       "Name: drivingStyle, dtype: int64"
      ]
     },
     "execution_count": 812,
     "metadata": {},
     "output_type": "execute_result"
    }
   ],
   "source": [
    "y = df['drivingStyle']\n",
    "y.head()"
   ]
  },
  {
   "cell_type": "code",
   "execution_count": 813,
   "metadata": {},
   "outputs": [],
   "source": [
    "#X =X.round(3)"
   ]
  },
  {
   "cell_type": "code",
   "execution_count": 814,
   "metadata": {},
   "outputs": [],
   "source": [
    "#X.head()"
   ]
  },
  {
   "cell_type": "code",
   "execution_count": 815,
   "metadata": {},
   "outputs": [
    {
     "data": {
      "text/plain": [
       "AltitudeVariation            float64\n",
       "VehicleSpeedInstantaneous    float64\n",
       "VehicleSpeedAverage          float64\n",
       "VehicleSpeedVariance         float64\n",
       "VehicleSpeedVariation        float64\n",
       "LongitudinalAcceleration     float64\n",
       "EngineLoad                   float64\n",
       "EngineCoolantTemperature     float64\n",
       "ManifoldAbsolutePressure     float64\n",
       "EngineRPM                    float64\n",
       "MassAirFlow                  float64\n",
       "IntakeAirTemperature         float64\n",
       "VerticalAcceleration         float64\n",
       "FuelConsumptionAverage       float64\n",
       "dtype: object"
      ]
     },
     "execution_count": 815,
     "metadata": {},
     "output_type": "execute_result"
    }
   ],
   "source": [
    "X.dtypes"
   ]
  },
  {
   "cell_type": "code",
   "execution_count": 816,
   "metadata": {
    "colab": {
     "base_uri": "https://localhost:8080/",
     "height": 84
    },
    "colab_type": "code",
    "id": "-tz1068GhR0H",
    "outputId": "545cfbca-23a2-4055-8563-e4bf02932c28"
   },
   "outputs": [
    {
     "name": "stdout",
     "output_type": "stream",
     "text": [
      "(15386, 14)\n",
      "(5129, 14)\n",
      "(15386,)\n",
      "(5129,)\n"
     ]
    }
   ],
   "source": [
    "from sklearn.model_selection import train_test_split\n",
    "X_train, X_test, y_train, y_test = train_test_split(X, y, random_state = 1)\n",
    "print(X_train.shape)\n",
    "print(X_test.shape)\n",
    "print(y_train.shape)\n",
    "print(y_test.shape)"
   ]
  },
  {
   "cell_type": "code",
   "execution_count": 817,
   "metadata": {
    "colab": {
     "base_uri": "https://localhost:8080/",
     "height": 50
    },
    "colab_type": "code",
    "id": "kWX38byOinSj",
    "outputId": "2c1b5db0-4c5a-4903-9f63-f27e0dac6900"
   },
   "outputs": [
    {
     "name": "stdout",
     "output_type": "stream",
     "text": [
      "0.12692532657438096\n",
      "0.8730746734256191\n"
     ]
    }
   ],
   "source": [
    "aggressive_percent = y_test.mean()\n",
    "even_percent = 1 - y_test.mean()\n",
    "print(aggressive_percent)\n",
    "print(even_percent)\n"
   ]
  },
  {
   "cell_type": "markdown",
   "metadata": {
    "colab_type": "text",
    "id": "5b1SPD07jv5r"
   },
   "source": [
    "=> Even if Even Driving Style is predicted always, the accuracy would be **81.8%**\n",
    "=> We need to design a classifer that provides better accuracy than this!"
   ]
  },
  {
   "cell_type": "code",
   "execution_count": 818,
   "metadata": {
    "colab": {
     "base_uri": "https://localhost:8080/",
     "height": 101
    },
    "colab_type": "code",
    "id": "uUUY4I2Zj9fl",
    "outputId": "d91d72d9-55ad-457c-ff7b-ae6adbacbdd0"
   },
   "outputs": [
    {
     "data": {
      "text/plain": [
       "LogisticRegression(C=1.0, class_weight=None, dual=False, fit_intercept=True,\n",
       "                   intercept_scaling=1, l1_ratio=None, max_iter=100,\n",
       "                   multi_class='warn', n_jobs=None, penalty='l2',\n",
       "                   random_state=None, solver='liblinear', tol=0.0001, verbose=0,\n",
       "                   warm_start=False)"
      ]
     },
     "execution_count": 818,
     "metadata": {},
     "output_type": "execute_result"
    }
   ],
   "source": [
    "from sklearn.linear_model import LinearRegression, LogisticRegression\n",
    "logreg = LogisticRegression(solver='liblinear')\n",
    "logreg.fit(X_train,y_train)"
   ]
  },
  {
   "cell_type": "code",
   "execution_count": 819,
   "metadata": {
    "colab": {
     "base_uri": "https://localhost:8080/",
     "height": 302
    },
    "colab_type": "code",
    "id": "xNYaJrbWpQfO",
    "outputId": "82421568-5a4e-415b-ede3-bcca8d86dd58"
   },
   "outputs": [
    {
     "name": "stdout",
     "output_type": "stream",
     "text": [
      "Compare actual response with predicted (accuracy):  0.8715149151881458\n",
      "Precision:  0.4393939393939394\n",
      "Recall:  0.0445468509984639\n",
      "F1 Score:  0.0445468509984639\n",
      "Classification Report: \n",
      "               precision    recall  f1-score   support\n",
      "\n",
      "           0       0.88      0.99      0.93      4478\n",
      "           1       0.44      0.04      0.08       651\n",
      "\n",
      "    accuracy                           0.87      5129\n",
      "   macro avg       0.66      0.52      0.51      5129\n",
      "weighted avg       0.82      0.87      0.82      5129\n",
      "\n",
      "Confusion Matrix: \n",
      " [[4441   37]\n",
      " [ 622   29]]\n"
     ]
    }
   ],
   "source": [
    "y_pred = logreg.predict(X_test)\n",
    "from sklearn import metrics\n",
    "print(\"Compare actual response with predicted (accuracy): \", metrics.accuracy_score(y_test, y_pred))\n",
    "print(\"Precision: \", metrics.precision_score(y_test, y_pred))\n",
    "print(\"Recall: \", metrics.recall_score(y_test, y_pred))\n",
    "print(\"F1 Score: \", metrics.recall_score(y_test, y_pred))\n",
    "print(\"Classification Report: \\n\", metrics.classification_report(y_test, y_pred))\n",
    "print(\"Confusion Matrix: \\n\", metrics.confusion_matrix(y_test, y_pred))"
   ]
  },
  {
   "cell_type": "code",
   "execution_count": 820,
   "metadata": {
    "colab": {
     "base_uri": "https://localhost:8080/",
     "height": 101
    },
    "colab_type": "code",
    "id": "oGf0NxAqpmYZ",
    "outputId": "7ea2e0aa-2d35-439b-95b9-b2608288e818"
   },
   "outputs": [
    {
     "data": {
      "text/plain": [
       "LogisticRegression(C=1.0, class_weight='balanced', dual=False,\n",
       "                   fit_intercept=True, intercept_scaling=1, l1_ratio=None,\n",
       "                   max_iter=100, multi_class='warn', n_jobs=None, penalty='l2',\n",
       "                   random_state=None, solver='liblinear', tol=0.0001, verbose=0,\n",
       "                   warm_start=False)"
      ]
     },
     "execution_count": 820,
     "metadata": {},
     "output_type": "execute_result"
    }
   ],
   "source": [
    "logreg = LogisticRegression(solver='liblinear',class_weight='balanced')\n",
    "logreg.fit(X_train,y_train)"
   ]
  },
  {
   "cell_type": "code",
   "execution_count": 821,
   "metadata": {
    "colab": {
     "base_uri": "https://localhost:8080/",
     "height": 302
    },
    "colab_type": "code",
    "id": "idx1SX41p_1H",
    "outputId": "bc4f1595-6ce2-47fa-d602-e37712bb6e75"
   },
   "outputs": [
    {
     "name": "stdout",
     "output_type": "stream",
     "text": [
      "Compare actual response with predicted (accuracy):  0.6699161629947358\n",
      "Precision:  0.24207920792079207\n",
      "Recall:  0.7511520737327189\n",
      "F1 Score:  0.7511520737327189\n",
      "Classification Report: \n",
      "               precision    recall  f1-score   support\n",
      "\n",
      "           0       0.95      0.66      0.78      4478\n",
      "           1       0.24      0.75      0.37       651\n",
      "\n",
      "    accuracy                           0.67      5129\n",
      "   macro avg       0.59      0.70      0.57      5129\n",
      "weighted avg       0.86      0.67      0.72      5129\n",
      "\n",
      "Confusion Matrix: \n",
      " [[2947 1531]\n",
      " [ 162  489]]\n"
     ]
    }
   ],
   "source": [
    "y_pred = logreg.predict(X_test)\n",
    "\n",
    "print(\"Compare actual response with predicted (accuracy): \", metrics.accuracy_score(y_test, y_pred))\n",
    "print(\"Precision: \", metrics.precision_score(y_test, y_pred))\n",
    "print(\"Recall: \", metrics.recall_score(y_test, y_pred))\n",
    "print(\"F1 Score: \", metrics.recall_score(y_test, y_pred))\n",
    "print(\"Classification Report: \\n\", metrics.classification_report(y_test, y_pred))\n",
    "print(\"Confusion Matrix: \\n\", metrics.confusion_matrix(y_test, y_pred))"
   ]
  },
  {
   "cell_type": "code",
   "execution_count": 822,
   "metadata": {
    "colab": {
     "base_uri": "https://localhost:8080/",
     "height": 302
    },
    "colab_type": "code",
    "id": "86w5fbemvaiB",
    "outputId": "658aee06-e304-4759-f044-0acb21446aac"
   },
   "outputs": [
    {
     "name": "stdout",
     "output_type": "stream",
     "text": [
      "Compare actual response with predicted (accuracy):  0.9237668161434978\n",
      "Precision:  0.7152317880794702\n",
      "Recall:  0.663594470046083\n",
      "F1 Score:  0.663594470046083\n",
      "Classification Report: \n",
      "               precision    recall  f1-score   support\n",
      "\n",
      "           0       0.95      0.96      0.96      4478\n",
      "           1       0.72      0.66      0.69       651\n",
      "\n",
      "    accuracy                           0.92      5129\n",
      "   macro avg       0.83      0.81      0.82      5129\n",
      "weighted avg       0.92      0.92      0.92      5129\n",
      "\n",
      "Confusion Matrix: \n",
      " [[4306  172]\n",
      " [ 219  432]]\n"
     ]
    }
   ],
   "source": [
    "from sklearn.neighbors import KNeighborsClassifier\n",
    "knn = KNeighborsClassifier(n_neighbors = 3)\n",
    "knn.fit(X_train, y_train)\n",
    "y2_pred = knn.predict(X_test)\n",
    "print(\"Compare actual response with predicted (accuracy): \", metrics.accuracy_score(y_test, y2_pred))\n",
    "print(\"Precision: \", metrics.precision_score(y_test, y2_pred))\n",
    "print(\"Recall: \", metrics.recall_score(y_test, y2_pred))\n",
    "print(\"F1 Score: \", metrics.recall_score(y_test, y2_pred))\n",
    "print(\"Classification Report: \\n\", metrics.classification_report(y_test, y2_pred))\n",
    "print(\"Confusion Matrix: \\n\", metrics.confusion_matrix(y_test, y2_pred))"
   ]
  },
  {
   "cell_type": "code",
   "execution_count": 823,
   "metadata": {
    "colab": {
     "base_uri": "https://localhost:8080/",
     "height": 84
    },
    "colab_type": "code",
    "id": "Z3na2aIZxc9c",
    "outputId": "55b86f9c-0837-4bcf-b1a6-fae046eac606"
   },
   "outputs": [
    {
     "data": {
      "text/plain": [
       "SVC(C=1.0, cache_size=200, class_weight=None, coef0=0.0,\n",
       "    decision_function_shape='ovr', degree=3, gamma='auto_deprecated',\n",
       "    kernel='linear', max_iter=-1, probability=False, random_state=None,\n",
       "    shrinking=True, tol=0.001, verbose=False)"
      ]
     },
     "execution_count": 823,
     "metadata": {},
     "output_type": "execute_result"
    }
   ],
   "source": [
    "from sklearn import svm\n",
    "modelsvm = svm.SVC(kernel ='linear')\n",
    "modelsvm.fit(X_train, y_train)"
   ]
  },
  {
   "cell_type": "code",
   "execution_count": 824,
   "metadata": {
    "colab": {
     "base_uri": "https://localhost:8080/",
     "height": 302
    },
    "colab_type": "code",
    "id": "hQ0rZwCizKDi",
    "outputId": "7fe6da23-dbd3-4496-bc41-f02329b8fe4e"
   },
   "outputs": [
    {
     "name": "stdout",
     "output_type": "stream",
     "text": [
      "Compare actual response with predicted (accuracy):  0.8730746734256191\n",
      "Precision:  0.0\n",
      "Recall:  0.0\n",
      "F1 Score:  0.0\n",
      "Classification Report: \n",
      "               precision    recall  f1-score   support\n",
      "\n",
      "           0       0.87      1.00      0.93      4478\n",
      "           1       0.00      0.00      0.00       651\n",
      "\n",
      "    accuracy                           0.87      5129\n",
      "   macro avg       0.44      0.50      0.47      5129\n",
      "weighted avg       0.76      0.87      0.81      5129\n",
      "\n",
      "Confusion Matrix: \n",
      " [[4478    0]\n",
      " [ 651    0]]\n"
     ]
    },
    {
     "name": "stderr",
     "output_type": "stream",
     "text": [
      "c:\\users\\liam\\appdata\\local\\programs\\python\\python37-32\\lib\\site-packages\\sklearn\\metrics\\classification.py:1437: UndefinedMetricWarning: Precision is ill-defined and being set to 0.0 due to no predicted samples.\n",
      "  'precision', 'predicted', average, warn_for)\n",
      "c:\\users\\liam\\appdata\\local\\programs\\python\\python37-32\\lib\\site-packages\\sklearn\\metrics\\classification.py:1437: UndefinedMetricWarning: Precision and F-score are ill-defined and being set to 0.0 in labels with no predicted samples.\n",
      "  'precision', 'predicted', average, warn_for)\n"
     ]
    }
   ],
   "source": [
    "y3_pred = modelsvm.predict(X_test)\n",
    "print(\"Compare actual response with predicted (accuracy): \", metrics.accuracy_score(y_test, y3_pred))\n",
    "print(\"Precision: \", metrics.precision_score(y_test, y3_pred))\n",
    "print(\"Recall: \", metrics.recall_score(y_test, y3_pred))\n",
    "print(\"F1 Score: \", metrics.recall_score(y_test, y3_pred))\n",
    "print(\"Classification Report: \\n\", metrics.classification_report(y_test, y3_pred))\n",
    "print(\"Confusion Matrix: \\n\", metrics.confusion_matrix(y_test, y3_pred))"
   ]
  },
  {
   "cell_type": "code",
   "execution_count": 825,
   "metadata": {
    "colab": {
     "base_uri": "https://localhost:8080/",
     "height": 84
    },
    "colab_type": "code",
    "id": "6dzQQAly0MIl",
    "outputId": "9a18f428-09ab-43f9-8d55-efbb0a1fd32e"
   },
   "outputs": [
    {
     "data": {
      "text/plain": [
       "SVC(C=1.0, cache_size=200, class_weight='balanced', coef0=0.0,\n",
       "    decision_function_shape='ovr', degree=3, gamma='auto_deprecated',\n",
       "    kernel='linear', max_iter=-1, probability=False, random_state=None,\n",
       "    shrinking=True, tol=0.001, verbose=False)"
      ]
     },
     "execution_count": 825,
     "metadata": {},
     "output_type": "execute_result"
    }
   ],
   "source": [
    "modelsvm = svm.SVC(kernel ='linear',class_weight='balanced')\n",
    "modelsvm.fit(X_train, y_train)"
   ]
  },
  {
   "cell_type": "code",
   "execution_count": 826,
   "metadata": {
    "colab": {
     "base_uri": "https://localhost:8080/",
     "height": 302
    },
    "colab_type": "code",
    "id": "p2h6OfxB1KrD",
    "outputId": "01951638-f842-4c12-b312-331953097bf5"
   },
   "outputs": [
    {
     "name": "stdout",
     "output_type": "stream",
     "text": [
      "Compare actual response with predicted (accuracy):  0.6630922207057905\n",
      "Precision:  0.2407318247472316\n",
      "Recall:  0.7680491551459293\n",
      "F1 Score:  0.7680491551459293\n",
      "Classification Report: \n",
      "               precision    recall  f1-score   support\n",
      "\n",
      "           0       0.95      0.65      0.77      4478\n",
      "           1       0.24      0.77      0.37       651\n",
      "\n",
      "    accuracy                           0.66      5129\n",
      "   macro avg       0.60      0.71      0.57      5129\n",
      "weighted avg       0.86      0.66      0.72      5129\n",
      "\n",
      "Confusion Matrix: \n",
      " [[2901 1577]\n",
      " [ 151  500]]\n"
     ]
    }
   ],
   "source": [
    "y3_pred = modelsvm.predict(X_test)\n",
    "print(\"Compare actual response with predicted (accuracy): \", metrics.accuracy_score(y_test, y3_pred))\n",
    "print(\"Precision: \", metrics.precision_score(y_test, y3_pred))\n",
    "print(\"Recall: \", metrics.recall_score(y_test, y3_pred))\n",
    "print(\"F1 Score: \", metrics.recall_score(y_test, y3_pred))\n",
    "print(\"Classification Report: \\n\", metrics.classification_report(y_test, y3_pred))\n",
    "print(\"Confusion Matrix: \\n\", metrics.confusion_matrix(y_test, y3_pred))"
   ]
  },
  {
   "cell_type": "markdown",
   "metadata": {},
   "source": [
    "Balancing the DataSet then rerun Olivia Code to show metrics and confusion matrx if results improve or not?"
   ]
  },
  {
   "cell_type": "code",
   "execution_count": 827,
   "metadata": {},
   "outputs": [
    {
     "data": {
      "text/html": [
       "<div>\n",
       "<style scoped>\n",
       "    .dataframe tbody tr th:only-of-type {\n",
       "        vertical-align: middle;\n",
       "    }\n",
       "\n",
       "    .dataframe tbody tr th {\n",
       "        vertical-align: top;\n",
       "    }\n",
       "\n",
       "    .dataframe thead th {\n",
       "        text-align: right;\n",
       "    }\n",
       "</style>\n",
       "<table border=\"1\" class=\"dataframe\">\n",
       "  <thead>\n",
       "    <tr style=\"text-align: right;\">\n",
       "      <th></th>\n",
       "      <th>AltitudeVariation</th>\n",
       "      <th>EngineCoolantTemperature</th>\n",
       "      <th>EngineLoad</th>\n",
       "      <th>EngineRPM</th>\n",
       "      <th>FuelConsumptionAverage</th>\n",
       "      <th>IntakeAirTemperature</th>\n",
       "      <th>LongitudinalAcceleration</th>\n",
       "      <th>ManifoldAbsolutePressure</th>\n",
       "      <th>MassAirFlow</th>\n",
       "      <th>VehicleSpeedAverage</th>\n",
       "      <th>VehicleSpeedInstantaneous</th>\n",
       "      <th>VehicleSpeedVariance</th>\n",
       "      <th>VehicleSpeedVariation</th>\n",
       "      <th>VerticalAcceleration</th>\n",
       "      <th>drivingStyle</th>\n",
       "      <th>roadSurface</th>\n",
       "    </tr>\n",
       "  </thead>\n",
       "  <tbody>\n",
       "    <tr>\n",
       "      <th>0</th>\n",
       "      <td>-2.299988</td>\n",
       "      <td>68.0</td>\n",
       "      <td>4.705883</td>\n",
       "      <td>1796.0</td>\n",
       "      <td>19.497335</td>\n",
       "      <td>24.0</td>\n",
       "      <td>0.3555</td>\n",
       "      <td>106.0</td>\n",
       "      <td>15.81</td>\n",
       "      <td>13.223501</td>\n",
       "      <td>25.670519</td>\n",
       "      <td>121.592690</td>\n",
       "      <td>-2.476980</td>\n",
       "      <td>-0.1133</td>\n",
       "      <td>0</td>\n",
       "      <td>0</td>\n",
       "    </tr>\n",
       "    <tr>\n",
       "      <th>1</th>\n",
       "      <td>-2.099976</td>\n",
       "      <td>68.0</td>\n",
       "      <td>10.588236</td>\n",
       "      <td>1689.0</td>\n",
       "      <td>19.515722</td>\n",
       "      <td>22.0</td>\n",
       "      <td>0.4492</td>\n",
       "      <td>103.0</td>\n",
       "      <td>14.65</td>\n",
       "      <td>13.638919</td>\n",
       "      <td>24.094259</td>\n",
       "      <td>120.422571</td>\n",
       "      <td>-1.576260</td>\n",
       "      <td>-0.1289</td>\n",
       "      <td>0</td>\n",
       "      <td>0</td>\n",
       "    </tr>\n",
       "    <tr>\n",
       "      <th>2</th>\n",
       "      <td>-1.500000</td>\n",
       "      <td>68.0</td>\n",
       "      <td>27.450981</td>\n",
       "      <td>1599.0</td>\n",
       "      <td>19.441765</td>\n",
       "      <td>21.0</td>\n",
       "      <td>0.4258</td>\n",
       "      <td>103.0</td>\n",
       "      <td>11.85</td>\n",
       "      <td>14.031043</td>\n",
       "      <td>22.743179</td>\n",
       "      <td>118.456769</td>\n",
       "      <td>-1.351080</td>\n",
       "      <td>-0.1328</td>\n",
       "      <td>0</td>\n",
       "      <td>0</td>\n",
       "    </tr>\n",
       "    <tr>\n",
       "      <th>3</th>\n",
       "      <td>0.100037</td>\n",
       "      <td>69.0</td>\n",
       "      <td>24.313726</td>\n",
       "      <td>1620.0</td>\n",
       "      <td>19.388769</td>\n",
       "      <td>20.0</td>\n",
       "      <td>0.4140</td>\n",
       "      <td>104.0</td>\n",
       "      <td>12.21</td>\n",
       "      <td>14.171073</td>\n",
       "      <td>22.292820</td>\n",
       "      <td>117.571308</td>\n",
       "      <td>-0.450359</td>\n",
       "      <td>-0.0859</td>\n",
       "      <td>0</td>\n",
       "      <td>0</td>\n",
       "    </tr>\n",
       "    <tr>\n",
       "      <th>4</th>\n",
       "      <td>0.099976</td>\n",
       "      <td>69.0</td>\n",
       "      <td>20.000000</td>\n",
       "      <td>1708.0</td>\n",
       "      <td>19.301638</td>\n",
       "      <td>21.0</td>\n",
       "      <td>0.3945</td>\n",
       "      <td>104.0</td>\n",
       "      <td>11.91</td>\n",
       "      <td>14.328954</td>\n",
       "      <td>23.643900</td>\n",
       "      <td>117.074149</td>\n",
       "      <td>1.351080</td>\n",
       "      <td>-0.0664</td>\n",
       "      <td>0</td>\n",
       "      <td>0</td>\n",
       "    </tr>\n",
       "  </tbody>\n",
       "</table>\n",
       "</div>"
      ],
      "text/plain": [
       "   AltitudeVariation  EngineCoolantTemperature  EngineLoad  EngineRPM  \\\n",
       "0          -2.299988                      68.0    4.705883     1796.0   \n",
       "1          -2.099976                      68.0   10.588236     1689.0   \n",
       "2          -1.500000                      68.0   27.450981     1599.0   \n",
       "3           0.100037                      69.0   24.313726     1620.0   \n",
       "4           0.099976                      69.0   20.000000     1708.0   \n",
       "\n",
       "   FuelConsumptionAverage  IntakeAirTemperature  LongitudinalAcceleration  \\\n",
       "0               19.497335                  24.0                    0.3555   \n",
       "1               19.515722                  22.0                    0.4492   \n",
       "2               19.441765                  21.0                    0.4258   \n",
       "3               19.388769                  20.0                    0.4140   \n",
       "4               19.301638                  21.0                    0.3945   \n",
       "\n",
       "   ManifoldAbsolutePressure  MassAirFlow  VehicleSpeedAverage  \\\n",
       "0                     106.0        15.81            13.223501   \n",
       "1                     103.0        14.65            13.638919   \n",
       "2                     103.0        11.85            14.031043   \n",
       "3                     104.0        12.21            14.171073   \n",
       "4                     104.0        11.91            14.328954   \n",
       "\n",
       "   VehicleSpeedInstantaneous  VehicleSpeedVariance  VehicleSpeedVariation  \\\n",
       "0                  25.670519            121.592690              -2.476980   \n",
       "1                  24.094259            120.422571              -1.576260   \n",
       "2                  22.743179            118.456769              -1.351080   \n",
       "3                  22.292820            117.571308              -0.450359   \n",
       "4                  23.643900            117.074149               1.351080   \n",
       "\n",
       "   VerticalAcceleration  drivingStyle  roadSurface  \n",
       "0               -0.1133             0            0  \n",
       "1               -0.1289             0            0  \n",
       "2               -0.1328             0            0  \n",
       "3               -0.0859             0            0  \n",
       "4               -0.0664             0            0  "
      ]
     },
     "execution_count": 827,
     "metadata": {},
     "output_type": "execute_result"
    }
   ],
   "source": [
    "df.head()"
   ]
  },
  {
   "cell_type": "code",
   "execution_count": 828,
   "metadata": {},
   "outputs": [
    {
     "name": "stdout",
     "output_type": "stream",
     "text": [
      "EvenPaceStyle or Class 0: 17922\n",
      "AgressivePaceStyle or Class 1: 2593\n",
      "Proportion: 6.91 : 1\n"
     ]
    },
    {
     "data": {
      "image/png": "[encoded data removed]",
      "text/plain": [
       "<Figure size 432x288 with 1 Axes>"
      ]
     },
     "metadata": {},
     "output_type": "display_data"
    }
   ],
   "source": [
    "target_count = df.drivingStyle.value_counts()\n",
    "print('EvenPaceStyle or Class 0:', target_count[0])\n",
    "print('AgressivePaceStyle or Class 1:', target_count[1])\n",
    "print('Proportion:', round(target_count[0] / target_count[1], 2), ': 1')\n",
    "\n",
    "target_count.plot(kind='bar', title='drivingStyle (target)');"
   ]
  },
  {
   "cell_type": "markdown",
   "metadata": {},
   "source": [
    "Balancing using Python Imbalanced-Learn Module - Random UnderSampling"
   ]
  },
  {
   "cell_type": "code",
   "execution_count": 829,
   "metadata": {},
   "outputs": [],
   "source": [
    "def plot_2d_space(X, y, label='Classes'):   \n",
    "    colors = ['#1F77B4', '#FF7F0E']\n",
    "    markers = ['o', 's']\n",
    "    for l, c, m in zip(np.unique(y), colors, markers):\n",
    "        plt.scatter(\n",
    "            X[y==l, 0],\n",
    "            X[y==l, 1],\n",
    "            c=c, label=l, marker=m\n",
    "        )\n",
    "    plt.title(label)\n",
    "    plt.legend(loc='upper right')\n",
    "    plt.show()"
   ]
  },
  {
   "cell_type": "code",
   "execution_count": 830,
   "metadata": {},
   "outputs": [
    {
     "name": "stdout",
     "output_type": "stream",
     "text": [
      "Removed indexes: [ 6170  8243  3603 ... 15378 15381 15383]\n"
     ]
    },
    {
     "data": {
      "image/png": "[encoded data removed]",
      "text/plain": [
       "<Figure size 432x288 with 1 Axes>"
      ]
     },
     "metadata": {},
     "output_type": "display_data"
    }
   ],
   "source": [
    "import imblearn\n",
    "from imblearn.under_sampling import RandomUnderSampler\n",
    "\n",
    "rus = RandomUnderSampler(return_indices=True)\n",
    "X_rus, y_rus, id_rus = rus.fit_sample(X_train, y_train)\n",
    "\n",
    "print('Removed indexes:', id_rus)\n",
    "\n",
    "plot_2d_space(X_rus, y_rus, 'Random under-sampling')"
   ]
  },
  {
   "cell_type": "code",
   "execution_count": 831,
   "metadata": {},
   "outputs": [
    {
     "name": "stdout",
     "output_type": "stream",
     "text": [
      "(2913, 14)\n",
      "(971, 14)\n",
      "(2913,)\n",
      "(971,)\n"
     ]
    }
   ],
   "source": [
    "from sklearn.model_selection import train_test_split\n",
    "X_train, X_test, y_train, y_test = train_test_split(X_rus, y_rus, random_state = 1)\n",
    "print(X_train.shape)\n",
    "print(X_test.shape)\n",
    "print(y_train.shape)\n",
    "print(y_test.shape)"
   ]
  },
  {
   "cell_type": "code",
   "execution_count": 832,
   "metadata": {},
   "outputs": [
    {
     "name": "stdout",
     "output_type": "stream",
     "text": [
      "0.4840370751802266\n",
      "0.5159629248197735\n"
     ]
    }
   ],
   "source": [
    "aggressive_percent = y_test.mean()\n",
    "even_percent = 1 - y_test.mean()\n",
    "print(aggressive_percent)\n",
    "print(even_percent)"
   ]
  },
  {
   "cell_type": "code",
   "execution_count": 833,
   "metadata": {},
   "outputs": [
    {
     "data": {
      "text/plain": [
       "LogisticRegression(C=1.0, class_weight=None, dual=False, fit_intercept=True,\n",
       "                   intercept_scaling=1, l1_ratio=None, max_iter=100,\n",
       "                   multi_class='warn', n_jobs=None, penalty='l2',\n",
       "                   random_state=None, solver='liblinear', tol=0.0001, verbose=0,\n",
       "                   warm_start=False)"
      ]
     },
     "execution_count": 833,
     "metadata": {},
     "output_type": "execute_result"
    }
   ],
   "source": [
    "from sklearn.linear_model import LinearRegression, LogisticRegression\n",
    "logreg = LogisticRegression(solver='liblinear')\n",
    "logreg.fit(X_train,y_train)"
   ]
  },
  {
   "cell_type": "code",
   "execution_count": 834,
   "metadata": {},
   "outputs": [
    {
     "name": "stdout",
     "output_type": "stream",
     "text": [
      "Compare actual response with predicted (accuracy):  0.7147270854788877\n",
      "Precision:  0.6751361161524501\n",
      "Recall:  0.7914893617021277\n",
      "F1 Score:  0.7914893617021277\n",
      "Classification Report: \n",
      "               precision    recall  f1-score   support\n",
      "\n",
      "           0       0.77      0.64      0.70       501\n",
      "           1       0.68      0.79      0.73       470\n",
      "\n",
      "    accuracy                           0.71       971\n",
      "   macro avg       0.72      0.72      0.71       971\n",
      "weighted avg       0.72      0.71      0.71       971\n",
      "\n",
      "Confusion Matrix: \n",
      " [[322 179]\n",
      " [ 98 372]]\n"
     ]
    }
   ],
   "source": [
    "y_pred = logreg.predict(X_test)\n",
    "from sklearn import metrics\n",
    "print(\"Compare actual response with predicted (accuracy): \", metrics.accuracy_score(y_test, y_pred))\n",
    "print(\"Precision: \", metrics.precision_score(y_test, y_pred))\n",
    "print(\"Recall: \", metrics.recall_score(y_test, y_pred))\n",
    "print(\"F1 Score: \", metrics.recall_score(y_test, y_pred))\n",
    "print(\"Classification Report: \\n\", metrics.classification_report(y_test, y_pred))\n",
    "print(\"Confusion Matrix: \\n\", metrics.confusion_matrix(y_test, y_pred))"
   ]
  },
  {
   "cell_type": "markdown",
   "metadata": {},
   "source": [
    "Balancing using Python Imbalanced-Learn Module - Random OverSampling"
   ]
  },
  {
   "cell_type": "code",
   "execution_count": 836,
   "metadata": {},
   "outputs": [
    {
     "name": "stdout",
     "output_type": "stream",
     "text": [
      "-17571 new random picked points\n"
     ]
    },
    {
     "data": {
      "image/png": "[encoded data removed]",
      "text/plain": [
       "<Figure size 432x288 with 1 Axes>"
      ]
     },
     "metadata": {},
     "output_type": "display_data"
    }
   ],
   "source": [
    "from imblearn.over_sampling import RandomOverSampler\n",
    "\n",
    "ros = RandomOverSampler()\n",
    "X_ros, y_ros = ros.fit_sample(X_train, y_train)\n",
    "\n",
    "print(X_ros.shape[0] - X.shape[0], 'new random picked points')\n",
    "\n",
    "plot_2d_space(X_ros, y_ros, 'Random over-sampling')"
   ]
  },
  {
   "cell_type": "code",
   "execution_count": 837,
   "metadata": {},
   "outputs": [
    {
     "name": "stdout",
     "output_type": "stream",
     "text": [
      "(2208, 14)\n",
      "(736, 14)\n",
      "(2208,)\n",
      "(736,)\n"
     ]
    }
   ],
   "source": [
    "from sklearn.model_selection import train_test_split\n",
    "X_train, X_test, y_train, y_test = train_test_split(X_ros, y_ros, random_state = 1)\n",
    "print(X_train.shape)\n",
    "print(X_test.shape)\n",
    "print(y_train.shape)\n",
    "print(y_test.shape)"
   ]
  },
  {
   "cell_type": "code",
   "execution_count": 838,
   "metadata": {},
   "outputs": [
    {
     "name": "stdout",
     "output_type": "stream",
     "text": [
      "0.4986413043478261\n",
      "0.5013586956521738\n"
     ]
    }
   ],
   "source": [
    "aggressive_percent = y_test.mean()\n",
    "even_percent = 1 - y_test.mean()\n",
    "print(aggressive_percent)\n",
    "print(even_percent)"
   ]
  },
  {
   "cell_type": "code",
   "execution_count": 839,
   "metadata": {},
   "outputs": [
    {
     "data": {
      "text/plain": [
       "LogisticRegression(C=1.0, class_weight=None, dual=False, fit_intercept=True,\n",
       "                   intercept_scaling=1, l1_ratio=None, max_iter=100,\n",
       "                   multi_class='warn', n_jobs=None, penalty='l2',\n",
       "                   random_state=None, solver='liblinear', tol=0.0001, verbose=0,\n",
       "                   warm_start=False)"
      ]
     },
     "execution_count": 839,
     "metadata": {},
     "output_type": "execute_result"
    }
   ],
   "source": [
    "from sklearn.linear_model import LinearRegression, LogisticRegression\n",
    "logreg = LogisticRegression(solver='liblinear')\n",
    "logreg.fit(X_train,y_train)"
   ]
  },
  {
   "cell_type": "code",
   "execution_count": 840,
   "metadata": {},
   "outputs": [
    {
     "name": "stdout",
     "output_type": "stream",
     "text": [
      "Compare actual response with predicted (accuracy):  0.7092391304347826\n",
      "Precision:  0.6917293233082706\n",
      "Recall:  0.7520435967302452\n",
      "F1 Score:  0.7520435967302452\n",
      "Classification Report: \n",
      "               precision    recall  f1-score   support\n",
      "\n",
      "           0       0.73      0.67      0.70       369\n",
      "           1       0.69      0.75      0.72       367\n",
      "\n",
      "    accuracy                           0.71       736\n",
      "   macro avg       0.71      0.71      0.71       736\n",
      "weighted avg       0.71      0.71      0.71       736\n",
      "\n",
      "Confusion Matrix: \n",
      " [[246 123]\n",
      " [ 91 276]]\n"
     ]
    }
   ],
   "source": [
    "y_pred = logreg.predict(X_test)\n",
    "from sklearn import metrics\n",
    "print(\"Compare actual response with predicted (accuracy): \", metrics.accuracy_score(y_test, y_pred))\n",
    "print(\"Precision: \", metrics.precision_score(y_test, y_pred))\n",
    "print(\"Recall: \", metrics.recall_score(y_test, y_pred))\n",
    "print(\"F1 Score: \", metrics.recall_score(y_test, y_pred))\n",
    "print(\"Classification Report: \\n\", metrics.classification_report(y_test, y_pred))\n",
    "print(\"Confusion Matrix: \\n\", metrics.confusion_matrix(y_test, y_pred))"
   ]
  },
  {
   "cell_type": "code",
   "execution_count": 841,
   "metadata": {},
   "outputs": [],
   "source": [
    "from sklearn import svm\n",
    "#modelsvm = svm.SVC(kernel ='linear')\n",
    "#modelsvm.fit(X_train, y_train)\n"
   ]
  },
  {
   "cell_type": "code",
   "execution_count": 842,
   "metadata": {},
   "outputs": [
    {
     "data": {
      "text/plain": [
       "SVC(C=1.0, cache_size=200, class_weight='balanced', coef0=0.0,\n",
       "    decision_function_shape='ovr', degree=3, gamma='auto_deprecated',\n",
       "    kernel='linear', max_iter=-1, probability=False, random_state=None,\n",
       "    shrinking=True, tol=0.001, verbose=False)"
      ]
     },
     "execution_count": 842,
     "metadata": {},
     "output_type": "execute_result"
    }
   ],
   "source": [
    "\n",
    "modelsvm = svm.SVC(kernel ='linear',class_weight='balanced', tol=0.001)\n",
    "modelsvm.fit(X_train, y_train)"
   ]
  },
  {
   "cell_type": "code",
   "execution_count": 843,
   "metadata": {},
   "outputs": [
    {
     "name": "stdout",
     "output_type": "stream",
     "text": [
      "Compare actual response with predicted (accuracy):  0.7092391304347826\n",
      "Precision:  0.6898263027295285\n",
      "Recall:  0.7574931880108992\n",
      "F1 Score:  0.7574931880108992\n",
      "Classification Report: \n",
      "               precision    recall  f1-score   support\n",
      "\n",
      "           0       0.73      0.66      0.70       369\n",
      "           1       0.69      0.76      0.72       367\n",
      "\n",
      "    accuracy                           0.71       736\n",
      "   macro avg       0.71      0.71      0.71       736\n",
      "weighted avg       0.71      0.71      0.71       736\n",
      "\n",
      "Confusion Matrix: \n",
      " [[244 125]\n",
      " [ 89 278]]\n"
     ]
    }
   ],
   "source": [
    "y3_pred = modelsvm.predict(X_test)\n",
    "print(\"Compare actual response with predicted (accuracy): \", metrics.accuracy_score(y_test, y3_pred))\n",
    "print(\"Precision: \", metrics.precision_score(y_test, y3_pred))\n",
    "print(\"Recall: \", metrics.recall_score(y_test, y3_pred))\n",
    "print(\"F1 Score: \", metrics.recall_score(y_test, y3_pred))\n",
    "print(\"Classification Report: \\n\", metrics.classification_report(y_test, y3_pred))\n",
    "print(\"Confusion Matrix: \\n\", metrics.confusion_matrix(y_test, y3_pred))"
   ]
  },
  {
   "cell_type": "markdown",
   "metadata": {},
   "source": [
    "re-running svm.SVC(kernel ='linear',class_weight='balanced') on undersampled data"
   ]
  },
  {
   "cell_type": "code",
   "execution_count": 844,
   "metadata": {},
   "outputs": [
    {
     "name": "stdout",
     "output_type": "stream",
     "text": [
      "(2913, 14)\n",
      "(971, 14)\n",
      "(2913,)\n",
      "(971,)\n"
     ]
    }
   ],
   "source": [
    "X_train, X_test, y_train, y_test = train_test_split(X_rus, y_rus, random_state = 1)\n",
    "print(X_train.shape)\n",
    "print(X_test.shape)\n",
    "print(y_train.shape)\n",
    "print(y_test.shape)"
   ]
  },
  {
   "cell_type": "code",
   "execution_count": 845,
   "metadata": {},
   "outputs": [
    {
     "data": {
      "text/plain": [
       "SVC(C=1.0, cache_size=200, class_weight='balanced', coef0=0.0,\n",
       "    decision_function_shape='ovr', degree=3, gamma='auto_deprecated',\n",
       "    kernel='linear', max_iter=-1, probability=False, random_state=None,\n",
       "    shrinking=True, tol=0.1, verbose=False)"
      ]
     },
     "execution_count": 845,
     "metadata": {},
     "output_type": "execute_result"
    }
   ],
   "source": [
    "modelsvm = svm.SVC(kernel ='linear',class_weight='balanced', tol=0.1)\n",
    "modelsvm.fit(X_train, y_train)"
   ]
  },
  {
   "cell_type": "code",
   "execution_count": 846,
   "metadata": {},
   "outputs": [
    {
     "name": "stdout",
     "output_type": "stream",
     "text": [
      "Compare actual response with predicted (accuracy):  0.721936148300721\n",
      "Precision:  0.6811594202898551\n",
      "Recall:  0.8\n",
      "F1 Score:  0.8\n",
      "Classification Report: \n",
      "               precision    recall  f1-score   support\n",
      "\n",
      "           0       0.78      0.65      0.71       501\n",
      "           1       0.68      0.80      0.74       470\n",
      "\n",
      "    accuracy                           0.72       971\n",
      "   macro avg       0.73      0.72      0.72       971\n",
      "weighted avg       0.73      0.72      0.72       971\n",
      "\n",
      "Confusion Matrix: \n",
      " [[325 176]\n",
      " [ 94 376]]\n"
     ]
    }
   ],
   "source": [
    "y3_pred = modelsvm.predict(X_test)\n",
    "print(\"Compare actual response with predicted (accuracy): \", metrics.accuracy_score(y_test, y3_pred))\n",
    "print(\"Precision: \", metrics.precision_score(y_test, y3_pred))\n",
    "print(\"Recall: \", metrics.recall_score(y_test, y3_pred))\n",
    "print(\"F1 Score: \", metrics.recall_score(y_test, y3_pred))\n",
    "print(\"Classification Report: \\n\", metrics.classification_report(y_test, y3_pred))\n",
    "print(\"Confusion Matrix: \\n\", metrics.confusion_matrix(y_test, y3_pred))"
   ]
  },
  {
   "cell_type": "markdown",
   "metadata": {},
   "source": [
    "performing svm on rescaled features and oversampled data"
   ]
  },
  {
   "cell_type": "code",
   "execution_count": 847,
   "metadata": {},
   "outputs": [
    {
     "name": "stdout",
     "output_type": "stream",
     "text": [
      "(2208, 14)\n",
      "(736, 14)\n",
      "(2208,)\n",
      "(736,)\n"
     ]
    }
   ],
   "source": [
    "X_train, X_test, y_train, y_test = train_test_split(X_ros, y_ros, random_state = 1)\n",
    "print(X_train.shape)\n",
    "print(X_test.shape)\n",
    "print(y_train.shape)\n",
    "print(y_test.shape)"
   ]
  },
  {
   "cell_type": "code",
   "execution_count": 848,
   "metadata": {},
   "outputs": [
    {
     "data": {
      "text/plain": [
       "SVC(C=1.0, cache_size=200, class_weight='balanced', coef0=0.0,\n",
       "    decision_function_shape='ovr', degree=3, gamma='auto_deprecated',\n",
       "    kernel='linear', max_iter=-1, probability=False, random_state=None,\n",
       "    shrinking=True, tol=0.1, verbose=False)"
      ]
     },
     "execution_count": 848,
     "metadata": {},
     "output_type": "execute_result"
    }
   ],
   "source": [
    "modelsvm = svm.SVC(kernel ='linear',class_weight='balanced', tol=0.1)\n",
    "modelsvm.fit(X_train, y_train)"
   ]
  },
  {
   "cell_type": "code",
   "execution_count": 849,
   "metadata": {},
   "outputs": [
    {
     "name": "stdout",
     "output_type": "stream",
     "text": [
      "Compare actual response with predicted (accuracy):  0.7092391304347826\n",
      "Precision:  0.6917293233082706\n",
      "Recall:  0.7520435967302452\n",
      "F1 Score:  0.7520435967302452\n",
      "Classification Report: \n",
      "               precision    recall  f1-score   support\n",
      "\n",
      "           0       0.73      0.67      0.70       369\n",
      "           1       0.69      0.75      0.72       367\n",
      "\n",
      "    accuracy                           0.71       736\n",
      "   macro avg       0.71      0.71      0.71       736\n",
      "weighted avg       0.71      0.71      0.71       736\n",
      "\n",
      "Confusion Matrix: \n",
      " [[246 123]\n",
      " [ 91 276]]\n"
     ]
    }
   ],
   "source": [
    "y3_pred = modelsvm.predict(X_test)\n",
    "print(\"Compare actual response with predicted (accuracy): \", metrics.accuracy_score(y_test, y3_pred))\n",
    "print(\"Precision: \", metrics.precision_score(y_test, y3_pred))\n",
    "print(\"Recall: \", metrics.recall_score(y_test, y3_pred))\n",
    "print(\"F1 Score: \", metrics.recall_score(y_test, y3_pred))\n",
    "print(\"Classification Report: \\n\", metrics.classification_report(y_test, y3_pred))\n",
    "print(\"Confusion Matrix: \\n\", metrics.confusion_matrix(y_test, y3_pred))"
   ]
  },
  {
   "cell_type": "code",
   "execution_count": 850,
   "metadata": {},
   "outputs": [
    {
     "name": "stdout",
     "output_type": "stream",
     "text": [
      "(20515,)\n"
     ]
    }
   ],
   "source": [
    "print(y.shape)"
   ]
  },
  {
   "cell_type": "code",
   "execution_count": 851,
   "metadata": {},
   "outputs": [
    {
     "name": "stdout",
     "output_type": "stream",
     "text": [
      "(15386, 14)\n",
      "(5129, 14)\n",
      "(15386,)\n",
      "(5129,)\n"
     ]
    }
   ],
   "source": [
    "from sklearn.model_selection import train_test_split\n",
    "X_train, X_test, y_train, y_test = train_test_split(X, y, random_state = 1)\n",
    "print(X_train.shape)\n",
    "print(X_test.shape)\n",
    "print(y_train.shape)\n",
    "print(y_test.shape)"
   ]
  },
  {
   "cell_type": "code",
   "execution_count": 852,
   "metadata": {},
   "outputs": [
    {
     "name": "stdout",
     "output_type": "stream",
     "text": [
      "6373 new random picked points\n"
     ]
    },
    {
     "data": {
      "image/png": "[encoded data removed]",
      "text/plain": [
       "<Figure size 432x288 with 1 Axes>"
      ]
     },
     "metadata": {},
     "output_type": "display_data"
    }
   ],
   "source": [
    "from imblearn.over_sampling import RandomOverSampler\n",
    "\n",
    "ros = RandomOverSampler()\n",
    "X_ros, y_ros = ros.fit_sample(X_train, y_train)\n",
    "\n",
    "print(X_ros.shape[0] - X.shape[0], 'new random picked points')\n",
    "\n",
    "plot_2d_space(X_ros, y_ros, 'Random over-sampling')"
   ]
  },
  {
   "cell_type": "code",
   "execution_count": 853,
   "metadata": {},
   "outputs": [
    {
     "data": {
      "text/plain": [
       "SVC(C=1.0, cache_size=200, class_weight='balanced', coef0=0.0,\n",
       "    decision_function_shape='ovr', degree=3, gamma='auto_deprecated',\n",
       "    kernel='linear', max_iter=-1, probability=False, random_state=None,\n",
       "    shrinking=True, tol=0.001, verbose=False)"
      ]
     },
     "execution_count": 853,
     "metadata": {},
     "output_type": "execute_result"
    }
   ],
   "source": [
    "modelsvm = svm.SVC(kernel ='linear',class_weight='balanced', tol=0.001)\n",
    "modelsvm.fit(X_ros, y_ros)"
   ]
  },
  {
   "cell_type": "code",
   "execution_count": 854,
   "metadata": {},
   "outputs": [
    {
     "name": "stdout",
     "output_type": "stream",
     "text": [
      "Compare actual response with predicted (accuracy):  0.6654318580620003\n",
      "Precision:  0.24188075618031993\n",
      "Recall:  0.7665130568356375\n",
      "F1 Score:  0.7665130568356375\n",
      "Classification Report: \n",
      "               precision    recall  f1-score   support\n",
      "\n",
      "           0       0.95      0.65      0.77      4478\n",
      "           1       0.24      0.77      0.37       651\n",
      "\n",
      "    accuracy                           0.67      5129\n",
      "   macro avg       0.60      0.71      0.57      5129\n",
      "weighted avg       0.86      0.67      0.72      5129\n",
      "\n",
      "Confusion Matrix: \n",
      " [[2914 1564]\n",
      " [ 152  499]]\n"
     ]
    }
   ],
   "source": [
    "y3_pred = modelsvm.predict(X_test)\n",
    "print(\"Compare actual response with predicted (accuracy): \", metrics.accuracy_score(y_test, y3_pred))\n",
    "print(\"Precision: \", metrics.precision_score(y_test, y3_pred))\n",
    "print(\"Recall: \", metrics.recall_score(y_test, y3_pred))\n",
    "print(\"F1 Score: \", metrics.recall_score(y_test, y3_pred))\n",
    "print(\"Classification Report: \\n\", metrics.classification_report(y_test, y3_pred))\n",
    "print(\"Confusion Matrix: \\n\", metrics.confusion_matrix(y_test, y3_pred))"
   ]
  },
  {
   "cell_type": "markdown",
   "metadata": {},
   "source": [
    "performing KNeighbors on randomOverSampled Data"
   ]
  },
  {
   "cell_type": "code",
   "execution_count": 855,
   "metadata": {},
   "outputs": [
    {
     "name": "stdout",
     "output_type": "stream",
     "text": [
      "Compare actual response with predicted (accuracy):  0.9190875414310782\n",
      "Precision:  0.6365740740740741\n",
      "Recall:  0.8448540706605223\n",
      "F1 Score:  0.8448540706605223\n",
      "Classification Report: \n",
      "               precision    recall  f1-score   support\n",
      "\n",
      "           0       0.98      0.93      0.95      4478\n",
      "           1       0.64      0.84      0.73       651\n",
      "\n",
      "    accuracy                           0.92      5129\n",
      "   macro avg       0.81      0.89      0.84      5129\n",
      "weighted avg       0.93      0.92      0.92      5129\n",
      "\n",
      "Confusion Matrix: \n",
      " [[4164  314]\n",
      " [ 101  550]]\n"
     ]
    }
   ],
   "source": [
    "from sklearn.neighbors import KNeighborsClassifier\n",
    "knn = KNeighborsClassifier(n_neighbors = 3)\n",
    "knn.fit(X_ros, y_ros)\n",
    "y2_pred = knn.predict(X_test)\n",
    "print(\"Compare actual response with predicted (accuracy): \", metrics.accuracy_score(y_test, y2_pred))\n",
    "print(\"Precision: \", metrics.precision_score(y_test, y2_pred))\n",
    "print(\"Recall: \", metrics.recall_score(y_test, y2_pred))\n",
    "print(\"F1 Score: \", metrics.recall_score(y_test, y2_pred))\n",
    "print(\"Classification Report: \\n\", metrics.classification_report(y_test, y2_pred))\n",
    "print(\"Confusion Matrix: \\n\", metrics.confusion_matrix(y_test, y2_pred))"
   ]
  },
  {
   "cell_type": "code",
   "execution_count": 858,
   "metadata": {},
   "outputs": [
    {
     "ename": "SyntaxError",
     "evalue": "invalid syntax (<ipython-input-858-b097a1bd6c0f>, line 5)",
     "output_type": "error",
     "traceback": [
      "\u001b[1;36m  File \u001b[1;32m\"<ipython-input-858-b097a1bd6c0f>\"\u001b[1;36m, line \u001b[1;32m5\u001b[0m\n\u001b[1;33m    from sklearn.metrics as metrics\u001b[0m\n\u001b[1;37m                          ^\u001b[0m\n\u001b[1;31mSyntaxError\u001b[0m\u001b[1;31m:\u001b[0m invalid syntax\n"
     ]
    }
   ],
   "source": [
    "from itertools import cycle\n",
    "from sklearn import svm, datasets\n",
    "from sklearn.metrics import roc_curve, roc_auc_score\n",
    "from sklearn.preprocessing import label_binarize\n",
    "import sklearn.metrics as metrics"
   ]
  },
  {
   "cell_type": "code",
   "execution_count": 861,
   "metadata": {},
   "outputs": [
    {
     "data": {
      "image/png": "[encoded data removed]",
      "text/plain": [
       "<Figure size 432x288 with 1 Axes>"
      ]
     },
     "metadata": {},
     "output_type": "display_data"
    }
   ],
   "source": [
    "probs = knn.predict_proba(X_test)\n",
    "preds = probs[:,1]\n",
    "fpr, tpr, threshold = metrics.roc_curve(y_test,preds)\n",
    "roc_auc = metrics.auc(fpr, tpr)\n",
    "\n",
    "import matplotlib.pyplot as plt\n",
    "plt.title('Receiver Operating Characteristic')\n",
    "plt.plot(fpr, tpr, 'b', label = 'AUC = %0.2f' % roc_auc)\n",
    "plt.legend(loc = 'lower right')\n",
    "plt.plot([0, 1], [0, 1],'r--')\n",
    "plt.xlim([0, 1])\n",
    "plt.ylim([0, 1])\n",
    "plt.ylabel('True Positive Rate')\n",
    "plt.xlabel('False Positive Rate')\n",
    "plt.show()\n",
    "\n",
    "\n"
   ]
  },
  {
   "cell_type": "code",
   "execution_count": null,
   "metadata": {},
   "outputs": [],
   "source": []
  }
 ],
 "metadata": {
  "colab": {
   "name": "MLA1 - Olivia - 2 - all files.ipynb",
   "provenance": []
  },
  "kernelspec": {
   "display_name": "Python 3",
   "language": "python",
   "name": "python3"
  },
  "language_info": {
   "codemirror_mode": {
    "name": "ipython",
    "version": 3
   },
   "file_extension": ".py",
   "mimetype": "text/x-python",
   "name": "python",
   "nbconvert_exporter": "python",
   "pygments_lexer": "ipython3",
   "version": "3.7.2"
  }
 },
 "nbformat": 4,
 "nbformat_minor": 1
}
