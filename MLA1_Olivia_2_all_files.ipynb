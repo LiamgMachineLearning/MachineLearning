{
  "nbformat": 4,
  "nbformat_minor": 0,
  "metadata": {
    "colab": {
      "name": "MLA1 - Olivia - 2 - all files.ipynb",
      "provenance": []
    },
    "kernelspec": {
      "name": "python3",
      "display_name": "Python 3"
    }
  },
  "cells": [
    {
      "cell_type": "markdown",
      "metadata": {
        "id": "4r5n_333F_Qc",
        "colab_type": "text"
      },
      "source": [
        "**Machine Learning Assignment 1 - Group B**"
      ]
    },
    {
      "cell_type": "code",
      "metadata": {
        "id": "IVqKVjYyF4g9",
        "colab_type": "code",
        "outputId": "26e91cf9-343d-47e4-a663-d717e5413578",
        "colab": {
          "base_uri": "https://localhost:8080/",
          "height": 54
        }
      },
      "source": [
        "import matplotlib.pyplot as plt\n",
        "import numpy as np\n",
        "from sklearn import datasets, linear_model\n",
        "from sklearn.metrics import mean_squared_error, r2_score\n",
        "\n",
        "import pandas as pd\n",
        "\n",
        "df1=pd.read_csv('https://raw.githubusercontent.com/LiamgMachineLearning/MachineLearning/master/SeansData/opel_corsa_01.csv', sep=\";\")\n",
        "df2=pd.read_csv('https://raw.githubusercontent.com/LiamgMachineLearning/MachineLearning/master/SeansData/opel_corsa_02.csv', sep=\";\")\n",
        "#df3=pd.read_csv('https://raw.githubusercontent.com/LiamgMachineLearning/MachineLearning/master/SeansData/peugeot_207_01.csv', sep=\";\")\n",
        "#df4=pd.read_csv('https://raw.githubusercontent.com/LiamgMachineLearning/MachineLearning/master/SeansData/peugeot_207_02.csv', sep=\";\")\n",
        "\n",
        "#allframes = [df1,df2,df3,df4]\n",
        "allframes = [df1, df2]\n",
        "\n",
        "feature_names = list(df1.head(0))\n",
        "feature_names.pop(0)\n",
        "\n",
        "print(feature_names)\n"
      ],
      "execution_count": 58,
      "outputs": [
        {
          "output_type": "stream",
          "text": [
            "['AltitudeVariation', 'VehicleSpeedInstantaneous', 'VehicleSpeedAverage', 'VehicleSpeedVariance', 'VehicleSpeedVariation', 'LongitudinalAcceleration', 'EngineLoad', 'EngineCoolantTemperature', 'ManifoldAbsolutePressure', 'EngineRPM', 'MassAirFlow', 'IntakeAirTemperature', 'VerticalAcceleration', 'FuelConsumptionAverage', 'roadSurface', 'traffic', 'drivingStyle']\n"
          ],
          "name": "stdout"
        }
      ]
    },
    {
      "cell_type": "code",
      "metadata": {
        "id": "a2IC6D83HC5n",
        "colab_type": "code",
        "outputId": "53cbf5dd-aed2-4d67-cafa-3f603d3a39f8",
        "colab": {
          "base_uri": "https://localhost:8080/",
          "height": 232
        }
      },
      "source": [
        "df = pd.concat(allframes)\n",
        "#print out first 5 rows of data set\n",
        "df.head()"
      ],
      "execution_count": 59,
      "outputs": [
        {
          "output_type": "execute_result",
          "data": {
            "text/html": [
              "<div>\n",
              "<style scoped>\n",
              "    .dataframe tbody tr th:only-of-type {\n",
              "        vertical-align: middle;\n",
              "    }\n",
              "\n",
              "    .dataframe tbody tr th {\n",
              "        vertical-align: top;\n",
              "    }\n",
              "\n",
              "    .dataframe thead th {\n",
              "        text-align: right;\n",
              "    }\n",
              "</style>\n",
              "<table border=\"1\" class=\"dataframe\">\n",
              "  <thead>\n",
              "    <tr style=\"text-align: right;\">\n",
              "      <th></th>\n",
              "      <th>Unnamed: 0</th>\n",
              "      <th>AltitudeVariation</th>\n",
              "      <th>VehicleSpeedInstantaneous</th>\n",
              "      <th>VehicleSpeedAverage</th>\n",
              "      <th>VehicleSpeedVariance</th>\n",
              "      <th>VehicleSpeedVariation</th>\n",
              "      <th>LongitudinalAcceleration</th>\n",
              "      <th>EngineLoad</th>\n",
              "      <th>EngineCoolantTemperature</th>\n",
              "      <th>ManifoldAbsolutePressure</th>\n",
              "      <th>EngineRPM</th>\n",
              "      <th>MassAirFlow</th>\n",
              "      <th>IntakeAirTemperature</th>\n",
              "      <th>VerticalAcceleration</th>\n",
              "      <th>FuelConsumptionAverage</th>\n",
              "      <th>roadSurface</th>\n",
              "      <th>traffic</th>\n",
              "      <th>drivingStyle</th>\n",
              "    </tr>\n",
              "  </thead>\n",
              "  <tbody>\n",
              "    <tr>\n",
              "      <th>0</th>\n",
              "      <td>59</td>\n",
              "      <td>-2.299988</td>\n",
              "      <td>25.670519</td>\n",
              "      <td>13.223501</td>\n",
              "      <td>121.592690</td>\n",
              "      <td>-2.476980</td>\n",
              "      <td>0.3555</td>\n",
              "      <td>4.705883</td>\n",
              "      <td>68</td>\n",
              "      <td>106</td>\n",
              "      <td>1796</td>\n",
              "      <td>15.81</td>\n",
              "      <td>24</td>\n",
              "      <td>-0.1133</td>\n",
              "      <td>19.497335</td>\n",
              "      <td>SmoothCondition</td>\n",
              "      <td>LowCongestionCondition</td>\n",
              "      <td>EvenPaceStyle</td>\n",
              "    </tr>\n",
              "    <tr>\n",
              "      <th>1</th>\n",
              "      <td>60</td>\n",
              "      <td>-2.099976</td>\n",
              "      <td>24.094259</td>\n",
              "      <td>13.638919</td>\n",
              "      <td>120.422571</td>\n",
              "      <td>-1.576260</td>\n",
              "      <td>0.4492</td>\n",
              "      <td>10.588236</td>\n",
              "      <td>68</td>\n",
              "      <td>103</td>\n",
              "      <td>1689</td>\n",
              "      <td>14.65</td>\n",
              "      <td>22</td>\n",
              "      <td>-0.1289</td>\n",
              "      <td>19.515722</td>\n",
              "      <td>SmoothCondition</td>\n",
              "      <td>LowCongestionCondition</td>\n",
              "      <td>EvenPaceStyle</td>\n",
              "    </tr>\n",
              "    <tr>\n",
              "      <th>2</th>\n",
              "      <td>61</td>\n",
              "      <td>-1.500000</td>\n",
              "      <td>22.743179</td>\n",
              "      <td>14.031043</td>\n",
              "      <td>118.456769</td>\n",
              "      <td>-1.351080</td>\n",
              "      <td>0.4258</td>\n",
              "      <td>27.450981</td>\n",
              "      <td>68</td>\n",
              "      <td>103</td>\n",
              "      <td>1599</td>\n",
              "      <td>11.85</td>\n",
              "      <td>21</td>\n",
              "      <td>-0.1328</td>\n",
              "      <td>19.441765</td>\n",
              "      <td>SmoothCondition</td>\n",
              "      <td>LowCongestionCondition</td>\n",
              "      <td>EvenPaceStyle</td>\n",
              "    </tr>\n",
              "    <tr>\n",
              "      <th>3</th>\n",
              "      <td>62</td>\n",
              "      <td>0.100037</td>\n",
              "      <td>22.292820</td>\n",
              "      <td>14.171073</td>\n",
              "      <td>117.571308</td>\n",
              "      <td>-0.450359</td>\n",
              "      <td>0.4140</td>\n",
              "      <td>24.313726</td>\n",
              "      <td>69</td>\n",
              "      <td>104</td>\n",
              "      <td>1620</td>\n",
              "      <td>12.21</td>\n",
              "      <td>20</td>\n",
              "      <td>-0.0859</td>\n",
              "      <td>19.388769</td>\n",
              "      <td>SmoothCondition</td>\n",
              "      <td>LowCongestionCondition</td>\n",
              "      <td>EvenPaceStyle</td>\n",
              "    </tr>\n",
              "    <tr>\n",
              "      <th>4</th>\n",
              "      <td>63</td>\n",
              "      <td>0.099976</td>\n",
              "      <td>23.643900</td>\n",
              "      <td>14.328954</td>\n",
              "      <td>117.074149</td>\n",
              "      <td>1.351080</td>\n",
              "      <td>0.3945</td>\n",
              "      <td>20.000000</td>\n",
              "      <td>69</td>\n",
              "      <td>104</td>\n",
              "      <td>1708</td>\n",
              "      <td>11.91</td>\n",
              "      <td>21</td>\n",
              "      <td>-0.0664</td>\n",
              "      <td>19.301638</td>\n",
              "      <td>SmoothCondition</td>\n",
              "      <td>LowCongestionCondition</td>\n",
              "      <td>EvenPaceStyle</td>\n",
              "    </tr>\n",
              "  </tbody>\n",
              "</table>\n",
              "</div>"
            ],
            "text/plain": [
              "   Unnamed: 0  AltitudeVariation  ...                 traffic   drivingStyle\n",
              "0          59          -2.299988  ...  LowCongestionCondition  EvenPaceStyle\n",
              "1          60          -2.099976  ...  LowCongestionCondition  EvenPaceStyle\n",
              "2          61          -1.500000  ...  LowCongestionCondition  EvenPaceStyle\n",
              "3          62           0.100037  ...  LowCongestionCondition  EvenPaceStyle\n",
              "4          63           0.099976  ...  LowCongestionCondition  EvenPaceStyle\n",
              "\n",
              "[5 rows x 18 columns]"
            ]
          },
          "metadata": {
            "tags": []
          },
          "execution_count": 59
        }
      ]
    },
    {
      "cell_type": "code",
      "metadata": {
        "id": "mGY02qf4Pdj7",
        "colab_type": "code",
        "outputId": "d247bac6-6163-4877-f270-3d9ea6c3c156",
        "colab": {
          "base_uri": "https://localhost:8080/",
          "height": 215
        }
      },
      "source": [
        "df.drop(['Unnamed: 0', 'traffic'], axis=1, inplace=True)\n",
        "df.head()"
      ],
      "execution_count": 60,
      "outputs": [
        {
          "output_type": "execute_result",
          "data": {
            "text/html": [
              "<div>\n",
              "<style scoped>\n",
              "    .dataframe tbody tr th:only-of-type {\n",
              "        vertical-align: middle;\n",
              "    }\n",
              "\n",
              "    .dataframe tbody tr th {\n",
              "        vertical-align: top;\n",
              "    }\n",
              "\n",
              "    .dataframe thead th {\n",
              "        text-align: right;\n",
              "    }\n",
              "</style>\n",
              "<table border=\"1\" class=\"dataframe\">\n",
              "  <thead>\n",
              "    <tr style=\"text-align: right;\">\n",
              "      <th></th>\n",
              "      <th>AltitudeVariation</th>\n",
              "      <th>VehicleSpeedInstantaneous</th>\n",
              "      <th>VehicleSpeedAverage</th>\n",
              "      <th>VehicleSpeedVariance</th>\n",
              "      <th>VehicleSpeedVariation</th>\n",
              "      <th>LongitudinalAcceleration</th>\n",
              "      <th>EngineLoad</th>\n",
              "      <th>EngineCoolantTemperature</th>\n",
              "      <th>ManifoldAbsolutePressure</th>\n",
              "      <th>EngineRPM</th>\n",
              "      <th>MassAirFlow</th>\n",
              "      <th>IntakeAirTemperature</th>\n",
              "      <th>VerticalAcceleration</th>\n",
              "      <th>FuelConsumptionAverage</th>\n",
              "      <th>roadSurface</th>\n",
              "      <th>drivingStyle</th>\n",
              "    </tr>\n",
              "  </thead>\n",
              "  <tbody>\n",
              "    <tr>\n",
              "      <th>0</th>\n",
              "      <td>-2.299988</td>\n",
              "      <td>25.670519</td>\n",
              "      <td>13.223501</td>\n",
              "      <td>121.592690</td>\n",
              "      <td>-2.476980</td>\n",
              "      <td>0.3555</td>\n",
              "      <td>4.705883</td>\n",
              "      <td>68</td>\n",
              "      <td>106</td>\n",
              "      <td>1796</td>\n",
              "      <td>15.81</td>\n",
              "      <td>24</td>\n",
              "      <td>-0.1133</td>\n",
              "      <td>19.497335</td>\n",
              "      <td>SmoothCondition</td>\n",
              "      <td>EvenPaceStyle</td>\n",
              "    </tr>\n",
              "    <tr>\n",
              "      <th>1</th>\n",
              "      <td>-2.099976</td>\n",
              "      <td>24.094259</td>\n",
              "      <td>13.638919</td>\n",
              "      <td>120.422571</td>\n",
              "      <td>-1.576260</td>\n",
              "      <td>0.4492</td>\n",
              "      <td>10.588236</td>\n",
              "      <td>68</td>\n",
              "      <td>103</td>\n",
              "      <td>1689</td>\n",
              "      <td>14.65</td>\n",
              "      <td>22</td>\n",
              "      <td>-0.1289</td>\n",
              "      <td>19.515722</td>\n",
              "      <td>SmoothCondition</td>\n",
              "      <td>EvenPaceStyle</td>\n",
              "    </tr>\n",
              "    <tr>\n",
              "      <th>2</th>\n",
              "      <td>-1.500000</td>\n",
              "      <td>22.743179</td>\n",
              "      <td>14.031043</td>\n",
              "      <td>118.456769</td>\n",
              "      <td>-1.351080</td>\n",
              "      <td>0.4258</td>\n",
              "      <td>27.450981</td>\n",
              "      <td>68</td>\n",
              "      <td>103</td>\n",
              "      <td>1599</td>\n",
              "      <td>11.85</td>\n",
              "      <td>21</td>\n",
              "      <td>-0.1328</td>\n",
              "      <td>19.441765</td>\n",
              "      <td>SmoothCondition</td>\n",
              "      <td>EvenPaceStyle</td>\n",
              "    </tr>\n",
              "    <tr>\n",
              "      <th>3</th>\n",
              "      <td>0.100037</td>\n",
              "      <td>22.292820</td>\n",
              "      <td>14.171073</td>\n",
              "      <td>117.571308</td>\n",
              "      <td>-0.450359</td>\n",
              "      <td>0.4140</td>\n",
              "      <td>24.313726</td>\n",
              "      <td>69</td>\n",
              "      <td>104</td>\n",
              "      <td>1620</td>\n",
              "      <td>12.21</td>\n",
              "      <td>20</td>\n",
              "      <td>-0.0859</td>\n",
              "      <td>19.388769</td>\n",
              "      <td>SmoothCondition</td>\n",
              "      <td>EvenPaceStyle</td>\n",
              "    </tr>\n",
              "    <tr>\n",
              "      <th>4</th>\n",
              "      <td>0.099976</td>\n",
              "      <td>23.643900</td>\n",
              "      <td>14.328954</td>\n",
              "      <td>117.074149</td>\n",
              "      <td>1.351080</td>\n",
              "      <td>0.3945</td>\n",
              "      <td>20.000000</td>\n",
              "      <td>69</td>\n",
              "      <td>104</td>\n",
              "      <td>1708</td>\n",
              "      <td>11.91</td>\n",
              "      <td>21</td>\n",
              "      <td>-0.0664</td>\n",
              "      <td>19.301638</td>\n",
              "      <td>SmoothCondition</td>\n",
              "      <td>EvenPaceStyle</td>\n",
              "    </tr>\n",
              "  </tbody>\n",
              "</table>\n",
              "</div>"
            ],
            "text/plain": [
              "   AltitudeVariation  VehicleSpeedInstantaneous  ...      roadSurface   drivingStyle\n",
              "0          -2.299988                  25.670519  ...  SmoothCondition  EvenPaceStyle\n",
              "1          -2.099976                  24.094259  ...  SmoothCondition  EvenPaceStyle\n",
              "2          -1.500000                  22.743179  ...  SmoothCondition  EvenPaceStyle\n",
              "3           0.100037                  22.292820  ...  SmoothCondition  EvenPaceStyle\n",
              "4           0.099976                  23.643900  ...  SmoothCondition  EvenPaceStyle\n",
              "\n",
              "[5 rows x 16 columns]"
            ]
          },
          "metadata": {
            "tags": []
          },
          "execution_count": 60
        }
      ]
    },
    {
      "cell_type": "code",
      "metadata": {
        "id": "tHb4ykzAVY1Y",
        "colab_type": "code",
        "outputId": "7d79d169-5b7f-46c5-aef4-db228e348a55",
        "colab": {
          "base_uri": "https://localhost:8080/",
          "height": 304
        }
      },
      "source": [
        "df.describe()"
      ],
      "execution_count": 61,
      "outputs": [
        {
          "output_type": "execute_result",
          "data": {
            "text/html": [
              "<div>\n",
              "<style scoped>\n",
              "    .dataframe tbody tr th:only-of-type {\n",
              "        vertical-align: middle;\n",
              "    }\n",
              "\n",
              "    .dataframe tbody tr th {\n",
              "        vertical-align: top;\n",
              "    }\n",
              "\n",
              "    .dataframe thead th {\n",
              "        text-align: right;\n",
              "    }\n",
              "</style>\n",
              "<table border=\"1\" class=\"dataframe\">\n",
              "  <thead>\n",
              "    <tr style=\"text-align: right;\">\n",
              "      <th></th>\n",
              "      <th>AltitudeVariation</th>\n",
              "      <th>VehicleSpeedInstantaneous</th>\n",
              "      <th>VehicleSpeedAverage</th>\n",
              "      <th>VehicleSpeedVariance</th>\n",
              "      <th>VehicleSpeedVariation</th>\n",
              "      <th>LongitudinalAcceleration</th>\n",
              "      <th>EngineLoad</th>\n",
              "      <th>EngineCoolantTemperature</th>\n",
              "      <th>ManifoldAbsolutePressure</th>\n",
              "      <th>EngineRPM</th>\n",
              "      <th>MassAirFlow</th>\n",
              "      <th>IntakeAirTemperature</th>\n",
              "      <th>VerticalAcceleration</th>\n",
              "      <th>FuelConsumptionAverage</th>\n",
              "    </tr>\n",
              "  </thead>\n",
              "  <tbody>\n",
              "    <tr>\n",
              "      <th>count</th>\n",
              "      <td>11130.000000</td>\n",
              "      <td>11130.000000</td>\n",
              "      <td>11130.000000</td>\n",
              "      <td>11130.000000</td>\n",
              "      <td>11130.000000</td>\n",
              "      <td>11130.000000</td>\n",
              "      <td>11130.000000</td>\n",
              "      <td>11130.000000</td>\n",
              "      <td>11130.000000</td>\n",
              "      <td>11130.000000</td>\n",
              "      <td>11130.000000</td>\n",
              "      <td>11130.000000</td>\n",
              "      <td>11130.000000</td>\n",
              "      <td>11130.000000</td>\n",
              "    </tr>\n",
              "    <tr>\n",
              "      <th>mean</th>\n",
              "      <td>-0.478689</td>\n",
              "      <td>39.021730</td>\n",
              "      <td>39.185487</td>\n",
              "      <td>194.612717</td>\n",
              "      <td>-0.022943</td>\n",
              "      <td>0.680345</td>\n",
              "      <td>29.436817</td>\n",
              "      <td>76.253369</td>\n",
              "      <td>119.002875</td>\n",
              "      <td>1601.092902</td>\n",
              "      <td>17.185517</td>\n",
              "      <td>16.957862</td>\n",
              "      <td>1.528442</td>\n",
              "      <td>16.164601</td>\n",
              "    </tr>\n",
              "    <tr>\n",
              "      <th>std</th>\n",
              "      <td>2.036172</td>\n",
              "      <td>34.845227</td>\n",
              "      <td>31.849461</td>\n",
              "      <td>192.573430</td>\n",
              "      <td>2.332198</td>\n",
              "      <td>2.069489</td>\n",
              "      <td>21.412885</td>\n",
              "      <td>9.869676</td>\n",
              "      <td>25.184805</td>\n",
              "      <td>561.948593</td>\n",
              "      <td>10.678724</td>\n",
              "      <td>4.196808</td>\n",
              "      <td>4.794766</td>\n",
              "      <td>5.073774</td>\n",
              "    </tr>\n",
              "    <tr>\n",
              "      <th>min</th>\n",
              "      <td>-9.200012</td>\n",
              "      <td>0.000000</td>\n",
              "      <td>0.000000</td>\n",
              "      <td>0.000000</td>\n",
              "      <td>-17.789218</td>\n",
              "      <td>-2.380000</td>\n",
              "      <td>0.000000</td>\n",
              "      <td>40.000000</td>\n",
              "      <td>98.000000</td>\n",
              "      <td>752.000000</td>\n",
              "      <td>4.010000</td>\n",
              "      <td>7.000000</td>\n",
              "      <td>-1.246000</td>\n",
              "      <td>7.271883</td>\n",
              "    </tr>\n",
              "    <tr>\n",
              "      <th>25%</th>\n",
              "      <td>-1.700012</td>\n",
              "      <td>9.513855</td>\n",
              "      <td>15.837660</td>\n",
              "      <td>49.953278</td>\n",
              "      <td>-0.900721</td>\n",
              "      <td>-0.301000</td>\n",
              "      <td>16.470589</td>\n",
              "      <td>77.000000</td>\n",
              "      <td>102.000000</td>\n",
              "      <td>1000.250000</td>\n",
              "      <td>8.180000</td>\n",
              "      <td>14.000000</td>\n",
              "      <td>-0.136700</td>\n",
              "      <td>12.028536</td>\n",
              "    </tr>\n",
              "    <tr>\n",
              "      <th>50%</th>\n",
              "      <td>-0.200012</td>\n",
              "      <td>30.849661</td>\n",
              "      <td>27.730916</td>\n",
              "      <td>128.287362</td>\n",
              "      <td>0.000000</td>\n",
              "      <td>0.133000</td>\n",
              "      <td>26.274509</td>\n",
              "      <td>80.000000</td>\n",
              "      <td>109.000000</td>\n",
              "      <td>1694.000000</td>\n",
              "      <td>15.480000</td>\n",
              "      <td>17.000000</td>\n",
              "      <td>0.125000</td>\n",
              "      <td>15.909114</td>\n",
              "    </tr>\n",
              "    <tr>\n",
              "      <th>75%</th>\n",
              "      <td>0.399963</td>\n",
              "      <td>58.096436</td>\n",
              "      <td>54.418498</td>\n",
              "      <td>274.462603</td>\n",
              "      <td>0.900721</td>\n",
              "      <td>0.734300</td>\n",
              "      <td>39.607845</td>\n",
              "      <td>82.000000</td>\n",
              "      <td>125.000000</td>\n",
              "      <td>2086.000000</td>\n",
              "      <td>22.677500</td>\n",
              "      <td>19.000000</td>\n",
              "      <td>0.386700</td>\n",
              "      <td>19.982862</td>\n",
              "    </tr>\n",
              "    <tr>\n",
              "      <th>max</th>\n",
              "      <td>10.700012</td>\n",
              "      <td>124.749725</td>\n",
              "      <td>121.330733</td>\n",
              "      <td>1051.789888</td>\n",
              "      <td>12.384899</td>\n",
              "      <td>8.477800</td>\n",
              "      <td>100.000000</td>\n",
              "      <td>89.000000</td>\n",
              "      <td>252.000000</td>\n",
              "      <td>3167.000000</td>\n",
              "      <td>73.250000</td>\n",
              "      <td>34.000000</td>\n",
              "      <td>17.944800</td>\n",
              "      <td>45.336861</td>\n",
              "    </tr>\n",
              "  </tbody>\n",
              "</table>\n",
              "</div>"
            ],
            "text/plain": [
              "       AltitudeVariation  ...  FuelConsumptionAverage\n",
              "count       11130.000000  ...            11130.000000\n",
              "mean           -0.478689  ...               16.164601\n",
              "std             2.036172  ...                5.073774\n",
              "min            -9.200012  ...                7.271883\n",
              "25%            -1.700012  ...               12.028536\n",
              "50%            -0.200012  ...               15.909114\n",
              "75%             0.399963  ...               19.982862\n",
              "max            10.700012  ...               45.336861\n",
              "\n",
              "[8 rows x 14 columns]"
            ]
          },
          "metadata": {
            "tags": []
          },
          "execution_count": 61
        }
      ]
    },
    {
      "cell_type": "code",
      "metadata": {
        "id": "rDINPzuRYjEr",
        "colab_type": "code",
        "outputId": "a6b36707-459d-43c8-8ca3-a8cd30215b46",
        "colab": {
          "base_uri": "https://localhost:8080/",
          "height": 166
        }
      },
      "source": [
        "df.describe(include=[np.object])"
      ],
      "execution_count": 62,
      "outputs": [
        {
          "output_type": "execute_result",
          "data": {
            "text/html": [
              "<div>\n",
              "<style scoped>\n",
              "    .dataframe tbody tr th:only-of-type {\n",
              "        vertical-align: middle;\n",
              "    }\n",
              "\n",
              "    .dataframe tbody tr th {\n",
              "        vertical-align: top;\n",
              "    }\n",
              "\n",
              "    .dataframe thead th {\n",
              "        text-align: right;\n",
              "    }\n",
              "</style>\n",
              "<table border=\"1\" class=\"dataframe\">\n",
              "  <thead>\n",
              "    <tr style=\"text-align: right;\">\n",
              "      <th></th>\n",
              "      <th>roadSurface</th>\n",
              "      <th>drivingStyle</th>\n",
              "    </tr>\n",
              "  </thead>\n",
              "  <tbody>\n",
              "    <tr>\n",
              "      <th>count</th>\n",
              "      <td>11130</td>\n",
              "      <td>11130</td>\n",
              "    </tr>\n",
              "    <tr>\n",
              "      <th>unique</th>\n",
              "      <td>2</td>\n",
              "      <td>2</td>\n",
              "    </tr>\n",
              "    <tr>\n",
              "      <th>top</th>\n",
              "      <td>SmoothCondition</td>\n",
              "      <td>EvenPaceStyle</td>\n",
              "    </tr>\n",
              "    <tr>\n",
              "      <th>freq</th>\n",
              "      <td>10685</td>\n",
              "      <td>9041</td>\n",
              "    </tr>\n",
              "  </tbody>\n",
              "</table>\n",
              "</div>"
            ],
            "text/plain": [
              "            roadSurface   drivingStyle\n",
              "count             11130          11130\n",
              "unique                2              2\n",
              "top     SmoothCondition  EvenPaceStyle\n",
              "freq              10685           9041"
            ]
          },
          "metadata": {
            "tags": []
          },
          "execution_count": 62
        }
      ]
    },
    {
      "cell_type": "code",
      "metadata": {
        "id": "9219lvCcjAKI",
        "colab_type": "code",
        "colab": {}
      },
      "source": [
        "df['drivingStyle'] = df.drivingStyle.replace({'EvenPaceStyle': 0, 'AggressiveStyle': 1})\n",
        "df['roadSurface']= df.roadSurface.replace({'SmoothCondition': 0, 'UnevenCondition': 1})"
      ],
      "execution_count": 0,
      "outputs": []
    },
    {
      "cell_type": "code",
      "metadata": {
        "id": "w8e_ZaAMextl",
        "colab_type": "code",
        "colab": {}
      },
      "source": [
        "def plotCorrelationMatrix(df, graphWidth):\n",
        "    #filename = df.dataframeName\n",
        "    #df = df.dropna('columns') # drop columns with NaN\n",
        "    df = df[[col for col in df if df[col].nunique() > 1]] # keep columns where there are more than 1 unique values\n",
        "    if df.shape[1] < 2:\n",
        "        print(f'No correlation plots shown: The number of non-NaN or constant columns ({df.shape[1]}) is less than 2')\n",
        "        return\n",
        "    corr = df.corr()\n",
        "    plt.figure(num=None, figsize=(graphWidth, graphWidth), dpi=80, facecolor='w', edgecolor='k')\n",
        "    corrMat = plt.matshow(corr, fignum = 1)\n",
        "    plt.xticks(range(len(corr.columns)), corr.columns, rotation=90)\n",
        "    plt.yticks(range(len(corr.columns)), corr.columns)\n",
        "    plt.gca().xaxis.tick_bottom()\n",
        "    plt.colorbar(corrMat)\n",
        "    plt.title(f'Correlation Matrix for opel_corsa_01', fontsize=15)\n",
        "    plt.show()"
      ],
      "execution_count": 0,
      "outputs": []
    },
    {
      "cell_type": "code",
      "metadata": {
        "id": "EwGwtli5fCIh",
        "colab_type": "code",
        "outputId": "7cbbf4f1-e5e9-4622-c034-890c9ab98be8",
        "colab": {
          "base_uri": "https://localhost:8080/",
          "height": 634
        }
      },
      "source": [
        "plotCorrelationMatrix(df, 8)"
      ],
      "execution_count": 65,
      "outputs": [
        {
          "output_type": "display_data",
          "data": {
            "image/png": "[encoded data removed]",
            "text/plain": [
              "<Figure size 640x640 with 2 Axes>"
            ]
          },
          "metadata": {
            "tags": []
          }
        }
      ]
    },
    {
      "cell_type": "markdown",
      "metadata": {
        "id": "FPreOT73fgIw",
        "colab_type": "text"
      },
      "source": [
        "Before balancing data, see how classifiers perform:\n"
      ]
    },
    {
      "cell_type": "code",
      "metadata": {
        "id": "r7nMK7kyfmt4",
        "colab_type": "code",
        "outputId": "30e25489-573b-4938-e981-2429a8af6849",
        "colab": {
          "base_uri": "https://localhost:8080/",
          "height": 286
        }
      },
      "source": [
        "list(df.columns)"
      ],
      "execution_count": 66,
      "outputs": [
        {
          "output_type": "execute_result",
          "data": {
            "text/plain": [
              "['AltitudeVariation',\n",
              " 'VehicleSpeedInstantaneous',\n",
              " 'VehicleSpeedAverage',\n",
              " 'VehicleSpeedVariance',\n",
              " 'VehicleSpeedVariation',\n",
              " 'LongitudinalAcceleration',\n",
              " 'EngineLoad',\n",
              " 'EngineCoolantTemperature',\n",
              " 'ManifoldAbsolutePressure',\n",
              " 'EngineRPM',\n",
              " 'MassAirFlow',\n",
              " 'IntakeAirTemperature',\n",
              " 'VerticalAcceleration',\n",
              " 'FuelConsumptionAverage',\n",
              " 'roadSurface',\n",
              " 'drivingStyle']"
            ]
          },
          "metadata": {
            "tags": []
          },
          "execution_count": 66
        }
      ]
    },
    {
      "cell_type": "code",
      "metadata": {
        "id": "PA87eiODfzUe",
        "colab_type": "code",
        "colab": {}
      },
      "source": [
        "features = ['AltitudeVariation','VehicleSpeedInstantaneous','VehicleSpeedAverage','VehicleSpeedVariance','VehicleSpeedVariation','LongitudinalAcceleration','EngineLoad','EngineCoolantTemperature','ManifoldAbsolutePressure','EngineRPM','MassAirFlow','IntakeAirTemperature','VerticalAcceleration','FuelConsumptionAverage']"
      ],
      "execution_count": 0,
      "outputs": []
    },
    {
      "cell_type": "code",
      "metadata": {
        "id": "qNrEEd5agaNH",
        "colab_type": "code",
        "outputId": "c81143d4-c8b0-4471-92be-4af409355407",
        "colab": {
          "base_uri": "https://localhost:8080/",
          "height": 215
        }
      },
      "source": [
        "X = df[features]\n",
        "X.head()\n"
      ],
      "execution_count": 68,
      "outputs": [
        {
          "output_type": "execute_result",
          "data": {
            "text/html": [
              "<div>\n",
              "<style scoped>\n",
              "    .dataframe tbody tr th:only-of-type {\n",
              "        vertical-align: middle;\n",
              "    }\n",
              "\n",
              "    .dataframe tbody tr th {\n",
              "        vertical-align: top;\n",
              "    }\n",
              "\n",
              "    .dataframe thead th {\n",
              "        text-align: right;\n",
              "    }\n",
              "</style>\n",
              "<table border=\"1\" class=\"dataframe\">\n",
              "  <thead>\n",
              "    <tr style=\"text-align: right;\">\n",
              "      <th></th>\n",
              "      <th>AltitudeVariation</th>\n",
              "      <th>VehicleSpeedInstantaneous</th>\n",
              "      <th>VehicleSpeedAverage</th>\n",
              "      <th>VehicleSpeedVariance</th>\n",
              "      <th>VehicleSpeedVariation</th>\n",
              "      <th>LongitudinalAcceleration</th>\n",
              "      <th>EngineLoad</th>\n",
              "      <th>EngineCoolantTemperature</th>\n",
              "      <th>ManifoldAbsolutePressure</th>\n",
              "      <th>EngineRPM</th>\n",
              "      <th>MassAirFlow</th>\n",
              "      <th>IntakeAirTemperature</th>\n",
              "      <th>VerticalAcceleration</th>\n",
              "      <th>FuelConsumptionAverage</th>\n",
              "    </tr>\n",
              "  </thead>\n",
              "  <tbody>\n",
              "    <tr>\n",
              "      <th>0</th>\n",
              "      <td>-2.299988</td>\n",
              "      <td>25.670519</td>\n",
              "      <td>13.223501</td>\n",
              "      <td>121.592690</td>\n",
              "      <td>-2.476980</td>\n",
              "      <td>0.3555</td>\n",
              "      <td>4.705883</td>\n",
              "      <td>68</td>\n",
              "      <td>106</td>\n",
              "      <td>1796</td>\n",
              "      <td>15.81</td>\n",
              "      <td>24</td>\n",
              "      <td>-0.1133</td>\n",
              "      <td>19.497335</td>\n",
              "    </tr>\n",
              "    <tr>\n",
              "      <th>1</th>\n",
              "      <td>-2.099976</td>\n",
              "      <td>24.094259</td>\n",
              "      <td>13.638919</td>\n",
              "      <td>120.422571</td>\n",
              "      <td>-1.576260</td>\n",
              "      <td>0.4492</td>\n",
              "      <td>10.588236</td>\n",
              "      <td>68</td>\n",
              "      <td>103</td>\n",
              "      <td>1689</td>\n",
              "      <td>14.65</td>\n",
              "      <td>22</td>\n",
              "      <td>-0.1289</td>\n",
              "      <td>19.515722</td>\n",
              "    </tr>\n",
              "    <tr>\n",
              "      <th>2</th>\n",
              "      <td>-1.500000</td>\n",
              "      <td>22.743179</td>\n",
              "      <td>14.031043</td>\n",
              "      <td>118.456769</td>\n",
              "      <td>-1.351080</td>\n",
              "      <td>0.4258</td>\n",
              "      <td>27.450981</td>\n",
              "      <td>68</td>\n",
              "      <td>103</td>\n",
              "      <td>1599</td>\n",
              "      <td>11.85</td>\n",
              "      <td>21</td>\n",
              "      <td>-0.1328</td>\n",
              "      <td>19.441765</td>\n",
              "    </tr>\n",
              "    <tr>\n",
              "      <th>3</th>\n",
              "      <td>0.100037</td>\n",
              "      <td>22.292820</td>\n",
              "      <td>14.171073</td>\n",
              "      <td>117.571308</td>\n",
              "      <td>-0.450359</td>\n",
              "      <td>0.4140</td>\n",
              "      <td>24.313726</td>\n",
              "      <td>69</td>\n",
              "      <td>104</td>\n",
              "      <td>1620</td>\n",
              "      <td>12.21</td>\n",
              "      <td>20</td>\n",
              "      <td>-0.0859</td>\n",
              "      <td>19.388769</td>\n",
              "    </tr>\n",
              "    <tr>\n",
              "      <th>4</th>\n",
              "      <td>0.099976</td>\n",
              "      <td>23.643900</td>\n",
              "      <td>14.328954</td>\n",
              "      <td>117.074149</td>\n",
              "      <td>1.351080</td>\n",
              "      <td>0.3945</td>\n",
              "      <td>20.000000</td>\n",
              "      <td>69</td>\n",
              "      <td>104</td>\n",
              "      <td>1708</td>\n",
              "      <td>11.91</td>\n",
              "      <td>21</td>\n",
              "      <td>-0.0664</td>\n",
              "      <td>19.301638</td>\n",
              "    </tr>\n",
              "  </tbody>\n",
              "</table>\n",
              "</div>"
            ],
            "text/plain": [
              "   AltitudeVariation  ...  FuelConsumptionAverage\n",
              "0          -2.299988  ...               19.497335\n",
              "1          -2.099976  ...               19.515722\n",
              "2          -1.500000  ...               19.441765\n",
              "3           0.100037  ...               19.388769\n",
              "4           0.099976  ...               19.301638\n",
              "\n",
              "[5 rows x 14 columns]"
            ]
          },
          "metadata": {
            "tags": []
          },
          "execution_count": 68
        }
      ]
    },
    {
      "cell_type": "code",
      "metadata": {
        "id": "6xGsqpChgmB7",
        "colab_type": "code",
        "outputId": "6be7a495-22ad-4a4b-c059-04bd76f1c014",
        "colab": {
          "base_uri": "https://localhost:8080/",
          "height": 34
        }
      },
      "source": [
        "print(X.shape)"
      ],
      "execution_count": 69,
      "outputs": [
        {
          "output_type": "stream",
          "text": [
            "(11130, 14)\n"
          ],
          "name": "stdout"
        }
      ]
    },
    {
      "cell_type": "code",
      "metadata": {
        "id": "ttYBM8oQ_NLz",
        "colab_type": "code",
        "colab": {
          "base_uri": "https://localhost:8080/",
          "height": 54
        },
        "outputId": "cbff89e5-82fc-467c-ed0d-e47f3a40ab17"
      },
      "source": [
        "\n",
        "#feature_names.pop(16)\n",
        "#feature_names.pop(15)\n",
        "#feature_names.pop(14)\n",
        "#print(feature_names)\n",
        "#for i in feature_names:\n",
        "#        df[i].fillna(df[i].mean(), inplace=True)"
      ],
      "execution_count": 47,
      "outputs": [
        {
          "output_type": "stream",
          "text": [
            "['AltitudeVariation', 'VehicleSpeedInstantaneous', 'VehicleSpeedAverage', 'VehicleSpeedVariance', 'VehicleSpeedVariation', 'LongitudinalAcceleration', 'EngineLoad', 'EngineCoolantTemperature', 'ManifoldAbsolutePressure', 'EngineRPM', 'MassAirFlow', 'IntakeAirTemperature', 'VerticalAcceleration', 'FuelConsumptionAverage']\n"
          ],
          "name": "stdout"
        }
      ]
    },
    {
      "cell_type": "code",
      "metadata": {
        "id": "W2iok9OrDxO-",
        "colab_type": "code",
        "colab": {
          "base_uri": "https://localhost:8080/",
          "height": 304
        },
        "outputId": "548e6509-5ac7-4b50-ea3d-aafaab09a9ed"
      },
      "source": [
        "#df.describe()"
      ],
      "execution_count": 49,
      "outputs": [
        {
          "output_type": "execute_result",
          "data": {
            "text/html": [
              "<div>\n",
              "<style scoped>\n",
              "    .dataframe tbody tr th:only-of-type {\n",
              "        vertical-align: middle;\n",
              "    }\n",
              "\n",
              "    .dataframe tbody tr th {\n",
              "        vertical-align: top;\n",
              "    }\n",
              "\n",
              "    .dataframe thead th {\n",
              "        text-align: right;\n",
              "    }\n",
              "</style>\n",
              "<table border=\"1\" class=\"dataframe\">\n",
              "  <thead>\n",
              "    <tr style=\"text-align: right;\">\n",
              "      <th></th>\n",
              "      <th>AltitudeVariation</th>\n",
              "      <th>VehicleSpeedInstantaneous</th>\n",
              "      <th>VehicleSpeedAverage</th>\n",
              "      <th>VehicleSpeedVariance</th>\n",
              "      <th>VehicleSpeedVariation</th>\n",
              "      <th>LongitudinalAcceleration</th>\n",
              "      <th>EngineLoad</th>\n",
              "      <th>EngineCoolantTemperature</th>\n",
              "      <th>ManifoldAbsolutePressure</th>\n",
              "      <th>EngineRPM</th>\n",
              "      <th>MassAirFlow</th>\n",
              "      <th>IntakeAirTemperature</th>\n",
              "      <th>VerticalAcceleration</th>\n",
              "      <th>FuelConsumptionAverage</th>\n",
              "      <th>drivingStyle</th>\n",
              "    </tr>\n",
              "  </thead>\n",
              "  <tbody>\n",
              "    <tr>\n",
              "      <th>count</th>\n",
              "      <td>23775.000000</td>\n",
              "      <td>23775.000000</td>\n",
              "      <td>23775.000000</td>\n",
              "      <td>23775.000000</td>\n",
              "      <td>23775.000000</td>\n",
              "      <td>23775.000000</td>\n",
              "      <td>23775.000000</td>\n",
              "      <td>23775.000000</td>\n",
              "      <td>23775.000000</td>\n",
              "      <td>23775.000000</td>\n",
              "      <td>23775.000000</td>\n",
              "      <td>23775.000000</td>\n",
              "      <td>23775.000000</td>\n",
              "      <td>23775.000000</td>\n",
              "      <td>23775.000000</td>\n",
              "    </tr>\n",
              "    <tr>\n",
              "      <th>mean</th>\n",
              "      <td>-0.263008</td>\n",
              "      <td>38.644538</td>\n",
              "      <td>38.811064</td>\n",
              "      <td>171.920888</td>\n",
              "      <td>-0.020554</td>\n",
              "      <td>0.681683</td>\n",
              "      <td>36.762356</td>\n",
              "      <td>70.818721</td>\n",
              "      <td>115.195120</td>\n",
              "      <td>1486.820257</td>\n",
              "      <td>16.045632</td>\n",
              "      <td>23.483004</td>\n",
              "      <td>0.463398</td>\n",
              "      <td>15.171096</td>\n",
              "      <td>0.116046</td>\n",
              "    </tr>\n",
              "    <tr>\n",
              "      <th>std</th>\n",
              "      <td>2.091264</td>\n",
              "      <td>33.858027</td>\n",
              "      <td>31.149198</td>\n",
              "      <td>182.751192</td>\n",
              "      <td>2.475485</td>\n",
              "      <td>1.582911</td>\n",
              "      <td>26.637791</td>\n",
              "      <td>15.683371</td>\n",
              "      <td>20.453117</td>\n",
              "      <td>578.003748</td>\n",
              "      <td>9.691234</td>\n",
              "      <td>10.901340</td>\n",
              "      <td>3.462745</td>\n",
              "      <td>4.603290</td>\n",
              "      <td>0.320287</td>\n",
              "    </tr>\n",
              "    <tr>\n",
              "      <th>min</th>\n",
              "      <td>-24.600006</td>\n",
              "      <td>0.000000</td>\n",
              "      <td>0.000000</td>\n",
              "      <td>0.000000</td>\n",
              "      <td>-103.500000</td>\n",
              "      <td>-3.065000</td>\n",
              "      <td>0.000000</td>\n",
              "      <td>12.000000</td>\n",
              "      <td>88.000000</td>\n",
              "      <td>0.000000</td>\n",
              "      <td>0.880000</td>\n",
              "      <td>7.000000</td>\n",
              "      <td>-2.763100</td>\n",
              "      <td>7.271883</td>\n",
              "      <td>0.000000</td>\n",
              "    </tr>\n",
              "    <tr>\n",
              "      <th>25%</th>\n",
              "      <td>-1.399996</td>\n",
              "      <td>11.700000</td>\n",
              "      <td>15.991532</td>\n",
              "      <td>46.048954</td>\n",
              "      <td>-0.900001</td>\n",
              "      <td>-0.219000</td>\n",
              "      <td>18.823530</td>\n",
              "      <td>63.000000</td>\n",
              "      <td>102.000000</td>\n",
              "      <td>854.000000</td>\n",
              "      <td>6.970000</td>\n",
              "      <td>16.000000</td>\n",
              "      <td>-0.554000</td>\n",
              "      <td>11.673309</td>\n",
              "      <td>0.000000</td>\n",
              "    </tr>\n",
              "    <tr>\n",
              "      <th>50%</th>\n",
              "      <td>-0.099998</td>\n",
              "      <td>31.500000</td>\n",
              "      <td>29.314682</td>\n",
              "      <td>113.907731</td>\n",
              "      <td>0.000000</td>\n",
              "      <td>0.391000</td>\n",
              "      <td>31.372549</td>\n",
              "      <td>79.000000</td>\n",
              "      <td>107.000000</td>\n",
              "      <td>1485.500000</td>\n",
              "      <td>15.360000</td>\n",
              "      <td>19.000000</td>\n",
              "      <td>-0.078100</td>\n",
              "      <td>14.520984</td>\n",
              "      <td>0.000000</td>\n",
              "    </tr>\n",
              "    <tr>\n",
              "      <th>75%</th>\n",
              "      <td>0.700001</td>\n",
              "      <td>54.899998</td>\n",
              "      <td>50.148162</td>\n",
              "      <td>230.200656</td>\n",
              "      <td>0.900002</td>\n",
              "      <td>1.159700</td>\n",
              "      <td>58.431374</td>\n",
              "      <td>81.000000</td>\n",
              "      <td>120.000000</td>\n",
              "      <td>1955.250000</td>\n",
              "      <td>21.709999</td>\n",
              "      <td>31.000000</td>\n",
              "      <td>0.237250</td>\n",
              "      <td>18.283518</td>\n",
              "      <td>0.000000</td>\n",
              "    </tr>\n",
              "    <tr>\n",
              "      <th>max</th>\n",
              "      <td>11.400002</td>\n",
              "      <td>124.749725</td>\n",
              "      <td>121.330733</td>\n",
              "      <td>1418.370369</td>\n",
              "      <td>97.199997</td>\n",
              "      <td>8.477800</td>\n",
              "      <td>100.000000</td>\n",
              "      <td>89.000000</td>\n",
              "      <td>252.000000</td>\n",
              "      <td>3167.000000</td>\n",
              "      <td>73.250000</td>\n",
              "      <td>65.000000</td>\n",
              "      <td>17.944800</td>\n",
              "      <td>45.336861</td>\n",
              "      <td>1.000000</td>\n",
              "    </tr>\n",
              "  </tbody>\n",
              "</table>\n",
              "</div>"
            ],
            "text/plain": [
              "       AltitudeVariation  ...  drivingStyle\n",
              "count       23775.000000  ...  23775.000000\n",
              "mean           -0.263008  ...      0.116046\n",
              "std             2.091264  ...      0.320287\n",
              "min           -24.600006  ...      0.000000\n",
              "25%            -1.399996  ...      0.000000\n",
              "50%            -0.099998  ...      0.000000\n",
              "75%             0.700001  ...      0.000000\n",
              "max            11.400002  ...      1.000000\n",
              "\n",
              "[8 rows x 15 columns]"
            ]
          },
          "metadata": {
            "tags": []
          },
          "execution_count": 49
        }
      ]
    },
    {
      "cell_type": "code",
      "metadata": {
        "id": "n0C7Dg17D_Mm",
        "colab_type": "code",
        "colab": {
          "base_uri": "https://localhost:8080/",
          "height": 633
        },
        "outputId": "a30f2cee-a147-4ea9-8b0a-4da20636d451"
      },
      "source": [
        "#plotCorrelationMatrix(df, 8)"
      ],
      "execution_count": 50,
      "outputs": [
        {
          "output_type": "display_data",
          "data": {
            "image/png": "[encoded data removed]",
            "text/plain": [
              "<Figure size 640x640 with 2 Axes>"
            ]
          },
          "metadata": {
            "tags": []
          }
        }
      ]
    },
    {
      "cell_type": "code",
      "metadata": {
        "id": "1dS1DIW-gr3Y",
        "colab_type": "code",
        "outputId": "0fc6c813-8f95-4320-a4a9-af6b857043a6",
        "colab": {
          "base_uri": "https://localhost:8080/",
          "height": 118
        }
      },
      "source": [
        "y = df['drivingStyle']\n",
        "y.head()"
      ],
      "execution_count": 70,
      "outputs": [
        {
          "output_type": "execute_result",
          "data": {
            "text/plain": [
              "0    0\n",
              "1    0\n",
              "2    0\n",
              "3    0\n",
              "4    0\n",
              "Name: drivingStyle, dtype: int64"
            ]
          },
          "metadata": {
            "tags": []
          },
          "execution_count": 70
        }
      ]
    },
    {
      "cell_type": "code",
      "metadata": {
        "id": "-tz1068GhR0H",
        "colab_type": "code",
        "outputId": "545cfbca-23a2-4055-8563-e4bf02932c28",
        "colab": {
          "base_uri": "https://localhost:8080/",
          "height": 84
        }
      },
      "source": [
        "from sklearn.model_selection import train_test_split\n",
        "X_train, X_test, y_train, y_test = train_test_split(X, y, random_state = 1)\n",
        "print(X_train.shape)\n",
        "print(X_test.shape)\n",
        "print(y_train.shape)\n",
        "print(y_test.shape)"
      ],
      "execution_count": 71,
      "outputs": [
        {
          "output_type": "stream",
          "text": [
            "(8347, 14)\n",
            "(2783, 14)\n",
            "(8347,)\n",
            "(2783,)\n"
          ],
          "name": "stdout"
        }
      ]
    },
    {
      "cell_type": "code",
      "metadata": {
        "id": "kWX38byOinSj",
        "colab_type": "code",
        "outputId": "2c1b5db0-4c5a-4903-9f63-f27e0dac6900",
        "colab": {
          "base_uri": "https://localhost:8080/",
          "height": 50
        }
      },
      "source": [
        "aggressive_percent = y_test.mean()\n",
        "even_percent = 1 - y_test.mean()\n",
        "print(aggressive_percent)\n",
        "print(even_percent)\n"
      ],
      "execution_count": 72,
      "outputs": [
        {
          "output_type": "stream",
          "text": [
            "0.1814588573481854\n",
            "0.8185411426518145\n"
          ],
          "name": "stdout"
        }
      ]
    },
    {
      "cell_type": "markdown",
      "metadata": {
        "id": "5b1SPD07jv5r",
        "colab_type": "text"
      },
      "source": [
        "=> Even if Even Driving Style is predicted always, the accuracy would be **81.8%**\n",
        "=> We need to design a classifer that provides better accuracy than this!"
      ]
    },
    {
      "cell_type": "code",
      "metadata": {
        "id": "uUUY4I2Zj9fl",
        "colab_type": "code",
        "outputId": "d91d72d9-55ad-457c-ff7b-ae6adbacbdd0",
        "colab": {
          "base_uri": "https://localhost:8080/",
          "height": 101
        }
      },
      "source": [
        "from sklearn.linear_model import LinearRegression, LogisticRegression\n",
        "logreg = LogisticRegression(solver='liblinear')\n",
        "logreg.fit(X_train,y_train)"
      ],
      "execution_count": 73,
      "outputs": [
        {
          "output_type": "execute_result",
          "data": {
            "text/plain": [
              "LogisticRegression(C=1.0, class_weight=None, dual=False, fit_intercept=True,\n",
              "                   intercept_scaling=1, l1_ratio=None, max_iter=100,\n",
              "                   multi_class='warn', n_jobs=None, penalty='l2',\n",
              "                   random_state=None, solver='liblinear', tol=0.0001, verbose=0,\n",
              "                   warm_start=False)"
            ]
          },
          "metadata": {
            "tags": []
          },
          "execution_count": 73
        }
      ]
    },
    {
      "cell_type": "code",
      "metadata": {
        "id": "xNYaJrbWpQfO",
        "colab_type": "code",
        "outputId": "82421568-5a4e-415b-ede3-bcca8d86dd58",
        "colab": {
          "base_uri": "https://localhost:8080/",
          "height": 302
        }
      },
      "source": [
        "y_pred = logreg.predict(X_test)\n",
        "from sklearn import metrics\n",
        "print(\"Compare actual response with predicted (accuracy): \", metrics.accuracy_score(y_test, y_pred))\n",
        "print(\"Precision: \", metrics.precision_score(y_test, y_pred))\n",
        "print(\"Recall: \", metrics.recall_score(y_test, y_pred))\n",
        "print(\"F1 Score: \", metrics.recall_score(y_test, y_pred))\n",
        "print(\"Classification Report: \\n\", metrics.classification_report(y_test, y_pred))\n",
        "print(\"Confusion Matrix: \\n\", metrics.confusion_matrix(y_test, y_pred))"
      ],
      "execution_count": 74,
      "outputs": [
        {
          "output_type": "stream",
          "text": [
            "Compare actual response with predicted (accuracy):  0.8192597915918074\n",
            "Precision:  0.5138888888888888\n",
            "Recall:  0.07326732673267326\n",
            "F1 Score:  0.07326732673267326\n",
            "Classification Report: \n",
            "               precision    recall  f1-score   support\n",
            "\n",
            "           0       0.83      0.98      0.90      2278\n",
            "           1       0.51      0.07      0.13       505\n",
            "\n",
            "    accuracy                           0.82      2783\n",
            "   macro avg       0.67      0.53      0.51      2783\n",
            "weighted avg       0.77      0.82      0.76      2783\n",
            "\n",
            "Confusion Matrix: \n",
            " [[2243   35]\n",
            " [ 468   37]]\n"
          ],
          "name": "stdout"
        }
      ]
    },
    {
      "cell_type": "code",
      "metadata": {
        "id": "oGf0NxAqpmYZ",
        "colab_type": "code",
        "outputId": "7ea2e0aa-2d35-439b-95b9-b2608288e818",
        "colab": {
          "base_uri": "https://localhost:8080/",
          "height": 101
        }
      },
      "source": [
        "logreg = LogisticRegression(solver='liblinear',class_weight='balanced')\n",
        "logreg.fit(X_train,y_train)"
      ],
      "execution_count": 75,
      "outputs": [
        {
          "output_type": "execute_result",
          "data": {
            "text/plain": [
              "LogisticRegression(C=1.0, class_weight='balanced', dual=False,\n",
              "                   fit_intercept=True, intercept_scaling=1, l1_ratio=None,\n",
              "                   max_iter=100, multi_class='warn', n_jobs=None, penalty='l2',\n",
              "                   random_state=None, solver='liblinear', tol=0.0001, verbose=0,\n",
              "                   warm_start=False)"
            ]
          },
          "metadata": {
            "tags": []
          },
          "execution_count": 75
        }
      ]
    },
    {
      "cell_type": "code",
      "metadata": {
        "id": "idx1SX41p_1H",
        "colab_type": "code",
        "outputId": "bc4f1595-6ce2-47fa-d602-e37712bb6e75",
        "colab": {
          "base_uri": "https://localhost:8080/",
          "height": 302
        }
      },
      "source": [
        "y_pred = logreg.predict(X_test)\n",
        "\n",
        "print(\"Compare actual response with predicted (accuracy): \", metrics.accuracy_score(y_test, y_pred))\n",
        "print(\"Precision: \", metrics.precision_score(y_test, y_pred))\n",
        "print(\"Recall: \", metrics.recall_score(y_test, y_pred))\n",
        "print(\"F1 Score: \", metrics.recall_score(y_test, y_pred))\n",
        "print(\"Classification Report: \\n\", metrics.classification_report(y_test, y_pred))\n",
        "print(\"Confusion Matrix: \\n\", metrics.confusion_matrix(y_test, y_pred))"
      ],
      "execution_count": 76,
      "outputs": [
        {
          "output_type": "stream",
          "text": [
            "Compare actual response with predicted (accuracy):  0.6083363277039167\n",
            "Precision:  0.28317272053372866\n",
            "Recall:  0.7564356435643564\n",
            "F1 Score:  0.7564356435643564\n",
            "Classification Report: \n",
            "               precision    recall  f1-score   support\n",
            "\n",
            "           0       0.91      0.58      0.71      2278\n",
            "           1       0.28      0.76      0.41       505\n",
            "\n",
            "    accuracy                           0.61      2783\n",
            "   macro avg       0.60      0.67      0.56      2783\n",
            "weighted avg       0.80      0.61      0.65      2783\n",
            "\n",
            "Confusion Matrix: \n",
            " [[1311  967]\n",
            " [ 123  382]]\n"
          ],
          "name": "stdout"
        }
      ]
    },
    {
      "cell_type": "code",
      "metadata": {
        "id": "86w5fbemvaiB",
        "colab_type": "code",
        "outputId": "658aee06-e304-4759-f044-0acb21446aac",
        "colab": {
          "base_uri": "https://localhost:8080/",
          "height": 302
        }
      },
      "source": [
        "from sklearn.neighbors import KNeighborsClassifier\n",
        "knn = KNeighborsClassifier(n_neighbors = 5)\n",
        "knn.fit(X_train, y_train)\n",
        "y2_pred = knn.predict(X_test)\n",
        "print(\"Compare actual response with predicted (accuracy): \", metrics.accuracy_score(y_test, y2_pred))\n",
        "print(\"Precision: \", metrics.precision_score(y_test, y2_pred))\n",
        "print(\"Recall: \", metrics.recall_score(y_test, y2_pred))\n",
        "print(\"F1 Score: \", metrics.recall_score(y_test, y2_pred))\n",
        "print(\"Classification Report: \\n\", metrics.classification_report(y_test, y2_pred))\n",
        "print(\"Confusion Matrix: \\n\", metrics.confusion_matrix(y_test, y2_pred))"
      ],
      "execution_count": 77,
      "outputs": [
        {
          "output_type": "stream",
          "text": [
            "Compare actual response with predicted (accuracy):  0.8196191160618038\n",
            "Precision:  0.5043227665706052\n",
            "Recall:  0.3465346534653465\n",
            "F1 Score:  0.3465346534653465\n",
            "Classification Report: \n",
            "               precision    recall  f1-score   support\n",
            "\n",
            "           0       0.86      0.92      0.89      2278\n",
            "           1       0.50      0.35      0.41       505\n",
            "\n",
            "    accuracy                           0.82      2783\n",
            "   macro avg       0.68      0.64      0.65      2783\n",
            "weighted avg       0.80      0.82      0.81      2783\n",
            "\n",
            "Confusion Matrix: \n",
            " [[2106  172]\n",
            " [ 330  175]]\n"
          ],
          "name": "stdout"
        }
      ]
    },
    {
      "cell_type": "code",
      "metadata": {
        "id": "Z3na2aIZxc9c",
        "colab_type": "code",
        "outputId": "55b86f9c-0837-4bcf-b1a6-fae046eac606",
        "colab": {
          "base_uri": "https://localhost:8080/",
          "height": 84
        }
      },
      "source": [
        "from sklearn import svm\n",
        "modelsvm = svm.SVC(kernel ='linear')\n",
        "modelsvm.fit(X_train, y_train)"
      ],
      "execution_count": 78,
      "outputs": [
        {
          "output_type": "execute_result",
          "data": {
            "text/plain": [
              "SVC(C=1.0, cache_size=200, class_weight=None, coef0=0.0,\n",
              "    decision_function_shape='ovr', degree=3, gamma='auto_deprecated',\n",
              "    kernel='linear', max_iter=-1, probability=False, random_state=None,\n",
              "    shrinking=True, tol=0.001, verbose=False)"
            ]
          },
          "metadata": {
            "tags": []
          },
          "execution_count": 78
        }
      ]
    },
    {
      "cell_type": "code",
      "metadata": {
        "id": "hQ0rZwCizKDi",
        "colab_type": "code",
        "outputId": "7fe6da23-dbd3-4496-bc41-f02329b8fe4e",
        "colab": {
          "base_uri": "https://localhost:8080/",
          "height": 302
        }
      },
      "source": [
        "y3_pred = modelsvm.predict(X_test)\n",
        "print(\"Compare actual response with predicted (accuracy): \", metrics.accuracy_score(y_test, y3_pred))\n",
        "print(\"Precision: \", metrics.precision_score(y_test, y3_pred))\n",
        "print(\"Recall: \", metrics.recall_score(y_test, y3_pred))\n",
        "print(\"F1 Score: \", metrics.recall_score(y_test, y3_pred))\n",
        "print(\"Classification Report: \\n\", metrics.classification_report(y_test, y3_pred))\n",
        "print(\"Confusion Matrix: \\n\", metrics.confusion_matrix(y_test, y3_pred))"
      ],
      "execution_count": 79,
      "outputs": [
        {
          "output_type": "stream",
          "text": [
            "Compare actual response with predicted (accuracy):  0.8192597915918074\n",
            "Precision:  0.5192307692307693\n",
            "Recall:  0.053465346534653464\n",
            "F1 Score:  0.053465346534653464\n",
            "Classification Report: \n",
            "               precision    recall  f1-score   support\n",
            "\n",
            "           0       0.82      0.99      0.90      2278\n",
            "           1       0.52      0.05      0.10       505\n",
            "\n",
            "    accuracy                           0.82      2783\n",
            "   macro avg       0.67      0.52      0.50      2783\n",
            "weighted avg       0.77      0.82      0.75      2783\n",
            "\n",
            "Confusion Matrix: \n",
            " [[2253   25]\n",
            " [ 478   27]]\n"
          ],
          "name": "stdout"
        }
      ]
    },
    {
      "cell_type": "code",
      "metadata": {
        "id": "6dzQQAly0MIl",
        "colab_type": "code",
        "outputId": "9a18f428-09ab-43f9-8d55-efbb0a1fd32e",
        "colab": {
          "base_uri": "https://localhost:8080/",
          "height": 84
        }
      },
      "source": [
        "modelsvm = svm.SVC(kernel ='linear',class_weight='balanced')\n",
        "modelsvm.fit(X_train, y_train)"
      ],
      "execution_count": 80,
      "outputs": [
        {
          "output_type": "execute_result",
          "data": {
            "text/plain": [
              "SVC(C=1.0, cache_size=200, class_weight='balanced', coef0=0.0,\n",
              "    decision_function_shape='ovr', degree=3, gamma='auto_deprecated',\n",
              "    kernel='linear', max_iter=-1, probability=False, random_state=None,\n",
              "    shrinking=True, tol=0.001, verbose=False)"
            ]
          },
          "metadata": {
            "tags": []
          },
          "execution_count": 80
        }
      ]
    },
    {
      "cell_type": "code",
      "metadata": {
        "id": "p2h6OfxB1KrD",
        "colab_type": "code",
        "outputId": "01951638-f842-4c12-b312-331953097bf5",
        "colab": {
          "base_uri": "https://localhost:8080/",
          "height": 302
        }
      },
      "source": [
        "y3_pred = modelsvm.predict(X_test)\n",
        "print(\"Compare actual response with predicted (accuracy): \", metrics.accuracy_score(y_test, y3_pred))\n",
        "print(\"Precision: \", metrics.precision_score(y_test, y3_pred))\n",
        "print(\"Recall: \", metrics.recall_score(y_test, y3_pred))\n",
        "print(\"F1 Score: \", metrics.recall_score(y_test, y3_pred))\n",
        "print(\"Classification Report: \\n\", metrics.classification_report(y_test, y3_pred))\n",
        "print(\"Confusion Matrix: \\n\", metrics.confusion_matrix(y_test, y3_pred))"
      ],
      "execution_count": 81,
      "outputs": [
        {
          "output_type": "stream",
          "text": [
            "Compare actual response with predicted (accuracy):  0.5939633489040603\n",
            "Precision:  0.2813156053184045\n",
            "Recall:  0.7960396039603961\n",
            "F1 Score:  0.7960396039603961\n",
            "Classification Report: \n",
            "               precision    recall  f1-score   support\n",
            "\n",
            "           0       0.92      0.55      0.69      2278\n",
            "           1       0.28      0.80      0.42       505\n",
            "\n",
            "    accuracy                           0.59      2783\n",
            "   macro avg       0.60      0.67      0.55      2783\n",
            "weighted avg       0.81      0.59      0.64      2783\n",
            "\n",
            "Confusion Matrix: \n",
            " [[1251 1027]\n",
            " [ 103  402]]\n"
          ],
          "name": "stdout"
        }
      ]
    }
  ]
}